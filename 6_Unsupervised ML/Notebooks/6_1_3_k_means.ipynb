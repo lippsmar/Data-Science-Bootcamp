{
  "cells": [
    {
      "cell_type": "markdown",
      "metadata": {
        "id": "yXTqFBtc8M51"
      },
      "source": [
        "# K-Means\n",
        "\n",
        "K-means clustering is an unsupervised machine learning algorithm that groups unlabeled data into a predefined number of clusters. It is one of the most popular clustering algorithms due to its simplicity and effectiveness.\n",
        "\n",
        "\n",
        "![K-means](https://static.javatpoint.com/tutorial/machine-learning/images/k-means-clustering-algorithm-in-machine-learning.png)\n",
        "\n",
        "## How does k-means clustering work?\n",
        "K-means clustering is an iterative algorithm that tries to partition a dataset into K pre-defined distinct non-overlapping subgroups (clusters) where each data point belongs to only one group. The algorithm minimises the distance between data points within a cluster and maximises the distance between data points in different clusters.\n",
        "\n",
        "Steps:\n",
        "\n",
        "1. Specify the number of clusters, K.\n",
        "2. Select K points at random to act as the centroids of the clusters.\n",
        "3. Assign each data point to the closest centroid.\n",
        "4. Compute new centroids for each cluster by moving the centroid to the center of the data points assigned to that cluster.\n",
        "5. Repeat steps 3 and 4 until the centroids no longer change.\n",
        "\n",
        "[This website](https://www.naftaliharris.com/blog/visualizing-k-means-clustering/) is great for showing how k-means clusters and re-clusters. Please take a look and play around."
      ]
    },
    {
      "cell_type": "markdown",
      "metadata": {
        "id": "xJrChU7o8eIU"
      },
      "source": [
        "## 1. Import libraries and files 💾"
      ]
    },
    {
      "cell_type": "code",
      "execution_count": 1,
      "metadata": {},
      "outputs": [
        {
          "name": "stdout",
          "output_type": "stream",
          "text": [
            "Collecting plotly\n",
            "  Using cached plotly-5.20.0-py3-none-any.whl.metadata (7.0 kB)\n",
            "Collecting tenacity>=6.2.0 (from plotly)\n",
            "  Using cached tenacity-8.2.3-py3-none-any.whl.metadata (1.0 kB)\n",
            "Requirement already satisfied: packaging in c:\\users\\marvin\\miniconda3\\envs\\myenv\\lib\\site-packages (from plotly) (23.1)\n",
            "Using cached plotly-5.20.0-py3-none-any.whl (15.7 MB)\n",
            "Using cached tenacity-8.2.3-py3-none-any.whl (24 kB)\n",
            "Installing collected packages: tenacity, plotly\n",
            "Successfully installed plotly-5.20.0 tenacity-8.2.3\n"
          ]
        }
      ],
      "source": [
        "!pip install plotly"
      ]
    },
    {
      "cell_type": "code",
      "execution_count": 2,
      "metadata": {
        "id": "d5szg7CJ8IK4"
      },
      "outputs": [],
      "source": [
        "import pandas as pd\n",
        "import seaborn as sns\n",
        "from sklearn.preprocessing import MinMaxScaler\n",
        "from sklearn.cluster import KMeans\n",
        "from sklearn.metrics import pairwise_distances\n",
        "import plotly.graph_objects as go"
      ]
    },
    {
      "cell_type": "markdown",
      "metadata": {
        "id": "iO2TXVuwP2WZ"
      },
      "source": [
        "## Original"
      ]
    },
    {
      "cell_type": "code",
      "execution_count": null,
      "metadata": {
        "id": "779-V98w8slr"
      },
      "outputs": [],
      "source": [
        "# # Get the spreadsheet ID and name\n",
        "# sheet_id = \"1tGEwxTaRhczKEwuGYBiYzpihRXrkBqMVMTG_Pxwo-zU\"\n",
        "# sheet_name = \"18136796\"\n",
        "\n",
        "# # Construct the URL to the CSV export of the spreadsheet\n",
        "# url = f\"https://docs.google.com/spreadsheets/d/{sheet_id}/export?format=csv&gid={sheet_name}\"\n",
        "\n",
        "# # Read the CSV data into a Pandas DataFrame\n",
        "# # Set the index column to `student` and only read the first 15 rows\n",
        "# foods_df = pd.read_csv(url,\n",
        "#                        index_col=\"student\",\n",
        "#                        nrows=15)\n",
        "\n",
        "# # Drop the `favorite_color` column\n",
        "# foods_df = foods_df.drop(columns=\"favorite_color\")"
      ]
    },
    {
      "cell_type": "markdown",
      "metadata": {
        "id": "_Hk5rWcsP2Wa"
      },
      "source": [
        "## Ds_26"
      ]
    },
    {
      "cell_type": "code",
      "execution_count": 3,
      "metadata": {
        "id": "E2A99cb3P2Wb"
      },
      "outputs": [],
      "source": [
        "# ID of the Google Sheet for student food preferences\n",
        "sheet_id = \"1cQvzlF8bXEx7tpBlInpYmVaUtCvZuDnBTjhlejtUT_0\"\n",
        "\n",
        "# Title of the Google Sheet\n",
        "sheet_name = \"0\"\n",
        "\n",
        "# URL to download the Google Sheet as a CSV\n",
        "url = f\"https://docs.google.com/spreadsheets/d/{sheet_id}/export?format=csv&gid={sheet_name}\"\n",
        "\n",
        "\n",
        "# Create a Pandas DataFrame from the CSV data\n",
        "foods_df = pd.read_csv(url,\n",
        "                       index_col=\"student\")\n",
        "\n",
        "# Drop the `favorite_color` column\n",
        "foods_df = foods_df.drop(columns=\"favorite_color\")"
      ]
    },
    {
      "cell_type": "markdown",
      "metadata": {
        "id": "LOeo-RpZ87tE"
      },
      "source": [
        "\n",
        "## 2 Scale the data 📐\n",
        "In this notebook, we are only using the MinMaxScaler to keep the code simple and focus on clustering with KMeans. However, we encourage you to experiment with other scalers, as they can have a impact on the clusters produced by KMeans."
      ]
    },
    {
      "cell_type": "code",
      "execution_count": 4,
      "metadata": {
        "id": "z_sR6bNp8s3E"
      },
      "outputs": [],
      "source": [
        "# Initialise the transformer (optionally, set parameters)\n",
        "my_min_max = MinMaxScaler().set_output(transform=\"pandas\")\n",
        "\n",
        "# Use the transformer to transform the data\n",
        "scaled_features_df = my_min_max.fit_transform(foods_df)"
      ]
    },
    {
      "cell_type": "markdown",
      "metadata": {
        "id": "aZUqYija9oym"
      },
      "source": [
        "º\n",
        "## 3 Cluster with K-means 🫧\n",
        "When we cluster with K-means, there is no visible change to the DataFrame. However, when we call the `.fit()` method, Scikit-learn performs all the necessary calculations for the clusters and stores them in the `my_kmeans` variable. We can extract the cluster assignment for each student using the `.labels_` attribute. Below, we add a new column to the DataFrame containing the cluster assignment for each student, which allows us to better understand the results.\n"
      ]
    },
    {
      "cell_type": "code",
      "execution_count": 5,
      "metadata": {
        "colab": {
          "base_uri": "https://localhost:8080/",
          "height": 588
        },
        "id": "OT0v2b4t9QtE",
        "outputId": "28e1e8bb-affb-4cfb-ee68-ceb0397d39c7"
      },
      "outputs": [
        {
          "name": "stderr",
          "output_type": "stream",
          "text": [
            "c:\\Users\\Marvin\\miniconda3\\envs\\myenv\\lib\\site-packages\\sklearn\\cluster\\_kmeans.py:1412: FutureWarning: The default value of `n_init` will change from 10 to 'auto' in 1.4. Set the value of `n_init` explicitly to suppress the warning\n",
            "  super()._check_params_vs_input(X, default_n_init=10)\n",
            "c:\\Users\\Marvin\\miniconda3\\envs\\myenv\\lib\\site-packages\\sklearn\\cluster\\_kmeans.py:1436: UserWarning: KMeans is known to have a memory leak on Windows with MKL, when there are less chunks than available threads. You can avoid it by setting the environment variable OMP_NUM_THREADS=1.\n",
            "  warnings.warn(\n"
          ]
        }
      ],
      "source": [
        "# Initialise the model\n",
        "my_kmeans = KMeans(n_clusters= 4, # you always choose the number of k here\n",
        "                   random_state = 42)\n",
        "\n",
        "# Fit the model to the data\n",
        "my_kmeans.fit(scaled_features_df)\n",
        "\n",
        "# Obtain the cluster output\n",
        "clusters = my_kmeans.labels_\n",
        "\n"
      ]
    },
    {
      "cell_type": "code",
      "execution_count": 6,
      "metadata": {
        "id": "Cjsc8jB_P2Wd",
        "outputId": "59534128-20ba-479a-c46d-b72a9a368ba2"
      },
      "outputs": [
        {
          "data": {
            "text/html": [
              "<div>\n",
              "<style scoped>\n",
              "    .dataframe tbody tr th:only-of-type {\n",
              "        vertical-align: middle;\n",
              "    }\n",
              "\n",
              "    .dataframe tbody tr th {\n",
              "        vertical-align: top;\n",
              "    }\n",
              "\n",
              "    .dataframe thead th {\n",
              "        text-align: right;\n",
              "    }\n",
              "</style>\n",
              "<table border=\"1\" class=\"dataframe\">\n",
              "  <thead>\n",
              "    <tr style=\"text-align: right;\">\n",
              "      <th></th>\n",
              "      <th>broccoli</th>\n",
              "      <th>brussels_sprouts</th>\n",
              "      <th>hamburger (meat)</th>\n",
              "      <th>oysters (raw)</th>\n",
              "      <th>onion (raw)</th>\n",
              "      <th>peas</th>\n",
              "      <th>olives</th>\n",
              "      <th>blue_cheese</th>\n",
              "      <th>whisky</th>\n",
              "      <th>age</th>\n",
              "      <th>cluster</th>\n",
              "    </tr>\n",
              "    <tr>\n",
              "      <th>student</th>\n",
              "      <th></th>\n",
              "      <th></th>\n",
              "      <th></th>\n",
              "      <th></th>\n",
              "      <th></th>\n",
              "      <th></th>\n",
              "      <th></th>\n",
              "      <th></th>\n",
              "      <th></th>\n",
              "      <th></th>\n",
              "      <th></th>\n",
              "    </tr>\n",
              "  </thead>\n",
              "  <tbody>\n",
              "    <tr>\n",
              "      <th>Christian</th>\n",
              "      <td>1.000</td>\n",
              "      <td>0.5</td>\n",
              "      <td>0.5</td>\n",
              "      <td>0.0</td>\n",
              "      <td>1.000</td>\n",
              "      <td>1.000000</td>\n",
              "      <td>0.7</td>\n",
              "      <td>0.5</td>\n",
              "      <td>0.9</td>\n",
              "      <td>0.074074</td>\n",
              "      <td>3</td>\n",
              "    </tr>\n",
              "    <tr>\n",
              "      <th>Florian</th>\n",
              "      <td>0.875</td>\n",
              "      <td>0.7</td>\n",
              "      <td>0.2</td>\n",
              "      <td>0.0</td>\n",
              "      <td>0.375</td>\n",
              "      <td>0.166667</td>\n",
              "      <td>0.0</td>\n",
              "      <td>0.0</td>\n",
              "      <td>0.5</td>\n",
              "      <td>0.135802</td>\n",
              "      <td>0</td>\n",
              "    </tr>\n",
              "    <tr>\n",
              "      <th>Hajer</th>\n",
              "      <td>0.000</td>\n",
              "      <td>0.4</td>\n",
              "      <td>0.1</td>\n",
              "      <td>0.6</td>\n",
              "      <td>0.625</td>\n",
              "      <td>0.166667</td>\n",
              "      <td>1.0</td>\n",
              "      <td>0.0</td>\n",
              "      <td>0.0</td>\n",
              "      <td>0.086420</td>\n",
              "      <td>2</td>\n",
              "    </tr>\n",
              "    <tr>\n",
              "      <th>Hans</th>\n",
              "      <td>0.375</td>\n",
              "      <td>0.0</td>\n",
              "      <td>0.0</td>\n",
              "      <td>0.0</td>\n",
              "      <td>0.000</td>\n",
              "      <td>0.500000</td>\n",
              "      <td>0.8</td>\n",
              "      <td>0.7</td>\n",
              "      <td>0.0</td>\n",
              "      <td>0.148148</td>\n",
              "      <td>2</td>\n",
              "    </tr>\n",
              "    <tr>\n",
              "      <th>Ikbel</th>\n",
              "      <td>0.875</td>\n",
              "      <td>0.5</td>\n",
              "      <td>0.4</td>\n",
              "      <td>0.0</td>\n",
              "      <td>0.500</td>\n",
              "      <td>0.500000</td>\n",
              "      <td>1.0</td>\n",
              "      <td>0.5</td>\n",
              "      <td>0.0</td>\n",
              "      <td>0.086420</td>\n",
              "      <td>2</td>\n",
              "    </tr>\n",
              "    <tr>\n",
              "      <th>Imen</th>\n",
              "      <td>0.375</td>\n",
              "      <td>0.3</td>\n",
              "      <td>0.5</td>\n",
              "      <td>0.0</td>\n",
              "      <td>0.000</td>\n",
              "      <td>0.666667</td>\n",
              "      <td>1.0</td>\n",
              "      <td>0.0</td>\n",
              "      <td>0.0</td>\n",
              "      <td>0.148148</td>\n",
              "      <td>2</td>\n",
              "    </tr>\n",
              "    <tr>\n",
              "      <th>Jan</th>\n",
              "      <td>1.000</td>\n",
              "      <td>1.0</td>\n",
              "      <td>0.1</td>\n",
              "      <td>0.1</td>\n",
              "      <td>0.125</td>\n",
              "      <td>0.500000</td>\n",
              "      <td>1.0</td>\n",
              "      <td>1.0</td>\n",
              "      <td>1.0</td>\n",
              "      <td>0.222222</td>\n",
              "      <td>3</td>\n",
              "    </tr>\n",
              "    <tr>\n",
              "      <th>Lawrence</th>\n",
              "      <td>0.750</td>\n",
              "      <td>0.8</td>\n",
              "      <td>0.8</td>\n",
              "      <td>0.7</td>\n",
              "      <td>1.000</td>\n",
              "      <td>0.500000</td>\n",
              "      <td>1.0</td>\n",
              "      <td>1.0</td>\n",
              "      <td>1.0</td>\n",
              "      <td>0.148148</td>\n",
              "      <td>3</td>\n",
              "    </tr>\n",
              "    <tr>\n",
              "      <th>Marina</th>\n",
              "      <td>0.750</td>\n",
              "      <td>0.0</td>\n",
              "      <td>0.9</td>\n",
              "      <td>0.6</td>\n",
              "      <td>0.000</td>\n",
              "      <td>1.000000</td>\n",
              "      <td>1.0</td>\n",
              "      <td>1.0</td>\n",
              "      <td>0.3</td>\n",
              "      <td>0.135802</td>\n",
              "      <td>1</td>\n",
              "    </tr>\n",
              "    <tr>\n",
              "      <th>Martin</th>\n",
              "      <td>1.000</td>\n",
              "      <td>0.0</td>\n",
              "      <td>0.0</td>\n",
              "      <td>0.0</td>\n",
              "      <td>1.000</td>\n",
              "      <td>0.500000</td>\n",
              "      <td>1.0</td>\n",
              "      <td>0.9</td>\n",
              "      <td>1.0</td>\n",
              "      <td>0.209877</td>\n",
              "      <td>3</td>\n",
              "    </tr>\n",
              "    <tr>\n",
              "      <th>Marvin</th>\n",
              "      <td>0.875</td>\n",
              "      <td>0.7</td>\n",
              "      <td>0.9</td>\n",
              "      <td>0.1</td>\n",
              "      <td>0.625</td>\n",
              "      <td>0.000000</td>\n",
              "      <td>1.0</td>\n",
              "      <td>0.1</td>\n",
              "      <td>0.4</td>\n",
              "      <td>0.148148</td>\n",
              "      <td>0</td>\n",
              "    </tr>\n",
              "    <tr>\n",
              "      <th>Sadia</th>\n",
              "      <td>0.750</td>\n",
              "      <td>0.5</td>\n",
              "      <td>0.4</td>\n",
              "      <td>0.1</td>\n",
              "      <td>0.625</td>\n",
              "      <td>0.666667</td>\n",
              "      <td>0.9</td>\n",
              "      <td>0.9</td>\n",
              "      <td>0.0</td>\n",
              "      <td>0.000000</td>\n",
              "      <td>2</td>\n",
              "    </tr>\n",
              "    <tr>\n",
              "      <th>SAM</th>\n",
              "      <td>0.500</td>\n",
              "      <td>0.6</td>\n",
              "      <td>0.7</td>\n",
              "      <td>0.0</td>\n",
              "      <td>0.750</td>\n",
              "      <td>0.333333</td>\n",
              "      <td>0.8</td>\n",
              "      <td>0.6</td>\n",
              "      <td>0.0</td>\n",
              "      <td>0.148148</td>\n",
              "      <td>2</td>\n",
              "    </tr>\n",
              "    <tr>\n",
              "      <th>Sonia</th>\n",
              "      <td>0.875</td>\n",
              "      <td>0.5</td>\n",
              "      <td>1.0</td>\n",
              "      <td>0.0</td>\n",
              "      <td>0.000</td>\n",
              "      <td>1.000000</td>\n",
              "      <td>1.0</td>\n",
              "      <td>1.0</td>\n",
              "      <td>0.7</td>\n",
              "      <td>0.086420</td>\n",
              "      <td>1</td>\n",
              "    </tr>\n",
              "    <tr>\n",
              "      <th>Veronika</th>\n",
              "      <td>1.000</td>\n",
              "      <td>0.3</td>\n",
              "      <td>0.6</td>\n",
              "      <td>1.0</td>\n",
              "      <td>0.750</td>\n",
              "      <td>1.000000</td>\n",
              "      <td>1.0</td>\n",
              "      <td>1.0</td>\n",
              "      <td>0.1</td>\n",
              "      <td>0.061728</td>\n",
              "      <td>1</td>\n",
              "    </tr>\n",
              "    <tr>\n",
              "      <th>Yanish</th>\n",
              "      <td>0.625</td>\n",
              "      <td>0.5</td>\n",
              "      <td>0.9</td>\n",
              "      <td>0.7</td>\n",
              "      <td>0.125</td>\n",
              "      <td>0.666667</td>\n",
              "      <td>0.8</td>\n",
              "      <td>0.1</td>\n",
              "      <td>0.5</td>\n",
              "      <td>0.037037</td>\n",
              "      <td>1</td>\n",
              "    </tr>\n",
              "    <tr>\n",
              "      <th>Lisardo</th>\n",
              "      <td>1.000</td>\n",
              "      <td>0.8</td>\n",
              "      <td>0.5</td>\n",
              "      <td>0.1</td>\n",
              "      <td>0.500</td>\n",
              "      <td>0.666667</td>\n",
              "      <td>1.0</td>\n",
              "      <td>0.1</td>\n",
              "      <td>0.7</td>\n",
              "      <td>1.000000</td>\n",
              "      <td>0</td>\n",
              "    </tr>\n",
              "  </tbody>\n",
              "</table>\n",
              "</div>"
            ],
            "text/plain": [
              "           broccoli  brussels_sprouts  hamburger (meat)  oysters (raw)  \\\n",
              "student                                                                  \n",
              "Christian     1.000               0.5               0.5            0.0   \n",
              "Florian       0.875               0.7               0.2            0.0   \n",
              "Hajer         0.000               0.4               0.1            0.6   \n",
              "Hans          0.375               0.0               0.0            0.0   \n",
              "Ikbel         0.875               0.5               0.4            0.0   \n",
              "Imen          0.375               0.3               0.5            0.0   \n",
              "Jan           1.000               1.0               0.1            0.1   \n",
              "Lawrence      0.750               0.8               0.8            0.7   \n",
              "Marina        0.750               0.0               0.9            0.6   \n",
              "Martin        1.000               0.0               0.0            0.0   \n",
              "Marvin        0.875               0.7               0.9            0.1   \n",
              "Sadia         0.750               0.5               0.4            0.1   \n",
              "SAM           0.500               0.6               0.7            0.0   \n",
              "Sonia         0.875               0.5               1.0            0.0   \n",
              "Veronika      1.000               0.3               0.6            1.0   \n",
              "Yanish        0.625               0.5               0.9            0.7   \n",
              "Lisardo       1.000               0.8               0.5            0.1   \n",
              "\n",
              "           onion (raw)      peas  olives  blue_cheese  whisky       age  \\\n",
              "student                                                                   \n",
              "Christian        1.000  1.000000     0.7          0.5     0.9  0.074074   \n",
              "Florian          0.375  0.166667     0.0          0.0     0.5  0.135802   \n",
              "Hajer            0.625  0.166667     1.0          0.0     0.0  0.086420   \n",
              "Hans             0.000  0.500000     0.8          0.7     0.0  0.148148   \n",
              "Ikbel            0.500  0.500000     1.0          0.5     0.0  0.086420   \n",
              "Imen             0.000  0.666667     1.0          0.0     0.0  0.148148   \n",
              "Jan              0.125  0.500000     1.0          1.0     1.0  0.222222   \n",
              "Lawrence         1.000  0.500000     1.0          1.0     1.0  0.148148   \n",
              "Marina           0.000  1.000000     1.0          1.0     0.3  0.135802   \n",
              "Martin           1.000  0.500000     1.0          0.9     1.0  0.209877   \n",
              "Marvin           0.625  0.000000     1.0          0.1     0.4  0.148148   \n",
              "Sadia            0.625  0.666667     0.9          0.9     0.0  0.000000   \n",
              "SAM              0.750  0.333333     0.8          0.6     0.0  0.148148   \n",
              "Sonia            0.000  1.000000     1.0          1.0     0.7  0.086420   \n",
              "Veronika         0.750  1.000000     1.0          1.0     0.1  0.061728   \n",
              "Yanish           0.125  0.666667     0.8          0.1     0.5  0.037037   \n",
              "Lisardo          0.500  0.666667     1.0          0.1     0.7  1.000000   \n",
              "\n",
              "           cluster  \n",
              "student             \n",
              "Christian        3  \n",
              "Florian          0  \n",
              "Hajer            2  \n",
              "Hans             2  \n",
              "Ikbel            2  \n",
              "Imen             2  \n",
              "Jan              3  \n",
              "Lawrence         3  \n",
              "Marina           1  \n",
              "Martin           3  \n",
              "Marvin           0  \n",
              "Sadia            2  \n",
              "SAM              2  \n",
              "Sonia            1  \n",
              "Veronika         1  \n",
              "Yanish           1  \n",
              "Lisardo          0  "
            ]
          },
          "execution_count": 6,
          "metadata": {},
          "output_type": "execute_result"
        }
      ],
      "source": [
        "# Attach the cluster output to our original DataFrame\n",
        "scaled_features_df[\"cluster\"] = clusters\n",
        "\n",
        "scaled_features_df"
      ]
    },
    {
      "cell_type": "markdown",
      "metadata": {
        "id": "2RFBhjWwBIIE"
      },
      "source": [
        "### 3.1 Who's sitting with who for dinner?\n",
        "Who's in each cluster?"
      ]
    },
    {
      "cell_type": "code",
      "execution_count": 7,
      "metadata": {
        "colab": {
          "base_uri": "https://localhost:8080/",
          "height": 551
        },
        "id": "jjbMSzjPnwEp",
        "outputId": "1a439a51-d67b-4c5f-8b11-d108897659e8"
      },
      "outputs": [
        {
          "data": {
            "text/html": [
              "<div>\n",
              "<style scoped>\n",
              "    .dataframe tbody tr th:only-of-type {\n",
              "        vertical-align: middle;\n",
              "    }\n",
              "\n",
              "    .dataframe tbody tr th {\n",
              "        vertical-align: top;\n",
              "    }\n",
              "\n",
              "    .dataframe thead th {\n",
              "        text-align: right;\n",
              "    }\n",
              "</style>\n",
              "<table border=\"1\" class=\"dataframe\">\n",
              "  <thead>\n",
              "    <tr style=\"text-align: right;\">\n",
              "      <th></th>\n",
              "      <th>cluster</th>\n",
              "    </tr>\n",
              "    <tr>\n",
              "      <th>student</th>\n",
              "      <th></th>\n",
              "    </tr>\n",
              "  </thead>\n",
              "  <tbody>\n",
              "    <tr>\n",
              "      <th>Lisardo</th>\n",
              "      <td>0</td>\n",
              "    </tr>\n",
              "    <tr>\n",
              "      <th>Florian</th>\n",
              "      <td>0</td>\n",
              "    </tr>\n",
              "    <tr>\n",
              "      <th>Marvin</th>\n",
              "      <td>0</td>\n",
              "    </tr>\n",
              "    <tr>\n",
              "      <th>Veronika</th>\n",
              "      <td>1</td>\n",
              "    </tr>\n",
              "    <tr>\n",
              "      <th>Sonia</th>\n",
              "      <td>1</td>\n",
              "    </tr>\n",
              "    <tr>\n",
              "      <th>Yanish</th>\n",
              "      <td>1</td>\n",
              "    </tr>\n",
              "    <tr>\n",
              "      <th>Marina</th>\n",
              "      <td>1</td>\n",
              "    </tr>\n",
              "    <tr>\n",
              "      <th>Imen</th>\n",
              "      <td>2</td>\n",
              "    </tr>\n",
              "    <tr>\n",
              "      <th>Ikbel</th>\n",
              "      <td>2</td>\n",
              "    </tr>\n",
              "    <tr>\n",
              "      <th>Sadia</th>\n",
              "      <td>2</td>\n",
              "    </tr>\n",
              "    <tr>\n",
              "      <th>SAM</th>\n",
              "      <td>2</td>\n",
              "    </tr>\n",
              "    <tr>\n",
              "      <th>Hans</th>\n",
              "      <td>2</td>\n",
              "    </tr>\n",
              "    <tr>\n",
              "      <th>Hajer</th>\n",
              "      <td>2</td>\n",
              "    </tr>\n",
              "    <tr>\n",
              "      <th>Lawrence</th>\n",
              "      <td>3</td>\n",
              "    </tr>\n",
              "    <tr>\n",
              "      <th>Martin</th>\n",
              "      <td>3</td>\n",
              "    </tr>\n",
              "    <tr>\n",
              "      <th>Jan</th>\n",
              "      <td>3</td>\n",
              "    </tr>\n",
              "    <tr>\n",
              "      <th>Christian</th>\n",
              "      <td>3</td>\n",
              "    </tr>\n",
              "  </tbody>\n",
              "</table>\n",
              "</div>"
            ],
            "text/plain": [
              "           cluster\n",
              "student           \n",
              "Lisardo          0\n",
              "Florian          0\n",
              "Marvin           0\n",
              "Veronika         1\n",
              "Sonia            1\n",
              "Yanish           1\n",
              "Marina           1\n",
              "Imen             2\n",
              "Ikbel            2\n",
              "Sadia            2\n",
              "SAM              2\n",
              "Hans             2\n",
              "Hajer            2\n",
              "Lawrence         3\n",
              "Martin           3\n",
              "Jan              3\n",
              "Christian        3"
            ]
          },
          "execution_count": 7,
          "metadata": {},
          "output_type": "execute_result"
        }
      ],
      "source": [
        "scaled_features_df[[\"cluster\"]].sort_values(by='cluster')"
      ]
    },
    {
      "cell_type": "markdown",
      "metadata": {
        "id": "SY11GhZXlB4U"
      },
      "source": [
        "Are these clusters consistent with the original food preferences? Check the original DataFrame to see what you think."
      ]
    },
    {
      "cell_type": "markdown",
      "metadata": {
        "id": "7axUBCDC-nUZ"
      },
      "source": [
        "#### 3.1.1. Cluster analysis - centroids\n",
        "By looking at the distances between the centroids, we can tell a lot about the clusters that k-means has found.\n",
        "- If the distances between the centroids are all very small, then the clusters are likely to be very similar and may not be very meaningful.\n",
        "- If the distances between the centroids are all very large, then the clusters are likely to be very different, but they may also be very spread out and noisy.\n",
        "- If the distances between the centroids are all roughly the same, then the clusters are likely to be well-separated and meaningful.\n",
        "- If the distances between the centroids vary widely, then the clusters may overlap or be otherwise intertwined, and they may not be very meaningful.\n",
        "\n",
        "Let's examine the cluster centroid distances for our food preference data."
      ]
    },
    {
      "cell_type": "code",
      "execution_count": 8,
      "metadata": {
        "colab": {
          "base_uri": "https://localhost:8080/",
          "height": 433
        },
        "id": "Iv2qPIyw94zR",
        "outputId": "56a8d7f8-e95a-4014-cf02-9b68fc903545"
      },
      "outputs": [
        {
          "data": {
            "image/png": "[encoded data removed]",
            "text/plain": [
              "<Figure size 640x480 with 2 Axes>"
            ]
          },
          "metadata": {},
          "output_type": "display_data"
        }
      ],
      "source": [
        "# Find the coordinates of each centroid using the cluster_centers_ attribute\n",
        "centroids = my_kmeans.cluster_centers_\n",
        "\n",
        "# Calculate the euclidean distance between the centroids\n",
        "centroid_distances = pairwise_distances(centroids)\n",
        "\n",
        "# Plot distances on heatmap\n",
        "sns.heatmap(centroid_distances,\n",
        "            annot=True,\n",
        "            linewidths=1);"
      ]
    },
    {
      "cell_type": "markdown",
      "metadata": {
        "id": "7YdQBdPlWx4P"
      },
      "source": [
        "#### 3.1.2 Cluster analysis - column averages\n",
        "By grouping the clusters and looking at the average score for each column, you can learn more about the different groups of students and their food preferences. For example, you might find that one group of students prefers healthy foods like broccoli and peas, while another group prefers more processed foods like hamburgers. You might also find that some groups of students have a more diverse range of food preferences than others."
      ]
    },
    {
      "cell_type": "code",
      "execution_count": 9,
      "metadata": {
        "colab": {
          "base_uri": "https://localhost:8080/",
          "height": 244
        },
        "id": "YWazjk0HW4jg",
        "outputId": "2761543a-1277-4bf5-8104-5c126f51e4b7"
      },
      "outputs": [
        {
          "data": {
            "text/html": [
              "<div>\n",
              "<style scoped>\n",
              "    .dataframe tbody tr th:only-of-type {\n",
              "        vertical-align: middle;\n",
              "    }\n",
              "\n",
              "    .dataframe tbody tr th {\n",
              "        vertical-align: top;\n",
              "    }\n",
              "\n",
              "    .dataframe thead th {\n",
              "        text-align: right;\n",
              "    }\n",
              "</style>\n",
              "<table border=\"1\" class=\"dataframe\">\n",
              "  <thead>\n",
              "    <tr style=\"text-align: right;\">\n",
              "      <th></th>\n",
              "      <th>broccoli</th>\n",
              "      <th>brussels_sprouts</th>\n",
              "      <th>hamburger (meat)</th>\n",
              "      <th>oysters (raw)</th>\n",
              "      <th>onion (raw)</th>\n",
              "      <th>peas</th>\n",
              "      <th>olives</th>\n",
              "      <th>blue_cheese</th>\n",
              "      <th>whisky</th>\n",
              "      <th>age</th>\n",
              "    </tr>\n",
              "    <tr>\n",
              "      <th>cluster</th>\n",
              "      <th></th>\n",
              "      <th></th>\n",
              "      <th></th>\n",
              "      <th></th>\n",
              "      <th></th>\n",
              "      <th></th>\n",
              "      <th></th>\n",
              "      <th></th>\n",
              "      <th></th>\n",
              "      <th></th>\n",
              "    </tr>\n",
              "  </thead>\n",
              "  <tbody>\n",
              "    <tr>\n",
              "      <th>0</th>\n",
              "      <td>0.916667</td>\n",
              "      <td>0.733333</td>\n",
              "      <td>0.533333</td>\n",
              "      <td>0.066667</td>\n",
              "      <td>0.500000</td>\n",
              "      <td>0.277778</td>\n",
              "      <td>0.666667</td>\n",
              "      <td>0.066667</td>\n",
              "      <td>0.533333</td>\n",
              "      <td>0.427984</td>\n",
              "    </tr>\n",
              "    <tr>\n",
              "      <th>1</th>\n",
              "      <td>0.812500</td>\n",
              "      <td>0.325000</td>\n",
              "      <td>0.850000</td>\n",
              "      <td>0.575000</td>\n",
              "      <td>0.218750</td>\n",
              "      <td>0.916667</td>\n",
              "      <td>0.950000</td>\n",
              "      <td>0.775000</td>\n",
              "      <td>0.400000</td>\n",
              "      <td>0.080247</td>\n",
              "    </tr>\n",
              "    <tr>\n",
              "      <th>2</th>\n",
              "      <td>0.479167</td>\n",
              "      <td>0.383333</td>\n",
              "      <td>0.350000</td>\n",
              "      <td>0.116667</td>\n",
              "      <td>0.416667</td>\n",
              "      <td>0.472222</td>\n",
              "      <td>0.916667</td>\n",
              "      <td>0.450000</td>\n",
              "      <td>0.000000</td>\n",
              "      <td>0.102881</td>\n",
              "    </tr>\n",
              "    <tr>\n",
              "      <th>3</th>\n",
              "      <td>0.937500</td>\n",
              "      <td>0.575000</td>\n",
              "      <td>0.350000</td>\n",
              "      <td>0.200000</td>\n",
              "      <td>0.781250</td>\n",
              "      <td>0.625000</td>\n",
              "      <td>0.925000</td>\n",
              "      <td>0.850000</td>\n",
              "      <td>0.975000</td>\n",
              "      <td>0.163580</td>\n",
              "    </tr>\n",
              "  </tbody>\n",
              "</table>\n",
              "</div>"
            ],
            "text/plain": [
              "         broccoli  brussels_sprouts  hamburger (meat)  oysters (raw)  \\\n",
              "cluster                                                                \n",
              "0        0.916667          0.733333          0.533333       0.066667   \n",
              "1        0.812500          0.325000          0.850000       0.575000   \n",
              "2        0.479167          0.383333          0.350000       0.116667   \n",
              "3        0.937500          0.575000          0.350000       0.200000   \n",
              "\n",
              "         onion (raw)      peas    olives  blue_cheese    whisky       age  \n",
              "cluster                                                                    \n",
              "0           0.500000  0.277778  0.666667     0.066667  0.533333  0.427984  \n",
              "1           0.218750  0.916667  0.950000     0.775000  0.400000  0.080247  \n",
              "2           0.416667  0.472222  0.916667     0.450000  0.000000  0.102881  \n",
              "3           0.781250  0.625000  0.925000     0.850000  0.975000  0.163580  "
            ]
          },
          "execution_count": 9,
          "metadata": {},
          "output_type": "execute_result"
        }
      ],
      "source": [
        "scaled_features_df.groupby(by=\"cluster\").mean()"
      ]
    },
    {
      "cell_type": "markdown",
      "metadata": {
        "id": "zhE6ykOUm5zG"
      },
      "source": [
        "#### 3.1.3 Cluster analysis - radar chart\n",
        "\n",
        "Having calculated the average score for each food by cluster, we now have a matrix that we can analyse. However, as data scientists with coding skills, we can visualise this information to gain a clearer understanding of why certain people are clustered together and why others aren't.\n",
        "\n",
        "Visualising the data can help us to identify patterns and trends that would be difficult to see in a matrix. For example, we might be able to see that certain foods are consistently grouped together, while others are more spread out. This could suggest that there are different subgroups of students with different dietary preferences.\n",
        "\n",
        "We can also use visualisation to identify outliers. For example, we might find a few students who have very different food preferences than the rest of the group. This could be due to a variety of factors, such as cultural background, medical conditions, or personal preferences."
      ]
    },
    {
      "cell_type": "code",
      "execution_count": 10,
      "metadata": {
        "colab": {
          "base_uri": "https://localhost:8080/",
          "height": 617
        },
        "id": "ebi9FlfmmNO1",
        "outputId": "cc06fa38-ee7b-4e22-8f50-c88d9f4d010e"
      },
      "outputs": [
        {
          "data": {
            "application/vnd.plotly.v1+json": {
              "config": {
                "plotlyServerURL": "https://plot.ly"
              },
              "data": [
                {
                  "fill": "toself",
                  "name": "Cluster 0",
                  "r": [
                    0.9166666666666666,
                    0.7333333333333334,
                    0.5333333333333333,
                    0.06666666666666667,
                    0.5,
                    0.27777777777777773,
                    0.6666666666666666,
                    0.06666666666666667,
                    0.5333333333333333,
                    0.4279835390946502
                  ],
                  "theta": [
                    "broccoli",
                    "brussels_sprouts",
                    "hamburger (meat)",
                    "oysters (raw)",
                    " onion (raw)",
                    "peas",
                    "olives",
                    "blue_cheese",
                    "whisky",
                    "age"
                  ],
                  "type": "scatterpolar"
                },
                {
                  "fill": "toself",
                  "name": "Cluster 1",
                  "r": [
                    0.8125,
                    0.325,
                    0.85,
                    0.5750000000000001,
                    0.21875,
                    0.9166666666666665,
                    0.95,
                    0.775,
                    0.4,
                    0.08024691358024691
                  ],
                  "theta": [
                    "broccoli",
                    "brussels_sprouts",
                    "hamburger (meat)",
                    "oysters (raw)",
                    " onion (raw)",
                    "peas",
                    "olives",
                    "blue_cheese",
                    "whisky",
                    "age"
                  ],
                  "type": "scatterpolar"
                },
                {
                  "fill": "toself",
                  "name": "Cluster 2",
                  "r": [
                    0.4791666666666667,
                    0.38333333333333336,
                    0.35000000000000003,
                    0.11666666666666668,
                    0.4166666666666667,
                    0.47222222222222215,
                    0.9166666666666666,
                    0.45,
                    0,
                    0.10288065843621398
                  ],
                  "theta": [
                    "broccoli",
                    "brussels_sprouts",
                    "hamburger (meat)",
                    "oysters (raw)",
                    " onion (raw)",
                    "peas",
                    "olives",
                    "blue_cheese",
                    "whisky",
                    "age"
                  ],
                  "type": "scatterpolar"
                },
                {
                  "fill": "toself",
                  "name": "Cluster 3",
                  "r": [
                    0.9375,
                    0.575,
                    0.35,
                    0.2,
                    0.78125,
                    0.6249999999999999,
                    0.925,
                    0.85,
                    0.975,
                    0.16358024691358025
                  ],
                  "theta": [
                    "broccoli",
                    "brussels_sprouts",
                    "hamburger (meat)",
                    "oysters (raw)",
                    " onion (raw)",
                    "peas",
                    "olives",
                    "blue_cheese",
                    "whisky",
                    "age"
                  ],
                  "type": "scatterpolar"
                }
              ],
              "layout": {
                "height": 600,
                "polar": {
                  "radialaxis": {
                    "range": [
                      0,
                      1
                    ],
                    "visible": true
                  }
                },
                "showlegend": true,
                "template": {
                  "data": {
                    "bar": [
                      {
                        "error_x": {
                          "color": "#2a3f5f"
                        },
                        "error_y": {
                          "color": "#2a3f5f"
                        },
                        "marker": {
                          "line": {
                            "color": "#E5ECF6",
                            "width": 0.5
                          },
                          "pattern": {
                            "fillmode": "overlay",
                            "size": 10,
                            "solidity": 0.2
                          }
                        },
                        "type": "bar"
                      }
                    ],
                    "barpolar": [
                      {
                        "marker": {
                          "line": {
                            "color": "#E5ECF6",
                            "width": 0.5
                          },
                          "pattern": {
                            "fillmode": "overlay",
                            "size": 10,
                            "solidity": 0.2
                          }
                        },
                        "type": "barpolar"
                      }
                    ],
                    "carpet": [
                      {
                        "aaxis": {
                          "endlinecolor": "#2a3f5f",
                          "gridcolor": "white",
                          "linecolor": "white",
                          "minorgridcolor": "white",
                          "startlinecolor": "#2a3f5f"
                        },
                        "baxis": {
                          "endlinecolor": "#2a3f5f",
                          "gridcolor": "white",
                          "linecolor": "white",
                          "minorgridcolor": "white",
                          "startlinecolor": "#2a3f5f"
                        },
                        "type": "carpet"
                      }
                    ],
                    "choropleth": [
                      {
                        "colorbar": {
                          "outlinewidth": 0,
                          "ticks": ""
                        },
                        "type": "choropleth"
                      }
                    ],
                    "contour": [
                      {
                        "colorbar": {
                          "outlinewidth": 0,
                          "ticks": ""
                        },
                        "colorscale": [
                          [
                            0,
                            "#0d0887"
                          ],
                          [
                            0.1111111111111111,
                            "#46039f"
                          ],
                          [
                            0.2222222222222222,
                            "#7201a8"
                          ],
                          [
                            0.3333333333333333,
                            "#9c179e"
                          ],
                          [
                            0.4444444444444444,
                            "#bd3786"
                          ],
                          [
                            0.5555555555555556,
                            "#d8576b"
                          ],
                          [
                            0.6666666666666666,
                            "#ed7953"
                          ],
                          [
                            0.7777777777777778,
                            "#fb9f3a"
                          ],
                          [
                            0.8888888888888888,
                            "#fdca26"
                          ],
                          [
                            1,
                            "#f0f921"
                          ]
                        ],
                        "type": "contour"
                      }
                    ],
                    "contourcarpet": [
                      {
                        "colorbar": {
                          "outlinewidth": 0,
                          "ticks": ""
                        },
                        "type": "contourcarpet"
                      }
                    ],
                    "heatmap": [
                      {
                        "colorbar": {
                          "outlinewidth": 0,
                          "ticks": ""
                        },
                        "colorscale": [
                          [
                            0,
                            "#0d0887"
                          ],
                          [
                            0.1111111111111111,
                            "#46039f"
                          ],
                          [
                            0.2222222222222222,
                            "#7201a8"
                          ],
                          [
                            0.3333333333333333,
                            "#9c179e"
                          ],
                          [
                            0.4444444444444444,
                            "#bd3786"
                          ],
                          [
                            0.5555555555555556,
                            "#d8576b"
                          ],
                          [
                            0.6666666666666666,
                            "#ed7953"
                          ],
                          [
                            0.7777777777777778,
                            "#fb9f3a"
                          ],
                          [
                            0.8888888888888888,
                            "#fdca26"
                          ],
                          [
                            1,
                            "#f0f921"
                          ]
                        ],
                        "type": "heatmap"
                      }
                    ],
                    "heatmapgl": [
                      {
                        "colorbar": {
                          "outlinewidth": 0,
                          "ticks": ""
                        },
                        "colorscale": [
                          [
                            0,
                            "#0d0887"
                          ],
                          [
                            0.1111111111111111,
                            "#46039f"
                          ],
                          [
                            0.2222222222222222,
                            "#7201a8"
                          ],
                          [
                            0.3333333333333333,
                            "#9c179e"
                          ],
                          [
                            0.4444444444444444,
                            "#bd3786"
                          ],
                          [
                            0.5555555555555556,
                            "#d8576b"
                          ],
                          [
                            0.6666666666666666,
                            "#ed7953"
                          ],
                          [
                            0.7777777777777778,
                            "#fb9f3a"
                          ],
                          [
                            0.8888888888888888,
                            "#fdca26"
                          ],
                          [
                            1,
                            "#f0f921"
                          ]
                        ],
                        "type": "heatmapgl"
                      }
                    ],
                    "histogram": [
                      {
                        "marker": {
                          "pattern": {
                            "fillmode": "overlay",
                            "size": 10,
                            "solidity": 0.2
                          }
                        },
                        "type": "histogram"
                      }
                    ],
                    "histogram2d": [
                      {
                        "colorbar": {
                          "outlinewidth": 0,
                          "ticks": ""
                        },
                        "colorscale": [
                          [
                            0,
                            "#0d0887"
                          ],
                          [
                            0.1111111111111111,
                            "#46039f"
                          ],
                          [
                            0.2222222222222222,
                            "#7201a8"
                          ],
                          [
                            0.3333333333333333,
                            "#9c179e"
                          ],
                          [
                            0.4444444444444444,
                            "#bd3786"
                          ],
                          [
                            0.5555555555555556,
                            "#d8576b"
                          ],
                          [
                            0.6666666666666666,
                            "#ed7953"
                          ],
                          [
                            0.7777777777777778,
                            "#fb9f3a"
                          ],
                          [
                            0.8888888888888888,
                            "#fdca26"
                          ],
                          [
                            1,
                            "#f0f921"
                          ]
                        ],
                        "type": "histogram2d"
                      }
                    ],
                    "histogram2dcontour": [
                      {
                        "colorbar": {
                          "outlinewidth": 0,
                          "ticks": ""
                        },
                        "colorscale": [
                          [
                            0,
                            "#0d0887"
                          ],
                          [
                            0.1111111111111111,
                            "#46039f"
                          ],
                          [
                            0.2222222222222222,
                            "#7201a8"
                          ],
                          [
                            0.3333333333333333,
                            "#9c179e"
                          ],
                          [
                            0.4444444444444444,
                            "#bd3786"
                          ],
                          [
                            0.5555555555555556,
                            "#d8576b"
                          ],
                          [
                            0.6666666666666666,
                            "#ed7953"
                          ],
                          [
                            0.7777777777777778,
                            "#fb9f3a"
                          ],
                          [
                            0.8888888888888888,
                            "#fdca26"
                          ],
                          [
                            1,
                            "#f0f921"
                          ]
                        ],
                        "type": "histogram2dcontour"
                      }
                    ],
                    "mesh3d": [
                      {
                        "colorbar": {
                          "outlinewidth": 0,
                          "ticks": ""
                        },
                        "type": "mesh3d"
                      }
                    ],
                    "parcoords": [
                      {
                        "line": {
                          "colorbar": {
                            "outlinewidth": 0,
                            "ticks": ""
                          }
                        },
                        "type": "parcoords"
                      }
                    ],
                    "pie": [
                      {
                        "automargin": true,
                        "type": "pie"
                      }
                    ],
                    "scatter": [
                      {
                        "fillpattern": {
                          "fillmode": "overlay",
                          "size": 10,
                          "solidity": 0.2
                        },
                        "type": "scatter"
                      }
                    ],
                    "scatter3d": [
                      {
                        "line": {
                          "colorbar": {
                            "outlinewidth": 0,
                            "ticks": ""
                          }
                        },
                        "marker": {
                          "colorbar": {
                            "outlinewidth": 0,
                            "ticks": ""
                          }
                        },
                        "type": "scatter3d"
                      }
                    ],
                    "scattercarpet": [
                      {
                        "marker": {
                          "colorbar": {
                            "outlinewidth": 0,
                            "ticks": ""
                          }
                        },
                        "type": "scattercarpet"
                      }
                    ],
                    "scattergeo": [
                      {
                        "marker": {
                          "colorbar": {
                            "outlinewidth": 0,
                            "ticks": ""
                          }
                        },
                        "type": "scattergeo"
                      }
                    ],
                    "scattergl": [
                      {
                        "marker": {
                          "colorbar": {
                            "outlinewidth": 0,
                            "ticks": ""
                          }
                        },
                        "type": "scattergl"
                      }
                    ],
                    "scattermapbox": [
                      {
                        "marker": {
                          "colorbar": {
                            "outlinewidth": 0,
                            "ticks": ""
                          }
                        },
                        "type": "scattermapbox"
                      }
                    ],
                    "scatterpolar": [
                      {
                        "marker": {
                          "colorbar": {
                            "outlinewidth": 0,
                            "ticks": ""
                          }
                        },
                        "type": "scatterpolar"
                      }
                    ],
                    "scatterpolargl": [
                      {
                        "marker": {
                          "colorbar": {
                            "outlinewidth": 0,
                            "ticks": ""
                          }
                        },
                        "type": "scatterpolargl"
                      }
                    ],
                    "scatterternary": [
                      {
                        "marker": {
                          "colorbar": {
                            "outlinewidth": 0,
                            "ticks": ""
                          }
                        },
                        "type": "scatterternary"
                      }
                    ],
                    "surface": [
                      {
                        "colorbar": {
                          "outlinewidth": 0,
                          "ticks": ""
                        },
                        "colorscale": [
                          [
                            0,
                            "#0d0887"
                          ],
                          [
                            0.1111111111111111,
                            "#46039f"
                          ],
                          [
                            0.2222222222222222,
                            "#7201a8"
                          ],
                          [
                            0.3333333333333333,
                            "#9c179e"
                          ],
                          [
                            0.4444444444444444,
                            "#bd3786"
                          ],
                          [
                            0.5555555555555556,
                            "#d8576b"
                          ],
                          [
                            0.6666666666666666,
                            "#ed7953"
                          ],
                          [
                            0.7777777777777778,
                            "#fb9f3a"
                          ],
                          [
                            0.8888888888888888,
                            "#fdca26"
                          ],
                          [
                            1,
                            "#f0f921"
                          ]
                        ],
                        "type": "surface"
                      }
                    ],
                    "table": [
                      {
                        "cells": {
                          "fill": {
                            "color": "#EBF0F8"
                          },
                          "line": {
                            "color": "white"
                          }
                        },
                        "header": {
                          "fill": {
                            "color": "#C8D4E3"
                          },
                          "line": {
                            "color": "white"
                          }
                        },
                        "type": "table"
                      }
                    ]
                  },
                  "layout": {
                    "annotationdefaults": {
                      "arrowcolor": "#2a3f5f",
                      "arrowhead": 0,
                      "arrowwidth": 1
                    },
                    "autotypenumbers": "strict",
                    "coloraxis": {
                      "colorbar": {
                        "outlinewidth": 0,
                        "ticks": ""
                      }
                    },
                    "colorscale": {
                      "diverging": [
                        [
                          0,
                          "#8e0152"
                        ],
                        [
                          0.1,
                          "#c51b7d"
                        ],
                        [
                          0.2,
                          "#de77ae"
                        ],
                        [
                          0.3,
                          "#f1b6da"
                        ],
                        [
                          0.4,
                          "#fde0ef"
                        ],
                        [
                          0.5,
                          "#f7f7f7"
                        ],
                        [
                          0.6,
                          "#e6f5d0"
                        ],
                        [
                          0.7,
                          "#b8e186"
                        ],
                        [
                          0.8,
                          "#7fbc41"
                        ],
                        [
                          0.9,
                          "#4d9221"
                        ],
                        [
                          1,
                          "#276419"
                        ]
                      ],
                      "sequential": [
                        [
                          0,
                          "#0d0887"
                        ],
                        [
                          0.1111111111111111,
                          "#46039f"
                        ],
                        [
                          0.2222222222222222,
                          "#7201a8"
                        ],
                        [
                          0.3333333333333333,
                          "#9c179e"
                        ],
                        [
                          0.4444444444444444,
                          "#bd3786"
                        ],
                        [
                          0.5555555555555556,
                          "#d8576b"
                        ],
                        [
                          0.6666666666666666,
                          "#ed7953"
                        ],
                        [
                          0.7777777777777778,
                          "#fb9f3a"
                        ],
                        [
                          0.8888888888888888,
                          "#fdca26"
                        ],
                        [
                          1,
                          "#f0f921"
                        ]
                      ],
                      "sequentialminus": [
                        [
                          0,
                          "#0d0887"
                        ],
                        [
                          0.1111111111111111,
                          "#46039f"
                        ],
                        [
                          0.2222222222222222,
                          "#7201a8"
                        ],
                        [
                          0.3333333333333333,
                          "#9c179e"
                        ],
                        [
                          0.4444444444444444,
                          "#bd3786"
                        ],
                        [
                          0.5555555555555556,
                          "#d8576b"
                        ],
                        [
                          0.6666666666666666,
                          "#ed7953"
                        ],
                        [
                          0.7777777777777778,
                          "#fb9f3a"
                        ],
                        [
                          0.8888888888888888,
                          "#fdca26"
                        ],
                        [
                          1,
                          "#f0f921"
                        ]
                      ]
                    },
                    "colorway": [
                      "#636efa",
                      "#EF553B",
                      "#00cc96",
                      "#ab63fa",
                      "#FFA15A",
                      "#19d3f3",
                      "#FF6692",
                      "#B6E880",
                      "#FF97FF",
                      "#FECB52"
                    ],
                    "font": {
                      "color": "#2a3f5f"
                    },
                    "geo": {
                      "bgcolor": "white",
                      "lakecolor": "white",
                      "landcolor": "#E5ECF6",
                      "showlakes": true,
                      "showland": true,
                      "subunitcolor": "white"
                    },
                    "hoverlabel": {
                      "align": "left"
                    },
                    "hovermode": "closest",
                    "mapbox": {
                      "style": "light"
                    },
                    "paper_bgcolor": "white",
                    "plot_bgcolor": "#E5ECF6",
                    "polar": {
                      "angularaxis": {
                        "gridcolor": "white",
                        "linecolor": "white",
                        "ticks": ""
                      },
                      "bgcolor": "#E5ECF6",
                      "radialaxis": {
                        "gridcolor": "white",
                        "linecolor": "white",
                        "ticks": ""
                      }
                    },
                    "scene": {
                      "xaxis": {
                        "backgroundcolor": "#E5ECF6",
                        "gridcolor": "white",
                        "gridwidth": 2,
                        "linecolor": "white",
                        "showbackground": true,
                        "ticks": "",
                        "zerolinecolor": "white"
                      },
                      "yaxis": {
                        "backgroundcolor": "#E5ECF6",
                        "gridcolor": "white",
                        "gridwidth": 2,
                        "linecolor": "white",
                        "showbackground": true,
                        "ticks": "",
                        "zerolinecolor": "white"
                      },
                      "zaxis": {
                        "backgroundcolor": "#E5ECF6",
                        "gridcolor": "white",
                        "gridwidth": 2,
                        "linecolor": "white",
                        "showbackground": true,
                        "ticks": "",
                        "zerolinecolor": "white"
                      }
                    },
                    "shapedefaults": {
                      "line": {
                        "color": "#2a3f5f"
                      }
                    },
                    "ternary": {
                      "aaxis": {
                        "gridcolor": "white",
                        "linecolor": "white",
                        "ticks": ""
                      },
                      "baxis": {
                        "gridcolor": "white",
                        "linecolor": "white",
                        "ticks": ""
                      },
                      "bgcolor": "#E5ECF6",
                      "caxis": {
                        "gridcolor": "white",
                        "linecolor": "white",
                        "ticks": ""
                      }
                    },
                    "title": {
                      "x": 0.05
                    },
                    "xaxis": {
                      "automargin": true,
                      "gridcolor": "white",
                      "linecolor": "white",
                      "ticks": "",
                      "title": {
                        "standoff": 15
                      },
                      "zerolinecolor": "white",
                      "zerolinewidth": 2
                    },
                    "yaxis": {
                      "automargin": true,
                      "gridcolor": "white",
                      "linecolor": "white",
                      "ticks": "",
                      "title": {
                        "standoff": 15
                      },
                      "zerolinecolor": "white",
                      "zerolinewidth": 2
                    }
                  }
                },
                "title": {
                  "text": "Radar chart of mean food preferences by cluster"
                },
                "width": 800
              }
            }
          },
          "metadata": {},
          "output_type": "display_data"
        }
      ],
      "source": [
        "# State the label for each arm of the chart\n",
        "categories = ['broccoli', 'brussels_sprouts', 'hamburger (meat)', 'oysters (raw)',\n",
        "       ' onion (raw)', 'peas', 'olives', 'blue_cheese', 'whisky', 'age']\n",
        "\n",
        "# Create an empty list to store the objects\n",
        "trace_objects = []\n",
        "\n",
        "# Iterate over the unique cluster numbers and add an object for each cluster to the list\n",
        "for cluster in sorted(scaled_features_df['cluster'].unique()):\n",
        "  cluster_food_means = go.Scatterpolar(\n",
        "    r=[scaled_features_df.loc[scaled_features_df[\"cluster\"] == cluster, 'broccoli'].mean(),\n",
        "      scaled_features_df.loc[scaled_features_df[\"cluster\"] == cluster, 'brussels_sprouts'].mean(),\n",
        "      scaled_features_df.loc[scaled_features_df[\"cluster\"] == cluster, 'hamburger (meat)'].mean(),\n",
        "      scaled_features_df.loc[scaled_features_df[\"cluster\"] == cluster, 'oysters (raw)'].mean(),\n",
        "      scaled_features_df.loc[scaled_features_df[\"cluster\"] == cluster, 'onion (raw)'].mean(),\n",
        "      scaled_features_df.loc[scaled_features_df[\"cluster\"] == cluster, 'peas'].mean(),\n",
        "      scaled_features_df.loc[scaled_features_df[\"cluster\"] == cluster, 'olives'].mean(),\n",
        "      scaled_features_df.loc[scaled_features_df[\"cluster\"] == cluster, 'blue_cheese'].mean(),\n",
        "      scaled_features_df.loc[scaled_features_df[\"cluster\"] == cluster, 'whisky'].mean(),\n",
        "      scaled_features_df.loc[scaled_features_df[\"cluster\"] == cluster, 'age'].mean()],\n",
        "    theta=categories,\n",
        "    fill='toself',\n",
        "    name=f'Cluster {cluster}'\n",
        "  )\n",
        "  trace_objects.append(cluster_food_means)\n",
        "\n",
        "# Add the objects to the figure\n",
        "fig = go.Figure()\n",
        "fig.add_traces(trace_objects)\n",
        "\n",
        "# Add extras to the plot such as title\n",
        "# You'll always need `polar=dict(radialaxis=dict(visible=True,range=[0, 1]))` when creating a radar plot\n",
        "fig.update_layout(\n",
        "  title_text = 'Radar chart of mean food preferences by cluster',\n",
        "  height = 600,\n",
        "  width = 800,\n",
        "  polar=dict(\n",
        "    radialaxis=dict(\n",
        "      visible=True,\n",
        "      range=[0, 1]\n",
        "    )),\n",
        "  showlegend=True\n",
        ")\n",
        "\n",
        "# Show the initialised plot and the layers\n",
        "fig.show()"
      ]
    },
    {
      "cell_type": "code",
      "execution_count": null,
      "metadata": {
        "id": "gI_wSpsqP2Wh",
        "outputId": "6481f825-05f6-496b-edbb-ef19911a7780"
      },
      "outputs": [
        {
          "data": {
            "text/html": [
              "<div>\n",
              "<style scoped>\n",
              "    .dataframe tbody tr th:only-of-type {\n",
              "        vertical-align: middle;\n",
              "    }\n",
              "\n",
              "    .dataframe tbody tr th {\n",
              "        vertical-align: top;\n",
              "    }\n",
              "\n",
              "    .dataframe thead th {\n",
              "        text-align: right;\n",
              "    }\n",
              "</style>\n",
              "<table border=\"1\" class=\"dataframe\">\n",
              "  <thead>\n",
              "    <tr style=\"text-align: right;\">\n",
              "      <th></th>\n",
              "      <th>broccoli</th>\n",
              "      <th>brussels_sprouts</th>\n",
              "      <th>hamburger (meat)</th>\n",
              "      <th>oysters (raw)</th>\n",
              "      <th>onion (raw)</th>\n",
              "      <th>peas</th>\n",
              "      <th>olives</th>\n",
              "      <th>blue_cheese</th>\n",
              "      <th>whisky</th>\n",
              "      <th>age</th>\n",
              "      <th>cluster</th>\n",
              "    </tr>\n",
              "    <tr>\n",
              "      <th>student</th>\n",
              "      <th></th>\n",
              "      <th></th>\n",
              "      <th></th>\n",
              "      <th></th>\n",
              "      <th></th>\n",
              "      <th></th>\n",
              "      <th></th>\n",
              "      <th></th>\n",
              "      <th></th>\n",
              "      <th></th>\n",
              "      <th></th>\n",
              "    </tr>\n",
              "  </thead>\n",
              "  <tbody>\n",
              "    <tr>\n",
              "      <th>Florian</th>\n",
              "      <td>0.875</td>\n",
              "      <td>0.7</td>\n",
              "      <td>0.2</td>\n",
              "      <td>0.0</td>\n",
              "      <td>0.375</td>\n",
              "      <td>0.166667</td>\n",
              "      <td>0.0</td>\n",
              "      <td>0.0</td>\n",
              "      <td>0.5</td>\n",
              "      <td>0.135802</td>\n",
              "      <td>0</td>\n",
              "    </tr>\n",
              "    <tr>\n",
              "      <th>Marvin</th>\n",
              "      <td>0.875</td>\n",
              "      <td>0.7</td>\n",
              "      <td>0.9</td>\n",
              "      <td>0.1</td>\n",
              "      <td>0.625</td>\n",
              "      <td>0.000000</td>\n",
              "      <td>1.0</td>\n",
              "      <td>0.1</td>\n",
              "      <td>0.4</td>\n",
              "      <td>0.148148</td>\n",
              "      <td>0</td>\n",
              "    </tr>\n",
              "    <tr>\n",
              "      <th>Lisardo</th>\n",
              "      <td>1.000</td>\n",
              "      <td>0.8</td>\n",
              "      <td>0.5</td>\n",
              "      <td>0.1</td>\n",
              "      <td>0.500</td>\n",
              "      <td>0.666667</td>\n",
              "      <td>1.0</td>\n",
              "      <td>0.1</td>\n",
              "      <td>0.7</td>\n",
              "      <td>1.000000</td>\n",
              "      <td>0</td>\n",
              "    </tr>\n",
              "  </tbody>\n",
              "</table>\n",
              "</div>"
            ],
            "text/plain": [
              "         broccoli  brussels_sprouts  hamburger (meat)  oysters (raw)  \\\n",
              "student                                                                \n",
              "Florian     0.875               0.7               0.2            0.0   \n",
              "Marvin      0.875               0.7               0.9            0.1   \n",
              "Lisardo     1.000               0.8               0.5            0.1   \n",
              "\n",
              "         onion (raw)      peas  olives  blue_cheese  whisky       age  cluster  \n",
              "student                                                                         \n",
              "Florian        0.375  0.166667     0.0          0.0     0.5  0.135802        0  \n",
              "Marvin         0.625  0.000000     1.0          0.1     0.4  0.148148        0  \n",
              "Lisardo        0.500  0.666667     1.0          0.1     0.7  1.000000        0  "
            ]
          },
          "execution_count": 11,
          "metadata": {},
          "output_type": "execute_result"
        }
      ],
      "source": [
        "# Plot only students who cluster equal to i number\n",
        "scaled_features_df[scaled_features_df['cluster'] == 0]\n"
      ]
    },
    {
      "cell_type": "markdown",
      "metadata": {
        "id": "gynjRWZLCNM7"
      },
      "source": [
        "#### 3.1.4. Cluster similarities - going deeper\n",
        "In this section, we have provided an introductory overview of cluster analysis. When analysing clusters further, it is important to consider other factors, such as inertia or the silhouette score. We will explore inertia and the silhouette score in our next code-along, when we discuss how to determine the ideal number of clusters.\n"
      ]
    },
    {
      "cell_type": "markdown",
      "metadata": {
        "id": "y5xVqBsGEOFO"
      },
      "source": [
        "\n",
        "## 4. Challenge: apply this to the spotify dataset 😃\n",
        "Now that you've learned how to use KMeans to create clusters, it's your turn to try it out. Use what you've learned here to cluster the Spotify data. Create some clusters and see what happens. Do you agree with the clusters KMeans has made? Why or why not?\n",
        "\n",
        "Don't worry about the number of clusters (k) for now. We'll show you how to best estimate the number of clusters in the next code-along."
      ]
    }
  ],
  "metadata": {
    "colab": {
      "provenance": []
    },
    "kernelspec": {
      "display_name": "Python 3",
      "name": "python3"
    },
    "language_info": {
      "codemirror_mode": {
        "name": "ipython",
        "version": 3
      },
      "file_extension": ".py",
      "mimetype": "text/x-python",
      "name": "python",
      "nbconvert_exporter": "python",
      "pygments_lexer": "ipython3",
      "version": "3.10.13"
    }
  },
  "nbformat": 4,
  "nbformat_minor": 0
}
