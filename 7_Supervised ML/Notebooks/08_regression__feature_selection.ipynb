{
  "cells": [
    {
      "cell_type": "markdown",
      "metadata": {
        "id": "q4AMdqRnzI_A"
      },
      "source": [
        "# Supervised Machine Learning: feature selection\n",
        "Feature selection is aimed at identifying and selecting the most relevant and informative features from a given dataset. With the abundance of available features, selecting the right subset of variables can significantly impact the model's performance. By pruning irrelevant or redundant features, feature selection not only enhances the accuracy and generalisation capabilities of models but also reduces computational complexity, ensuring faster and more efficient predictions."
      ]
    },
    {
      "cell_type": "markdown",
      "metadata": {
        "id": "-SyMAWWrGMbd"
      },
      "source": [
        "---\n",
        "## 1.&nbsp;Import libraries 💾"
      ]
    },
    {
      "cell_type": "code",
      "execution_count": 2,
      "metadata": {
        "id": "FnIvTU6hhu2u"
      },
      "outputs": [],
      "source": [
        "import pandas as pd\n",
        "import numpy as np\n",
        "import seaborn as sns\n",
        "import matplotlib.pyplot as plt\n",
        "from sklearn.datasets import make_regression\n",
        "from sklearn.model_selection import train_test_split\n",
        "from sklearn.tree import DecisionTreeRegressor\n",
        "from sklearn.neighbors import KNeighborsRegressor\n",
        "from sklearn.metrics import r2_score\n",
        "from sklearn.preprocessing import MinMaxScaler\n",
        "from sklearn.feature_selection import VarianceThreshold, SelectKBest, f_regression, RFECV, SelectFromModel"
      ]
    },
    {
      "cell_type": "markdown",
      "metadata": {
        "id": "fxBfT7SxkzIM"
      },
      "source": [
        "---\n",
        "## 2.&nbsp;Creating the Dataset for Feature Selection 📂\n",
        "\n",
        "In this step, we'll construct a diverse dataset. It includes both informative columns (strongly related to the label) and irrelevant ones (without any meaningful association with the label). You don't need to understand the intricacies of the dataset generation code; our focus lies in the feature selection we will perform on this dataset, rather than on the dataset generation itself."
      ]
    },
    {
      "cell_type": "code",
      "execution_count": 3,
      "metadata": {
        "colab": {
          "base_uri": "https://localhost:8080/",
          "height": 488
        },
        "id": "-GaAHa56HC5F",
        "outputId": "2b27495e-ba95-4209-c9e9-d6fd044bf2c4"
      },
      "outputs": [
        {
          "data": {
            "text/html": [
              "<div>\n",
              "<style scoped>\n",
              "    .dataframe tbody tr th:only-of-type {\n",
              "        vertical-align: middle;\n",
              "    }\n",
              "\n",
              "    .dataframe tbody tr th {\n",
              "        vertical-align: top;\n",
              "    }\n",
              "\n",
              "    .dataframe thead th {\n",
              "        text-align: right;\n",
              "    }\n",
              "</style>\n",
              "<table border=\"1\" class=\"dataframe\">\n",
              "  <thead>\n",
              "    <tr style=\"text-align: right;\">\n",
              "      <th></th>\n",
              "      <th>feature_0</th>\n",
              "      <th>feature_1</th>\n",
              "      <th>feature_2</th>\n",
              "      <th>feature_3</th>\n",
              "      <th>feature_4</th>\n",
              "      <th>feature_5</th>\n",
              "      <th>feature_6</th>\n",
              "      <th>feature_7</th>\n",
              "      <th>feature_8</th>\n",
              "      <th>feature_9</th>\n",
              "      <th>...</th>\n",
              "      <th>feature_23</th>\n",
              "      <th>feature_24</th>\n",
              "      <th>feature_25</th>\n",
              "      <th>feature_26</th>\n",
              "      <th>feature_27</th>\n",
              "      <th>feature_28</th>\n",
              "      <th>feature_29</th>\n",
              "      <th>feature_30</th>\n",
              "      <th>feature_31</th>\n",
              "      <th>label</th>\n",
              "    </tr>\n",
              "  </thead>\n",
              "  <tbody>\n",
              "    <tr>\n",
              "      <th>0</th>\n",
              "      <td>-0.018296</td>\n",
              "      <td>-0.001839</td>\n",
              "      <td>0.016016</td>\n",
              "      <td>-0.019307</td>\n",
              "      <td>0.001856</td>\n",
              "      <td>0.027113</td>\n",
              "      <td>0.013745</td>\n",
              "      <td>0.000633</td>\n",
              "      <td>0.017954</td>\n",
              "      <td>-0.009104</td>\n",
              "      <td>...</td>\n",
              "      <td>0.017348</td>\n",
              "      <td>-0.011803</td>\n",
              "      <td>-1.184194</td>\n",
              "      <td>-1.995310</td>\n",
              "      <td>1.0</td>\n",
              "      <td>0.0</td>\n",
              "      <td>0.0</td>\n",
              "      <td>-0.015890</td>\n",
              "      <td>0.008398</td>\n",
              "      <td>-0.076775</td>\n",
              "    </tr>\n",
              "    <tr>\n",
              "      <th>1</th>\n",
              "      <td>0.001363</td>\n",
              "      <td>-0.034291</td>\n",
              "      <td>-0.001782</td>\n",
              "      <td>-0.001157</td>\n",
              "      <td>-0.000928</td>\n",
              "      <td>0.021803</td>\n",
              "      <td>-0.017609</td>\n",
              "      <td>0.001054</td>\n",
              "      <td>0.000947</td>\n",
              "      <td>-0.016167</td>\n",
              "      <td>...</td>\n",
              "      <td>-0.023567</td>\n",
              "      <td>0.020733</td>\n",
              "      <td>1.107080</td>\n",
              "      <td>3.270379</td>\n",
              "      <td>1.0</td>\n",
              "      <td>0.0</td>\n",
              "      <td>0.0</td>\n",
              "      <td>-0.000952</td>\n",
              "      <td>0.000606</td>\n",
              "      <td>1.945816</td>\n",
              "    </tr>\n",
              "    <tr>\n",
              "      <th>2</th>\n",
              "      <td>-0.007991</td>\n",
              "      <td>0.013612</td>\n",
              "      <td>0.008775</td>\n",
              "      <td>-0.004530</td>\n",
              "      <td>0.002792</td>\n",
              "      <td>0.009852</td>\n",
              "      <td>0.004221</td>\n",
              "      <td>0.002174</td>\n",
              "      <td>-0.007749</td>\n",
              "      <td>0.016543</td>\n",
              "      <td>...</td>\n",
              "      <td>-0.005296</td>\n",
              "      <td>-0.006772</td>\n",
              "      <td>0.321276</td>\n",
              "      <td>3.872602</td>\n",
              "      <td>1.0</td>\n",
              "      <td>0.0</td>\n",
              "      <td>0.0</td>\n",
              "      <td>-0.003728</td>\n",
              "      <td>-0.010298</td>\n",
              "      <td>1.261298</td>\n",
              "    </tr>\n",
              "    <tr>\n",
              "      <th>3</th>\n",
              "      <td>-0.012161</td>\n",
              "      <td>0.021575</td>\n",
              "      <td>-0.008932</td>\n",
              "      <td>-0.007190</td>\n",
              "      <td>-0.010184</td>\n",
              "      <td>-0.016184</td>\n",
              "      <td>0.001812</td>\n",
              "      <td>-0.008250</td>\n",
              "      <td>-0.008352</td>\n",
              "      <td>-0.009462</td>\n",
              "      <td>...</td>\n",
              "      <td>-0.001067</td>\n",
              "      <td>0.006821</td>\n",
              "      <td>-1.646924</td>\n",
              "      <td>-2.997523</td>\n",
              "      <td>1.0</td>\n",
              "      <td>0.0</td>\n",
              "      <td>0.0</td>\n",
              "      <td>-0.005918</td>\n",
              "      <td>-0.010509</td>\n",
              "      <td>-4.510620</td>\n",
              "    </tr>\n",
              "    <tr>\n",
              "      <th>4</th>\n",
              "      <td>-0.029442</td>\n",
              "      <td>-0.005390</td>\n",
              "      <td>0.011258</td>\n",
              "      <td>0.024444</td>\n",
              "      <td>0.013054</td>\n",
              "      <td>-0.012449</td>\n",
              "      <td>-0.026195</td>\n",
              "      <td>0.025240</td>\n",
              "      <td>0.007042</td>\n",
              "      <td>-0.005765</td>\n",
              "      <td>...</td>\n",
              "      <td>-0.022302</td>\n",
              "      <td>0.011463</td>\n",
              "      <td>-0.626460</td>\n",
              "      <td>2.899593</td>\n",
              "      <td>1.0</td>\n",
              "      <td>0.0</td>\n",
              "      <td>0.0</td>\n",
              "      <td>0.020117</td>\n",
              "      <td>0.003830</td>\n",
              "      <td>3.017716</td>\n",
              "    </tr>\n",
              "    <tr>\n",
              "      <th>...</th>\n",
              "      <td>...</td>\n",
              "      <td>...</td>\n",
              "      <td>...</td>\n",
              "      <td>...</td>\n",
              "      <td>...</td>\n",
              "      <td>...</td>\n",
              "      <td>...</td>\n",
              "      <td>...</td>\n",
              "      <td>...</td>\n",
              "      <td>...</td>\n",
              "      <td>...</td>\n",
              "      <td>...</td>\n",
              "      <td>...</td>\n",
              "      <td>...</td>\n",
              "      <td>...</td>\n",
              "      <td>...</td>\n",
              "      <td>...</td>\n",
              "      <td>...</td>\n",
              "      <td>...</td>\n",
              "      <td>...</td>\n",
              "      <td>...</td>\n",
              "    </tr>\n",
              "    <tr>\n",
              "      <th>995</th>\n",
              "      <td>-0.004784</td>\n",
              "      <td>-0.005852</td>\n",
              "      <td>0.003786</td>\n",
              "      <td>-0.018332</td>\n",
              "      <td>0.017759</td>\n",
              "      <td>-0.011987</td>\n",
              "      <td>-0.019495</td>\n",
              "      <td>0.006243</td>\n",
              "      <td>0.014125</td>\n",
              "      <td>-0.007231</td>\n",
              "      <td>...</td>\n",
              "      <td>-0.017950</td>\n",
              "      <td>0.018817</td>\n",
              "      <td>0.708239</td>\n",
              "      <td>4.382805</td>\n",
              "      <td>1.0</td>\n",
              "      <td>0.0</td>\n",
              "      <td>0.0</td>\n",
              "      <td>-0.015087</td>\n",
              "      <td>0.013806</td>\n",
              "      <td>2.110393</td>\n",
              "    </tr>\n",
              "    <tr>\n",
              "      <th>996</th>\n",
              "      <td>0.029737</td>\n",
              "      <td>0.009150</td>\n",
              "      <td>0.011322</td>\n",
              "      <td>0.026551</td>\n",
              "      <td>0.007310</td>\n",
              "      <td>0.003309</td>\n",
              "      <td>-0.007107</td>\n",
              "      <td>0.021561</td>\n",
              "      <td>0.021082</td>\n",
              "      <td>0.020325</td>\n",
              "      <td>...</td>\n",
              "      <td>0.005461</td>\n",
              "      <td>-0.018409</td>\n",
              "      <td>1.186910</td>\n",
              "      <td>-3.479690</td>\n",
              "      <td>1.0</td>\n",
              "      <td>0.0</td>\n",
              "      <td>0.0</td>\n",
              "      <td>0.021852</td>\n",
              "      <td>0.015098</td>\n",
              "      <td>0.666808</td>\n",
              "    </tr>\n",
              "    <tr>\n",
              "      <th>997</th>\n",
              "      <td>0.009199</td>\n",
              "      <td>0.012291</td>\n",
              "      <td>0.021928</td>\n",
              "      <td>0.021705</td>\n",
              "      <td>-0.006578</td>\n",
              "      <td>-0.036746</td>\n",
              "      <td>-0.037261</td>\n",
              "      <td>-0.009584</td>\n",
              "      <td>0.019986</td>\n",
              "      <td>0.008848</td>\n",
              "      <td>...</td>\n",
              "      <td>-0.027405</td>\n",
              "      <td>0.007829</td>\n",
              "      <td>-0.990260</td>\n",
              "      <td>-0.437187</td>\n",
              "      <td>1.0</td>\n",
              "      <td>0.0</td>\n",
              "      <td>0.0</td>\n",
              "      <td>0.017864</td>\n",
              "      <td>0.032221</td>\n",
              "      <td>-1.141679</td>\n",
              "    </tr>\n",
              "    <tr>\n",
              "      <th>998</th>\n",
              "      <td>-0.002704</td>\n",
              "      <td>-0.011813</td>\n",
              "      <td>-0.002855</td>\n",
              "      <td>0.019239</td>\n",
              "      <td>0.000741</td>\n",
              "      <td>0.017812</td>\n",
              "      <td>-0.010176</td>\n",
              "      <td>0.000241</td>\n",
              "      <td>-0.010978</td>\n",
              "      <td>-0.002322</td>\n",
              "      <td>...</td>\n",
              "      <td>0.022012</td>\n",
              "      <td>-0.015817</td>\n",
              "      <td>0.527290</td>\n",
              "      <td>-5.438780</td>\n",
              "      <td>1.0</td>\n",
              "      <td>0.0</td>\n",
              "      <td>0.0</td>\n",
              "      <td>0.015834</td>\n",
              "      <td>-0.014323</td>\n",
              "      <td>-2.718885</td>\n",
              "    </tr>\n",
              "    <tr>\n",
              "      <th>999</th>\n",
              "      <td>-0.001187</td>\n",
              "      <td>0.014401</td>\n",
              "      <td>0.009084</td>\n",
              "      <td>0.002795</td>\n",
              "      <td>-0.017409</td>\n",
              "      <td>-0.009018</td>\n",
              "      <td>0.003329</td>\n",
              "      <td>0.006956</td>\n",
              "      <td>0.009315</td>\n",
              "      <td>0.011165</td>\n",
              "      <td>...</td>\n",
              "      <td>0.016940</td>\n",
              "      <td>-0.007184</td>\n",
              "      <td>-1.212573</td>\n",
              "      <td>1.054280</td>\n",
              "      <td>1.0</td>\n",
              "      <td>0.0</td>\n",
              "      <td>0.1</td>\n",
              "      <td>0.002300</td>\n",
              "      <td>0.004749</td>\n",
              "      <td>-5.867438</td>\n",
              "    </tr>\n",
              "  </tbody>\n",
              "</table>\n",
              "<p>1000 rows × 33 columns</p>\n",
              "</div>"
            ],
            "text/plain": [
              "     feature_0  feature_1  feature_2  feature_3  feature_4  feature_5  \\\n",
              "0    -0.018296  -0.001839   0.016016  -0.019307   0.001856   0.027113   \n",
              "1     0.001363  -0.034291  -0.001782  -0.001157  -0.000928   0.021803   \n",
              "2    -0.007991   0.013612   0.008775  -0.004530   0.002792   0.009852   \n",
              "3    -0.012161   0.021575  -0.008932  -0.007190  -0.010184  -0.016184   \n",
              "4    -0.029442  -0.005390   0.011258   0.024444   0.013054  -0.012449   \n",
              "..         ...        ...        ...        ...        ...        ...   \n",
              "995  -0.004784  -0.005852   0.003786  -0.018332   0.017759  -0.011987   \n",
              "996   0.029737   0.009150   0.011322   0.026551   0.007310   0.003309   \n",
              "997   0.009199   0.012291   0.021928   0.021705  -0.006578  -0.036746   \n",
              "998  -0.002704  -0.011813  -0.002855   0.019239   0.000741   0.017812   \n",
              "999  -0.001187   0.014401   0.009084   0.002795  -0.017409  -0.009018   \n",
              "\n",
              "     feature_6  feature_7  feature_8  feature_9  ...  feature_23  feature_24  \\\n",
              "0     0.013745   0.000633   0.017954  -0.009104  ...    0.017348   -0.011803   \n",
              "1    -0.017609   0.001054   0.000947  -0.016167  ...   -0.023567    0.020733   \n",
              "2     0.004221   0.002174  -0.007749   0.016543  ...   -0.005296   -0.006772   \n",
              "3     0.001812  -0.008250  -0.008352  -0.009462  ...   -0.001067    0.006821   \n",
              "4    -0.026195   0.025240   0.007042  -0.005765  ...   -0.022302    0.011463   \n",
              "..         ...        ...        ...        ...  ...         ...         ...   \n",
              "995  -0.019495   0.006243   0.014125  -0.007231  ...   -0.017950    0.018817   \n",
              "996  -0.007107   0.021561   0.021082   0.020325  ...    0.005461   -0.018409   \n",
              "997  -0.037261  -0.009584   0.019986   0.008848  ...   -0.027405    0.007829   \n",
              "998  -0.010176   0.000241  -0.010978  -0.002322  ...    0.022012   -0.015817   \n",
              "999   0.003329   0.006956   0.009315   0.011165  ...    0.016940   -0.007184   \n",
              "\n",
              "     feature_25  feature_26  feature_27  feature_28  feature_29  feature_30  \\\n",
              "0     -1.184194   -1.995310         1.0         0.0         0.0   -0.015890   \n",
              "1      1.107080    3.270379         1.0         0.0         0.0   -0.000952   \n",
              "2      0.321276    3.872602         1.0         0.0         0.0   -0.003728   \n",
              "3     -1.646924   -2.997523         1.0         0.0         0.0   -0.005918   \n",
              "4     -0.626460    2.899593         1.0         0.0         0.0    0.020117   \n",
              "..          ...         ...         ...         ...         ...         ...   \n",
              "995    0.708239    4.382805         1.0         0.0         0.0   -0.015087   \n",
              "996    1.186910   -3.479690         1.0         0.0         0.0    0.021852   \n",
              "997   -0.990260   -0.437187         1.0         0.0         0.0    0.017864   \n",
              "998    0.527290   -5.438780         1.0         0.0         0.0    0.015834   \n",
              "999   -1.212573    1.054280         1.0         0.0         0.1    0.002300   \n",
              "\n",
              "     feature_31     label  \n",
              "0      0.008398 -0.076775  \n",
              "1      0.000606  1.945816  \n",
              "2     -0.010298  1.261298  \n",
              "3     -0.010509 -4.510620  \n",
              "4      0.003830  3.017716  \n",
              "..          ...       ...  \n",
              "995    0.013806  2.110393  \n",
              "996    0.015098  0.666808  \n",
              "997    0.032221 -1.141679  \n",
              "998   -0.014323 -2.718885  \n",
              "999    0.004749 -5.867438  \n",
              "\n",
              "[1000 rows x 33 columns]"
            ]
          },
          "execution_count": 3,
          "metadata": {},
          "output_type": "execute_result"
        }
      ],
      "source": [
        "np.random.seed(123)\n",
        "scale_values = np.logspace(1, 10, num=25)\n",
        "\n",
        "X, y = make_regression(n_samples=1000,\n",
        "                       n_features=25,\n",
        "                       n_informative=6,\n",
        "                       effective_rank=4,\n",
        "                       noise=0.2,\n",
        "                       random_state=42)\n",
        "\n",
        "X = pd.DataFrame(X)\n",
        "y = pd.DataFrame(y)\n",
        "\n",
        "new_columns = {\n",
        "    \"25\": np.random.normal(scale=1.1, loc=0.01, size=len(X)),\n",
        "    \"26\": np.random.normal(scale=4, loc=1, size=len(X)),\n",
        "    \"27\": np.full(len(X), 1.),\n",
        "    \"28\": np.full(len(X), 0.),\n",
        "    \"29\": np.concatenate([np.zeros(len(X)-1), [0.1]]),\n",
        "    \"30\": X.iloc[:,3] * 0.823,\n",
        "    \"31\": X.iloc[:,8] * np.random.normal(scale=0.3, loc=1, size=len(X))\n",
        "}\n",
        "\n",
        "X = X.assign(**new_columns)\n",
        "X = X.add_prefix(\"feature_\")\n",
        "y = y.rename(columns={0:\"label\"})\n",
        "\n",
        "original_df = pd.concat([X, y], axis=1)\n",
        "original_df"
      ]
    },
    {
      "cell_type": "markdown",
      "metadata": {
        "id": "5aAvt9g_zI_E"
      },
      "source": [
        "---\n",
        "## 3.&nbsp;Train-test split 🔀\n",
        "\n",
        "All data transformations and feature selection should rely solely on the information from the training set, with no consideration of the test set. In feature selection, this involves deciding the usefulness of columns based only on the training set. Once we identify which columns to drop, we apply the same removal to the test set as well. For custom feature selection without SKLearn, it is vital to adhere to this principle of excluding any information from the test set during the feature selection process."
      ]
    },
    {
      "cell_type": "code",
      "execution_count": 4,
      "metadata": {
        "id": "hRYi-42QzI_E"
      },
      "outputs": [],
      "source": [
        "X = original_df.copy()\n",
        "y = X.pop(\"label\")\n",
        "\n",
        "X_train, X_test, y_train, y_test = train_test_split(X, y, test_size=0.2, random_state=123)"
      ]
    },
    {
      "cell_type": "markdown",
      "metadata": {
        "id": "kEYA-xxlzI_E"
      },
      "source": [
        "---\n",
        "## 4.&nbsp;Baseline Model 🧱\n",
        "\n",
        "In this codealong, we will focus on comparing the performance of two baseline models: a Decision Tree with default parameters and a K-Nearest Neighbors model with K=1. For simplicity, we won't be tuning the model parameters here. However, you are encouraged to explore parameter tuning independently. After applying each new feature selection strategy, we will track and evaluate the models to understand their impact on the predictive performance."
      ]
    },
    {
      "cell_type": "code",
      "execution_count": 5,
      "metadata": {
        "colab": {
          "base_uri": "https://localhost:8080/",
          "height": 75
        },
        "id": "Xxp9ZRSuPU3D",
        "outputId": "60cb9153-a07a-4b1c-e56a-a57a91b38e49"
      },
      "outputs": [
        {
          "data": {
            "text/html": [
              "<style>#sk-container-id-1 {color: black;}#sk-container-id-1 pre{padding: 0;}#sk-container-id-1 div.sk-toggleable {background-color: white;}#sk-container-id-1 label.sk-toggleable__label {cursor: pointer;display: block;width: 100%;margin-bottom: 0;padding: 0.3em;box-sizing: border-box;text-align: center;}#sk-container-id-1 label.sk-toggleable__label-arrow:before {content: \"▸\";float: left;margin-right: 0.25em;color: #696969;}#sk-container-id-1 label.sk-toggleable__label-arrow:hover:before {color: black;}#sk-container-id-1 div.sk-estimator:hover label.sk-toggleable__label-arrow:before {color: black;}#sk-container-id-1 div.sk-toggleable__content {max-height: 0;max-width: 0;overflow: hidden;text-align: left;background-color: #f0f8ff;}#sk-container-id-1 div.sk-toggleable__content pre {margin: 0.2em;color: black;border-radius: 0.25em;background-color: #f0f8ff;}#sk-container-id-1 input.sk-toggleable__control:checked~div.sk-toggleable__content {max-height: 200px;max-width: 100%;overflow: auto;}#sk-container-id-1 input.sk-toggleable__control:checked~label.sk-toggleable__label-arrow:before {content: \"▾\";}#sk-container-id-1 div.sk-estimator input.sk-toggleable__control:checked~label.sk-toggleable__label {background-color: #d4ebff;}#sk-container-id-1 div.sk-label input.sk-toggleable__control:checked~label.sk-toggleable__label {background-color: #d4ebff;}#sk-container-id-1 input.sk-hidden--visually {border: 0;clip: rect(1px 1px 1px 1px);clip: rect(1px, 1px, 1px, 1px);height: 1px;margin: -1px;overflow: hidden;padding: 0;position: absolute;width: 1px;}#sk-container-id-1 div.sk-estimator {font-family: monospace;background-color: #f0f8ff;border: 1px dotted black;border-radius: 0.25em;box-sizing: border-box;margin-bottom: 0.5em;}#sk-container-id-1 div.sk-estimator:hover {background-color: #d4ebff;}#sk-container-id-1 div.sk-parallel-item::after {content: \"\";width: 100%;border-bottom: 1px solid gray;flex-grow: 1;}#sk-container-id-1 div.sk-label:hover label.sk-toggleable__label {background-color: #d4ebff;}#sk-container-id-1 div.sk-serial::before {content: \"\";position: absolute;border-left: 1px solid gray;box-sizing: border-box;top: 0;bottom: 0;left: 50%;z-index: 0;}#sk-container-id-1 div.sk-serial {display: flex;flex-direction: column;align-items: center;background-color: white;padding-right: 0.2em;padding-left: 0.2em;position: relative;}#sk-container-id-1 div.sk-item {position: relative;z-index: 1;}#sk-container-id-1 div.sk-parallel {display: flex;align-items: stretch;justify-content: center;background-color: white;position: relative;}#sk-container-id-1 div.sk-item::before, #sk-container-id-1 div.sk-parallel-item::before {content: \"\";position: absolute;border-left: 1px solid gray;box-sizing: border-box;top: 0;bottom: 0;left: 50%;z-index: -1;}#sk-container-id-1 div.sk-parallel-item {display: flex;flex-direction: column;z-index: 1;position: relative;background-color: white;}#sk-container-id-1 div.sk-parallel-item:first-child::after {align-self: flex-end;width: 50%;}#sk-container-id-1 div.sk-parallel-item:last-child::after {align-self: flex-start;width: 50%;}#sk-container-id-1 div.sk-parallel-item:only-child::after {width: 0;}#sk-container-id-1 div.sk-dashed-wrapped {border: 1px dashed gray;margin: 0 0.4em 0.5em 0.4em;box-sizing: border-box;padding-bottom: 0.4em;background-color: white;}#sk-container-id-1 div.sk-label label {font-family: monospace;font-weight: bold;display: inline-block;line-height: 1.2em;}#sk-container-id-1 div.sk-label-container {text-align: center;}#sk-container-id-1 div.sk-container {/* jupyter's `normalize.less` sets `[hidden] { display: none; }` but bootstrap.min.css set `[hidden] { display: none !important; }` so we also need the `!important` here to be able to override the default hidden behavior on the sphinx rendered scikit-learn.org. See: https://github.com/scikit-learn/scikit-learn/issues/21755 */display: inline-block !important;position: relative;}#sk-container-id-1 div.sk-text-repr-fallback {display: none;}</style><div id=\"sk-container-id-1\" class=\"sk-top-container\"><div class=\"sk-text-repr-fallback\"><pre>DecisionTreeRegressor()</pre><b>In a Jupyter environment, please rerun this cell to show the HTML representation or trust the notebook. <br />On GitHub, the HTML representation is unable to render, please try loading this page with nbviewer.org.</b></div><div class=\"sk-container\" hidden><div class=\"sk-item\"><div class=\"sk-estimator sk-toggleable\"><input class=\"sk-toggleable__control sk-hidden--visually\" id=\"sk-estimator-id-1\" type=\"checkbox\" checked><label for=\"sk-estimator-id-1\" class=\"sk-toggleable__label sk-toggleable__label-arrow\">DecisionTreeRegressor</label><div class=\"sk-toggleable__content\"><pre>DecisionTreeRegressor()</pre></div></div></div></div></div>"
            ],
            "text/plain": [
              "DecisionTreeRegressor()"
            ]
          },
          "execution_count": 5,
          "metadata": {},
          "output_type": "execute_result"
        }
      ],
      "source": [
        "baseline_tree = DecisionTreeRegressor()\n",
        "baseline_tree.fit(X_train, y_train)"
      ]
    },
    {
      "cell_type": "code",
      "execution_count": 6,
      "metadata": {
        "colab": {
          "base_uri": "https://localhost:8080/",
          "height": 75
        },
        "id": "Xw6cw_HtPWRT",
        "outputId": "ace25376-5e76-4313-fcd3-0edc9f3f1de9"
      },
      "outputs": [
        {
          "data": {
            "text/html": [
              "<style>#sk-container-id-2 {color: black;}#sk-container-id-2 pre{padding: 0;}#sk-container-id-2 div.sk-toggleable {background-color: white;}#sk-container-id-2 label.sk-toggleable__label {cursor: pointer;display: block;width: 100%;margin-bottom: 0;padding: 0.3em;box-sizing: border-box;text-align: center;}#sk-container-id-2 label.sk-toggleable__label-arrow:before {content: \"▸\";float: left;margin-right: 0.25em;color: #696969;}#sk-container-id-2 label.sk-toggleable__label-arrow:hover:before {color: black;}#sk-container-id-2 div.sk-estimator:hover label.sk-toggleable__label-arrow:before {color: black;}#sk-container-id-2 div.sk-toggleable__content {max-height: 0;max-width: 0;overflow: hidden;text-align: left;background-color: #f0f8ff;}#sk-container-id-2 div.sk-toggleable__content pre {margin: 0.2em;color: black;border-radius: 0.25em;background-color: #f0f8ff;}#sk-container-id-2 input.sk-toggleable__control:checked~div.sk-toggleable__content {max-height: 200px;max-width: 100%;overflow: auto;}#sk-container-id-2 input.sk-toggleable__control:checked~label.sk-toggleable__label-arrow:before {content: \"▾\";}#sk-container-id-2 div.sk-estimator input.sk-toggleable__control:checked~label.sk-toggleable__label {background-color: #d4ebff;}#sk-container-id-2 div.sk-label input.sk-toggleable__control:checked~label.sk-toggleable__label {background-color: #d4ebff;}#sk-container-id-2 input.sk-hidden--visually {border: 0;clip: rect(1px 1px 1px 1px);clip: rect(1px, 1px, 1px, 1px);height: 1px;margin: -1px;overflow: hidden;padding: 0;position: absolute;width: 1px;}#sk-container-id-2 div.sk-estimator {font-family: monospace;background-color: #f0f8ff;border: 1px dotted black;border-radius: 0.25em;box-sizing: border-box;margin-bottom: 0.5em;}#sk-container-id-2 div.sk-estimator:hover {background-color: #d4ebff;}#sk-container-id-2 div.sk-parallel-item::after {content: \"\";width: 100%;border-bottom: 1px solid gray;flex-grow: 1;}#sk-container-id-2 div.sk-label:hover label.sk-toggleable__label {background-color: #d4ebff;}#sk-container-id-2 div.sk-serial::before {content: \"\";position: absolute;border-left: 1px solid gray;box-sizing: border-box;top: 0;bottom: 0;left: 50%;z-index: 0;}#sk-container-id-2 div.sk-serial {display: flex;flex-direction: column;align-items: center;background-color: white;padding-right: 0.2em;padding-left: 0.2em;position: relative;}#sk-container-id-2 div.sk-item {position: relative;z-index: 1;}#sk-container-id-2 div.sk-parallel {display: flex;align-items: stretch;justify-content: center;background-color: white;position: relative;}#sk-container-id-2 div.sk-item::before, #sk-container-id-2 div.sk-parallel-item::before {content: \"\";position: absolute;border-left: 1px solid gray;box-sizing: border-box;top: 0;bottom: 0;left: 50%;z-index: -1;}#sk-container-id-2 div.sk-parallel-item {display: flex;flex-direction: column;z-index: 1;position: relative;background-color: white;}#sk-container-id-2 div.sk-parallel-item:first-child::after {align-self: flex-end;width: 50%;}#sk-container-id-2 div.sk-parallel-item:last-child::after {align-self: flex-start;width: 50%;}#sk-container-id-2 div.sk-parallel-item:only-child::after {width: 0;}#sk-container-id-2 div.sk-dashed-wrapped {border: 1px dashed gray;margin: 0 0.4em 0.5em 0.4em;box-sizing: border-box;padding-bottom: 0.4em;background-color: white;}#sk-container-id-2 div.sk-label label {font-family: monospace;font-weight: bold;display: inline-block;line-height: 1.2em;}#sk-container-id-2 div.sk-label-container {text-align: center;}#sk-container-id-2 div.sk-container {/* jupyter's `normalize.less` sets `[hidden] { display: none; }` but bootstrap.min.css set `[hidden] { display: none !important; }` so we also need the `!important` here to be able to override the default hidden behavior on the sphinx rendered scikit-learn.org. See: https://github.com/scikit-learn/scikit-learn/issues/21755 */display: inline-block !important;position: relative;}#sk-container-id-2 div.sk-text-repr-fallback {display: none;}</style><div id=\"sk-container-id-2\" class=\"sk-top-container\"><div class=\"sk-text-repr-fallback\"><pre>KNeighborsRegressor(n_neighbors=1)</pre><b>In a Jupyter environment, please rerun this cell to show the HTML representation or trust the notebook. <br />On GitHub, the HTML representation is unable to render, please try loading this page with nbviewer.org.</b></div><div class=\"sk-container\" hidden><div class=\"sk-item\"><div class=\"sk-estimator sk-toggleable\"><input class=\"sk-toggleable__control sk-hidden--visually\" id=\"sk-estimator-id-2\" type=\"checkbox\" checked><label for=\"sk-estimator-id-2\" class=\"sk-toggleable__label sk-toggleable__label-arrow\">KNeighborsRegressor</label><div class=\"sk-toggleable__content\"><pre>KNeighborsRegressor(n_neighbors=1)</pre></div></div></div></div></div>"
            ],
            "text/plain": [
              "KNeighborsRegressor(n_neighbors=1)"
            ]
          },
          "execution_count": 6,
          "metadata": {},
          "output_type": "execute_result"
        }
      ],
      "source": [
        "baseline_knn = KNeighborsRegressor(n_neighbors=1)\n",
        "baseline_knn.fit(X_train, y_train)"
      ]
    },
    {
      "cell_type": "markdown",
      "metadata": {
        "id": "_VtthNkwWP8W"
      },
      "source": [
        "Making predictions"
      ]
    },
    {
      "cell_type": "code",
      "execution_count": 7,
      "metadata": {
        "id": "22Jkw1JE3v02"
      },
      "outputs": [],
      "source": [
        "baseline_tree_pred = baseline_tree.predict(X_test)\n",
        "baseline_knn_pred = baseline_knn.predict(X_test)"
      ]
    },
    {
      "cell_type": "markdown",
      "metadata": {
        "id": "KDc3SP46zI_F"
      },
      "source": [
        "In this evaluation, we will utilise R-squared to assess our models' performance and gauge the impact of our feature selection process. While having a primary metric is recommended, exploring multiple metrics can provide diverse insights into the model's behavior. Therefore, feel free to explore alternative evaluation metrics to gain a more comprehensive understanding of your model's strengths and weaknesses."
      ]
    },
    {
      "cell_type": "code",
      "execution_count": 8,
      "metadata": {
        "colab": {
          "base_uri": "https://localhost:8080/",
          "height": 81
        },
        "id": "ep1MhPH0UnOX",
        "outputId": "84976615-6458-4cc1-852c-d0c0684bbae1"
      },
      "outputs": [
        {
          "data": {
            "text/html": [
              "<div>\n",
              "<style scoped>\n",
              "    .dataframe tbody tr th:only-of-type {\n",
              "        vertical-align: middle;\n",
              "    }\n",
              "\n",
              "    .dataframe tbody tr th {\n",
              "        vertical-align: top;\n",
              "    }\n",
              "\n",
              "    .dataframe thead th {\n",
              "        text-align: right;\n",
              "    }\n",
              "</style>\n",
              "<table border=\"1\" class=\"dataframe\">\n",
              "  <thead>\n",
              "    <tr style=\"text-align: right;\">\n",
              "      <th></th>\n",
              "      <th>decision_tree</th>\n",
              "      <th>knn</th>\n",
              "    </tr>\n",
              "  </thead>\n",
              "  <tbody>\n",
              "    <tr>\n",
              "      <th>baseline</th>\n",
              "      <td>0.806073</td>\n",
              "      <td>-1.010195</td>\n",
              "    </tr>\n",
              "  </tbody>\n",
              "</table>\n",
              "</div>"
            ],
            "text/plain": [
              "          decision_tree       knn\n",
              "baseline       0.806073 -1.010195"
            ]
          },
          "execution_count": 8,
          "metadata": {},
          "output_type": "execute_result"
        }
      ],
      "source": [
        "baseline_tree_r2 = r2_score(y_test, baseline_tree_pred)\n",
        "baseline_knn_r2 = r2_score(y_test, baseline_knn_pred)\n",
        "\n",
        "performances = pd.DataFrame({'decision_tree': baseline_tree_r2,\n",
        "                             'knn': baseline_knn_r2},\n",
        "                            index=['baseline'])\n",
        "\n",
        "performances"
      ]
    },
    {
      "cell_type": "markdown",
      "metadata": {
        "id": "PDsgNTYxkRDu"
      },
      "source": [
        "You can already see how a Decision Tree handles a noisy dataset much better than K-Nearest Neighbors. Decision Trees selectively consider only the \"best\" features in the algorithm, while K-Nearest Neighbors treats all features equally. However, it's essential to remember that the Decision Tree might not always be the better choice; after preprocessing, K-Nearest Neighbors could potentially perform better.\n",
        "\n",
        "> **Note:** A negative R-squared score suggests that the KNN model performs worse than a horizontal line, indicating that it fails to capture any meaningful relationships between the input features and the target variable."
      ]
    },
    {
      "cell_type": "markdown",
      "metadata": {
        "id": "5H8Nj9ScgiTD"
      },
      "source": [
        "---\n",
        "## 5.&nbsp;Feature selection based only on features 🔨"
      ]
    },
    {
      "cell_type": "markdown",
      "metadata": {
        "id": "z0t0uEpPzI_G"
      },
      "source": [
        "### 5.1.&nbsp;Variance Threshold\n",
        "\n",
        "Features with low variance carry limited information, and with this transformer, we can eliminate those features by setting a threshold. Any feature with a variance below this threshold will be dropped from the dataset. It's essential to consider that column variance is influenced by its scale; while most columns in our dataset have a small range, features 25 and 26 stand out with more significant variability.\n",
        "\n",
        "Let's first look at the range and variance of the columns."
      ]
    },
    {
      "cell_type": "code",
      "execution_count": 9,
      "metadata": {
        "id": "TXYulN6bmWnc"
      },
      "outputs": [],
      "source": [
        "range_var_df = (pd.DataFrame({\n",
        "                'Range': X_train.max() - X_train.min(),\n",
        "                'Variance': X_train.var()})\n",
        "                .sort_values(by='Variance'))"
      ]
    },
    {
      "cell_type": "code",
      "execution_count": 10,
      "metadata": {
        "colab": {
          "base_uri": "https://localhost:8080/",
          "height": 206
        },
        "id": "p3SEr70n130B",
        "outputId": "57d5627e-a1f5-47c0-f59b-009938f2da0c"
      },
      "outputs": [
        {
          "data": {
            "text/html": [
              "<div>\n",
              "<style scoped>\n",
              "    .dataframe tbody tr th:only-of-type {\n",
              "        vertical-align: middle;\n",
              "    }\n",
              "\n",
              "    .dataframe tbody tr th {\n",
              "        vertical-align: top;\n",
              "    }\n",
              "\n",
              "    .dataframe thead th {\n",
              "        text-align: right;\n",
              "    }\n",
              "</style>\n",
              "<table border=\"1\" class=\"dataframe\">\n",
              "  <thead>\n",
              "    <tr style=\"text-align: right;\">\n",
              "      <th></th>\n",
              "      <th>Range</th>\n",
              "      <th>Variance</th>\n",
              "    </tr>\n",
              "  </thead>\n",
              "  <tbody>\n",
              "    <tr>\n",
              "      <th>feature_28</th>\n",
              "      <td>0.000000</td>\n",
              "      <td>0.000000</td>\n",
              "    </tr>\n",
              "    <tr>\n",
              "      <th>feature_27</th>\n",
              "      <td>0.000000</td>\n",
              "      <td>0.000000</td>\n",
              "    </tr>\n",
              "    <tr>\n",
              "      <th>feature_29</th>\n",
              "      <td>0.100000</td>\n",
              "      <td>0.000013</td>\n",
              "    </tr>\n",
              "    <tr>\n",
              "      <th>feature_4</th>\n",
              "      <td>0.084589</td>\n",
              "      <td>0.000134</td>\n",
              "    </tr>\n",
              "    <tr>\n",
              "      <th>feature_2</th>\n",
              "      <td>0.080179</td>\n",
              "      <td>0.000136</td>\n",
              "    </tr>\n",
              "  </tbody>\n",
              "</table>\n",
              "</div>"
            ],
            "text/plain": [
              "               Range  Variance\n",
              "feature_28  0.000000  0.000000\n",
              "feature_27  0.000000  0.000000\n",
              "feature_29  0.100000  0.000013\n",
              "feature_4   0.084589  0.000134\n",
              "feature_2   0.080179  0.000136"
            ]
          },
          "execution_count": 10,
          "metadata": {},
          "output_type": "execute_result"
        }
      ],
      "source": [
        "range_var_df.head()"
      ]
    },
    {
      "cell_type": "code",
      "execution_count": 11,
      "metadata": {
        "colab": {
          "base_uri": "https://localhost:8080/",
          "height": 206
        },
        "id": "aVPh1qJxk6J6",
        "outputId": "77a439c0-0fd9-40cc-bb94-9f4faeb7b571"
      },
      "outputs": [
        {
          "data": {
            "text/html": [
              "<div>\n",
              "<style scoped>\n",
              "    .dataframe tbody tr th:only-of-type {\n",
              "        vertical-align: middle;\n",
              "    }\n",
              "\n",
              "    .dataframe tbody tr th {\n",
              "        vertical-align: top;\n",
              "    }\n",
              "\n",
              "    .dataframe thead th {\n",
              "        text-align: right;\n",
              "    }\n",
              "</style>\n",
              "<table border=\"1\" class=\"dataframe\">\n",
              "  <thead>\n",
              "    <tr style=\"text-align: right;\">\n",
              "      <th></th>\n",
              "      <th>Range</th>\n",
              "      <th>Variance</th>\n",
              "    </tr>\n",
              "  </thead>\n",
              "  <tbody>\n",
              "    <tr>\n",
              "      <th>feature_5</th>\n",
              "      <td>0.112041</td>\n",
              "      <td>0.000342</td>\n",
              "    </tr>\n",
              "    <tr>\n",
              "      <th>feature_14</th>\n",
              "      <td>0.125454</td>\n",
              "      <td>0.000366</td>\n",
              "    </tr>\n",
              "    <tr>\n",
              "      <th>feature_13</th>\n",
              "      <td>0.146743</td>\n",
              "      <td>0.000426</td>\n",
              "    </tr>\n",
              "    <tr>\n",
              "      <th>feature_25</th>\n",
              "      <td>7.412498</td>\n",
              "      <td>1.206981</td>\n",
              "    </tr>\n",
              "    <tr>\n",
              "      <th>feature_26</th>\n",
              "      <td>25.429091</td>\n",
              "      <td>14.743576</td>\n",
              "    </tr>\n",
              "  </tbody>\n",
              "</table>\n",
              "</div>"
            ],
            "text/plain": [
              "                Range   Variance\n",
              "feature_5    0.112041   0.000342\n",
              "feature_14   0.125454   0.000366\n",
              "feature_13   0.146743   0.000426\n",
              "feature_25   7.412498   1.206981\n",
              "feature_26  25.429091  14.743576"
            ]
          },
          "execution_count": 11,
          "metadata": {},
          "output_type": "execute_result"
        }
      ],
      "source": [
        "range_var_df.tail()"
      ]
    },
    {
      "cell_type": "markdown",
      "metadata": {
        "id": "v7Kew9A4ooMn"
      },
      "source": [
        "The large variance observed in columns 25 and 26 could be attributed to their wider value range. It's important to note that this makes a direct comparison of their variances with other columns less meaningful due to the scale differences. Therefore, **it's a good idea to scale the features before removing those with the smallest variance**."
      ]
    },
    {
      "cell_type": "markdown",
      "metadata": {
        "id": "kl6FnwbNfEy6"
      },
      "source": [
        "#### 5.1.1.&nbsp;Scaling the data\n",
        "\n",
        "Certain scaling processes can result in transforming features to have the same variance, like the standard scaler, which changes the standard deviation to 1. However, this is **not** our desired outcome. We need to choose a scaler that preserves variance, and for this purpose, we will use min-max scaling."
      ]
    },
    {
      "cell_type": "code",
      "execution_count": 12,
      "metadata": {
        "id": "DpXBR0usfevC"
      },
      "outputs": [],
      "source": [
        "# Initialize the scaler.\n",
        "my_scaler = MinMaxScaler().set_output(transform=\"pandas\")\n",
        "\n",
        "# Fit the scaler to X_train and transform the values.\n",
        "X_train_scaled = my_scaler.fit_transform(X_train)"
      ]
    },
    {
      "cell_type": "markdown",
      "metadata": {
        "id": "3_3Sr1t4rBWi"
      },
      "source": [
        "Let's examine how the scaling impacted the range and variance of our columns, with a specific focus on columns 25 and 26."
      ]
    },
    {
      "cell_type": "code",
      "execution_count": 13,
      "metadata": {
        "colab": {
          "base_uri": "https://localhost:8080/",
          "height": 1000
        },
        "id": "Ufjh4FN5f50c",
        "outputId": "74466454-8356-4c82-abbd-87ba285eb340"
      },
      "outputs": [
        {
          "data": {
            "text/html": [
              "<div>\n",
              "<style scoped>\n",
              "    .dataframe tbody tr th:only-of-type {\n",
              "        vertical-align: middle;\n",
              "    }\n",
              "\n",
              "    .dataframe tbody tr th {\n",
              "        vertical-align: top;\n",
              "    }\n",
              "\n",
              "    .dataframe thead th {\n",
              "        text-align: right;\n",
              "    }\n",
              "</style>\n",
              "<table border=\"1\" class=\"dataframe\">\n",
              "  <thead>\n",
              "    <tr style=\"text-align: right;\">\n",
              "      <th></th>\n",
              "      <th>Range</th>\n",
              "      <th>Variance</th>\n",
              "    </tr>\n",
              "  </thead>\n",
              "  <tbody>\n",
              "    <tr>\n",
              "      <th>feature_28</th>\n",
              "      <td>0.0</td>\n",
              "      <td>0.000000</td>\n",
              "    </tr>\n",
              "    <tr>\n",
              "      <th>feature_27</th>\n",
              "      <td>0.0</td>\n",
              "      <td>0.000000</td>\n",
              "    </tr>\n",
              "    <tr>\n",
              "      <th>feature_29</th>\n",
              "      <td>1.0</td>\n",
              "      <td>0.001250</td>\n",
              "    </tr>\n",
              "    <tr>\n",
              "      <th>feature_9</th>\n",
              "      <td>1.0</td>\n",
              "      <td>0.015667</td>\n",
              "    </tr>\n",
              "    <tr>\n",
              "      <th>feature_22</th>\n",
              "      <td>1.0</td>\n",
              "      <td>0.016657</td>\n",
              "    </tr>\n",
              "    <tr>\n",
              "      <th>feature_4</th>\n",
              "      <td>1.0</td>\n",
              "      <td>0.018682</td>\n",
              "    </tr>\n",
              "    <tr>\n",
              "      <th>feature_13</th>\n",
              "      <td>1.0</td>\n",
              "      <td>0.019783</td>\n",
              "    </tr>\n",
              "    <tr>\n",
              "      <th>feature_2</th>\n",
              "      <td>1.0</td>\n",
              "      <td>0.021117</td>\n",
              "    </tr>\n",
              "    <tr>\n",
              "      <th>feature_0</th>\n",
              "      <td>1.0</td>\n",
              "      <td>0.021403</td>\n",
              "    </tr>\n",
              "    <tr>\n",
              "      <th>feature_12</th>\n",
              "      <td>1.0</td>\n",
              "      <td>0.021515</td>\n",
              "    </tr>\n",
              "    <tr>\n",
              "      <th>feature_6</th>\n",
              "      <td>1.0</td>\n",
              "      <td>0.021541</td>\n",
              "    </tr>\n",
              "    <tr>\n",
              "      <th>feature_8</th>\n",
              "      <td>1.0</td>\n",
              "      <td>0.021795</td>\n",
              "    </tr>\n",
              "    <tr>\n",
              "      <th>feature_25</th>\n",
              "      <td>1.0</td>\n",
              "      <td>0.021967</td>\n",
              "    </tr>\n",
              "    <tr>\n",
              "      <th>feature_1</th>\n",
              "      <td>1.0</td>\n",
              "      <td>0.022678</td>\n",
              "    </tr>\n",
              "    <tr>\n",
              "      <th>feature_26</th>\n",
              "      <td>1.0</td>\n",
              "      <td>0.022800</td>\n",
              "    </tr>\n",
              "    <tr>\n",
              "      <th>feature_11</th>\n",
              "      <td>1.0</td>\n",
              "      <td>0.023020</td>\n",
              "    </tr>\n",
              "    <tr>\n",
              "      <th>feature_14</th>\n",
              "      <td>1.0</td>\n",
              "      <td>0.023279</td>\n",
              "    </tr>\n",
              "    <tr>\n",
              "      <th>feature_21</th>\n",
              "      <td>1.0</td>\n",
              "      <td>0.023905</td>\n",
              "    </tr>\n",
              "    <tr>\n",
              "      <th>feature_23</th>\n",
              "      <td>1.0</td>\n",
              "      <td>0.025554</td>\n",
              "    </tr>\n",
              "    <tr>\n",
              "      <th>feature_20</th>\n",
              "      <td>1.0</td>\n",
              "      <td>0.025556</td>\n",
              "    </tr>\n",
              "    <tr>\n",
              "      <th>feature_31</th>\n",
              "      <td>1.0</td>\n",
              "      <td>0.025653</td>\n",
              "    </tr>\n",
              "    <tr>\n",
              "      <th>feature_3</th>\n",
              "      <td>1.0</td>\n",
              "      <td>0.026132</td>\n",
              "    </tr>\n",
              "    <tr>\n",
              "      <th>feature_30</th>\n",
              "      <td>1.0</td>\n",
              "      <td>0.026132</td>\n",
              "    </tr>\n",
              "    <tr>\n",
              "      <th>feature_10</th>\n",
              "      <td>1.0</td>\n",
              "      <td>0.026331</td>\n",
              "    </tr>\n",
              "    <tr>\n",
              "      <th>feature_5</th>\n",
              "      <td>1.0</td>\n",
              "      <td>0.027207</td>\n",
              "    </tr>\n",
              "    <tr>\n",
              "      <th>feature_17</th>\n",
              "      <td>1.0</td>\n",
              "      <td>0.027359</td>\n",
              "    </tr>\n",
              "    <tr>\n",
              "      <th>feature_7</th>\n",
              "      <td>1.0</td>\n",
              "      <td>0.027464</td>\n",
              "    </tr>\n",
              "    <tr>\n",
              "      <th>feature_16</th>\n",
              "      <td>1.0</td>\n",
              "      <td>0.028807</td>\n",
              "    </tr>\n",
              "    <tr>\n",
              "      <th>feature_24</th>\n",
              "      <td>1.0</td>\n",
              "      <td>0.029206</td>\n",
              "    </tr>\n",
              "    <tr>\n",
              "      <th>feature_15</th>\n",
              "      <td>1.0</td>\n",
              "      <td>0.029412</td>\n",
              "    </tr>\n",
              "    <tr>\n",
              "      <th>feature_19</th>\n",
              "      <td>1.0</td>\n",
              "      <td>0.029589</td>\n",
              "    </tr>\n",
              "    <tr>\n",
              "      <th>feature_18</th>\n",
              "      <td>1.0</td>\n",
              "      <td>0.031955</td>\n",
              "    </tr>\n",
              "  </tbody>\n",
              "</table>\n",
              "</div>"
            ],
            "text/plain": [
              "            Range  Variance\n",
              "feature_28    0.0  0.000000\n",
              "feature_27    0.0  0.000000\n",
              "feature_29    1.0  0.001250\n",
              "feature_9     1.0  0.015667\n",
              "feature_22    1.0  0.016657\n",
              "feature_4     1.0  0.018682\n",
              "feature_13    1.0  0.019783\n",
              "feature_2     1.0  0.021117\n",
              "feature_0     1.0  0.021403\n",
              "feature_12    1.0  0.021515\n",
              "feature_6     1.0  0.021541\n",
              "feature_8     1.0  0.021795\n",
              "feature_25    1.0  0.021967\n",
              "feature_1     1.0  0.022678\n",
              "feature_26    1.0  0.022800\n",
              "feature_11    1.0  0.023020\n",
              "feature_14    1.0  0.023279\n",
              "feature_21    1.0  0.023905\n",
              "feature_23    1.0  0.025554\n",
              "feature_20    1.0  0.025556\n",
              "feature_31    1.0  0.025653\n",
              "feature_3     1.0  0.026132\n",
              "feature_30    1.0  0.026132\n",
              "feature_10    1.0  0.026331\n",
              "feature_5     1.0  0.027207\n",
              "feature_17    1.0  0.027359\n",
              "feature_7     1.0  0.027464\n",
              "feature_16    1.0  0.028807\n",
              "feature_24    1.0  0.029206\n",
              "feature_15    1.0  0.029412\n",
              "feature_19    1.0  0.029589\n",
              "feature_18    1.0  0.031955"
            ]
          },
          "execution_count": 13,
          "metadata": {},
          "output_type": "execute_result"
        }
      ],
      "source": [
        "(\n",
        "  pd.DataFrame({\n",
        "  'Range': X_train_scaled.max() - X_train_scaled.min(),\n",
        "  'Variance': X_train_scaled.var()})\n",
        "  .sort_values(by='Variance')\n",
        ")"
      ]
    },
    {
      "cell_type": "markdown",
      "metadata": {
        "id": "hqfLJ19EhZku"
      },
      "source": [
        "After scaling features 25 and 26 no longer have the largest variances. Now, we can proceed with applying the `VarianceThreshold` transformation.\n",
        "\n",
        "All features with a smaller variance than the `threshold` will be deleted from the dataset."
      ]
    },
    {
      "cell_type": "code",
      "execution_count": 14,
      "metadata": {
        "id": "Sr3DuYuIzI_G"
      },
      "outputs": [],
      "source": [
        "selector = VarianceThreshold(threshold=0.02)\n",
        "\n",
        "X_train_var = selector.fit_transform(X_train_scaled)"
      ]
    },
    {
      "cell_type": "markdown",
      "metadata": {
        "id": "hpQgU0cpzI_G"
      },
      "source": [
        "Let's check how many features were dropped:"
      ]
    },
    {
      "cell_type": "code",
      "execution_count": 15,
      "metadata": {
        "colab": {
          "base_uri": "https://localhost:8080/"
        },
        "id": "DXfb5Am2zI_G",
        "outputId": "3dccc117-bdbd-4304-b99a-5913116b76c2"
      },
      "outputs": [
        {
          "name": "stdout",
          "output_type": "stream",
          "text": [
            "shape before: (800, 32)\n",
            "shape after: (800, 25)\n"
          ]
        }
      ],
      "source": [
        "print(\"shape before:\", X_train_scaled.shape)\n",
        "print(\"shape after:\", X_train_var.shape)"
      ]
    },
    {
      "cell_type": "markdown",
      "metadata": {
        "id": "nZxxJ3I3h5Iz"
      },
      "source": [
        "We have dropped `7` features using a threshold of `0.02`. Feel free to adjust the threshold if you wish to drop more or fewer features.\n",
        "\n",
        "> **Note:** It's generally not advisable to drop many features with this transformer, as some features might contain crucial information, even if they have low variance. For instance, consider a feature in the Housing dataset representing the number of \"Private Helicopters.\" Though it may have a small variance due to most houses having `0` helicopters, the presence of one helicopter can significantly impact the house price. Hence, it's essential to be cautious when dropping features, and it is usually safe to remove only features with zero variance as they offer no valuable information."
      ]
    },
    {
      "cell_type": "markdown",
      "metadata": {
        "id": "8PL8LNcJzI_H"
      },
      "source": [
        "The next step: make sure to transform the test set using the `transform` method. Remember to avoid using the `fit_transform` method, as it is reserved exclusively for the train set. This way, you ensure proper feature scaling without introducing data leakage from the test set into the model."
      ]
    },
    {
      "cell_type": "code",
      "execution_count": 16,
      "metadata": {
        "id": "3xbAqRRfzI_H"
      },
      "outputs": [],
      "source": [
        "# Scale the test set\n",
        "X_test_scaled = my_scaler.transform(X_test)\n",
        "\n",
        "# Apply the variance threshold to the scaled test set\n",
        "X_test_var = selector.transform(X_test_scaled)"
      ]
    },
    {
      "cell_type": "markdown",
      "metadata": {
        "id": "ciMiudpbiTlw"
      },
      "source": [
        "Let's check how well our model performs with the new dataset."
      ]
    },
    {
      "cell_type": "code",
      "execution_count": 39,
      "metadata": {
        "colab": {
          "base_uri": "https://localhost:8080/",
          "height": 112
        },
        "id": "CJVidBS_3pIN",
        "outputId": "6b1ca54f-6d6d-451e-98aa-fc462ea12c8b"
      },
      "outputs": [
        {
          "data": {
            "text/html": [
              "<div>\n",
              "<style scoped>\n",
              "    .dataframe tbody tr th:only-of-type {\n",
              "        vertical-align: middle;\n",
              "    }\n",
              "\n",
              "    .dataframe tbody tr th {\n",
              "        vertical-align: top;\n",
              "    }\n",
              "\n",
              "    .dataframe thead th {\n",
              "        text-align: right;\n",
              "    }\n",
              "</style>\n",
              "<table border=\"1\" class=\"dataframe\">\n",
              "  <thead>\n",
              "    <tr style=\"text-align: right;\">\n",
              "      <th></th>\n",
              "      <th>decision_tree</th>\n",
              "      <th>knn</th>\n",
              "    </tr>\n",
              "  </thead>\n",
              "  <tbody>\n",
              "    <tr>\n",
              "      <th>baseline</th>\n",
              "      <td>0.806073</td>\n",
              "      <td>-1.010195</td>\n",
              "    </tr>\n",
              "    <tr>\n",
              "      <th>varThreshold_0_02</th>\n",
              "      <td>0.532864</td>\n",
              "      <td>0.180197</td>\n",
              "    </tr>\n",
              "    <tr>\n",
              "      <th>varThreshold_0_00</th>\n",
              "      <td>0.805721</td>\n",
              "      <td>0.338966</td>\n",
              "    </tr>\n",
              "    <tr>\n",
              "      <th>collinearity</th>\n",
              "      <td>0.805208</td>\n",
              "      <td>-0.980851</td>\n",
              "    </tr>\n",
              "    <tr>\n",
              "      <th>KBest_10</th>\n",
              "      <td>0.833333</td>\n",
              "      <td>0.606619</td>\n",
              "    </tr>\n",
              "    <tr>\n",
              "      <th>RFE</th>\n",
              "      <td>0.866475</td>\n",
              "      <td>NaN</td>\n",
              "    </tr>\n",
              "    <tr>\n",
              "      <th>model_selected</th>\n",
              "      <td>0.874201</td>\n",
              "      <td>0.922235</td>\n",
              "    </tr>\n",
              "  </tbody>\n",
              "</table>\n",
              "</div>"
            ],
            "text/plain": [
              "                   decision_tree       knn\n",
              "baseline                0.806073 -1.010195\n",
              "varThreshold_0_02       0.532864  0.180197\n",
              "varThreshold_0_00       0.805721  0.338966\n",
              "collinearity            0.805208 -0.980851\n",
              "KBest_10                0.833333  0.606619\n",
              "RFE                     0.866475       NaN\n",
              "model_selected          0.874201  0.922235"
            ]
          },
          "execution_count": 39,
          "metadata": {},
          "output_type": "execute_result"
        }
      ],
      "source": [
        "# Decision tree.\n",
        "var_tree = DecisionTreeRegressor()\n",
        "var_tree.fit(X_train_var, y_train)\n",
        "var_tree_pred = var_tree.predict(X_test_var)\n",
        "\n",
        "# K-Nearest Neighbors.\n",
        "var_knn = KNeighborsRegressor(n_neighbors=1)\n",
        "var_knn.fit(X_train_var, y_train)\n",
        "var_knn_pred = var_knn.predict(X_test_var)\n",
        "\n",
        "performances.loc[\"varThreshold_0_02\", \"decision_tree\"] = r2_score(y_test, var_tree_pred)\n",
        "performances.loc[\"varThreshold_0_02\", \"knn\"] = r2_score(y_test, var_knn_pred)\n",
        "\n",
        "performances"
      ]
    },
    {
      "cell_type": "markdown",
      "metadata": {
        "id": "aCeDaY48PNNv"
      },
      "source": [
        "Although the performance of our K-Nearest Neighbors model improved, the Decision Tree model's performance degraded significantly, implying that the dropped columns contained valuable information. Such outcomes are not uncommon when using the variance threshold.\n",
        "\n",
        "Let's repeat the process with a more conservative threshold to explore if it makes a difference in preserving important features."
      ]
    },
    {
      "cell_type": "markdown",
      "metadata": {
        "id": "Ddy3IwrJnhoO"
      },
      "source": [
        "#### 5.1.2.&nbsp;Scaling the data: 2nd iteration\n",
        "Set the threshold to 0, meaning we will remove only those columns with zero variance. This will help us eliminate features that carry no valuable information."
      ]
    },
    {
      "cell_type": "code",
      "execution_count": 18,
      "metadata": {
        "colab": {
          "base_uri": "https://localhost:8080/"
        },
        "id": "wTuTdNZenHZW",
        "outputId": "eb13f664-5487-4e42-f6c5-5413a3aedd4b"
      },
      "outputs": [
        {
          "name": "stdout",
          "output_type": "stream",
          "text": [
            "shape before: (800, 32)\n",
            "shape after: (800, 30)\n"
          ]
        }
      ],
      "source": [
        "selector2 = VarianceThreshold(threshold=0).set_output(transform=\"pandas\")\n",
        "X_train_var2 = selector2.fit_transform(X_train_scaled)\n",
        "\n",
        "print(\"shape before:\", X_train_scaled.shape)\n",
        "print(\"shape after:\", X_train_var2.shape)"
      ]
    },
    {
      "cell_type": "markdown",
      "metadata": {
        "id": "Rao3_kFznhTh"
      },
      "source": [
        "We have only dropped 2 features that had zero variance. Let's see how this impacts performance."
      ]
    },
    {
      "cell_type": "code",
      "execution_count": 19,
      "metadata": {
        "id": "dA0JVgUZofO3"
      },
      "outputs": [],
      "source": [
        "X_test_var2 = selector2.transform(X_test_scaled)"
      ]
    },
    {
      "cell_type": "code",
      "execution_count": 20,
      "metadata": {
        "colab": {
          "base_uri": "https://localhost:8080/",
          "height": 143
        },
        "id": "RVun-jXwiR5B",
        "outputId": "d5150fc6-f47e-4d83-8374-1be3efdda420"
      },
      "outputs": [
        {
          "data": {
            "text/html": [
              "<div>\n",
              "<style scoped>\n",
              "    .dataframe tbody tr th:only-of-type {\n",
              "        vertical-align: middle;\n",
              "    }\n",
              "\n",
              "    .dataframe tbody tr th {\n",
              "        vertical-align: top;\n",
              "    }\n",
              "\n",
              "    .dataframe thead th {\n",
              "        text-align: right;\n",
              "    }\n",
              "</style>\n",
              "<table border=\"1\" class=\"dataframe\">\n",
              "  <thead>\n",
              "    <tr style=\"text-align: right;\">\n",
              "      <th></th>\n",
              "      <th>decision_tree</th>\n",
              "      <th>knn</th>\n",
              "    </tr>\n",
              "  </thead>\n",
              "  <tbody>\n",
              "    <tr>\n",
              "      <th>baseline</th>\n",
              "      <td>0.806073</td>\n",
              "      <td>-1.010195</td>\n",
              "    </tr>\n",
              "    <tr>\n",
              "      <th>varThreshold_0_02</th>\n",
              "      <td>0.585735</td>\n",
              "      <td>0.180197</td>\n",
              "    </tr>\n",
              "    <tr>\n",
              "      <th>varThreshold_0_00</th>\n",
              "      <td>0.805721</td>\n",
              "      <td>0.338966</td>\n",
              "    </tr>\n",
              "  </tbody>\n",
              "</table>\n",
              "</div>"
            ],
            "text/plain": [
              "                   decision_tree       knn\n",
              "baseline                0.806073 -1.010195\n",
              "varThreshold_0_02       0.585735  0.180197\n",
              "varThreshold_0_00       0.805721  0.338966"
            ]
          },
          "execution_count": 20,
          "metadata": {},
          "output_type": "execute_result"
        }
      ],
      "source": [
        "# Decision tree.\n",
        "var2_tree = DecisionTreeRegressor()\n",
        "var2_tree.fit(X_train_var2, y_train)\n",
        "var2_tree_pred = var2_tree.predict(X_test_var2)\n",
        "\n",
        "# K-Nearest Neighbors.\n",
        "var2_knn = KNeighborsRegressor(n_neighbors=1)\n",
        "var2_knn.fit(X_train_var2, y_train)\n",
        "var2_knn_pred = var2_knn.predict(X = X_test_var2)\n",
        "\n",
        "performances.loc[\"varThreshold_0_00\", \"decision_tree\"] = r2_score(y_test, var2_tree_pred)\n",
        "performances.loc[\"varThreshold_0_00\", \"knn\"] = r2_score(y_test, var2_knn_pred)\n",
        "\n",
        "performances"
      ]
    },
    {
      "cell_type": "markdown",
      "metadata": {
        "id": "osnfU5oTzp9N"
      },
      "source": [
        "That's made an improvement in both models!"
      ]
    },
    {
      "cell_type": "markdown",
      "metadata": {
        "id": "8tgTb94wzI_H"
      },
      "source": [
        "### 5.2.&nbsp; Collinearity\n",
        "\n",
        "Features that have a perfect (or extremely high) correlation with each other can be considered to be the same feature. We want to drop one of them. Let's first explore the pairwise correlations between all features.\n",
        "\n",
        "To quickly identify highly correlated columns, we can create a heatmap displaying their correlations, allowing us to easily spot extreme values."
      ]
    },
    {
      "cell_type": "code",
      "execution_count": 21,
      "metadata": {
        "colab": {
          "base_uri": "https://localhost:8080/",
          "height": 1000
        },
        "id": "0EL8t8sp1h1g",
        "outputId": "83c0e254-65fa-4bcc-e774-eea6fe635b60"
      },
      "outputs": [
        {
          "name": "stderr",
          "output_type": "stream",
          "text": [
            "c:\\Users\\Marvin\\miniconda3\\envs\\myenv\\lib\\site-packages\\seaborn\\matrix.py:260: FutureWarning: Format strings passed to MaskedConstant are ignored, but in future may error or produce different behavior\n",
            "  annotation = (\"{:\" + self.fmt + \"}\").format(val)\n"
          ]
        },
        {
          "data": {
            "image/png": "[encoded data removed]",
            "text/plain": [
              "<Figure size 1800x1800 with 2 Axes>"
            ]
          },
          "metadata": {},
          "output_type": "display_data"
        }
      ],
      "source": [
        "# Calculate the absolute correlation matrix for the feature matrix X_train_var2\n",
        "corrMatrix = X_train.corr().abs()\n",
        "\n",
        "# Set the size of the heatmap to be 18x18 inches\n",
        "plt.figure(figsize=(18, 18))\n",
        "\n",
        "# Create a heatmap using Seaborn (sns) to visualize the correlation matrix\n",
        "# 'annot=True' adds the correlation values to the cells for better readability\n",
        "# 'cmap='coolwarm'' specifies the color map to be used, with warm colors (red) for positive correlations\n",
        "# and cool colors (blue) for negative correlations\n",
        "# 'linewidths' sets the width of the white lines around the squares\n",
        "sns.heatmap(corrMatrix,\n",
        "            annot=True,\n",
        "            cmap='coolwarm',\n",
        "            linewidths=0.5);"
      ]
    },
    {
      "cell_type": "markdown",
      "metadata": {
        "id": "oop9srSTVH5d"
      },
      "source": [
        ">**Note:** Columns 27 and 28 do not appear in the heatmap because they have 0 variance, meaning all their values are the same. When calculating the correlation coefficient, the denominator is the standard deviation of the column. As the standard deviation of these columns is 0, division by 0 occurs, resulting in NaN values.\n",
        "\n",
        "From the heatmap we can see how there is a pair of columns with a _perfect_  correlation (`1`) and another pair of columns with a very high correlation (`0.96`). The rest of the correlation coefficients are much smaller and can be neglected at this stage.\n",
        "\n",
        "If you have too many column to view on a heatmap, we can loop through the columns to identify the correlated columns."
      ]
    },
    {
      "cell_type": "code",
      "execution_count": 22,
      "metadata": {
        "colab": {
          "base_uri": "https://localhost:8080/"
        },
        "id": "2XmR_O9CI7pd",
        "outputId": "01a5971a-efd7-4ef1-8a06-1a54dfe4a941"
      },
      "outputs": [
        {
          "name": "stdout",
          "output_type": "stream",
          "text": [
            "Highly correlated columns: [('feature_3', 'feature_30', 'correlation = 1.0'), ('feature_8', 'feature_31', 'correlation = 0.96')]\n"
          ]
        }
      ],
      "source": [
        "# Set the correlation threshold to consider columns as highly correlated\n",
        "correlation_threshold = 0.95\n",
        "\n",
        "# Initialise an empty list to store the pairs of highly correlated columns\n",
        "highly_correlated_columns = []\n",
        "\n",
        "# Get the number of features (columns) in the correlation matrix\n",
        "num_features = len(corrMatrix.columns)\n",
        "\n",
        "# Loop through the upper triangle of the correlation matrix to find highly correlated columns\n",
        "# Note: We start from i+1 to avoid redundancy as correlation_matrix is symmetric\n",
        "for i in range(num_features):\n",
        "    for j in range(i + 1, num_features):\n",
        "        # Check if the correlation value between columns i and j is greater than or equal to the threshold\n",
        "        if corrMatrix.iloc[i, j] >= correlation_threshold:\n",
        "            # Append the tuple (column_i, column_j) to the list of highly correlated columns\n",
        "            highly_correlated_columns.append((corrMatrix.columns[i], corrMatrix.columns[j], f\"correlation = {round(corrMatrix.iloc[i, j], 2)}\"))\n",
        "\n",
        "# Print the pairs of highly correlated columns\n",
        "print(\"Highly correlated columns:\", highly_correlated_columns)"
      ]
    },
    {
      "cell_type": "markdown",
      "metadata": {
        "id": "B4aHwTIUN0AT"
      },
      "source": [
        "Since each tuple in our list contains 2 columns, we need to ensure we drop only one of them."
      ]
    },
    {
      "cell_type": "code",
      "execution_count": 23,
      "metadata": {
        "colab": {
          "base_uri": "https://localhost:8080/"
        },
        "id": "O1s8lyq50yw_",
        "outputId": "84b997ed-94b7-4100-a1c2-c8668f18b42d"
      },
      "outputs": [
        {
          "data": {
            "text/plain": [
              "['feature_3', 'feature_8']"
            ]
          },
          "execution_count": 23,
          "metadata": {},
          "output_type": "execute_result"
        }
      ],
      "source": [
        "to_drop = [element_a for element_a, element_b, element_c in highly_correlated_columns]\n",
        "to_drop"
      ]
    },
    {
      "cell_type": "markdown",
      "metadata": {
        "id": "lDm6IrcEO4Zj"
      },
      "source": [
        "After identifying the columns to drop, we proceed to remove them from both the train and the test sets.\n",
        "> **Note:** Normally students do this outside of the pipeline; with correlation it's hard to include a custom function in the pipeline using [Function Transformer](https://scikit-learn.org/stable/modules/generated/sklearn.preprocessing.FunctionTransformer.html). This is hard to do as it normally removes different columns from the train and test set. The best solution to this is to create a class and include fit and tranform methods in the class. As this is more advanced than our course, please ask you instructor for an example if you're feeling inquisitive."
      ]
    },
    {
      "cell_type": "code",
      "execution_count": 24,
      "metadata": {
        "id": "5hP7e0N5zI_H"
      },
      "outputs": [],
      "source": [
        "# Drop the columns from the train set.\n",
        "X_train_corr = X_train.drop(columns=to_drop).copy()\n",
        "\n",
        "# Drop the columns from the test set.\n",
        "X_test_corr = X_test.drop(columns=to_drop).copy()"
      ]
    },
    {
      "cell_type": "markdown",
      "metadata": {
        "id": "GbeUN1v4PUlA"
      },
      "source": [
        "Let's check the performance again:"
      ]
    },
    {
      "cell_type": "code",
      "execution_count": 25,
      "metadata": {
        "colab": {
          "base_uri": "https://localhost:8080/",
          "height": 175
        },
        "id": "PplQZ5h4zI_H",
        "outputId": "0b9feb26-22d8-4591-c75a-b2a0e331aa33"
      },
      "outputs": [
        {
          "data": {
            "text/html": [
              "<div>\n",
              "<style scoped>\n",
              "    .dataframe tbody tr th:only-of-type {\n",
              "        vertical-align: middle;\n",
              "    }\n",
              "\n",
              "    .dataframe tbody tr th {\n",
              "        vertical-align: top;\n",
              "    }\n",
              "\n",
              "    .dataframe thead th {\n",
              "        text-align: right;\n",
              "    }\n",
              "</style>\n",
              "<table border=\"1\" class=\"dataframe\">\n",
              "  <thead>\n",
              "    <tr style=\"text-align: right;\">\n",
              "      <th></th>\n",
              "      <th>decision_tree</th>\n",
              "      <th>knn</th>\n",
              "    </tr>\n",
              "  </thead>\n",
              "  <tbody>\n",
              "    <tr>\n",
              "      <th>baseline</th>\n",
              "      <td>0.806073</td>\n",
              "      <td>-1.010195</td>\n",
              "    </tr>\n",
              "    <tr>\n",
              "      <th>varThreshold_0_02</th>\n",
              "      <td>0.585735</td>\n",
              "      <td>0.180197</td>\n",
              "    </tr>\n",
              "    <tr>\n",
              "      <th>varThreshold_0_00</th>\n",
              "      <td>0.805721</td>\n",
              "      <td>0.338966</td>\n",
              "    </tr>\n",
              "    <tr>\n",
              "      <th>collinearity</th>\n",
              "      <td>0.805208</td>\n",
              "      <td>-0.980851</td>\n",
              "    </tr>\n",
              "  </tbody>\n",
              "</table>\n",
              "</div>"
            ],
            "text/plain": [
              "                   decision_tree       knn\n",
              "baseline                0.806073 -1.010195\n",
              "varThreshold_0_02       0.585735  0.180197\n",
              "varThreshold_0_00       0.805721  0.338966\n",
              "collinearity            0.805208 -0.980851"
            ]
          },
          "execution_count": 25,
          "metadata": {},
          "output_type": "execute_result"
        }
      ],
      "source": [
        "# Decision tree.\n",
        "corr_tree = DecisionTreeRegressor()\n",
        "corr_tree.fit(X_train_corr, y_train)\n",
        "corr_tree_pred = corr_tree.predict(X_test_corr)\n",
        "\n",
        "# K-Nearest Neighbors.\n",
        "corr_knn = KNeighborsRegressor(n_neighbors=1)\n",
        "corr_knn.fit(X_train_corr, y_train)\n",
        "corr_knn_pred = corr_knn.predict(X_test_corr)\n",
        "\n",
        "performances.loc[\"collinearity\", \"decision_tree\"] = r2_score(y_test, corr_tree_pred)\n",
        "performances.loc[\"collinearity\", \"knn\"] = r2_score(y_test, corr_knn_pred)\n",
        "\n",
        "performances"
      ]
    },
    {
      "cell_type": "markdown",
      "metadata": {
        "id": "lzYLd9LaPd-e"
      },
      "source": [
        "We observe that collinearity had a minor impact compared to our baseline model. However, it did not contribute as significantly to improving the KNN model compared to setting the variance threshold to 0."
      ]
    },
    {
      "cell_type": "markdown",
      "metadata": {
        "id": "Suw9bLttiImA"
      },
      "source": [
        "---\n",
        "## 6.&nbsp;Feature selection based on features and labels 🔧"
      ]
    },
    {
      "cell_type": "markdown",
      "metadata": {
        "id": "QfCthWYVzI_I"
      },
      "source": [
        "### 6.1.&nbsp;K Best\n",
        "\n",
        "Select K Best allows us to use statistical tests like ANOVA or chi2 to rank and select the best features. Refer to the [documentation](https://scikit-learn.org/stable/modules/generated/sklearn.feature_selection.SelectKBest.html) and [user guide](https://scikit-learn.org/stable/modules/feature_selection.html#univariate-feature-selection) to see the model's methods, understand its parameters, and explore examples. If the documentation seems challenging, search for tutorials online.\n",
        "\n",
        "We will have to choose an appropriate statistical test based on the data type: for our regression problem, an f-test will be used. Visit [Ben Lambert's Youtube channel](https://www.youtube.com/watch?v=ie-MYQp1Nic&ab_channel=BenLambert) for detailed explanations and examples on the f-test.\n",
        "\n",
        "In short, Scikit-Learn computes the f-statistic for each univariate linear model (one for each feature). The f-statistic measures how much better the linear model with a single feature predicts compared to using only a constant value. This \"score\" allows us to rank the features.\n",
        "\n",
        "For better understanding, let's run the statistical test and examine the f-statistics of each feature."
      ]
    },
    {
      "cell_type": "code",
      "execution_count": 26,
      "metadata": {
        "colab": {
          "base_uri": "https://localhost:8080/",
          "height": 1000
        },
        "id": "oZWelv-bR2G5",
        "outputId": "74af1bf5-3b57-45ac-b39f-1c59fac61ecd"
      },
      "outputs": [
        {
          "data": {
            "text/html": [
              "<div>\n",
              "<style scoped>\n",
              "    .dataframe tbody tr th:only-of-type {\n",
              "        vertical-align: middle;\n",
              "    }\n",
              "\n",
              "    .dataframe tbody tr th {\n",
              "        vertical-align: top;\n",
              "    }\n",
              "\n",
              "    .dataframe thead th {\n",
              "        text-align: right;\n",
              "    }\n",
              "</style>\n",
              "<table border=\"1\" class=\"dataframe\">\n",
              "  <thead>\n",
              "    <tr style=\"text-align: right;\">\n",
              "      <th></th>\n",
              "      <th>f_stat</th>\n",
              "    </tr>\n",
              "  </thead>\n",
              "  <tbody>\n",
              "    <tr>\n",
              "      <th>feature_16</th>\n",
              "      <td>613.642293</td>\n",
              "    </tr>\n",
              "    <tr>\n",
              "      <th>feature_17</th>\n",
              "      <td>574.378182</td>\n",
              "    </tr>\n",
              "    <tr>\n",
              "      <th>feature_4</th>\n",
              "      <td>317.693750</td>\n",
              "    </tr>\n",
              "    <tr>\n",
              "      <th>feature_18</th>\n",
              "      <td>77.020510</td>\n",
              "    </tr>\n",
              "    <tr>\n",
              "      <th>feature_11</th>\n",
              "      <td>60.709343</td>\n",
              "    </tr>\n",
              "    <tr>\n",
              "      <th>feature_7</th>\n",
              "      <td>53.810295</td>\n",
              "    </tr>\n",
              "    <tr>\n",
              "      <th>feature_1</th>\n",
              "      <td>42.225456</td>\n",
              "    </tr>\n",
              "    <tr>\n",
              "      <th>feature_23</th>\n",
              "      <td>29.215578</td>\n",
              "    </tr>\n",
              "    <tr>\n",
              "      <th>feature_31</th>\n",
              "      <td>19.905804</td>\n",
              "    </tr>\n",
              "    <tr>\n",
              "      <th>feature_20</th>\n",
              "      <td>18.498722</td>\n",
              "    </tr>\n",
              "    <tr>\n",
              "      <th>feature_8</th>\n",
              "      <td>18.314365</td>\n",
              "    </tr>\n",
              "    <tr>\n",
              "      <th>feature_5</th>\n",
              "      <td>12.489108</td>\n",
              "    </tr>\n",
              "    <tr>\n",
              "      <th>feature_19</th>\n",
              "      <td>11.643827</td>\n",
              "    </tr>\n",
              "    <tr>\n",
              "      <th>feature_30</th>\n",
              "      <td>10.921134</td>\n",
              "    </tr>\n",
              "    <tr>\n",
              "      <th>feature_3</th>\n",
              "      <td>10.921134</td>\n",
              "    </tr>\n",
              "    <tr>\n",
              "      <th>feature_10</th>\n",
              "      <td>9.200000</td>\n",
              "    </tr>\n",
              "    <tr>\n",
              "      <th>feature_0</th>\n",
              "      <td>8.530372</td>\n",
              "    </tr>\n",
              "    <tr>\n",
              "      <th>feature_29</th>\n",
              "      <td>8.069818</td>\n",
              "    </tr>\n",
              "    <tr>\n",
              "      <th>feature_2</th>\n",
              "      <td>7.989254</td>\n",
              "    </tr>\n",
              "    <tr>\n",
              "      <th>feature_6</th>\n",
              "      <td>6.552395</td>\n",
              "    </tr>\n",
              "    <tr>\n",
              "      <th>feature_12</th>\n",
              "      <td>6.228320</td>\n",
              "    </tr>\n",
              "    <tr>\n",
              "      <th>feature_21</th>\n",
              "      <td>4.983452</td>\n",
              "    </tr>\n",
              "    <tr>\n",
              "      <th>feature_15</th>\n",
              "      <td>4.538457</td>\n",
              "    </tr>\n",
              "    <tr>\n",
              "      <th>feature_14</th>\n",
              "      <td>3.443300</td>\n",
              "    </tr>\n",
              "    <tr>\n",
              "      <th>feature_9</th>\n",
              "      <td>1.354474</td>\n",
              "    </tr>\n",
              "    <tr>\n",
              "      <th>feature_13</th>\n",
              "      <td>0.915290</td>\n",
              "    </tr>\n",
              "    <tr>\n",
              "      <th>feature_24</th>\n",
              "      <td>0.500308</td>\n",
              "    </tr>\n",
              "    <tr>\n",
              "      <th>feature_26</th>\n",
              "      <td>0.454629</td>\n",
              "    </tr>\n",
              "    <tr>\n",
              "      <th>feature_22</th>\n",
              "      <td>0.421856</td>\n",
              "    </tr>\n",
              "    <tr>\n",
              "      <th>feature_25</th>\n",
              "      <td>0.213110</td>\n",
              "    </tr>\n",
              "    <tr>\n",
              "      <th>feature_27</th>\n",
              "      <td>0.000000</td>\n",
              "    </tr>\n",
              "    <tr>\n",
              "      <th>feature_28</th>\n",
              "      <td>0.000000</td>\n",
              "    </tr>\n",
              "  </tbody>\n",
              "</table>\n",
              "</div>"
            ],
            "text/plain": [
              "                f_stat\n",
              "feature_16  613.642293\n",
              "feature_17  574.378182\n",
              "feature_4   317.693750\n",
              "feature_18   77.020510\n",
              "feature_11   60.709343\n",
              "feature_7    53.810295\n",
              "feature_1    42.225456\n",
              "feature_23   29.215578\n",
              "feature_31   19.905804\n",
              "feature_20   18.498722\n",
              "feature_8    18.314365\n",
              "feature_5    12.489108\n",
              "feature_19   11.643827\n",
              "feature_30   10.921134\n",
              "feature_3    10.921134\n",
              "feature_10    9.200000\n",
              "feature_0     8.530372\n",
              "feature_29    8.069818\n",
              "feature_2     7.989254\n",
              "feature_6     6.552395\n",
              "feature_12    6.228320\n",
              "feature_21    4.983452\n",
              "feature_15    4.538457\n",
              "feature_14    3.443300\n",
              "feature_9     1.354474\n",
              "feature_13    0.915290\n",
              "feature_24    0.500308\n",
              "feature_26    0.454629\n",
              "feature_22    0.421856\n",
              "feature_25    0.213110\n",
              "feature_27    0.000000\n",
              "feature_28    0.000000"
            ]
          },
          "execution_count": 26,
          "metadata": {},
          "output_type": "execute_result"
        }
      ],
      "source": [
        "# Run the univariate (= one feature at a time) linear regression tests.\n",
        "f_stat, _ = f_regression(X_train, y_train)\n",
        "\n",
        "# Create a DataFrame with the f-statistics and p-values.\n",
        "f_test = pd.DataFrame({\"f_stat\":f_stat},\n",
        "                      index=X_train.columns)\n",
        "\n",
        "# Sort the values in the f-statistic column.\n",
        "f_test.sort_values(\"f_stat\", ascending=False)"
      ]
    },
    {
      "cell_type": "markdown",
      "metadata": {
        "id": "uuwaGW7bSB3I"
      },
      "source": [
        "Above, we have a ranking of the \"best\" features based on their individual predictive ability in a linear model. The SelectKBest transformer performs this test and allows you to control the number of \"top\" features to retain using the K parameter. For our initial selection, we will set K=10, but feel free to adjust this value as needed.\n",
        "\n",
        "> **Note:** In a pipeline with `GridSearchCV`, you can fine-tune the `K` parameter by trying out various possible values, along with other preprocessing and modeling parameters. Machine Learning often involves automated search or optimisation techniques to find the best parameter values, and it is normal not to have to intuitively know the ideal parameter values from the outset."
      ]
    },
    {
      "cell_type": "code",
      "execution_count": 27,
      "metadata": {
        "id": "cAhoQBx6TFLI"
      },
      "outputs": [],
      "source": [
        "# Initialise KBest, using the f-regression and setting k=10.\n",
        "KBest = SelectKBest(score_func=f_regression, k=10)"
      ]
    },
    {
      "cell_type": "markdown",
      "metadata": {
        "id": "uzPaPlQSZAnC"
      },
      "source": [
        "As always, after initialising the transformer we fit it to the train set and transform both the train and the test set:"
      ]
    },
    {
      "cell_type": "code",
      "execution_count": 28,
      "metadata": {
        "id": "Xweal4MLzI_I"
      },
      "outputs": [],
      "source": [
        "# Transform the train set.\n",
        "X_train_KBest = KBest.fit_transform(X_train, y_train).copy()\n",
        "\n",
        "# Transform the test set.\n",
        "X_test_KBest = KBest.transform(X_test).copy()"
      ]
    },
    {
      "cell_type": "markdown",
      "metadata": {
        "id": "ah4_0q1NZJ35"
      },
      "source": [
        "Now, you can see how both the train and the test set have only 10 features."
      ]
    },
    {
      "cell_type": "code",
      "execution_count": 29,
      "metadata": {
        "colab": {
          "base_uri": "https://localhost:8080/"
        },
        "id": "rrS_TBwFdFZd",
        "outputId": "3bc50768-3ef3-4e6d-b5c6-435de90fef61"
      },
      "outputs": [
        {
          "data": {
            "text/plain": [
              "((800, 10), (200, 10))"
            ]
          },
          "execution_count": 29,
          "metadata": {},
          "output_type": "execute_result"
        }
      ],
      "source": [
        "X_train_KBest.shape, X_test_KBest.shape"
      ]
    },
    {
      "cell_type": "markdown",
      "metadata": {
        "id": "UyUbYMLcZVMk"
      },
      "source": [
        "Let's see how our models perform with these 10 \"best\" features:"
      ]
    },
    {
      "cell_type": "code",
      "execution_count": 30,
      "metadata": {
        "colab": {
          "base_uri": "https://localhost:8080/",
          "height": 206
        },
        "id": "8WGaMuK-ffpY",
        "outputId": "34d277b9-2944-4d87-ed96-e23c73047b21"
      },
      "outputs": [
        {
          "data": {
            "text/html": [
              "<div>\n",
              "<style scoped>\n",
              "    .dataframe tbody tr th:only-of-type {\n",
              "        vertical-align: middle;\n",
              "    }\n",
              "\n",
              "    .dataframe tbody tr th {\n",
              "        vertical-align: top;\n",
              "    }\n",
              "\n",
              "    .dataframe thead th {\n",
              "        text-align: right;\n",
              "    }\n",
              "</style>\n",
              "<table border=\"1\" class=\"dataframe\">\n",
              "  <thead>\n",
              "    <tr style=\"text-align: right;\">\n",
              "      <th></th>\n",
              "      <th>decision_tree</th>\n",
              "      <th>knn</th>\n",
              "    </tr>\n",
              "  </thead>\n",
              "  <tbody>\n",
              "    <tr>\n",
              "      <th>baseline</th>\n",
              "      <td>0.806073</td>\n",
              "      <td>-1.010195</td>\n",
              "    </tr>\n",
              "    <tr>\n",
              "      <th>varThreshold_0_02</th>\n",
              "      <td>0.585735</td>\n",
              "      <td>0.180197</td>\n",
              "    </tr>\n",
              "    <tr>\n",
              "      <th>varThreshold_0_00</th>\n",
              "      <td>0.805721</td>\n",
              "      <td>0.338966</td>\n",
              "    </tr>\n",
              "    <tr>\n",
              "      <th>collinearity</th>\n",
              "      <td>0.805208</td>\n",
              "      <td>-0.980851</td>\n",
              "    </tr>\n",
              "    <tr>\n",
              "      <th>KBest_10</th>\n",
              "      <td>0.833333</td>\n",
              "      <td>0.606619</td>\n",
              "    </tr>\n",
              "  </tbody>\n",
              "</table>\n",
              "</div>"
            ],
            "text/plain": [
              "                   decision_tree       knn\n",
              "baseline                0.806073 -1.010195\n",
              "varThreshold_0_02       0.585735  0.180197\n",
              "varThreshold_0_00       0.805721  0.338966\n",
              "collinearity            0.805208 -0.980851\n",
              "KBest_10                0.833333  0.606619"
            ]
          },
          "execution_count": 30,
          "metadata": {},
          "output_type": "execute_result"
        }
      ],
      "source": [
        "# Decision tree.\n",
        "k10_tree = DecisionTreeRegressor()\n",
        "k10_tree.fit(X_train_KBest, y_train)\n",
        "k10_tree_pred = k10_tree.predict(X_test_KBest)\n",
        "\n",
        "# K-Nearest Neighbors.\n",
        "k10_knn = KNeighborsRegressor(n_neighbors=1)\n",
        "k10_knn.fit(X_train_KBest, y_train)\n",
        "k10_knn_pred = k10_knn.predict(X_test_KBest)\n",
        "\n",
        "performances.loc[\"KBest_10\", \"decision_tree\"]= r2_score(y_test, k10_tree_pred)\n",
        "performances.loc[\"KBest_10\", \"knn\"] = r2_score(y_test, k10_knn_pred)\n",
        "\n",
        "performances"
      ]
    },
    {
      "cell_type": "markdown",
      "metadata": {
        "id": "XjF8QNPladce"
      },
      "source": [
        "The performance of both models has increased significantly! It's possible it would increase even more by tuning the value of `K`."
      ]
    },
    {
      "cell_type": "markdown",
      "metadata": {
        "id": "K2DgfpcpzI_I"
      },
      "source": [
        "### 6.2.&nbsp;Recursive Feature Elimination\n",
        "\n",
        "Recursive Feature Elimination (RFE) is an automatic feature selection technique that efficiently identifies the most relevant features from a dataset. It begins by training a chosen model on all features and recording its performance. Then, it iteratively removes the least important features based on their importance rankings, continuously evaluating model performance. As long as the performance remains steady or improves, RFE keeps dropping features one by one. Once the performance starts to decline, it stops and saves the model, eliminating the need for manual or fine-tuning decisions on the number of features to keep.\n",
        "\n",
        "However, it's essential to use a model capable of computing \"feature importances\" for RFE to be effective, and tree-based models are generally suitable for this purpose, unlike models like KNN. In scikit-learn, you can check if the model has an attribute called `feature_importances_`.\n",
        "\n",
        "For more details, refer to the documentation and user guide here: [scikit-learn RFE documentation](https://scikit-learn.org/stable/modules/generated/sklearn.feature_selection.RFECV.html). Before proceeding, let's explore the ranked list of features returned by RFE to gain a better understanding of their importance."
      ]
    },
    {
      "cell_type": "code",
      "execution_count": 31,
      "metadata": {
        "colab": {
          "base_uri": "https://localhost:8080/",
          "height": 238
        },
        "id": "Wj28T9e3zI_I",
        "outputId": "0b4afca4-fd3a-4b45-c308-0f99b6afc381"
      },
      "outputs": [
        {
          "data": {
            "text/html": [
              "<div>\n",
              "<style scoped>\n",
              "    .dataframe tbody tr th:only-of-type {\n",
              "        vertical-align: middle;\n",
              "    }\n",
              "\n",
              "    .dataframe tbody tr th {\n",
              "        vertical-align: top;\n",
              "    }\n",
              "\n",
              "    .dataframe thead th {\n",
              "        text-align: right;\n",
              "    }\n",
              "</style>\n",
              "<table border=\"1\" class=\"dataframe\">\n",
              "  <thead>\n",
              "    <tr style=\"text-align: right;\">\n",
              "      <th></th>\n",
              "      <th>decision_tree</th>\n",
              "      <th>knn</th>\n",
              "    </tr>\n",
              "  </thead>\n",
              "  <tbody>\n",
              "    <tr>\n",
              "      <th>baseline</th>\n",
              "      <td>0.806073</td>\n",
              "      <td>-1.010195</td>\n",
              "    </tr>\n",
              "    <tr>\n",
              "      <th>varThreshold_0_02</th>\n",
              "      <td>0.585735</td>\n",
              "      <td>0.180197</td>\n",
              "    </tr>\n",
              "    <tr>\n",
              "      <th>varThreshold_0_00</th>\n",
              "      <td>0.805721</td>\n",
              "      <td>0.338966</td>\n",
              "    </tr>\n",
              "    <tr>\n",
              "      <th>collinearity</th>\n",
              "      <td>0.805208</td>\n",
              "      <td>-0.980851</td>\n",
              "    </tr>\n",
              "    <tr>\n",
              "      <th>KBest_10</th>\n",
              "      <td>0.833333</td>\n",
              "      <td>0.606619</td>\n",
              "    </tr>\n",
              "    <tr>\n",
              "      <th>RFE</th>\n",
              "      <td>0.866475</td>\n",
              "      <td>NaN</td>\n",
              "    </tr>\n",
              "  </tbody>\n",
              "</table>\n",
              "</div>"
            ],
            "text/plain": [
              "                   decision_tree       knn\n",
              "baseline                0.806073 -1.010195\n",
              "varThreshold_0_02       0.585735  0.180197\n",
              "varThreshold_0_00       0.805721  0.338966\n",
              "collinearity            0.805208 -0.980851\n",
              "KBest_10                0.833333  0.606619\n",
              "RFE                     0.866475       NaN"
            ]
          },
          "execution_count": 31,
          "metadata": {},
          "output_type": "execute_result"
        }
      ],
      "source": [
        "rfe_tree = RFECV(DecisionTreeRegressor())\n",
        "rfe_tree.fit(X_train, y_train)\n",
        "rfe_tree_pred = rfe_tree.predict(X_test)\n",
        "\n",
        "performances.loc[\"RFE\", \"decision_tree\"] = r2_score(y_test, rfe_tree_pred)\n",
        "\n",
        "performances"
      ]
    },
    {
      "cell_type": "markdown",
      "metadata": {
        "id": "-Ca9WceKhPDj"
      },
      "source": [
        "Great news! The model's performance has increased once more!\n",
        "\n",
        "To extract the names of the features selected by RFE, you can refer to the `rfe_tree` object."
      ]
    },
    {
      "cell_type": "code",
      "execution_count": 32,
      "metadata": {
        "colab": {
          "base_uri": "https://localhost:8080/"
        },
        "id": "QH1gvEDlhUzG",
        "outputId": "323d2b56-7cb1-419d-faa6-554a5a29c114"
      },
      "outputs": [
        {
          "data": {
            "text/plain": [
              "array(['feature_4', 'feature_16', 'feature_17'], dtype=object)"
            ]
          },
          "execution_count": 32,
          "metadata": {},
          "output_type": "execute_result"
        }
      ],
      "source": [
        "rfe_tree.get_feature_names_out()"
      ]
    },
    {
      "cell_type": "markdown",
      "metadata": {
        "id": "8bkjK1H-hjKQ"
      },
      "source": [
        "It appears that only three features were retained! Interestingly, these three features align with the top-ranking features from `SelectKBest`, which is reasonable since proper tuning of the `K` parameter could lead both methods to converge eventually. Nevertheless, this may not always be the case: RFE can detect valuable non-linear interactions between multiple features, as it checks how features work in combination with each other, while SelectKBest relies on univariate selection (checking features individually with the target).\n",
        "\n",
        "> **Note:** When you encounter methods like `get_feature_names_out()` in pre-made notebooks, it might seem as if you needed to know them in advance. However, what's important is to be aware that Scikit-Learn transformer objects often store valuable information after being fitted. To access such information, always refer to the documentation for available attributes and methods, and search for what you need. In such a case, a simple search like \"which features are selected in SelectKBest\" would also yield helpful results."
      ]
    },
    {
      "cell_type": "markdown",
      "metadata": {
        "id": "behk0wzUlH_C"
      },
      "source": [
        "### 6.3.&nbsp;Select from model\n",
        "\n",
        "[SelectFromModel](https://scikit-learn.org/stable/modules/generated/sklearn.feature_selection.SelectFromModel.html?highlight=selectfrommodel#sklearn.feature_selection.SelectFromModel) leverages the importance scores provided by a model to select the most relevant features from a given dataset. The process involves training a model on the entire feature set, obtaining the feature importances or coefficients from the model, and then selecting the features based on a specified threshold. If you don't include a threshold, SelectFromModel will automatically select the best features for you, using the model's inherent feature importance ranking. This approach is particularly useful for models that inherently provide feature importances, such as tree-based models or linear models, allowing us to focus on the most influential features and improve model performance while reducing complexity.\n",
        "> **Note:** SelectFromModel may seem similar to RFE since both methods use inherent feature importance scores, but they operate differently. Unlike RFE, SelectFromModel solely concentrates on the top features based on their individual predictive power, without considering interactions between features."
      ]
    },
    {
      "cell_type": "code",
      "execution_count": 33,
      "metadata": {
        "id": "XaGIRWOhzI_J"
      },
      "outputs": [],
      "source": [
        "select_model_tree = SelectFromModel(DecisionTreeRegressor(),\n",
        "                                    threshold=None)"
      ]
    },
    {
      "cell_type": "code",
      "execution_count": 34,
      "metadata": {
        "id": "HTNFzgDsZSZo"
      },
      "outputs": [],
      "source": [
        "# Transform the train set.\n",
        "X_train_selected_model_tree = select_model_tree.fit_transform(X_train, y_train)\n",
        "\n",
        "# Transform the test set.\n",
        "X_test_selected_model_tree = select_model_tree.transform(X_test)"
      ]
    },
    {
      "cell_type": "code",
      "execution_count": 35,
      "metadata": {
        "colab": {
          "base_uri": "https://localhost:8080/"
        },
        "id": "4X0Zjq_2zI_J",
        "outputId": "320f8b3f-7f97-468a-f07a-2e5b04d8f00f"
      },
      "outputs": [
        {
          "name": "stdout",
          "output_type": "stream",
          "text": [
            "(800, 3) (200, 3)\n"
          ]
        }
      ],
      "source": [
        "# Show shape of the train and test dataset to check for the number of features kept.\n",
        "print(X_train_selected_model_tree.shape, X_test_selected_model_tree.shape)"
      ]
    },
    {
      "cell_type": "markdown",
      "metadata": {
        "id": "3LxgoHlhk-Gy"
      },
      "source": [
        "Once again, only three features were retained. When different methods converge towards the same output, it instills confidence in the selection, indicating a robust choice."
      ]
    },
    {
      "cell_type": "code",
      "execution_count": 36,
      "metadata": {
        "colab": {
          "base_uri": "https://localhost:8080/"
        },
        "id": "FCGdaKQMlgo5",
        "outputId": "90b2deb1-67a5-4c0f-9005-36ebf5ef9880"
      },
      "outputs": [
        {
          "data": {
            "text/plain": [
              "array(['feature_4', 'feature_16', 'feature_17'], dtype=object)"
            ]
          },
          "execution_count": 36,
          "metadata": {},
          "output_type": "execute_result"
        }
      ],
      "source": [
        "select_model_tree.get_feature_names_out()"
      ]
    },
    {
      "cell_type": "markdown",
      "metadata": {
        "id": "JkU_Nzo8lWkc"
      },
      "source": [
        "We can now try how both the Decision Tree and the KNN perform with these three features:"
      ]
    },
    {
      "cell_type": "code",
      "execution_count": 37,
      "metadata": {
        "colab": {
          "base_uri": "https://localhost:8080/",
          "height": 269
        },
        "id": "n8tpPn0CzI_J",
        "outputId": "8c701729-3299-4863-e605-505680b7743e"
      },
      "outputs": [
        {
          "data": {
            "text/html": [
              "<div>\n",
              "<style scoped>\n",
              "    .dataframe tbody tr th:only-of-type {\n",
              "        vertical-align: middle;\n",
              "    }\n",
              "\n",
              "    .dataframe tbody tr th {\n",
              "        vertical-align: top;\n",
              "    }\n",
              "\n",
              "    .dataframe thead th {\n",
              "        text-align: right;\n",
              "    }\n",
              "</style>\n",
              "<table border=\"1\" class=\"dataframe\">\n",
              "  <thead>\n",
              "    <tr style=\"text-align: right;\">\n",
              "      <th></th>\n",
              "      <th>decision_tree</th>\n",
              "      <th>knn</th>\n",
              "    </tr>\n",
              "  </thead>\n",
              "  <tbody>\n",
              "    <tr>\n",
              "      <th>baseline</th>\n",
              "      <td>0.806073</td>\n",
              "      <td>-1.010195</td>\n",
              "    </tr>\n",
              "    <tr>\n",
              "      <th>varThreshold_0_02</th>\n",
              "      <td>0.585735</td>\n",
              "      <td>0.180197</td>\n",
              "    </tr>\n",
              "    <tr>\n",
              "      <th>varThreshold_0_00</th>\n",
              "      <td>0.805721</td>\n",
              "      <td>0.338966</td>\n",
              "    </tr>\n",
              "    <tr>\n",
              "      <th>collinearity</th>\n",
              "      <td>0.805208</td>\n",
              "      <td>-0.980851</td>\n",
              "    </tr>\n",
              "    <tr>\n",
              "      <th>KBest_10</th>\n",
              "      <td>0.833333</td>\n",
              "      <td>0.606619</td>\n",
              "    </tr>\n",
              "    <tr>\n",
              "      <th>RFE</th>\n",
              "      <td>0.866475</td>\n",
              "      <td>NaN</td>\n",
              "    </tr>\n",
              "    <tr>\n",
              "      <th>model_selected</th>\n",
              "      <td>0.874201</td>\n",
              "      <td>0.922235</td>\n",
              "    </tr>\n",
              "  </tbody>\n",
              "</table>\n",
              "</div>"
            ],
            "text/plain": [
              "                   decision_tree       knn\n",
              "baseline                0.806073 -1.010195\n",
              "varThreshold_0_02       0.585735  0.180197\n",
              "varThreshold_0_00       0.805721  0.338966\n",
              "collinearity            0.805208 -0.980851\n",
              "KBest_10                0.833333  0.606619\n",
              "RFE                     0.866475       NaN\n",
              "model_selected          0.874201  0.922235"
            ]
          },
          "execution_count": 37,
          "metadata": {},
          "output_type": "execute_result"
        }
      ],
      "source": [
        "# Decision tree.\n",
        "select_model_tree = DecisionTreeRegressor()\n",
        "select_model_tree.fit(X_train_selected_model_tree, y_train)\n",
        "select_model_tree_pred = select_model_tree.predict(X_test_selected_model_tree)\n",
        "\n",
        "# K-Nearest Neighbors.\n",
        "select_model_knn = KNeighborsRegressor(n_neighbors=1)\n",
        "select_model_knn.fit(X_train_selected_model_tree, y_train)\n",
        "select_model_knn_pred = select_model_knn.predict(X_test_selected_model_tree)\n",
        "\n",
        "performances.loc[\"model_selected\", \"decision_tree\"] = r2_score(y_test, select_model_tree_pred)\n",
        "performances.loc[\"model_selected\", \"knn\"] = r2_score(y_test, select_model_knn_pred)\n",
        "\n",
        "performances"
      ]
    },
    {
      "cell_type": "markdown",
      "metadata": {
        "id": "NV3drTmllnuN"
      },
      "source": [
        "Surprisingly, the KNN model has suddenly shown significant improvement with this combination of features! This serves as a valuable lesson on how algorithms can react differently to the same preprocessing and feature selection strategy. It highlights the importance of exploring various approaches to find the most suitable one for specific datasets and models."
      ]
    },
    {
      "cell_type": "markdown",
      "metadata": {
        "id": "Zi9a4u4Tl-Ij"
      },
      "source": [
        "---\n",
        "## 7.&nbsp;Challenge 😃\n",
        "\n",
        "Incorporate feature selection into your Housing Regression Pipeline. While you don't have to apply all the methods shown here, we suggest experimenting with 2-3 methods and ultimately choosing one. Research how to **integrate feature selection into your Scikit-Learn pipeline** and consider tuning it with GridSearchCV, which will enhance the cohesiveness of your ML workflow, though it's not mandatory. Happy experimenting!"
      ]
    },
    {
      "cell_type": "code",
      "execution_count": 38,
      "metadata": {
        "id": "MV1PnyAmRj0g"
      },
      "outputs": [],
      "source": [
        "# good luck!"
      ]
    }
  ],
  "metadata": {
    "colab": {
      "collapsed_sections": [
        "Zi9a4u4Tl-Ij"
      ],
      "provenance": []
    },
    "kernelspec": {
      "display_name": "Python 3",
      "language": "python",
      "name": "python3"
    },
    "language_info": {
      "codemirror_mode": {
        "name": "ipython",
        "version": 3
      },
      "file_extension": ".py",
      "mimetype": "text/x-python",
      "name": "python",
      "nbconvert_exporter": "python",
      "pygments_lexer": "ipython3",
      "version": "3.10.13"
    },
    "toc": {
      "base_numbering": 1,
      "nav_menu": {},
      "number_sections": true,
      "sideBar": true,
      "skip_h1_title": false,
      "title_cell": "Table of Contents",
      "title_sidebar": "Contents",
      "toc_cell": false,
      "toc_position": {},
      "toc_section_display": true,
      "toc_window_display": false
    },
    "varInspector": {
      "cols": {
        "lenName": 16,
        "lenType": 16,
        "lenVar": 40
      },
      "kernels_config": {
        "python": {
          "delete_cmd_postfix": "",
          "delete_cmd_prefix": "del ",
          "library": "var_list.py",
          "varRefreshCmd": "print(var_dic_list())"
        },
        "r": {
          "delete_cmd_postfix": ") ",
          "delete_cmd_prefix": "rm(",
          "library": "var_list.r",
          "varRefreshCmd": "cat(var_dic_list()) "
        }
      },
      "types_to_exclude": [
        "module",
        "function",
        "builtin_function_or_method",
        "instance",
        "_Feature"
      ],
      "window_display": false
    }
  },
  "nbformat": 4,
  "nbformat_minor": 0
}
