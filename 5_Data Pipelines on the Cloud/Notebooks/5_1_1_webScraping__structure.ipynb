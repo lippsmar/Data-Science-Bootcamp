{
  "cells": [
    {
      "cell_type": "markdown",
      "metadata": {
        "id": "WSQ5Fev3rZ2M"
      },
      "source": [
        "# Web scraping\n",
        "\n",
        "Web scraping is a technique used to extract data from websites. It involves sending HTTP requests to websites, parsing the returned HTML code, and extracting the desired data. Web scraping is a powerful tool for data scientists as it allows them to collect large amounts of data from the web. This data can then be used to train machine learning models, analyse trends, and make informed business decisions."
      ]
    },
    {
      "cell_type": "markdown",
      "metadata": {
        "id": "ktDmVq208N_-"
      },
      "source": [
        "---\n",
        "## 1.&nbsp; Import libraries 💾"
      ]
    },
    {
      "cell_type": "code",
      "execution_count": 1,
      "metadata": {
        "id": "wL77EPUT7tc6"
      },
      "outputs": [],
      "source": [
        "import pandas as pd\n",
        "import requests\n",
        "from bs4 import BeautifulSoup"
      ]
    },
    {
      "cell_type": "markdown",
      "metadata": {
        "id": "xg2dCwV69i6u"
      },
      "source": [
        "---\n",
        "## 2.&nbsp; Beautiful Soup 🍲\n",
        "\n",
        "[Beautiful Soup](https://www.crummy.com/software/BeautifulSoup/bs4/doc/) is a Python library that simplifies the process of web scraping. It provides a user-friendly interface for parsing HTML documents, enabling users to extract specific information from websites. Through Beautiful Soup, you can navigate the HTML tree structure, locate elements based on their tags, attributes, and content, and extract the desired data into a structured format."
      ]
    },
    {
      "cell_type": "markdown",
      "metadata": {
        "id": "VWYO44DoBamu"
      },
      "source": [
        "To illustrate how to use Beautiful Soup, we'll use the simplified mock website below. This stripped-down version serves as a practical learning tool, as real websites often possess much larger and more complex HTML structures. By starting with this simplified model, you can gradually build your skills and expertise, ensuring a solid understanding of the core concepts before tackling more intricate web scraping tasks."
      ]
    },
    {
      "cell_type": "code",
      "execution_count": null,
      "metadata": {
        "id": "jl6v_XhL1t0-"
      },
      "outputs": [],
      "source": [
        "html_doc = \"\"\"\n",
        "<html><head><title>The Dormouse's story</title></head>\n",
        "<body>\n",
        "<p class=\"title\"><b>The Dormouse's story</b></p>\n",
        "\n",
        "<p class=\"story\">Once upon a time there were three little sisters; and their names were\n",
        "<a href=\"http://example.com/elsie\" class=\"sister\" id=\"link1\" meta=\"Eldest sister\">Elsie</a>,\n",
        "<a href=\"http://example.com/lacie\" class=\"sister\" id=\"link2\" meta=\"Middle sister\">Lacie</a> and\n",
        "<a href=\"http://example.com/tillie\" class=\"sister\" id=\"link3\" meta=\"Youngest sister\">Tillie</a>;\n",
        "and they lived at the bottom of a well.</p>\n",
        "\n",
        "<p class=\"story\">...</p>\n",
        "\"\"\""
      ]
    },
    {
      "cell_type": "markdown",
      "metadata": {
        "id": "tfSTZsHAClN-"
      },
      "source": [
        "\n",
        "Beautiful Soup's HTML parser takes the raw, unruly HTML code and transforms it into a neatly organised tree structure, making the information easily accessible and manageable."
      ]
    },
    {
      "cell_type": "code",
      "execution_count": null,
      "metadata": {
        "id": "uXuMlTd014SF"
      },
      "outputs": [],
      "source": [
        "soup = BeautifulSoup(html_doc, 'html.parser')"
      ]
    },
    {
      "cell_type": "markdown",
      "metadata": {
        "id": "KoPKtzURCmMu"
      },
      "source": [
        "We can see the tree structure using Beautiful Soup's `.prettify` attribute."
      ]
    },
    {
      "cell_type": "code",
      "execution_count": null,
      "metadata": {
        "colab": {
          "base_uri": "https://localhost:8080/"
        },
        "id": "yxpOiIou-KwF",
        "outputId": "28b74c88-548b-4a53-b069-a85afe7b004a"
      },
      "outputs": [
        {
          "name": "stdout",
          "output_type": "stream",
          "text": [
            "<html>\n",
            " <head>\n",
            "  <title>\n",
            "   The Dormouse's story\n",
            "  </title>\n",
            " </head>\n",
            " <body>\n",
            "  <p class=\"title\">\n",
            "   <b>\n",
            "    The Dormouse's story\n",
            "   </b>\n",
            "  </p>\n",
            "  <p class=\"story\">\n",
            "   Once upon a time there were three little sisters; and their names were\n",
            "   <a class=\"sister\" href=\"http://example.com/elsie\" id=\"link1\" meta=\"Eldest sister\">\n",
            "    Elsie\n",
            "   </a>\n",
            "   ,\n",
            "   <a class=\"sister\" href=\"http://example.com/lacie\" id=\"link2\" meta=\"Middle sister\">\n",
            "    Lacie\n",
            "   </a>\n",
            "   and\n",
            "   <a class=\"sister\" href=\"http://example.com/tillie\" id=\"link3\" meta=\"Youngest sister\">\n",
            "    Tillie\n",
            "   </a>\n",
            "   ;\n",
            "and they lived at the bottom of a well.\n",
            "  </p>\n",
            "  <p class=\"story\">\n",
            "   ...\n",
            "  </p>\n",
            " </body>\n",
            "</html>\n"
          ]
        }
      ],
      "source": [
        "print(soup.prettify())"
      ]
    },
    {
      "cell_type": "markdown",
      "metadata": {
        "id": "hXAo3MBl8oy9"
      },
      "source": [
        "---\n",
        "## 3.&nbsp; Navigating html for beginners 🧭\n",
        "There are many methods in Beautiful Soup to explore the html data. By far the most popular and useful of these is .find_all(). So, naturally, this is where we'll start our journey."
      ]
    },
    {
      "cell_type": "markdown",
      "metadata": {
        "id": "aLDnNzZ08scc"
      },
      "source": [
        "### 3.1.&nbsp; `.find_all()`\n",
        "The `.find_all()` method in Beautiful Soup returns a **list** of all the elements that match the specified criteria, such as tag name, class name, or attribute values."
      ]
    },
    {
      "cell_type": "markdown",
      "metadata": {
        "id": "l4eVS1rUAp9D"
      },
      "source": [
        "#### 3.1.1.&nbsp; Searching by tag\n",
        "\n",
        "The tags are the letter/word at the beginning of the angle brackets. For example, below, these brackets have an `a` tag.\n",
        "\n",
        "`<a class=\"sister\" href=\"http://example.com/elsie\" id=\"link1\" meta=\"Eldest sister\">Elsie</a>`\n",
        "\n",
        "The `.find_all()` method takes a string argument and returns a list of all matching HTML tags within the current document. If no matching tags exist, an empty list is returned."
      ]
    },
    {
      "cell_type": "code",
      "execution_count": null,
      "metadata": {
        "colab": {
          "base_uri": "https://localhost:8080/"
        },
        "id": "TJFWDbHmf6ur",
        "outputId": "1e62de7b-00de-4e16-e8dd-b3bf7b5b036f"
      },
      "outputs": [
        {
          "data": {
            "text/plain": [
              "[<title>The Dormouse's story</title>]"
            ]
          },
          "execution_count": 12,
          "metadata": {},
          "output_type": "execute_result"
        }
      ],
      "source": [
        "soup.find_all(\"title\")"
      ]
    },
    {
      "cell_type": "code",
      "execution_count": null,
      "metadata": {
        "colab": {
          "base_uri": "https://localhost:8080/"
        },
        "id": "qqrujkXd8qK5",
        "outputId": "a3d81e37-3a0f-405a-e759-7c32e06fb78e"
      },
      "outputs": [
        {
          "data": {
            "text/plain": [
              "[<p class=\"title\"><b>The Dormouse's story</b></p>,\n",
              " <p class=\"story\">Once upon a time there were three little sisters; and their names were\n",
              " <a class=\"sister\" href=\"http://example.com/elsie\" id=\"link1\" meta=\"Eldest sister\">Elsie</a>,\n",
              " <a class=\"sister\" href=\"http://example.com/lacie\" id=\"link2\" meta=\"Middle sister\">Lacie</a> and\n",
              " <a class=\"sister\" href=\"http://example.com/tillie\" id=\"link3\" meta=\"Youngest sister\">Tillie</a>;\n",
              " and they lived at the bottom of a well.</p>,\n",
              " <p class=\"story\">...</p>]"
            ]
          },
          "execution_count": 13,
          "metadata": {},
          "output_type": "execute_result"
        }
      ],
      "source": [
        "soup.find_all(\"p\")"
      ]
    },
    {
      "cell_type": "markdown",
      "metadata": {
        "id": "O7elwgBfA5GW"
      },
      "source": [
        "#### 3.1.2.&nbsp; Searching by attribute\n",
        "\n",
        "Attributes are the other information in the angle brackets. For example, below, these brackets have a `class`, `href`, `id`, and `meta` attribute.\n",
        "\n",
        "`<a class=\"sister\" href=\"http://example.com/elsie\" id=\"link1\" meta=\"Eldest sister\">Elsie</a>`\n",
        "\n",
        "Attributes provide additional context and functionality to the elements. They can serve various purposes, including CSS selectors for styling, URLs for linking to external resources, metadata for storing relevant data, and a multitude of other information-bearing components. By leveraging these attributes, we can effectively target specific sections of the website."
      ]
    },
    {
      "cell_type": "markdown",
      "metadata": {
        "id": "j4SZY8Z8hAA0"
      },
      "source": [
        "##### 3.1.2.1.&nbsp; CSS selectors\n",
        "CSS selectors are used to to style certain sections of websites. This makes them very helpful for webscraping as we can then target certain regions of the website."
      ]
    },
    {
      "cell_type": "markdown",
      "metadata": {
        "id": "8yoarw3ghEe0"
      },
      "source": [
        "###### 3.1.2.1.1.&nbsp; Class\n",
        "Class selectors are used to style **multiple** HTML elements that share a common characteristic or function.\n",
        "> **Note:** here class has an underscore at the end of the word, this is because class is a reserved keyword in python."
      ]
    },
    {
      "cell_type": "code",
      "execution_count": null,
      "metadata": {
        "colab": {
          "base_uri": "https://localhost:8080/"
        },
        "id": "r_amindGhC13",
        "outputId": "30da2319-ca60-46ad-8d00-d5b899718bb7"
      },
      "outputs": [
        {
          "data": {
            "text/plain": [
              "[<a class=\"sister\" href=\"http://example.com/elsie\" id=\"link1\" meta=\"Eldest sister\">Elsie</a>,\n",
              " <a class=\"sister\" href=\"http://example.com/lacie\" id=\"link2\" meta=\"Middle sister\">Lacie</a>,\n",
              " <a class=\"sister\" href=\"http://example.com/tillie\" id=\"link3\" meta=\"Youngest sister\">Tillie</a>]"
            ]
          },
          "execution_count": 14,
          "metadata": {},
          "output_type": "execute_result"
        }
      ],
      "source": [
        "soup.find_all(class_=\"sister\")"
      ]
    },
    {
      "cell_type": "markdown",
      "metadata": {
        "id": "qfFFv08whDET"
      },
      "source": [
        "###### 3.1.2.1.2.&nbsp; ID\n",
        "ID selectors are used to style **single** HTML elements."
      ]
    },
    {
      "cell_type": "code",
      "execution_count": null,
      "metadata": {
        "colab": {
          "base_uri": "https://localhost:8080/"
        },
        "id": "tZRqX1fhhC4h",
        "outputId": "aa17b01a-8394-482f-b39f-9e925e6f9548"
      },
      "outputs": [
        {
          "data": {
            "text/plain": [
              "[<a class=\"sister\" href=\"http://example.com/elsie\" id=\"link1\" meta=\"Eldest sister\">Elsie</a>]"
            ]
          },
          "execution_count": 15,
          "metadata": {},
          "output_type": "execute_result"
        }
      ],
      "source": [
        "soup.find_all(id=\"link1\")"
      ]
    },
    {
      "cell_type": "code",
      "execution_count": null,
      "metadata": {
        "colab": {
          "base_uri": "https://localhost:8080/"
        },
        "id": "mUmznwLq2Wbi",
        "outputId": "d9ab8e06-6e04-4145-9e3c-6e9d4363de5f"
      },
      "outputs": [
        {
          "data": {
            "text/plain": [
              "[<a class=\"sister\" href=\"http://example.com/lacie\" id=\"link2\" meta=\"Middle sister\">Lacie</a>]"
            ]
          },
          "execution_count": 16,
          "metadata": {},
          "output_type": "execute_result"
        }
      ],
      "source": [
        "soup.find_all(id=\"link2\")"
      ]
    },
    {
      "cell_type": "markdown",
      "metadata": {
        "id": "Lrh1aU9f-7z4"
      },
      "source": [
        "##### 3.1.2.2.&nbsp; Other attributes\n",
        "HTML elements can also include other attributes, which can be equally useful for identifying and targeting specific data points. To locate these attributes, search for them using the same method as you do for CSS selectors."
      ]
    },
    {
      "cell_type": "code",
      "execution_count": null,
      "metadata": {
        "colab": {
          "base_uri": "https://localhost:8080/"
        },
        "id": "A3leok25jS5t",
        "outputId": "4b59e02a-312d-4d74-c98e-524157ccb92b"
      },
      "outputs": [
        {
          "data": {
            "text/plain": [
              "[<a class=\"sister\" href=\"http://example.com/tillie\" id=\"link3\" meta=\"Youngest sister\">Tillie</a>]"
            ]
          },
          "execution_count": 4,
          "metadata": {},
          "output_type": "execute_result"
        }
      ],
      "source": [
        "soup.find_all(meta=\"Youngest sister\")"
      ]
    },
    {
      "cell_type": "markdown",
      "metadata": {
        "id": "qBKjBGRHBHds"
      },
      "source": [
        "#### 3.1.3.&nbsp; Searching by string\n",
        "The text (string) is the part between the opening and closing angle brackets, this is what's displayed on the webpage. For example, below, these brackets have `Elsie` as the text.\n",
        "\n",
        "`<a class=\"sister\" href=\"http://example.com/elsie\" id=\"link1\" meta=\"Eldest sister\">Elsie</a>`\n",
        "\n",
        "Instead of searching for specific tags or attributes, you can also search for this text. To do this, you can use a string or a regular expression to specify the text you're looking for."
      ]
    },
    {
      "cell_type": "code",
      "execution_count": null,
      "metadata": {
        "colab": {
          "base_uri": "https://localhost:8080/"
        },
        "id": "J6JWfJ65A_tl",
        "outputId": "31fcc546-f64c-4d6a-d4b8-aa151e14fee7"
      },
      "outputs": [
        {
          "data": {
            "text/plain": [
              "[]"
            ]
          },
          "execution_count": 18,
          "metadata": {},
          "output_type": "execute_result"
        }
      ],
      "source": [
        "soup.find_all(string=\"Dormouse\")"
      ]
    },
    {
      "cell_type": "markdown",
      "metadata": {
        "id": "tilKV8RJX6Sl"
      },
      "source": [
        "The string \"Dormouse\" didn't return any results because BeautifulSoup searches for entire strings that exactly match the string you entered. In other words, the string must be the exact same as what you're searching for for it to be considered a match."
      ]
    },
    {
      "cell_type": "code",
      "execution_count": null,
      "metadata": {
        "colab": {
          "base_uri": "https://localhost:8080/"
        },
        "id": "JgD4tC63CMcM",
        "outputId": "cd000325-85d6-4a51-c718-45c162e37b8a"
      },
      "outputs": [
        {
          "data": {
            "text/plain": [
              "[\"The Dormouse's story\", \"The Dormouse's story\"]"
            ]
          },
          "execution_count": 19,
          "metadata": {},
          "output_type": "execute_result"
        }
      ],
      "source": [
        "soup.find_all(string=\"The Dormouse's story\")"
      ]
    },
    {
      "cell_type": "markdown",
      "metadata": {
        "id": "ji8otCeHYT0-"
      },
      "source": [
        "To search for a substring, the easiest way is to use the regular expressions method `.compile()`."
      ]
    },
    {
      "cell_type": "code",
      "execution_count": null,
      "metadata": {
        "colab": {
          "base_uri": "https://localhost:8080/"
        },
        "id": "3a-9m5zNmxok",
        "outputId": "1084305a-4e44-41ea-f8b3-b9689c22b9fa"
      },
      "outputs": [
        {
          "data": {
            "text/plain": [
              "[\"The Dormouse's story\", \"The Dormouse's story\"]"
            ]
          },
          "execution_count": 20,
          "metadata": {},
          "output_type": "execute_result"
        }
      ],
      "source": [
        "import re\n",
        "soup.find_all(string=re.compile(\"dormouse\", re.IGNORECASE))"
      ]
    },
    {
      "cell_type": "markdown",
      "metadata": {
        "id": "YEZWgddkZJkx"
      },
      "source": [
        "> **Note:** by default, the .compile() method is case-sensitive, meaning it will only match strings that are exactly equal to the pattern you specify, including case. To perform case-insensitive matching, you must explicitly pass the re.IGNORECASE flag to the .compile() method."
      ]
    },
    {
      "cell_type": "markdown",
      "metadata": {
        "id": "7ROMgD-y9mZU"
      },
      "source": [
        "### 3.2.&nbsp; Extracting text\n",
        "There are a few ways to extract text in Beautiful Soup, here we'll focus on 2 of them."
      ]
    },
    {
      "cell_type": "markdown",
      "metadata": {
        "id": "Cs9mUvTI9oZN"
      },
      "source": [
        "#### 3.2.1.&nbsp; `.get_text()`\n",
        "The `.get_text()` method extracts all the human-readable text from a Beautiful Soup object, returning it as a string."
      ]
    },
    {
      "cell_type": "code",
      "execution_count": 11,
      "metadata": {
        "colab": {
          "base_uri": "https://localhost:8080/"
        },
        "id": "_x-R0WQm9n-L",
        "outputId": "3365f74f-c17b-4e6c-9824-0684be32a7e1"
      },
      "outputs": [
        {
          "data": {
            "text/plain": [
              "[<title>Berlin - Wikipedia</title>]"
            ]
          },
          "execution_count": 11,
          "metadata": {},
          "output_type": "execute_result"
        }
      ],
      "source": [
        "soup.find_all(\"title\")"
      ]
    },
    {
      "cell_type": "code",
      "execution_count": 12,
      "metadata": {
        "colab": {
          "base_uri": "https://localhost:8080/",
          "height": 332
        },
        "id": "T4aPfFuT4CUi",
        "outputId": "5d72fdb3-7cfc-4eea-fd68-b5206cbd8d0a"
      },
      "outputs": [
        {
          "ename": "AttributeError",
          "evalue": "ResultSet object has no attribute 'get_text'. You're probably treating a list of elements like a single element. Did you call find_all() when you meant to call find()?",
          "output_type": "error",
          "traceback": [
            "\u001b[1;31m---------------------------------------------------------------------------\u001b[0m",
            "\u001b[1;31mAttributeError\u001b[0m                            Traceback (most recent call last)",
            "Cell \u001b[1;32mIn[12], line 1\u001b[0m\n\u001b[1;32m----> 1\u001b[0m \u001b[43msoup\u001b[49m\u001b[38;5;241;43m.\u001b[39;49m\u001b[43mfind_all\u001b[49m\u001b[43m(\u001b[49m\u001b[38;5;124;43m\"\u001b[39;49m\u001b[38;5;124;43mtitle\u001b[39;49m\u001b[38;5;124;43m\"\u001b[39;49m\u001b[43m)\u001b[49m\u001b[38;5;241;43m.\u001b[39;49m\u001b[43mget_text\u001b[49m()\n",
            "File \u001b[1;32mc:\\Users\\Marvin\\miniconda3\\envs\\myenv\\lib\\site-packages\\bs4\\element.py:2428\u001b[0m, in \u001b[0;36mResultSet.__getattr__\u001b[1;34m(self, key)\u001b[0m\n\u001b[0;32m   2426\u001b[0m \u001b[38;5;28;01mdef\u001b[39;00m \u001b[38;5;21m__getattr__\u001b[39m(\u001b[38;5;28mself\u001b[39m, key):\n\u001b[0;32m   2427\u001b[0m \u001b[38;5;250m    \u001b[39m\u001b[38;5;124;03m\"\"\"Raise a helpful exception to explain a common code fix.\"\"\"\u001b[39;00m\n\u001b[1;32m-> 2428\u001b[0m     \u001b[38;5;28;01mraise\u001b[39;00m \u001b[38;5;167;01mAttributeError\u001b[39;00m(\n\u001b[0;32m   2429\u001b[0m         \u001b[38;5;124m\"\u001b[39m\u001b[38;5;124mResultSet object has no attribute \u001b[39m\u001b[38;5;124m'\u001b[39m\u001b[38;5;132;01m%s\u001b[39;00m\u001b[38;5;124m'\u001b[39m\u001b[38;5;124m. You\u001b[39m\u001b[38;5;124m'\u001b[39m\u001b[38;5;124mre probably treating a list of elements like a single element. Did you call find_all() when you meant to call find()?\u001b[39m\u001b[38;5;124m\"\u001b[39m \u001b[38;5;241m%\u001b[39m key\n\u001b[0;32m   2430\u001b[0m     )\n",
            "\u001b[1;31mAttributeError\u001b[0m: ResultSet object has no attribute 'get_text'. You're probably treating a list of elements like a single element. Did you call find_all() when you meant to call find()?"
          ]
        }
      ],
      "source": [
        "soup.find_all(\"title\").get_text()"
      ]
    },
    {
      "cell_type": "markdown",
      "metadata": {
        "id": "DOgNw4TAAbXj"
      },
      "source": [
        "> Read the error message and look at the output from the cell above. Can you work out why we got an error?"
      ]
    },
    {
      "cell_type": "code",
      "execution_count": null,
      "metadata": {
        "cellView": "form",
        "colab": {
          "base_uri": "https://localhost:8080/",
          "height": 35
        },
        "id": "mgI1c4Ts4O67",
        "outputId": "e766d3ea-fc62-429d-97f7-7bfa91f8ab35"
      },
      "outputs": [
        {
          "data": {
            "application/vnd.google.colaboratory.intrinsic+json": {
              "type": "string"
            },
            "text/plain": [
              "\"The Dormouse's story\""
            ]
          },
          "execution_count": 23,
          "metadata": {},
          "output_type": "execute_result"
        }
      ],
      "source": [
        "# @title Click `show code` to see the solution to the error\n",
        "\n",
        "# It was a list, read the error messages and notice the square brackets in the original output\n",
        "# Therefore, we need to select the first and only element of this list\n",
        "soup.find_all(\"title\")[0].get_text()"
      ]
    },
    {
      "cell_type": "markdown",
      "metadata": {
        "id": "MZ9rd5VgCDhz"
      },
      "source": [
        "We can also print out multiple items using our looping skills."
      ]
    },
    {
      "cell_type": "code",
      "execution_count": null,
      "metadata": {
        "colab": {
          "base_uri": "https://localhost:8080/"
        },
        "id": "oGru8IYF4SQn",
        "outputId": "8ab71fcb-a87b-4fc0-d0da-943c1c052a37"
      },
      "outputs": [
        {
          "data": {
            "text/plain": [
              "[<p class=\"title\"><b>The Dormouse's story</b></p>,\n",
              " <p class=\"story\">Once upon a time there were three little sisters; and their names were\n",
              " <a class=\"sister\" href=\"http://example.com/elsie\" id=\"link1\" meta=\"Eldest sister\">Elsie</a>,\n",
              " <a class=\"sister\" href=\"http://example.com/lacie\" id=\"link2\" meta=\"Middle sister\">Lacie</a> and\n",
              " <a class=\"sister\" href=\"http://example.com/tillie\" id=\"link3\" meta=\"Youngest sister\">Tillie</a>;\n",
              " and they lived at the bottom of a well.</p>,\n",
              " <p class=\"story\">...</p>]"
            ]
          },
          "execution_count": 24,
          "metadata": {},
          "output_type": "execute_result"
        }
      ],
      "source": [
        "story = soup.find_all(\"p\")\n",
        "story"
      ]
    },
    {
      "cell_type": "code",
      "execution_count": null,
      "metadata": {
        "colab": {
          "base_uri": "https://localhost:8080/"
        },
        "id": "HG6TMWf54X3N",
        "outputId": "2e504360-3d94-4fc3-becf-12cee1f93075"
      },
      "outputs": [
        {
          "name": "stdout",
          "output_type": "stream",
          "text": [
            "The Dormouse's story\n",
            "Once upon a time there were three little sisters; and their names were\n",
            "Elsie,\n",
            "Lacie and\n",
            "Tillie;\n",
            "and they lived at the bottom of a well.\n",
            "...\n"
          ]
        }
      ],
      "source": [
        "for p in story:\n",
        "  print(p.get_text())"
      ]
    },
    {
      "cell_type": "markdown",
      "metadata": {
        "id": "kUh2ZYo-9x-S"
      },
      "source": [
        "#### 3.2.2.&nbsp; Extracting attributes:\n",
        "HTML elements often store additional information within their attributes. To extract this data using Beautiful Soup, you can append square brackets after the element selector and specify the attribute name within them."
      ]
    },
    {
      "cell_type": "code",
      "execution_count": null,
      "metadata": {
        "colab": {
          "base_uri": "https://localhost:8080/"
        },
        "id": "xdqcP4nHECTF",
        "outputId": "cdf6bd95-1756-4c5b-f1dd-8ab0f472d9ae"
      },
      "outputs": [
        {
          "data": {
            "text/plain": [
              "[<a class=\"sister\" href=\"http://example.com/elsie\" id=\"link1\" meta=\"Eldest sister\">Elsie</a>]"
            ]
          },
          "execution_count": 149,
          "metadata": {},
          "output_type": "execute_result"
        }
      ],
      "source": [
        "soup.find_all(id=\"link1\")"
      ]
    },
    {
      "cell_type": "code",
      "execution_count": null,
      "metadata": {
        "colab": {
          "base_uri": "https://localhost:8080/",
          "height": 35
        },
        "id": "4x4t_mqjDgqb",
        "outputId": "cefa8ad7-32cf-4405-cb6e-69523d897454"
      },
      "outputs": [
        {
          "data": {
            "application/vnd.google.colaboratory.intrinsic+json": {
              "type": "string"
            },
            "text/plain": [
              "'http://example.com/elsie'"
            ]
          },
          "execution_count": 151,
          "metadata": {},
          "output_type": "execute_result"
        }
      ],
      "source": [
        "soup.find_all(id=\"link1\")[0]['href']"
      ]
    },
    {
      "cell_type": "code",
      "execution_count": null,
      "metadata": {
        "colab": {
          "base_uri": "https://localhost:8080/",
          "height": 35
        },
        "id": "7uIkOhD1PmlX",
        "outputId": "03aece4b-2c7b-47c0-c2f4-ee56155e2d11"
      },
      "outputs": [
        {
          "data": {
            "application/vnd.google.colaboratory.intrinsic+json": {
              "type": "string"
            },
            "text/plain": [
              "'Eldest sister'"
            ]
          },
          "execution_count": 152,
          "metadata": {},
          "output_type": "execute_result"
        }
      ],
      "source": [
        "soup.find_all(id=\"link1\")[0]['meta']"
      ]
    },
    {
      "cell_type": "markdown",
      "metadata": {
        "id": "xVZJOh1_l0Rt"
      },
      "source": [
        "## Challenge 1 😀\n",
        "Below is new HTML code. Use your scrapping skills to answer the questions."
      ]
    },
    {
      "cell_type": "code",
      "execution_count": null,
      "metadata": {
        "id": "7lAHzu1Dl2X0"
      },
      "outputs": [],
      "source": [
        "geography = \"\"\"\n",
        "<!DOCTYPE html>\n",
        "<html>\n",
        "<head> Geography</head>\n",
        "<body>\n",
        "\n",
        "<div class=\"city\">\n",
        "  <h2>London</h2>\n",
        "  <p>London is the most popular tourist destination in the world.</p>\n",
        "</div>\n",
        "\n",
        "<div class=\"city\">\n",
        "  <h2>Paris</h2>\n",
        "  <p>Paris was originally a Roman City called Lutetia.</p>\n",
        "</div>\n",
        "\n",
        "<div class=\"country\">\n",
        "  <h2>Spain</h2>\n",
        "  <p>Spain produces 43,8% of all the world's Olive Oil.</p>\n",
        "</div>\n",
        "\n",
        "</body>\n",
        "</html>\n",
        "\"\"\""
      ]
    },
    {
      "cell_type": "code",
      "execution_count": null,
      "metadata": {
        "id": "1KOBMEQNl9EZ"
      },
      "outputs": [],
      "source": [
        "# Create the \"soup\""
      ]
    },
    {
      "cell_type": "code",
      "execution_count": null,
      "metadata": {
        "id": "e7XQtTzcl9B0"
      },
      "outputs": [],
      "source": [
        "# 1. All the \"fun facts\""
      ]
    },
    {
      "cell_type": "code",
      "execution_count": null,
      "metadata": {
        "id": "ucD8rudDl8_L"
      },
      "outputs": [],
      "source": [
        "# 2. The names of all the places."
      ]
    },
    {
      "cell_type": "code",
      "execution_count": null,
      "metadata": {
        "id": "0K0UQ2V4l88n"
      },
      "outputs": [],
      "source": [
        "# 3. All the content (name and fact) of all the cities (only cities, not countries!)"
      ]
    },
    {
      "cell_type": "code",
      "execution_count": null,
      "metadata": {
        "id": "cNyiqAEll85q"
      },
      "outputs": [],
      "source": [
        "# 4. The names (not facts!) of all the cities (not countries!)"
      ]
    },
    {
      "cell_type": "markdown",
      "metadata": {
        "id": "Zgq5kkTFk8Dg"
      },
      "source": [
        "---\n",
        "## 4.&nbsp; Navigating html with a few more advanced techniques 🗺️"
      ]
    },
    {
      "cell_type": "markdown",
      "metadata": {
        "id": "VhTryrEV8tu2"
      },
      "source": [
        "### 4.1.&nbsp; `.find()`\n",
        "`.find()` is similar to `.find_all()`, but it returns only the first element that matches the specified criteria. This makes it useful when you know exactly where the element you're looking for is located and you only need to retrieve one instance of it."
      ]
    },
    {
      "cell_type": "code",
      "execution_count": null,
      "metadata": {
        "colab": {
          "base_uri": "https://localhost:8080/"
        },
        "id": "wZjtVNi38sPY",
        "outputId": "016c88b5-8ffb-4bcc-bd96-fc37eedbb2bb"
      },
      "outputs": [
        {
          "data": {
            "text/plain": [
              "<p class=\"title\"><b>The Dormouse's story</b></p>"
            ]
          },
          "execution_count": 35,
          "metadata": {},
          "output_type": "execute_result"
        }
      ],
      "source": [
        "soup.find('p')"
      ]
    },
    {
      "cell_type": "markdown",
      "metadata": {
        "id": "hOseQNrW8ueb"
      },
      "source": [
        "### 4.2.&nbsp; `.select()`\n",
        "`.select()` is similar to `.find_all()`, but there are 2 main differences:\n",
        "- the way we write our query in the brackets is slightly different\n",
        "- `.select()` allows you to chain CSS selectors together to navigate through the HTML structure, enabling you to select elements based on their positions within nested elements or patterns. This makes it particularly useful for extracting data from complex HTML structures.\n",
        "\n",
        "In contrast, `.find_all()` uses a simpler syntax based on tag names and attributes, making it more straightforward for basic element selection."
      ]
    },
    {
      "cell_type": "markdown",
      "metadata": {
        "id": "hlLEdmYJK6hB"
      },
      "source": [
        "Here's how we query with `.find_all()`"
      ]
    },
    {
      "cell_type": "code",
      "execution_count": null,
      "metadata": {
        "colab": {
          "base_uri": "https://localhost:8080/"
        },
        "id": "PPplvgpe8sL_",
        "outputId": "357d37ef-bdbb-4e71-ba4e-e22ee5986377"
      },
      "outputs": [
        {
          "data": {
            "text/plain": [
              "[<a class=\"sister\" href=\"http://example.com/elsie\" id=\"link1\" meta=\"Eldest sister\">Elsie</a>,\n",
              " <a class=\"sister\" href=\"http://example.com/lacie\" id=\"link2\" meta=\"Middle sister\">Lacie</a>,\n",
              " <a class=\"sister\" href=\"http://example.com/tillie\" id=\"link3\" meta=\"Youngest sister\">Tillie</a>]"
            ]
          },
          "execution_count": 42,
          "metadata": {},
          "output_type": "execute_result"
        }
      ],
      "source": [
        "soup.find_all('a', class_='sister')"
      ]
    },
    {
      "cell_type": "markdown",
      "metadata": {
        "id": "5ZVv18muK-rK"
      },
      "source": [
        "Here's the same query with `.select()`"
      ]
    },
    {
      "cell_type": "code",
      "execution_count": null,
      "metadata": {
        "colab": {
          "base_uri": "https://localhost:8080/"
        },
        "id": "Rhc1_2IJJGrz",
        "outputId": "587d4dbc-4cc9-4615-9cb8-712ee2714263"
      },
      "outputs": [
        {
          "data": {
            "text/plain": [
              "[<a class=\"sister\" href=\"http://example.com/elsie\" id=\"link1\" meta=\"Eldest sister\">Elsie</a>,\n",
              " <a class=\"sister\" href=\"http://example.com/lacie\" id=\"link2\" meta=\"Middle sister\">Lacie</a>,\n",
              " <a class=\"sister\" href=\"http://example.com/tillie\" id=\"link3\" meta=\"Youngest sister\">Tillie</a>]"
            ]
          },
          "execution_count": 43,
          "metadata": {},
          "output_type": "execute_result"
        }
      ],
      "source": [
        "soup.select('a.sister')"
      ]
    },
    {
      "cell_type": "markdown",
      "metadata": {
        "id": "zg8OUGS9LC42"
      },
      "source": [
        "To demonstrate the power of `.select()` in navigating through nested elements, let's extract all the `<a>` tags with the id `'link2'` that are within `<p>` tags with the class `'story'`."
      ]
    },
    {
      "cell_type": "code",
      "execution_count": null,
      "metadata": {
        "colab": {
          "base_uri": "https://localhost:8080/"
        },
        "id": "BfBvxRUzJMgM",
        "outputId": "feebde62-69fe-45db-e3b1-4d38690b2408"
      },
      "outputs": [
        {
          "data": {
            "text/plain": [
              "[<a class=\"sister\" href=\"http://example.com/lacie\" id=\"link2\" meta=\"Middle sister\">Lacie</a>]"
            ]
          },
          "execution_count": 46,
          "metadata": {},
          "output_type": "execute_result"
        }
      ],
      "source": [
        "soup.select('p.story a#link2')"
      ]
    },
    {
      "cell_type": "markdown",
      "metadata": {
        "id": "y0tGSzydlcjt"
      },
      "source": [
        "### 4.3.&nbsp; Navigating to the Next or Previous Element\n",
        "In some cases, you may need to access specific elements that are closely related to others, but their HTML structure doesn't provide unique identifiers. To overcome this challenge, you can utilise the `.find_next()` and `.find_previous()` methods to navigate through the HTML structure and reach the desired element."
      ]
    },
    {
      "cell_type": "code",
      "execution_count": null,
      "metadata": {
        "colab": {
          "base_uri": "https://localhost:8080/"
        },
        "id": "bWBJnwKh6xAM",
        "outputId": "882b89c8-c0df-4750-ef4b-d0c3161ad7d3"
      },
      "outputs": [
        {
          "data": {
            "text/plain": [
              "<a class=\"sister\" href=\"http://example.com/tillie\" id=\"link3\" meta=\"Youngest sister\">Tillie</a>"
            ]
          },
          "execution_count": 37,
          "metadata": {},
          "output_type": "execute_result"
        }
      ],
      "source": [
        "last_link = soup.find(id='link3')\n",
        "last_link"
      ]
    },
    {
      "cell_type": "markdown",
      "metadata": {
        "id": "Ox3xJJOP0fhD"
      },
      "source": [
        "#### 4.1.1.&nbsp; `.find_next()`\n",
        "`.find_next()` moves forward one element"
      ]
    },
    {
      "cell_type": "code",
      "execution_count": null,
      "metadata": {
        "colab": {
          "base_uri": "https://localhost:8080/"
        },
        "id": "zrBfI5c40fTE",
        "outputId": "7b5919b9-567e-4ed6-b650-f43fcfb84bd3"
      },
      "outputs": [
        {
          "data": {
            "text/plain": [
              "<p class=\"story\">...</p>"
            ]
          },
          "execution_count": 38,
          "metadata": {},
          "output_type": "execute_result"
        }
      ],
      "source": [
        "last_link.find_next()"
      ]
    },
    {
      "cell_type": "markdown",
      "metadata": {
        "id": "AMGziu0x0klO"
      },
      "source": [
        "#### 4.2.&nbsp; `.find_previous()`\n",
        "`.find_previous()` moves back one element"
      ]
    },
    {
      "cell_type": "code",
      "execution_count": null,
      "metadata": {
        "colab": {
          "base_uri": "https://localhost:8080/"
        },
        "id": "hKMSnJKgwjO3",
        "outputId": "da2af33e-57bb-4a76-9c44-0dbf17e0c731"
      },
      "outputs": [
        {
          "data": {
            "text/plain": [
              "<a class=\"sister\" href=\"http://example.com/lacie\" id=\"link2\" meta=\"Middle sister\">Lacie</a>"
            ]
          },
          "execution_count": 39,
          "metadata": {},
          "output_type": "execute_result"
        }
      ],
      "source": [
        "last_link.find_previous()"
      ]
    },
    {
      "cell_type": "markdown",
      "metadata": {
        "id": "LGSarkvdVkpj"
      },
      "source": [
        "---\n",
        "## 5.&nbsp; Showcasing these skills on a real website 💻\n",
        "Let's see what information we can get from the wikipedia site for web scraping"
      ]
    },
    {
      "cell_type": "markdown",
      "metadata": {
        "id": "Ztc-9lpTm2e9"
      },
      "source": [
        "### Loading the html"
      ]
    },
    {
      "cell_type": "code",
      "execution_count": 18,
      "metadata": {
        "id": "h-qyiClnVptT"
      },
      "outputs": [],
      "source": [
        "url = \"https://en.wikipedia.org/wiki/Web_scraping\"\n",
        "\n",
        "response = requests.get(url)\n",
        "\n",
        "soup_3 = BeautifulSoup(response.content, 'html.parser')"
      ]
    },
    {
      "cell_type": "markdown",
      "metadata": {
        "id": "Vo-b2kLwNOWW"
      },
      "source": [
        "> While we haven't yet looked into the requests library, we'll postpone delving into it today to avoid overwhelming you with too much new information. Instead, we'll explore the requests library when we start gathering weather data later in the project."
      ]
    },
    {
      "cell_type": "code",
      "execution_count": 19,
      "metadata": {
        "colab": {
          "base_uri": "https://localhost:8080/"
        },
        "id": "87Mhk3AwX9Wj",
        "outputId": "9b95ffd4-d226-45f9-f60c-74642c980587"
      },
      "outputs": [
        {
          "name": "stdout",
          "output_type": "stream",
          "text": [
            "<bound method Tag.prettify of <!DOCTYPE html>\n",
            "\n",
            "<html class=\"client-nojs vector-feature-language-in-header-enabled vector-feature-language-in-main-page-header-disabled vector-feature-sticky-header-disabled vector-feature-page-tools-pinned-disabled vector-feature-toc-pinned-clientpref-1 vector-feature-main-menu-pinned-disabled vector-feature-limited-width-clientpref-1 vector-feature-limited-width-content-enabled vector-feature-custom-font-size-clientpref-0 vector-feature-client-preferences-disabled vector-feature-client-prefs-pinned-disabled vector-feature-night-mode-disabled skin-night-mode-clientpref-0 vector-toc-available\" dir=\"ltr\" lang=\"en\">\n",
            "<head>\n",
            "<meta charset=\"utf-8\"/>\n",
            "<title>Web scraping - Wikipedia</title>\n",
            "<script>(function(){var className=\"client-js vector-feature-language-in-header-enabled vector-feature-language-in-main-page-header-disabled vector-feature-sticky-header-disabled vector-feature-page-tools-pinned-disabled vector-feature-toc-pinned-clientpref-1 vector-feature-main-menu-pinned-disabled vector-feature-limited-width-clientpref-1 vector-feature-limited-width-content-enabled vector-feature-custom-font-size-clientpref-0 vector-feature-client-preferences-disabled vector-feature-client-prefs-pinned-disabled vector-feature-night-mode-disabled skin-night-mode-clientpref-0 vector-toc-available\";var cookie=document.cookie.match(/(?:^|; )enwikimwclientpreferences=([^;]+)/);if(cookie){cookie[1].split('%2C').forEach(function(pref){className=className.replace(new RegExp('(^| )'+pref.replace(/-clientpref-\\w+$|[^\\w-]+/g,'')+'-clientpref-\\\\w+( |$)'),'$1'+pref+'$2');});}document.documentElement.className=className;}());RLCONF={\"wgBreakFrames\":false,\"wgSeparatorTransformTable\":[\"\",\"\"],\n",
            "\"wgDigitTransformTable\":[\"\",\"\"],\"wgDefaultDateFormat\":\"dmy\",\"wgMonthNames\":[\"\",\"January\",\"February\",\"March\",\"April\",\"May\",\"June\",\"July\",\"August\",\"September\",\"October\",\"November\",\"December\"],\"wgRequestId\":\"7f1ba8f9-972b-4c66-9f39-117ebbe008b7\",\"wgCanonicalNamespace\":\"\",\"wgCanonicalSpecialPageName\":false,\"wgNamespaceNumber\":0,\"wgPageName\":\"Web_scraping\",\"wgTitle\":\"Web scraping\",\"wgCurRevisionId\":1207633199,\"wgRevisionId\":1207633199,\"wgArticleId\":2696619,\"wgIsArticle\":true,\"wgIsRedirect\":false,\"wgAction\":\"view\",\"wgUserName\":null,\"wgUserGroups\":[\"*\"],\"wgCategories\":[\"CS1 maint: multiple names: authors list\",\"CS1 Danish-language sources (da)\",\"CS1 French-language sources (fr)\",\"Articles with short description\",\"Short description matches Wikidata\",\"Articles needing additional references from April 2023\",\"All articles needing additional references\",\"Articles with limited geographic scope from October 2015\",\"United States-centric\",\"All articles with unsourced statements\",\n",
            "\"Articles with unsourced statements from April 2023\",\"Web scraping\"],\"wgPageViewLanguage\":\"en\",\"wgPageContentLanguage\":\"en\",\"wgPageContentModel\":\"wikitext\",\"wgRelevantPageName\":\"Web_scraping\",\"wgRelevantArticleId\":2696619,\"wgIsProbablyEditable\":true,\"wgRelevantPageIsProbablyEditable\":true,\"wgRestrictionEdit\":[],\"wgRestrictionMove\":[],\"wgNoticeProject\":\"wikipedia\",\"wgFlaggedRevsParams\":{\"tags\":{\"status\":{\"levels\":1}}},\"wgMediaViewerOnClick\":true,\"wgMediaViewerEnabledByDefault\":true,\"wgPopupsFlags\":6,\"wgVisualEditor\":{\"pageLanguageCode\":\"en\",\"pageLanguageDir\":\"ltr\",\"pageVariantFallbacks\":\"en\"},\"wgMFDisplayWikibaseDescriptions\":{\"search\":true,\"watchlist\":true,\"tagline\":false,\"nearby\":true},\"wgWMESchemaEditAttemptStepOversample\":false,\"wgWMEPageLength\":30000,\"wgULSCurrentAutonym\":\"English\",\"wgCentralAuthMobileDomain\":false,\"wgEditSubmitButtonLabelPublish\":true,\"wgULSPosition\":\"interlanguage\",\"wgULSisCompactLinksEnabled\":false,\"wgVector2022LanguageInHeader\":true,\n",
            "\"wgULSisLanguageSelectorEmpty\":false,\"wgWikibaseItemId\":\"Q665452\",\"wgCheckUserClientHintsHeadersJsApi\":[\"architecture\",\"bitness\",\"brands\",\"fullVersionList\",\"mobile\",\"model\",\"platform\",\"platformVersion\"],\"GEHomepageSuggestedEditsEnableTopics\":true,\"wgGETopicsMatchModeEnabled\":false,\"wgGEStructuredTaskRejectionReasonTextInputEnabled\":false,\"wgGELevelingUpEnabledForUser\":false};RLSTATE={\"skins.vector.user.styles\":\"ready\",\"ext.globalCssJs.user.styles\":\"ready\",\"site.styles\":\"ready\",\"user.styles\":\"ready\",\"skins.vector.user\":\"ready\",\"ext.globalCssJs.user\":\"ready\",\"user\":\"ready\",\"user.options\":\"loading\",\"ext.cite.styles\":\"ready\",\"codex-search-styles\":\"ready\",\"skins.vector.styles\":\"ready\",\"skins.vector.icons\":\"ready\",\"ext.visualEditor.desktopArticleTarget.noscript\":\"ready\",\"ext.uls.interlanguage\":\"ready\",\"wikibase.client.init\":\"ready\",\"ext.wikimediaBadges\":\"ready\"};RLPAGEMODULES=[\"ext.cite.ux-enhancements\",\"site\",\"mediawiki.page.ready\",\"mediawiki.toc\",\"skins.vector.js\",\"ext.centralNotice.geoIP\"\n",
            ",\"ext.centralNotice.startUp\",\"ext.gadget.ReferenceTooltips\",\"ext.gadget.switcher\",\"ext.urlShortener.toolbar\",\"ext.centralauth.centralautologin\",\"mmv.head\",\"mmv.bootstrap.autostart\",\"ext.popups\",\"ext.visualEditor.desktopArticleTarget.init\",\"ext.visualEditor.targetLoader\",\"ext.echo.centralauth\",\"ext.eventLogging\",\"ext.wikimediaEvents\",\"ext.navigationTiming\",\"ext.uls.interface\",\"ext.cx.eventlogging.campaigns\",\"ext.cx.uls.quick.actions\",\"wikibase.client.vector-2022\",\"ext.checkUser.clientHints\",\"ext.growthExperiments.SuggestedEditSession\"];</script>\n",
            "<script>(RLQ=window.RLQ||[]).push(function(){mw.loader.impl(function(){return[\"user.options@12s5i\",function($,jQuery,require,module){mw.user.tokens.set({\"patrolToken\":\"+\\\\\",\"watchToken\":\"+\\\\\",\"csrfToken\":\"+\\\\\"});\n",
            "}];});});</script>\n",
            "<link href=\"/w/load.php?lang=en&amp;modules=codex-search-styles%7Cext.cite.styles%7Cext.uls.interlanguage%7Cext.visualEditor.desktopArticleTarget.noscript%7Cext.wikimediaBadges%7Cskins.vector.icons%2Cstyles%7Cwikibase.client.init&amp;only=styles&amp;skin=vector-2022\" rel=\"stylesheet\"/>\n",
            "<script async=\"\" src=\"/w/load.php?lang=en&amp;modules=startup&amp;only=scripts&amp;raw=1&amp;skin=vector-2022\"></script>\n",
            "<meta content=\"\" name=\"ResourceLoaderDynamicStyles\"/>\n",
            "<link href=\"/w/load.php?lang=en&amp;modules=site.styles&amp;only=styles&amp;skin=vector-2022\" rel=\"stylesheet\"/>\n",
            "<meta content=\"MediaWiki 1.42.0-wmf.20\" name=\"generator\"/>\n",
            "<meta content=\"origin\" name=\"referrer\"/>\n",
            "<meta content=\"origin-when-cross-origin\" name=\"referrer\"/>\n",
            "<meta content=\"max-image-preview:standard\" name=\"robots\"/>\n",
            "<meta content=\"telephone=no\" name=\"format-detection\"/>\n",
            "<meta content=\"width=1000\" name=\"viewport\"/>\n",
            "<meta content=\"Web scraping - Wikipedia\" property=\"og:title\"/>\n",
            "<meta content=\"website\" property=\"og:type\"/>\n",
            "<link href=\"//upload.wikimedia.org\" rel=\"preconnect\"/>\n",
            "<link href=\"//en.m.wikipedia.org/wiki/Web_scraping\" media=\"only screen and (max-width: 720px)\" rel=\"alternate\"/>\n",
            "<link href=\"/w/index.php?title=Web_scraping&amp;action=edit\" rel=\"alternate\" title=\"Edit this page\" type=\"application/x-wiki\"/>\n",
            "<link href=\"/static/apple-touch/wikipedia.png\" rel=\"apple-touch-icon\"/>\n",
            "<link href=\"/static/favicon/wikipedia.ico\" rel=\"icon\"/>\n",
            "<link href=\"/w/opensearch_desc.php\" rel=\"search\" title=\"Wikipedia (en)\" type=\"application/opensearchdescription+xml\"/>\n",
            "<link href=\"//en.wikipedia.org/w/api.php?action=rsd\" rel=\"EditURI\" type=\"application/rsd+xml\"/>\n",
            "<link href=\"https://en.wikipedia.org/wiki/Web_scraping\" rel=\"canonical\"/>\n",
            "<link href=\"https://creativecommons.org/licenses/by-sa/4.0/deed.en\" rel=\"license\"/>\n",
            "<link href=\"/w/index.php?title=Special:RecentChanges&amp;feed=atom\" rel=\"alternate\" title=\"Wikipedia Atom feed\" type=\"application/atom+xml\"/>\n",
            "<link href=\"//meta.wikimedia.org\" rel=\"dns-prefetch\">\n",
            "<link href=\"//login.wikimedia.org\" rel=\"dns-prefetch\"/>\n",
            "</link></head>\n",
            "<body class=\"skin-vector skin-vector-search-vue mediawiki ltr sitedir-ltr mw-hide-empty-elt ns-0 ns-subject mw-editable page-Web_scraping rootpage-Web_scraping skin-vector-2022 action-view\"><a class=\"mw-jump-link\" href=\"#bodyContent\">Jump to content</a>\n",
            "<div class=\"vector-header-container\">\n",
            "<header class=\"vector-header mw-header\">\n",
            "<div class=\"vector-header-start\">\n",
            "<nav aria-label=\"Site\" class=\"vector-main-menu-landmark\" role=\"navigation\">\n",
            "<div class=\"vector-dropdown vector-main-menu-dropdown vector-button-flush-left vector-button-flush-right\" id=\"vector-main-menu-dropdown\">\n",
            "<input aria-haspopup=\"true\" aria-label=\"Main menu\" class=\"vector-dropdown-checkbox\" data-event-name=\"ui.dropdown-vector-main-menu-dropdown\" id=\"vector-main-menu-dropdown-checkbox\" role=\"button\" type=\"checkbox\"/>\n",
            "<label aria-hidden=\"true\" class=\"vector-dropdown-label cdx-button cdx-button--fake-button cdx-button--fake-button--enabled cdx-button--weight-quiet cdx-button--icon-only\" for=\"vector-main-menu-dropdown-checkbox\" id=\"vector-main-menu-dropdown-label\"><span class=\"vector-icon mw-ui-icon-menu mw-ui-icon-wikimedia-menu\"></span>\n",
            "<span class=\"vector-dropdown-label-text\">Main menu</span>\n",
            "</label>\n",
            "<div class=\"vector-dropdown-content\">\n",
            "<div class=\"vector-unpinned-container\" id=\"vector-main-menu-unpinned-container\">\n",
            "<div class=\"vector-main-menu vector-pinnable-element\" id=\"vector-main-menu\">\n",
            "<div class=\"vector-pinnable-header vector-main-menu-pinnable-header vector-pinnable-header-unpinned\" data-feature-name=\"main-menu-pinned\" data-pinnable-element-id=\"vector-main-menu\" data-pinned-container-id=\"vector-main-menu-pinned-container\" data-unpinned-container-id=\"vector-main-menu-unpinned-container\">\n",
            "<div class=\"vector-pinnable-header-label\">Main menu</div>\n",
            "<button class=\"vector-pinnable-header-toggle-button vector-pinnable-header-pin-button\" data-event-name=\"pinnable-header.vector-main-menu.pin\">move to sidebar</button>\n",
            "<button class=\"vector-pinnable-header-toggle-button vector-pinnable-header-unpin-button\" data-event-name=\"pinnable-header.vector-main-menu.unpin\">hide</button>\n",
            "</div>\n",
            "<div class=\"vector-menu mw-portlet mw-portlet-navigation\" id=\"p-navigation\">\n",
            "<div class=\"vector-menu-heading\">\n",
            "\t\tNavigation\n",
            "\t</div>\n",
            "<div class=\"vector-menu-content\">\n",
            "<ul class=\"vector-menu-content-list\">\n",
            "<li class=\"mw-list-item\" id=\"n-mainpage-description\"><a accesskey=\"z\" href=\"/wiki/Main_Page\" title=\"Visit the main page [z]\"><span>Main page</span></a></li><li class=\"mw-list-item\" id=\"n-contents\"><a href=\"/wiki/Wikipedia:Contents\" title=\"Guides to browsing Wikipedia\"><span>Contents</span></a></li><li class=\"mw-list-item\" id=\"n-currentevents\"><a href=\"/wiki/Portal:Current_events\" title=\"Articles related to current events\"><span>Current events</span></a></li><li class=\"mw-list-item\" id=\"n-randompage\"><a accesskey=\"x\" href=\"/wiki/Special:Random\" title=\"Visit a randomly selected article [x]\"><span>Random article</span></a></li><li class=\"mw-list-item\" id=\"n-aboutsite\"><a href=\"/wiki/Wikipedia:About\" title=\"Learn about Wikipedia and how it works\"><span>About Wikipedia</span></a></li><li class=\"mw-list-item\" id=\"n-contactpage\"><a href=\"//en.wikipedia.org/wiki/Wikipedia:Contact_us\" title=\"How to contact Wikipedia\"><span>Contact us</span></a></li><li class=\"mw-list-item\" id=\"n-sitesupport\"><a href=\"https://donate.wikimedia.org/wiki/Special:FundraiserRedirector?utm_source=donate&amp;utm_medium=sidebar&amp;utm_campaign=C13_en.wikipedia.org&amp;uselang=en\" title=\"Support us by donating to the Wikimedia Foundation\"><span>Donate</span></a></li>\n",
            "</ul>\n",
            "</div>\n",
            "</div>\n",
            "<div class=\"vector-menu mw-portlet mw-portlet-interaction\" id=\"p-interaction\">\n",
            "<div class=\"vector-menu-heading\">\n",
            "\t\tContribute\n",
            "\t</div>\n",
            "<div class=\"vector-menu-content\">\n",
            "<ul class=\"vector-menu-content-list\">\n",
            "<li class=\"mw-list-item\" id=\"n-help\"><a href=\"/wiki/Help:Contents\" title=\"Guidance on how to use and edit Wikipedia\"><span>Help</span></a></li><li class=\"mw-list-item\" id=\"n-introduction\"><a href=\"/wiki/Help:Introduction\" title=\"Learn how to edit Wikipedia\"><span>Learn to edit</span></a></li><li class=\"mw-list-item\" id=\"n-portal\"><a href=\"/wiki/Wikipedia:Community_portal\" title=\"The hub for editors\"><span>Community portal</span></a></li><li class=\"mw-list-item\" id=\"n-recentchanges\"><a accesskey=\"r\" href=\"/wiki/Special:RecentChanges\" title=\"A list of recent changes to Wikipedia [r]\"><span>Recent changes</span></a></li><li class=\"mw-list-item\" id=\"n-upload\"><a href=\"/wiki/Wikipedia:File_upload_wizard\" title=\"Add images or other media for use on Wikipedia\"><span>Upload file</span></a></li>\n",
            "</ul>\n",
            "</div>\n",
            "</div>\n",
            "<div class=\"vector-main-menu-action vector-main-menu-action-lang-alert\">\n",
            "<div class=\"vector-main-menu-action-item\">\n",
            "<div class=\"vector-main-menu-action-heading vector-menu-heading\">Languages</div>\n",
            "<div class=\"vector-main-menu-action-content vector-menu-content\">\n",
            "<div class=\"mw-message-box cdx-message cdx-message--block mw-message-box-notice cdx-message--notice vector-language-sidebar-alert\"><span class=\"cdx-message__icon\"></span><div class=\"cdx-message__content\">Language links are at the top of the page.</div></div>\n",
            "</div>\n",
            "</div>\n",
            "</div>\n",
            "</div>\n",
            "</div>\n",
            "</div>\n",
            "</div>\n",
            "</nav>\n",
            "<a class=\"mw-logo\" href=\"/wiki/Main_Page\">\n",
            "<img alt=\"\" aria-hidden=\"true\" class=\"mw-logo-icon\" height=\"50\" src=\"/static/images/icons/wikipedia.png\" width=\"50\"/>\n",
            "<span class=\"mw-logo-container\">\n",
            "<img alt=\"Wikipedia\" class=\"mw-logo-wordmark\" src=\"/static/images/mobile/copyright/wikipedia-wordmark-en.svg\" style=\"width: 7.5em; height: 1.125em;\"/>\n",
            "<img alt=\"The Free Encyclopedia\" class=\"mw-logo-tagline\" height=\"13\" src=\"/static/images/mobile/copyright/wikipedia-tagline-en.svg\" style=\"width: 7.3125em; height: 0.8125em;\" width=\"117\"/>\n",
            "</span>\n",
            "</a>\n",
            "</div>\n",
            "<div class=\"vector-header-end\">\n",
            "<div class=\"vector-search-box-vue vector-search-box-collapses vector-search-box-show-thumbnail vector-search-box-auto-expand-width vector-search-box\" id=\"p-search\" role=\"search\">\n",
            "<a accesskey=\"f\" class=\"cdx-button cdx-button--fake-button cdx-button--fake-button--enabled cdx-button--weight-quiet cdx-button--icon-only search-toggle\" href=\"/wiki/Special:Search\" id=\"\" title=\"Search Wikipedia [f]\"><span class=\"vector-icon mw-ui-icon-search mw-ui-icon-wikimedia-search\"></span>\n",
            "<span>Search</span>\n",
            "</a>\n",
            "<div class=\"vector-typeahead-search-container\">\n",
            "<div class=\"cdx-typeahead-search cdx-typeahead-search--show-thumbnail cdx-typeahead-search--auto-expand-width\">\n",
            "<form action=\"/w/index.php\" class=\"cdx-search-input cdx-search-input--has-end-button\" id=\"searchform\">\n",
            "<div class=\"cdx-search-input__input-wrapper\" data-search-loc=\"header-moved\" id=\"simpleSearch\">\n",
            "<div class=\"cdx-text-input cdx-text-input--has-start-icon\">\n",
            "<input accesskey=\"f\" aria-label=\"Search Wikipedia\" autocapitalize=\"sentences\" class=\"cdx-text-input__input\" id=\"searchInput\" name=\"search\" placeholder=\"Search Wikipedia\" title=\"Search Wikipedia [f]\" type=\"search\"/>\n",
            "<span class=\"cdx-text-input__icon cdx-text-input__start-icon\"></span>\n",
            "</div>\n",
            "<input name=\"title\" type=\"hidden\" value=\"Special:Search\"/>\n",
            "</div>\n",
            "<button class=\"cdx-button cdx-search-input__end-button\">Search</button>\n",
            "</form>\n",
            "</div>\n",
            "</div>\n",
            "</div>\n",
            "<nav aria-label=\"Personal tools\" class=\"vector-user-links vector-user-links-wide\" role=\"navigation\">\n",
            "<div class=\"vector-user-links-main\">\n",
            "<div class=\"vector-menu mw-portlet emptyPortlet\" id=\"p-vector-user-menu-preferences\">\n",
            "<div class=\"vector-menu-content\">\n",
            "<ul class=\"vector-menu-content-list\">\n",
            "</ul>\n",
            "</div>\n",
            "</div>\n",
            "<div class=\"vector-menu mw-portlet emptyPortlet\" id=\"p-vector-user-menu-userpage\">\n",
            "<div class=\"vector-menu-content\">\n",
            "<ul class=\"vector-menu-content-list\">\n",
            "</ul>\n",
            "</div>\n",
            "</div>\n",
            "<nav aria-label=\"Appearance\" class=\"vector-client-prefs-landmark\">\n",
            "</nav>\n",
            "<div class=\"vector-menu mw-portlet emptyPortlet\" id=\"p-vector-user-menu-notifications\">\n",
            "<div class=\"vector-menu-content\">\n",
            "<ul class=\"vector-menu-content-list\">\n",
            "</ul>\n",
            "</div>\n",
            "</div>\n",
            "<div class=\"vector-menu mw-portlet\" id=\"p-vector-user-menu-overflow\">\n",
            "<div class=\"vector-menu-content\">\n",
            "<ul class=\"vector-menu-content-list\">\n",
            "<li class=\"user-links-collapsible-item mw-list-item user-links-collapsible-item\" id=\"pt-createaccount-2\"><a class=\"\" data-mw=\"interface\" href=\"/w/index.php?title=Special:CreateAccount&amp;returnto=Web+scraping\" title=\"You are encouraged to create an account and log in; however, it is not mandatory\"><span>Create account</span></a>\n",
            "</li>\n",
            "<li class=\"user-links-collapsible-item mw-list-item user-links-collapsible-item\" id=\"pt-login-2\"><a accesskey=\"o\" class=\"\" data-mw=\"interface\" href=\"/w/index.php?title=Special:UserLogin&amp;returnto=Web+scraping\" title=\"You're encouraged to log in; however, it's not mandatory. [o]\"><span>Log in</span></a>\n",
            "</li>\n",
            "</ul>\n",
            "</div>\n",
            "</div>\n",
            "</div>\n",
            "<div class=\"vector-dropdown vector-user-menu vector-button-flush-right vector-user-menu-logged-out\" id=\"vector-user-links-dropdown\" title=\"Log in and more options\">\n",
            "<input aria-haspopup=\"true\" aria-label=\"Personal tools\" class=\"vector-dropdown-checkbox\" data-event-name=\"ui.dropdown-vector-user-links-dropdown\" id=\"vector-user-links-dropdown-checkbox\" role=\"button\" type=\"checkbox\"/>\n",
            "<label aria-hidden=\"true\" class=\"vector-dropdown-label cdx-button cdx-button--fake-button cdx-button--fake-button--enabled cdx-button--weight-quiet cdx-button--icon-only\" for=\"vector-user-links-dropdown-checkbox\" id=\"vector-user-links-dropdown-label\"><span class=\"vector-icon mw-ui-icon-ellipsis mw-ui-icon-wikimedia-ellipsis\"></span>\n",
            "<span class=\"vector-dropdown-label-text\">Personal tools</span>\n",
            "</label>\n",
            "<div class=\"vector-dropdown-content\">\n",
            "<div class=\"vector-menu mw-portlet mw-portlet-personal user-links-collapsible-item\" id=\"p-personal\" title=\"User menu\">\n",
            "<div class=\"vector-menu-content\">\n",
            "<ul class=\"vector-menu-content-list\">\n",
            "<li class=\"user-links-collapsible-item mw-list-item\" id=\"pt-createaccount\"><a href=\"/w/index.php?title=Special:CreateAccount&amp;returnto=Web+scraping\" title=\"You are encouraged to create an account and log in; however, it is not mandatory\"><span class=\"vector-icon mw-ui-icon-userAdd mw-ui-icon-wikimedia-userAdd\"></span> <span>Create account</span></a></li><li class=\"user-links-collapsible-item mw-list-item\" id=\"pt-login\"><a accesskey=\"o\" href=\"/w/index.php?title=Special:UserLogin&amp;returnto=Web+scraping\" title=\"You're encouraged to log in; however, it's not mandatory. [o]\"><span class=\"vector-icon mw-ui-icon-logIn mw-ui-icon-wikimedia-logIn\"></span> <span>Log in</span></a></li>\n",
            "</ul>\n",
            "</div>\n",
            "</div>\n",
            "<div class=\"vector-menu mw-portlet mw-portlet-user-menu-anon-editor\" id=\"p-user-menu-anon-editor\">\n",
            "<div class=\"vector-menu-heading\">\n",
            "\t\tPages for logged out editors <a aria-label=\"Learn more about editing\" href=\"/wiki/Help:Introduction\"><span>learn more</span></a>\n",
            "</div>\n",
            "<div class=\"vector-menu-content\">\n",
            "<ul class=\"vector-menu-content-list\">\n",
            "<li class=\"mw-list-item\" id=\"pt-anoncontribs\"><a accesskey=\"y\" href=\"/wiki/Special:MyContributions\" title=\"A list of edits made from this IP address [y]\"><span>Contributions</span></a></li><li class=\"mw-list-item\" id=\"pt-anontalk\"><a accesskey=\"n\" href=\"/wiki/Special:MyTalk\" title=\"Discussion about edits from this IP address [n]\"><span>Talk</span></a></li>\n",
            "</ul>\n",
            "</div>\n",
            "</div>\n",
            "</div>\n",
            "</div>\n",
            "</nav>\n",
            "</div>\n",
            "</header>\n",
            "</div>\n",
            "<div class=\"mw-page-container\">\n",
            "<div class=\"mw-page-container-inner\">\n",
            "<div class=\"vector-sitenotice-container\">\n",
            "<div id=\"siteNotice\"><!-- CentralNotice --></div>\n",
            "</div>\n",
            "<div class=\"vector-column-start\">\n",
            "<div class=\"vector-main-menu-container\">\n",
            "<div id=\"mw-navigation\">\n",
            "<nav aria-label=\"Site\" class=\"vector-main-menu-landmark\" id=\"mw-panel\" role=\"navigation\">\n",
            "<div class=\"vector-pinned-container\" id=\"vector-main-menu-pinned-container\">\n",
            "</div>\n",
            "</nav>\n",
            "</div>\n",
            "</div>\n",
            "<div class=\"vector-sticky-pinned-container\">\n",
            "<nav aria-label=\"Contents\" class=\"mw-table-of-contents-container vector-toc-landmark\" data-event-name=\"ui.sidebar-toc\" id=\"mw-panel-toc\" role=\"navigation\">\n",
            "<div class=\"vector-pinned-container\" id=\"vector-toc-pinned-container\">\n",
            "<div class=\"vector-toc vector-pinnable-element\" id=\"vector-toc\">\n",
            "<div class=\"vector-pinnable-header vector-toc-pinnable-header vector-pinnable-header-pinned\" data-feature-name=\"toc-pinned\" data-pinnable-element-id=\"vector-toc\">\n",
            "<h2 class=\"vector-pinnable-header-label\">Contents</h2>\n",
            "<button class=\"vector-pinnable-header-toggle-button vector-pinnable-header-pin-button\" data-event-name=\"pinnable-header.vector-toc.pin\">move to sidebar</button>\n",
            "<button class=\"vector-pinnable-header-toggle-button vector-pinnable-header-unpin-button\" data-event-name=\"pinnable-header.vector-toc.unpin\">hide</button>\n",
            "</div>\n",
            "<ul class=\"vector-toc-contents\" id=\"mw-panel-toc-list\">\n",
            "<li class=\"vector-toc-list-item vector-toc-level-1\" id=\"toc-mw-content-text\">\n",
            "<a class=\"vector-toc-link\" href=\"#\">\n",
            "<div class=\"vector-toc-text\">(Top)</div>\n",
            "</a>\n",
            "</li>\n",
            "<li class=\"vector-toc-list-item vector-toc-level-1 vector-toc-list-item-expanded\" id=\"toc-History\">\n",
            "<a class=\"vector-toc-link\" href=\"#History\">\n",
            "<div class=\"vector-toc-text\">\n",
            "<span class=\"vector-toc-numb\">1</span>History</div>\n",
            "</a>\n",
            "<ul class=\"vector-toc-list\" id=\"toc-History-sublist\">\n",
            "</ul>\n",
            "</li>\n",
            "<li class=\"vector-toc-list-item vector-toc-level-1 vector-toc-list-item-expanded\" id=\"toc-Techniques\">\n",
            "<a class=\"vector-toc-link\" href=\"#Techniques\">\n",
            "<div class=\"vector-toc-text\">\n",
            "<span class=\"vector-toc-numb\">2</span>Techniques</div>\n",
            "</a>\n",
            "<button aria-controls=\"toc-Techniques-sublist\" class=\"cdx-button cdx-button--weight-quiet cdx-button--icon-only vector-toc-toggle\">\n",
            "<span class=\"vector-icon vector-icon--x-small mw-ui-icon-wikimedia-expand\"></span>\n",
            "<span>Toggle Techniques subsection</span>\n",
            "</button>\n",
            "<ul class=\"vector-toc-list\" id=\"toc-Techniques-sublist\">\n",
            "<li class=\"vector-toc-list-item vector-toc-level-2\" id=\"toc-Human_copy-and-paste\">\n",
            "<a class=\"vector-toc-link\" href=\"#Human_copy-and-paste\">\n",
            "<div class=\"vector-toc-text\">\n",
            "<span class=\"vector-toc-numb\">2.1</span>Human copy-and-paste</div>\n",
            "</a>\n",
            "<ul class=\"vector-toc-list\" id=\"toc-Human_copy-and-paste-sublist\">\n",
            "</ul>\n",
            "</li>\n",
            "<li class=\"vector-toc-list-item vector-toc-level-2\" id=\"toc-Text_pattern_matching\">\n",
            "<a class=\"vector-toc-link\" href=\"#Text_pattern_matching\">\n",
            "<div class=\"vector-toc-text\">\n",
            "<span class=\"vector-toc-numb\">2.2</span>Text pattern matching</div>\n",
            "</a>\n",
            "<ul class=\"vector-toc-list\" id=\"toc-Text_pattern_matching-sublist\">\n",
            "</ul>\n",
            "</li>\n",
            "<li class=\"vector-toc-list-item vector-toc-level-2\" id=\"toc-HTTP_programming\">\n",
            "<a class=\"vector-toc-link\" href=\"#HTTP_programming\">\n",
            "<div class=\"vector-toc-text\">\n",
            "<span class=\"vector-toc-numb\">2.3</span>HTTP programming</div>\n",
            "</a>\n",
            "<ul class=\"vector-toc-list\" id=\"toc-HTTP_programming-sublist\">\n",
            "</ul>\n",
            "</li>\n",
            "<li class=\"vector-toc-list-item vector-toc-level-2\" id=\"toc-HTML_parsing\">\n",
            "<a class=\"vector-toc-link\" href=\"#HTML_parsing\">\n",
            "<div class=\"vector-toc-text\">\n",
            "<span class=\"vector-toc-numb\">2.4</span>HTML parsing</div>\n",
            "</a>\n",
            "<ul class=\"vector-toc-list\" id=\"toc-HTML_parsing-sublist\">\n",
            "</ul>\n",
            "</li>\n",
            "<li class=\"vector-toc-list-item vector-toc-level-2\" id=\"toc-DOM_parsing\">\n",
            "<a class=\"vector-toc-link\" href=\"#DOM_parsing\">\n",
            "<div class=\"vector-toc-text\">\n",
            "<span class=\"vector-toc-numb\">2.5</span>DOM parsing</div>\n",
            "</a>\n",
            "<ul class=\"vector-toc-list\" id=\"toc-DOM_parsing-sublist\">\n",
            "</ul>\n",
            "</li>\n",
            "<li class=\"vector-toc-list-item vector-toc-level-2\" id=\"toc-Vertical_aggregation\">\n",
            "<a class=\"vector-toc-link\" href=\"#Vertical_aggregation\">\n",
            "<div class=\"vector-toc-text\">\n",
            "<span class=\"vector-toc-numb\">2.6</span>Vertical aggregation</div>\n",
            "</a>\n",
            "<ul class=\"vector-toc-list\" id=\"toc-Vertical_aggregation-sublist\">\n",
            "</ul>\n",
            "</li>\n",
            "<li class=\"vector-toc-list-item vector-toc-level-2\" id=\"toc-Semantic_annotation_recognizing\">\n",
            "<a class=\"vector-toc-link\" href=\"#Semantic_annotation_recognizing\">\n",
            "<div class=\"vector-toc-text\">\n",
            "<span class=\"vector-toc-numb\">2.7</span>Semantic annotation recognizing</div>\n",
            "</a>\n",
            "<ul class=\"vector-toc-list\" id=\"toc-Semantic_annotation_recognizing-sublist\">\n",
            "</ul>\n",
            "</li>\n",
            "<li class=\"vector-toc-list-item vector-toc-level-2\" id=\"toc-Computer_vision_web-page_analysis\">\n",
            "<a class=\"vector-toc-link\" href=\"#Computer_vision_web-page_analysis\">\n",
            "<div class=\"vector-toc-text\">\n",
            "<span class=\"vector-toc-numb\">2.8</span>Computer vision web-page analysis</div>\n",
            "</a>\n",
            "<ul class=\"vector-toc-list\" id=\"toc-Computer_vision_web-page_analysis-sublist\">\n",
            "</ul>\n",
            "</li>\n",
            "</ul>\n",
            "</li>\n",
            "<li class=\"vector-toc-list-item vector-toc-level-1 vector-toc-list-item-expanded\" id=\"toc-Software\">\n",
            "<a class=\"vector-toc-link\" href=\"#Software\">\n",
            "<div class=\"vector-toc-text\">\n",
            "<span class=\"vector-toc-numb\">3</span>Software</div>\n",
            "</a>\n",
            "<ul class=\"vector-toc-list\" id=\"toc-Software-sublist\">\n",
            "</ul>\n",
            "</li>\n",
            "<li class=\"vector-toc-list-item vector-toc-level-1 vector-toc-list-item-expanded\" id=\"toc-Legal_issues\">\n",
            "<a class=\"vector-toc-link\" href=\"#Legal_issues\">\n",
            "<div class=\"vector-toc-text\">\n",
            "<span class=\"vector-toc-numb\">4</span>Legal issues</div>\n",
            "</a>\n",
            "<button aria-controls=\"toc-Legal_issues-sublist\" class=\"cdx-button cdx-button--weight-quiet cdx-button--icon-only vector-toc-toggle\">\n",
            "<span class=\"vector-icon vector-icon--x-small mw-ui-icon-wikimedia-expand\"></span>\n",
            "<span>Toggle Legal issues subsection</span>\n",
            "</button>\n",
            "<ul class=\"vector-toc-list\" id=\"toc-Legal_issues-sublist\">\n",
            "<li class=\"vector-toc-list-item vector-toc-level-2\" id=\"toc-United_States\">\n",
            "<a class=\"vector-toc-link\" href=\"#United_States\">\n",
            "<div class=\"vector-toc-text\">\n",
            "<span class=\"vector-toc-numb\">4.1</span>United States</div>\n",
            "</a>\n",
            "<ul class=\"vector-toc-list\" id=\"toc-United_States-sublist\">\n",
            "</ul>\n",
            "</li>\n",
            "<li class=\"vector-toc-list-item vector-toc-level-2\" id=\"toc-European_Union\">\n",
            "<a class=\"vector-toc-link\" href=\"#European_Union\">\n",
            "<div class=\"vector-toc-text\">\n",
            "<span class=\"vector-toc-numb\">4.2</span>European Union</div>\n",
            "</a>\n",
            "<ul class=\"vector-toc-list\" id=\"toc-European_Union-sublist\">\n",
            "</ul>\n",
            "</li>\n",
            "<li class=\"vector-toc-list-item vector-toc-level-2\" id=\"toc-Australia\">\n",
            "<a class=\"vector-toc-link\" href=\"#Australia\">\n",
            "<div class=\"vector-toc-text\">\n",
            "<span class=\"vector-toc-numb\">4.3</span>Australia</div>\n",
            "</a>\n",
            "<ul class=\"vector-toc-list\" id=\"toc-Australia-sublist\">\n",
            "</ul>\n",
            "</li>\n",
            "<li class=\"vector-toc-list-item vector-toc-level-2\" id=\"toc-India\">\n",
            "<a class=\"vector-toc-link\" href=\"#India\">\n",
            "<div class=\"vector-toc-text\">\n",
            "<span class=\"vector-toc-numb\">4.4</span>India</div>\n",
            "</a>\n",
            "<ul class=\"vector-toc-list\" id=\"toc-India-sublist\">\n",
            "</ul>\n",
            "</li>\n",
            "</ul>\n",
            "</li>\n",
            "<li class=\"vector-toc-list-item vector-toc-level-1 vector-toc-list-item-expanded\" id=\"toc-Methods_to_prevent_web_scraping\">\n",
            "<a class=\"vector-toc-link\" href=\"#Methods_to_prevent_web_scraping\">\n",
            "<div class=\"vector-toc-text\">\n",
            "<span class=\"vector-toc-numb\">5</span>Methods to prevent web scraping</div>\n",
            "</a>\n",
            "<ul class=\"vector-toc-list\" id=\"toc-Methods_to_prevent_web_scraping-sublist\">\n",
            "</ul>\n",
            "</li>\n",
            "<li class=\"vector-toc-list-item vector-toc-level-1 vector-toc-list-item-expanded\" id=\"toc-See_also\">\n",
            "<a class=\"vector-toc-link\" href=\"#See_also\">\n",
            "<div class=\"vector-toc-text\">\n",
            "<span class=\"vector-toc-numb\">6</span>See also</div>\n",
            "</a>\n",
            "<ul class=\"vector-toc-list\" id=\"toc-See_also-sublist\">\n",
            "</ul>\n",
            "</li>\n",
            "<li class=\"vector-toc-list-item vector-toc-level-1 vector-toc-list-item-expanded\" id=\"toc-References\">\n",
            "<a class=\"vector-toc-link\" href=\"#References\">\n",
            "<div class=\"vector-toc-text\">\n",
            "<span class=\"vector-toc-numb\">7</span>References</div>\n",
            "</a>\n",
            "<ul class=\"vector-toc-list\" id=\"toc-References-sublist\">\n",
            "</ul>\n",
            "</li>\n",
            "</ul>\n",
            "</div>\n",
            "</div>\n",
            "</nav>\n",
            "</div>\n",
            "</div>\n",
            "<div class=\"mw-content-container\">\n",
            "<main class=\"mw-body\" id=\"content\" role=\"main\">\n",
            "<header class=\"mw-body-header vector-page-titlebar\">\n",
            "<nav aria-label=\"Contents\" class=\"vector-toc-landmark\" role=\"navigation\">\n",
            "<div class=\"vector-dropdown vector-page-titlebar-toc vector-button-flush-left\" id=\"vector-page-titlebar-toc\">\n",
            "<input aria-haspopup=\"true\" aria-label=\"Toggle the table of contents\" class=\"vector-dropdown-checkbox\" data-event-name=\"ui.dropdown-vector-page-titlebar-toc\" id=\"vector-page-titlebar-toc-checkbox\" role=\"button\" type=\"checkbox\"/>\n",
            "<label aria-hidden=\"true\" class=\"vector-dropdown-label cdx-button cdx-button--fake-button cdx-button--fake-button--enabled cdx-button--weight-quiet cdx-button--icon-only\" for=\"vector-page-titlebar-toc-checkbox\" id=\"vector-page-titlebar-toc-label\"><span class=\"vector-icon mw-ui-icon-listBullet mw-ui-icon-wikimedia-listBullet\"></span>\n",
            "<span class=\"vector-dropdown-label-text\">Toggle the table of contents</span>\n",
            "</label>\n",
            "<div class=\"vector-dropdown-content\">\n",
            "<div class=\"vector-unpinned-container\" id=\"vector-page-titlebar-toc-unpinned-container\">\n",
            "</div>\n",
            "</div>\n",
            "</div>\n",
            "</nav>\n",
            "<h1 class=\"firstHeading mw-first-heading\" id=\"firstHeading\"><span class=\"mw-page-title-main\">Web scraping</span></h1>\n",
            "<div class=\"vector-dropdown mw-portlet mw-portlet-lang\" id=\"p-lang-btn\">\n",
            "<input aria-haspopup=\"true\" aria-label=\"Go to an article in another language. Available in 22 languages\" class=\"vector-dropdown-checkbox mw-interlanguage-selector\" data-event-name=\"ui.dropdown-p-lang-btn\" id=\"p-lang-btn-checkbox\" role=\"button\" type=\"checkbox\"/>\n",
            "<label aria-hidden=\"true\" class=\"vector-dropdown-label cdx-button cdx-button--fake-button cdx-button--fake-button--enabled cdx-button--weight-quiet cdx-button--action-progressive mw-portlet-lang-heading-22\" for=\"p-lang-btn-checkbox\" id=\"p-lang-btn-label\"><span class=\"vector-icon mw-ui-icon-language-progressive mw-ui-icon-wikimedia-language-progressive\"></span>\n",
            "<span class=\"vector-dropdown-label-text\">22 languages</span>\n",
            "</label>\n",
            "<div class=\"vector-dropdown-content\">\n",
            "<div class=\"vector-menu-content\">\n",
            "<ul class=\"vector-menu-content-list\">\n",
            "<li class=\"interlanguage-link interwiki-ar mw-list-item\"><a class=\"interlanguage-link-target\" href=\"https://ar.wikipedia.org/wiki/%D8%AA%D8%AC%D8%B1%D9%8A%D9%81_%D9%88%D9%8A%D8%A8\" hreflang=\"ar\" lang=\"ar\" title=\"تجريف ويب – Arabic\"><span>العربية</span></a></li><li class=\"interlanguage-link interwiki-ca mw-list-item\"><a class=\"interlanguage-link-target\" href=\"https://ca.wikipedia.org/wiki/Web_scraping\" hreflang=\"ca\" lang=\"ca\" title=\"Web scraping – Catalan\"><span>Català</span></a></li><li class=\"interlanguage-link interwiki-cs mw-list-item\"><a class=\"interlanguage-link-target\" href=\"https://cs.wikipedia.org/wiki/Web_scraping\" hreflang=\"cs\" lang=\"cs\" title=\"Web scraping – Czech\"><span>Čeština</span></a></li><li class=\"interlanguage-link interwiki-ary mw-list-item\"><a class=\"interlanguage-link-target\" href=\"https://ary.wikipedia.org/wiki/%D8%AA%D8%BA%D8%B1%D8%A7%D9%81_%D9%84%D9%88%D9%8A%D8%A8\" hreflang=\"ary\" lang=\"ary\" title=\"تغراف لويب – Moroccan Arabic\"><span>الدارجة</span></a></li><li class=\"interlanguage-link interwiki-de mw-list-item\"><a class=\"interlanguage-link-target\" href=\"https://de.wikipedia.org/wiki/Screen_Scraping\" hreflang=\"de\" lang=\"de\" title=\"Screen Scraping – German\"><span>Deutsch</span></a></li><li class=\"interlanguage-link interwiki-es mw-list-item\"><a class=\"interlanguage-link-target\" href=\"https://es.wikipedia.org/wiki/Web_scraping\" hreflang=\"es\" lang=\"es\" title=\"Web scraping – Spanish\"><span>Español</span></a></li><li class=\"interlanguage-link interwiki-eu mw-list-item\"><a class=\"interlanguage-link-target\" href=\"https://eu.wikipedia.org/wiki/Web_scraping\" hreflang=\"eu\" lang=\"eu\" title=\"Web scraping – Basque\"><span>Euskara</span></a></li><li class=\"interlanguage-link interwiki-fa mw-list-item\"><a class=\"interlanguage-link-target\" href=\"https://fa.wikipedia.org/wiki/%D9%88%D8%A8_%D8%A7%D8%B3%DA%A9%D8%B1%D9%BE%DB%8C%D9%86%DA%AF\" hreflang=\"fa\" lang=\"fa\" title=\"وب اسکرپینگ – Persian\"><span>فارسی</span></a></li><li class=\"interlanguage-link interwiki-fr mw-list-item\"><a class=\"interlanguage-link-target\" href=\"https://fr.wikipedia.org/wiki/Web_scraping\" hreflang=\"fr\" lang=\"fr\" title=\"Web scraping – French\"><span>Français</span></a></li><li class=\"interlanguage-link interwiki-ko mw-list-item\"><a class=\"interlanguage-link-target\" href=\"https://ko.wikipedia.org/wiki/%EC%9B%B9_%EC%8A%A4%ED%81%AC%EB%9E%98%ED%95%91\" hreflang=\"ko\" lang=\"ko\" title=\"웹 스크래핑 – Korean\"><span>한국어</span></a></li><li class=\"interlanguage-link interwiki-id mw-list-item\"><a class=\"interlanguage-link-target\" href=\"https://id.wikipedia.org/wiki/Menggali_web\" hreflang=\"id\" lang=\"id\" title=\"Menggali web – Indonesian\"><span>Bahasa Indonesia</span></a></li><li class=\"interlanguage-link interwiki-is mw-list-item\"><a class=\"interlanguage-link-target\" href=\"https://is.wikipedia.org/wiki/Vefs%C3%B6fnun\" hreflang=\"is\" lang=\"is\" title=\"Vefsöfnun – Icelandic\"><span>Íslenska</span></a></li><li class=\"interlanguage-link interwiki-it mw-list-item\"><a class=\"interlanguage-link-target\" href=\"https://it.wikipedia.org/wiki/Web_scraping\" hreflang=\"it\" lang=\"it\" title=\"Web scraping – Italian\"><span>Italiano</span></a></li><li class=\"interlanguage-link interwiki-lv mw-list-item\"><a class=\"interlanguage-link-target\" href=\"https://lv.wikipedia.org/wiki/Rasmo%C5%A1ana\" hreflang=\"lv\" lang=\"lv\" title=\"Rasmošana – Latvian\"><span>Latviešu</span></a></li><li class=\"interlanguage-link interwiki-nl mw-list-item\"><a class=\"interlanguage-link-target\" href=\"https://nl.wikipedia.org/wiki/Scrapen\" hreflang=\"nl\" lang=\"nl\" title=\"Scrapen – Dutch\"><span>Nederlands</span></a></li><li class=\"interlanguage-link interwiki-ja mw-list-item\"><a class=\"interlanguage-link-target\" href=\"https://ja.wikipedia.org/wiki/%E3%82%A6%E3%82%A7%E3%83%96%E3%82%B9%E3%82%AF%E3%83%AC%E3%82%A4%E3%83%94%E3%83%B3%E3%82%B0\" hreflang=\"ja\" lang=\"ja\" title=\"ウェブスクレイピング – Japanese\"><span>日本語</span></a></li><li class=\"interlanguage-link interwiki-pt mw-list-item\"><a class=\"interlanguage-link-target\" href=\"https://pt.wikipedia.org/wiki/Coleta_de_dados_web\" hreflang=\"pt\" lang=\"pt\" title=\"Coleta de dados web – Portuguese\"><span>Português</span></a></li><li class=\"interlanguage-link interwiki-ru mw-list-item\"><a class=\"interlanguage-link-target\" href=\"https://ru.wikipedia.org/wiki/%D0%92%D0%B5%D0%B1-%D1%81%D0%BA%D1%80%D0%B5%D0%B9%D0%BF%D0%B8%D0%BD%D0%B3\" hreflang=\"ru\" lang=\"ru\" title=\"Веб-скрейпинг – Russian\"><span>Русский</span></a></li><li class=\"interlanguage-link interwiki-tr mw-list-item\"><a class=\"interlanguage-link-target\" href=\"https://tr.wikipedia.org/wiki/Web_kaz%C4%B1ma\" hreflang=\"tr\" lang=\"tr\" title=\"Web kazıma – Turkish\"><span>Türkçe</span></a></li><li class=\"interlanguage-link interwiki-uk mw-list-item\"><a class=\"interlanguage-link-target\" href=\"https://uk.wikipedia.org/wiki/Web_scraping\" hreflang=\"uk\" lang=\"uk\" title=\"Web scraping – Ukrainian\"><span>Українська</span></a></li><li class=\"interlanguage-link interwiki-zh-yue mw-list-item\"><a class=\"interlanguage-link-target\" href=\"https://zh-yue.wikipedia.org/wiki/%E7%B6%B2%E9%A0%81%E5%88%AE%E6%96%99\" hreflang=\"yue\" lang=\"yue\" title=\"網頁刮料 – Cantonese\"><span>粵語</span></a></li><li class=\"interlanguage-link interwiki-zh mw-list-item\"><a class=\"interlanguage-link-target\" href=\"https://zh.wikipedia.org/wiki/%E7%BD%91%E9%A1%B5%E6%8A%93%E5%8F%96\" hreflang=\"zh\" lang=\"zh\" title=\"网页抓取 – Chinese\"><span>中文</span></a></li>\n",
            "</ul>\n",
            "<div class=\"after-portlet after-portlet-lang\"><span class=\"wb-langlinks-edit wb-langlinks-link\"><a class=\"wbc-editpage\" href=\"https://www.wikidata.org/wiki/Special:EntityPage/Q665452#sitelinks-wikipedia\" title=\"Edit interlanguage links\">Edit links</a></span></div>\n",
            "</div>\n",
            "</div>\n",
            "</div>\n",
            "</header>\n",
            "<div class=\"vector-page-toolbar\">\n",
            "<div class=\"vector-page-toolbar-container\">\n",
            "<div id=\"left-navigation\">\n",
            "<nav aria-label=\"Namespaces\">\n",
            "<div class=\"vector-menu vector-menu-tabs mw-portlet mw-portlet-associated-pages\" id=\"p-associated-pages\">\n",
            "<div class=\"vector-menu-content\">\n",
            "<ul class=\"vector-menu-content-list\">\n",
            "<li class=\"selected vector-tab-noicon mw-list-item\" id=\"ca-nstab-main\"><a accesskey=\"c\" href=\"/wiki/Web_scraping\" title=\"View the content page [c]\"><span>Article</span></a></li><li class=\"vector-tab-noicon mw-list-item\" id=\"ca-talk\"><a accesskey=\"t\" href=\"/wiki/Talk:Web_scraping\" rel=\"discussion\" title=\"Discuss improvements to the content page [t]\"><span>Talk</span></a></li>\n",
            "</ul>\n",
            "</div>\n",
            "</div>\n",
            "<div class=\"vector-dropdown emptyPortlet\" id=\"p-variants\">\n",
            "<input aria-haspopup=\"true\" aria-label=\"Change language variant\" class=\"vector-dropdown-checkbox\" data-event-name=\"ui.dropdown-p-variants\" id=\"p-variants-checkbox\" role=\"button\" type=\"checkbox\"/>\n",
            "<label aria-hidden=\"true\" class=\"vector-dropdown-label cdx-button cdx-button--fake-button cdx-button--fake-button--enabled cdx-button--weight-quiet\" for=\"p-variants-checkbox\" id=\"p-variants-label\"><span class=\"vector-dropdown-label-text\">English</span>\n",
            "</label>\n",
            "<div class=\"vector-dropdown-content\">\n",
            "<div class=\"vector-menu mw-portlet mw-portlet-variants emptyPortlet\" id=\"p-variants\">\n",
            "<div class=\"vector-menu-content\">\n",
            "<ul class=\"vector-menu-content-list\">\n",
            "</ul>\n",
            "</div>\n",
            "</div>\n",
            "</div>\n",
            "</div>\n",
            "</nav>\n",
            "</div>\n",
            "<div class=\"vector-collapsible\" id=\"right-navigation\">\n",
            "<nav aria-label=\"Views\">\n",
            "<div class=\"vector-menu vector-menu-tabs mw-portlet mw-portlet-views\" id=\"p-views\">\n",
            "<div class=\"vector-menu-content\">\n",
            "<ul class=\"vector-menu-content-list\">\n",
            "<li class=\"selected vector-tab-noicon mw-list-item\" id=\"ca-view\"><a href=\"/wiki/Web_scraping\"><span>Read</span></a></li><li class=\"vector-tab-noicon mw-list-item\" id=\"ca-edit\"><a accesskey=\"e\" href=\"/w/index.php?title=Web_scraping&amp;action=edit\" title=\"Edit this page [e]\"><span>Edit</span></a></li><li class=\"vector-tab-noicon mw-list-item\" id=\"ca-history\"><a accesskey=\"h\" href=\"/w/index.php?title=Web_scraping&amp;action=history\" title=\"Past revisions of this page [h]\"><span>View history</span></a></li>\n",
            "</ul>\n",
            "</div>\n",
            "</div>\n",
            "</nav>\n",
            "<nav aria-label=\"Page tools\" class=\"vector-page-tools-landmark\">\n",
            "<div class=\"vector-dropdown vector-page-tools-dropdown\" id=\"vector-page-tools-dropdown\">\n",
            "<input aria-haspopup=\"true\" aria-label=\"Tools\" class=\"vector-dropdown-checkbox\" data-event-name=\"ui.dropdown-vector-page-tools-dropdown\" id=\"vector-page-tools-dropdown-checkbox\" role=\"button\" type=\"checkbox\"/>\n",
            "<label aria-hidden=\"true\" class=\"vector-dropdown-label cdx-button cdx-button--fake-button cdx-button--fake-button--enabled cdx-button--weight-quiet\" for=\"vector-page-tools-dropdown-checkbox\" id=\"vector-page-tools-dropdown-label\"><span class=\"vector-dropdown-label-text\">Tools</span>\n",
            "</label>\n",
            "<div class=\"vector-dropdown-content\">\n",
            "<div class=\"vector-unpinned-container\" id=\"vector-page-tools-unpinned-container\">\n",
            "<div class=\"vector-page-tools vector-pinnable-element\" id=\"vector-page-tools\">\n",
            "<div class=\"vector-pinnable-header vector-page-tools-pinnable-header vector-pinnable-header-unpinned\" data-feature-name=\"page-tools-pinned\" data-pinnable-element-id=\"vector-page-tools\" data-pinned-container-id=\"vector-page-tools-pinned-container\" data-unpinned-container-id=\"vector-page-tools-unpinned-container\">\n",
            "<div class=\"vector-pinnable-header-label\">Tools</div>\n",
            "<button class=\"vector-pinnable-header-toggle-button vector-pinnable-header-pin-button\" data-event-name=\"pinnable-header.vector-page-tools.pin\">move to sidebar</button>\n",
            "<button class=\"vector-pinnable-header-toggle-button vector-pinnable-header-unpin-button\" data-event-name=\"pinnable-header.vector-page-tools.unpin\">hide</button>\n",
            "</div>\n",
            "<div class=\"vector-menu mw-portlet mw-portlet-cactions emptyPortlet vector-has-collapsible-items\" id=\"p-cactions\" title=\"More options\">\n",
            "<div class=\"vector-menu-heading\">\n",
            "\t\tActions\n",
            "\t</div>\n",
            "<div class=\"vector-menu-content\">\n",
            "<ul class=\"vector-menu-content-list\">\n",
            "<li class=\"selected vector-more-collapsible-item mw-list-item\" id=\"ca-more-view\"><a href=\"/wiki/Web_scraping\"><span>Read</span></a></li><li class=\"vector-more-collapsible-item mw-list-item\" id=\"ca-more-edit\"><a accesskey=\"e\" href=\"/w/index.php?title=Web_scraping&amp;action=edit\" title=\"Edit this page [e]\"><span>Edit</span></a></li><li class=\"vector-more-collapsible-item mw-list-item\" id=\"ca-more-history\"><a href=\"/w/index.php?title=Web_scraping&amp;action=history\"><span>View history</span></a></li>\n",
            "</ul>\n",
            "</div>\n",
            "</div>\n",
            "<div class=\"vector-menu mw-portlet mw-portlet-tb\" id=\"p-tb\">\n",
            "<div class=\"vector-menu-heading\">\n",
            "\t\tGeneral\n",
            "\t</div>\n",
            "<div class=\"vector-menu-content\">\n",
            "<ul class=\"vector-menu-content-list\">\n",
            "<li class=\"mw-list-item\" id=\"t-whatlinkshere\"><a accesskey=\"j\" href=\"/wiki/Special:WhatLinksHere/Web_scraping\" title=\"List of all English Wikipedia pages containing links to this page [j]\"><span>What links here</span></a></li><li class=\"mw-list-item\" id=\"t-recentchangeslinked\"><a accesskey=\"k\" href=\"/wiki/Special:RecentChangesLinked/Web_scraping\" rel=\"nofollow\" title=\"Recent changes in pages linked from this page [k]\"><span>Related changes</span></a></li><li class=\"mw-list-item\" id=\"t-upload\"><a accesskey=\"u\" href=\"/wiki/Wikipedia:File_Upload_Wizard\" title=\"Upload files [u]\"><span>Upload file</span></a></li><li class=\"mw-list-item\" id=\"t-specialpages\"><a accesskey=\"q\" href=\"/wiki/Special:SpecialPages\" title=\"A list of all special pages [q]\"><span>Special pages</span></a></li><li class=\"mw-list-item\" id=\"t-permalink\"><a href=\"/w/index.php?title=Web_scraping&amp;oldid=1207633199\" title=\"Permanent link to this revision of this page\"><span>Permanent link</span></a></li><li class=\"mw-list-item\" id=\"t-info\"><a href=\"/w/index.php?title=Web_scraping&amp;action=info\" title=\"More information about this page\"><span>Page information</span></a></li><li class=\"mw-list-item\" id=\"t-cite\"><a href=\"/w/index.php?title=Special:CiteThisPage&amp;page=Web_scraping&amp;id=1207633199&amp;wpFormIdentifier=titleform\" title=\"Information on how to cite this page\"><span>Cite this page</span></a></li><li class=\"mw-list-item\" id=\"t-urlshortener\"><a href=\"/w/index.php?title=Special:UrlShortener&amp;url=https%3A%2F%2Fen.wikipedia.org%2Fwiki%2FWeb_scraping\"><span>Get shortened URL</span></a></li><li class=\"mw-list-item\" id=\"t-urlshortener-qrcode\"><a href=\"/w/index.php?title=Special:QrCode&amp;url=https%3A%2F%2Fen.wikipedia.org%2Fwiki%2FWeb_scraping\"><span>Download QR code</span></a></li><li class=\"mw-list-item\" id=\"t-wikibase\"><a accesskey=\"g\" href=\"https://www.wikidata.org/wiki/Special:EntityPage/Q665452\" title=\"Structured data on this page hosted by Wikidata [g]\"><span>Wikidata item</span></a></li>\n",
            "</ul>\n",
            "</div>\n",
            "</div>\n",
            "<div class=\"vector-menu mw-portlet mw-portlet-coll-print_export\" id=\"p-coll-print_export\">\n",
            "<div class=\"vector-menu-heading\">\n",
            "\t\tPrint/export\n",
            "\t</div>\n",
            "<div class=\"vector-menu-content\">\n",
            "<ul class=\"vector-menu-content-list\">\n",
            "<li class=\"mw-list-item\" id=\"coll-download-as-rl\"><a href=\"/w/index.php?title=Special:DownloadAsPdf&amp;page=Web_scraping&amp;action=show-download-screen\" title=\"Download this page as a PDF file\"><span>Download as PDF</span></a></li><li class=\"mw-list-item\" id=\"t-print\"><a accesskey=\"p\" href=\"/w/index.php?title=Web_scraping&amp;printable=yes\" title=\"Printable version of this page [p]\"><span>Printable version</span></a></li>\n",
            "</ul>\n",
            "</div>\n",
            "</div>\n",
            "</div>\n",
            "</div>\n",
            "</div>\n",
            "</div>\n",
            "</nav>\n",
            "</div>\n",
            "</div>\n",
            "</div>\n",
            "<div class=\"vector-column-end\">\n",
            "<div class=\"vector-sticky-pinned-container\">\n",
            "<nav aria-label=\"Page tools\" class=\"vector-page-tools-landmark\">\n",
            "<div class=\"vector-pinned-container\" id=\"vector-page-tools-pinned-container\">\n",
            "</div>\n",
            "</nav>\n",
            "<nav aria-label=\"Appearance\" class=\"vector-client-prefs-landmark\">\n",
            "</nav>\n",
            "</div>\n",
            "</div>\n",
            "<div aria-labelledby=\"firstHeading\" class=\"vector-body\" data-mw-ve-target-container=\"\" id=\"bodyContent\">\n",
            "<div class=\"vector-body-before-content\">\n",
            "<div class=\"mw-indicators\">\n",
            "</div>\n",
            "<div class=\"noprint\" id=\"siteSub\">From Wikipedia, the free encyclopedia</div>\n",
            "</div>\n",
            "<div id=\"contentSub\"><div id=\"mw-content-subtitle\"></div></div>\n",
            "<div class=\"mw-body-content\" id=\"mw-content-text\"><div class=\"mw-content-ltr mw-parser-output\" dir=\"ltr\" lang=\"en\"><style data-mw-deduplicate=\"TemplateStyles:r1033289096\">.mw-parser-output .hatnote{font-style:italic}.mw-parser-output div.hatnote{padding-left:1.6em;margin-bottom:0.5em}.mw-parser-output .hatnote i{font-style:normal}.mw-parser-output .hatnote+link+.hatnote{margin-top:-0.5em}</style><div class=\"hatnote navigation-not-searchable\" role=\"note\">For broader coverage of this topic, see <a href=\"/wiki/Data_scraping\" title=\"Data scraping\">Data scraping</a>.</div>\n",
            "<div class=\"shortdescription nomobile noexcerpt noprint searchaux\" style=\"display:none\">Data scraping used for extracting data from websites</div>\n",
            "<link href=\"mw-data:TemplateStyles:r1033289096\" rel=\"mw-deduplicated-inline-style\"/><div class=\"hatnote navigation-not-searchable\" role=\"note\">\"Web scraper\" redirects here. For websites that scrape content, see <a href=\"/wiki/Scraper_site\" title=\"Scraper site\">Scraper site</a>.</div>\n",
            "<style data-mw-deduplicate=\"TemplateStyles:r1097763485\">.mw-parser-output .ambox{border:1px solid #a2a9b1;border-left:10px solid #36c;background-color:#fbfbfb;box-sizing:border-box}.mw-parser-output .ambox+link+.ambox,.mw-parser-output .ambox+link+style+.ambox,.mw-parser-output .ambox+link+link+.ambox,.mw-parser-output .ambox+.mw-empty-elt+link+.ambox,.mw-parser-output .ambox+.mw-empty-elt+link+style+.ambox,.mw-parser-output .ambox+.mw-empty-elt+link+link+.ambox{margin-top:-1px}html body.mediawiki .mw-parser-output .ambox.mbox-small-left{margin:4px 1em 4px 0;overflow:hidden;width:238px;border-collapse:collapse;font-size:88%;line-height:1.25em}.mw-parser-output .ambox-speedy{border-left:10px solid #b32424;background-color:#fee7e6}.mw-parser-output .ambox-delete{border-left:10px solid #b32424}.mw-parser-output .ambox-content{border-left:10px solid #f28500}.mw-parser-output .ambox-style{border-left:10px solid #fc3}.mw-parser-output .ambox-move{border-left:10px solid #9932cc}.mw-parser-output .ambox-protection{border-left:10px solid #a2a9b1}.mw-parser-output .ambox .mbox-text{border:none;padding:0.25em 0.5em;width:100%}.mw-parser-output .ambox .mbox-image{border:none;padding:2px 0 2px 0.5em;text-align:center}.mw-parser-output .ambox .mbox-imageright{border:none;padding:2px 0.5em 2px 0;text-align:center}.mw-parser-output .ambox .mbox-empty-cell{border:none;padding:0;width:1px}.mw-parser-output .ambox .mbox-image-div{width:52px}html.client-js body.skin-minerva .mw-parser-output .mbox-text-span{margin-left:23px!important}@media(min-width:720px){.mw-parser-output .ambox{margin:0 10%}}</style><table class=\"box-More_citations_needed plainlinks metadata ambox ambox-content ambox-Refimprove\" role=\"presentation\"><tbody><tr><td class=\"mbox-image\"><div class=\"mbox-image-div\"><span typeof=\"mw:File\"><a class=\"mw-file-description\" href=\"/wiki/File:Question_book-new.svg\"><img alt=\"\" class=\"mw-file-element\" data-file-height=\"399\" data-file-width=\"512\" decoding=\"async\" height=\"39\" src=\"//upload.wikimedia.org/wikipedia/en/thumb/9/99/Question_book-new.svg/50px-Question_book-new.svg.png\" srcset=\"//upload.wikimedia.org/wikipedia/en/thumb/9/99/Question_book-new.svg/75px-Question_book-new.svg.png 1.5x, //upload.wikimedia.org/wikipedia/en/thumb/9/99/Question_book-new.svg/100px-Question_book-new.svg.png 2x\" width=\"50\"/></a></span></div></td><td class=\"mbox-text\"><div class=\"mbox-text-span\">This article <b>needs additional citations for <a href=\"/wiki/Wikipedia:Verifiability\" title=\"Wikipedia:Verifiability\">verification</a></b>.<span class=\"hide-when-compact\"> Please help <a href=\"/wiki/Special:EditPage/Web_scraping\" title=\"Special:EditPage/Web scraping\">improve this article</a> by <a href=\"/wiki/Help:Referencing_for_beginners\" title=\"Help:Referencing for beginners\">adding citations to reliable sources</a>. Unsourced material may be challenged and removed.<br/><small><span class=\"plainlinks\"><i>Find sources:</i> <a class=\"external text\" href=\"https://www.google.com/search?as_eq=wikipedia&amp;q=%22Web+scraping%22\" rel=\"nofollow\">\"Web scraping\"</a> – <a class=\"external text\" href=\"https://www.google.com/search?tbm=nws&amp;q=%22Web+scraping%22+-wikipedia&amp;tbs=ar:1\" rel=\"nofollow\">news</a> <b>·</b> <a class=\"external text\" href=\"https://www.google.com/search?&amp;q=%22Web+scraping%22&amp;tbs=bkt:s&amp;tbm=bks\" rel=\"nofollow\">newspapers</a> <b>·</b> <a class=\"external text\" href=\"https://www.google.com/search?tbs=bks:1&amp;q=%22Web+scraping%22+-wikipedia\" rel=\"nofollow\">books</a> <b>·</b> <a class=\"external text\" href=\"https://scholar.google.com/scholar?q=%22Web+scraping%22\" rel=\"nofollow\">scholar</a> <b>·</b> <a class=\"external text\" href=\"https://www.jstor.org/action/doBasicSearch?Query=%22Web+scraping%22&amp;acc=on&amp;wc=on\" rel=\"nofollow\">JSTOR</a></span></small></span> <span class=\"date-container\"><i>(<span class=\"date\">April 2023</span>)</i></span><span class=\"hide-when-compact\"><i> (<small><a href=\"/wiki/Help:Maintenance_template_removal\" title=\"Help:Maintenance template removal\">Learn how and when to remove this template message</a></small>)</i></span></div></td></tr></tbody></table>\n",
            "<p><b>Web scraping</b>, <b>web harvesting</b>, or <b>web data extraction</b> is <a href=\"/wiki/Data_scraping\" title=\"Data scraping\">data scraping</a> used for <a href=\"/wiki/Data_extraction\" title=\"Data extraction\">extracting data</a> from <a href=\"/wiki/Website\" title=\"Website\">websites</a>.<sup class=\"reference\" id=\"cite_ref-1\"><a href=\"#cite_note-1\">[1]</a></sup> Web scraping software may directly access the <a href=\"/wiki/World_Wide_Web\" title=\"World Wide Web\">World Wide Web</a> using the <a class=\"mw-redirect\" href=\"/wiki/Hypertext_Transfer_Protocol\" title=\"Hypertext Transfer Protocol\">Hypertext Transfer Protocol</a> or a web browser. While web scraping can be done manually by a software user, the term typically refers to automated processes implemented using a <a href=\"/wiki/Internet_bot\" title=\"Internet bot\">bot</a> or <a href=\"/wiki/Web_crawler\" title=\"Web crawler\">web crawler</a>. It is a form of copying in which specific data is gathered and copied from the web, typically into a central local <a href=\"/wiki/Database\" title=\"Database\">database</a> or spreadsheet, for later <a href=\"/wiki/Data_retrieval\" title=\"Data retrieval\">retrieval</a> or <a href=\"/wiki/Data_analysis\" title=\"Data analysis\">analysis</a>.\n",
            "</p><p>Scraping a web page involves fetching it and extracting from it. Fetching is the downloading of a page (which a browser does when a user views a page). Therefore, web crawling is a main component of web scraping, to fetch pages for later processing. Once fetched, extraction can take place. The content of a page may be <a href=\"/wiki/Parsing\" title=\"Parsing\">parsed</a>, searched and reformatted, and its data copied into a spreadsheet or loaded into a database. Web scrapers typically take something out of a page, to make use of it for another purpose somewhere else. An example would be finding and copying names and telephone numbers, companies and their URLs, or e-mail addresses to a list (contact scraping).\n",
            "</p><p>As well as <a href=\"/wiki/Contact_scraping\" title=\"Contact scraping\">contact scraping</a>, web scraping is used as a component of applications used for <a href=\"/wiki/Web_indexing\" title=\"Web indexing\">web indexing</a>, <a class=\"mw-redirect\" href=\"/wiki/Web_mining\" title=\"Web mining\">web mining</a> and <a href=\"/wiki/Data_mining\" title=\"Data mining\">data mining</a>, online price change monitoring and <a href=\"/wiki/Comparison_shopping_website\" title=\"Comparison shopping website\">price comparison</a>, product review scraping (to watch the competition), gathering real estate listings, weather data monitoring, <a href=\"/wiki/Change_detection_and_notification\" title=\"Change detection and notification\">website change detection</a>, research, tracking online presence and reputation, <a class=\"mw-redirect\" href=\"/wiki/Web_mashup\" title=\"Web mashup\">web mashup</a>, and <a href=\"/wiki/Web_data_integration\" title=\"Web data integration\">web data integration</a>.\n",
            "</p><p><a href=\"/wiki/Web_page\" title=\"Web page\">Web pages</a> are built using text-based mark-up languages (<a href=\"/wiki/HTML\" title=\"HTML\">HTML</a> and <a href=\"/wiki/XHTML\" title=\"XHTML\">XHTML</a>), and frequently contain a wealth of useful data in text form. However, most web pages are designed for human <a class=\"mw-redirect\" href=\"/wiki/End-user_(computer_science)\" title=\"End-user (computer science)\">end-users</a> and not for ease of automated use. As a result, specialized tools and software have been developed to facilitate the scraping of web pages.\n",
            "</p><p>Newer forms of web scraping involve monitoring data feeds from web servers.  For example, <a href=\"/wiki/JSON\" title=\"JSON\">JSON</a> is commonly used as a transport mechanism between the client and the web server.\n",
            "</p><p>There are methods that some websites use to prevent web scraping, such as detecting and disallowing bots from crawling (viewing) their pages. In response, there are web scraping systems that rely on using techniques in <a href=\"/wiki/Document_Object_Model\" title=\"Document Object Model\">DOM</a> parsing, <a href=\"/wiki/Computer_vision\" title=\"Computer vision\">computer vision</a> and <a href=\"/wiki/Natural_language_processing\" title=\"Natural language processing\">natural language processing</a> to simulate human browsing to enable gathering web page content for offline parsing\n",
            "</p>\n",
            "<meta property=\"mw:PageProp/toc\">\n",
            "<h2><span class=\"mw-headline\" id=\"History\">History</span><span class=\"mw-editsection\"><span class=\"mw-editsection-bracket\">[</span><a href=\"/w/index.php?title=Web_scraping&amp;action=edit&amp;section=1\" title=\"Edit section: History\"><span>edit</span></a><span class=\"mw-editsection-bracket\">]</span></span></h2>\n",
            "<ul><li>After the birth of the <a href=\"/wiki/History_of_the_World_Wide_Web\" title=\"History of the World Wide Web\"><b>World Wide Web</b></a> in 1989, the first web robot,<sup class=\"reference\" id=\"cite_ref-2\"><a href=\"#cite_note-2\">[2]</a></sup> <b><a href=\"/wiki/World_Wide_Web_Wanderer\" title=\"World Wide Web Wanderer\">World Wide Web Wanderer</a></b>, was created in June 1993, which was intended only to measure the size of the web.</li>\n",
            "<li>In December 1993, the first <b>crawler-based web search engine</b>, <a href=\"/wiki/JumpStation\" title=\"JumpStation\">JumpStation</a>, was launched. As there were fewer websites available on the web, search engines at that time used to rely on human administrators to collect and format links. In comparison, JumpStation was the first WWW search engine to rely on a web robot.</li>\n",
            "<li>In 2000, the <b>first Web API and API crawler</b> were created. An <a class=\"mw-redirect\" href=\"/wiki/Application_programming_interface\" title=\"Application programming interface\">API</a> (<b>Application Programming Interface)</b> is an interface that makes it much easier to develop a program by providing the building blocks. In 2000, <a class=\"mw-redirect\" href=\"/wiki/Salesforce.com\" title=\"Salesforce.com\">Salesforce</a> and <a href=\"/wiki/EBay\" title=\"EBay\">eBay</a> launched their own API, with which programmers could access and download some of the data available to the public. Since then, many websites offer web APIs for people to access their public database.</li></ul>\n",
            "<h2><span class=\"mw-headline\" id=\"Techniques\">Techniques</span><span class=\"mw-editsection\"><span class=\"mw-editsection-bracket\">[</span><a href=\"/w/index.php?title=Web_scraping&amp;action=edit&amp;section=2\" title=\"Edit section: Techniques\"><span>edit</span></a><span class=\"mw-editsection-bracket\">]</span></span></h2>\n",
            "<p>Web scraping is the process of automatically mining data or collecting information from the World Wide Web. It is a field with active developments sharing a common goal with the <a class=\"mw-redirect\" href=\"/wiki/Semantic_web\" title=\"Semantic web\">semantic web</a> vision, an ambitious initiative that still requires breakthroughs in text processing, semantic understanding, artificial intelligence and <a class=\"mw-redirect\" href=\"/wiki/Human-computer_interaction\" title=\"Human-computer interaction\">human-computer interactions</a>.\n",
            "</p>\n",
            "<h3><span class=\"mw-headline\" id=\"Human_copy-and-paste\">Human copy-and-paste</span><span class=\"mw-editsection\"><span class=\"mw-editsection-bracket\">[</span><a href=\"/w/index.php?title=Web_scraping&amp;action=edit&amp;section=3\" title=\"Edit section: Human copy-and-paste\"><span>edit</span></a><span class=\"mw-editsection-bracket\">]</span></span></h3>\n",
            "<p>The simplest form of web scraping is manually copying and pasting data from a web page into a text file or spreadsheet. Sometimes even the best web-scraping technology cannot replace a human's manual examination and copy-and-paste, and sometimes this may be the only workable solution when the websites for scraping explicitly set up barriers to prevent machine automation.\n",
            "</p>\n",
            "<h3><span class=\"mw-headline\" id=\"Text_pattern_matching\">Text pattern matching</span><span class=\"mw-editsection\"><span class=\"mw-editsection-bracket\">[</span><a href=\"/w/index.php?title=Web_scraping&amp;action=edit&amp;section=4\" title=\"Edit section: Text pattern matching\"><span>edit</span></a><span class=\"mw-editsection-bracket\">]</span></span></h3>\n",
            "<p>A simple yet powerful approach to extract information from web pages can be based on the UNIX <a href=\"/wiki/Grep\" title=\"Grep\">grep</a> command or <a href=\"/wiki/Regular_expression\" title=\"Regular expression\">regular expression</a>-matching facilities of programming languages (for instance <a href=\"/wiki/Perl\" title=\"Perl\">Perl</a> or <a href=\"/wiki/Python_(programming_language)\" title=\"Python (programming language)\">Python</a>).\n",
            "</p>\n",
            "<h3><span class=\"mw-headline\" id=\"HTTP_programming\">HTTP programming</span><span class=\"mw-editsection\"><span class=\"mw-editsection-bracket\">[</span><a href=\"/w/index.php?title=Web_scraping&amp;action=edit&amp;section=5\" title=\"Edit section: HTTP programming\"><span>edit</span></a><span class=\"mw-editsection-bracket\">]</span></span></h3>\n",
            "<p><a href=\"/wiki/Static_web_page\" title=\"Static web page\">Static</a> and <a href=\"/wiki/Dynamic_web_page\" title=\"Dynamic web page\">dynamic web pages</a> can be retrieved by posting HTTP requests to the remote web server using <a class=\"mw-redirect\" href=\"/wiki/Socket_programming\" title=\"Socket programming\">socket programming</a>.\n",
            "</p>\n",
            "<h3><span class=\"mw-headline\" id=\"HTML_parsing\">HTML parsing</span><span class=\"mw-editsection\"><span class=\"mw-editsection-bracket\">[</span><a href=\"/w/index.php?title=Web_scraping&amp;action=edit&amp;section=6\" title=\"Edit section: HTML parsing\"><span>edit</span></a><span class=\"mw-editsection-bracket\">]</span></span></h3>\n",
            "<p>Many websites have large collections of pages generated dynamically from an underlying structured source like a database. Data of the same category are typically encoded into similar pages by a common script or template. In data mining, a program that detects such templates in a particular information source, extracts its content, and translates it into a relational form, is called a <a href=\"/wiki/Wrapper_(data_mining)\" title=\"Wrapper (data mining)\">wrapper</a>. Wrapper generation algorithms assume that input pages of a wrapper induction system conform to a common template and that they can be easily identified in terms of a URL common scheme.<sup class=\"reference\" id=\"cite_ref-3\"><a href=\"#cite_note-3\">[3]</a></sup> Moreover, some <a href=\"/wiki/Semi-structured_data\" title=\"Semi-structured data\">semi-structured data</a> query languages, such as <a href=\"/wiki/XQuery\" title=\"XQuery\">XQuery</a> and the HTQL, can be used to parse HTML pages and to retrieve and transform page content.\n",
            "</p>\n",
            "<h3><span class=\"mw-headline\" id=\"DOM_parsing\">DOM parsing</span><span class=\"mw-editsection\"><span class=\"mw-editsection-bracket\">[</span><a href=\"/w/index.php?title=Web_scraping&amp;action=edit&amp;section=7\" title=\"Edit section: DOM parsing\"><span>edit</span></a><span class=\"mw-editsection-bracket\">]</span></span></h3>\n",
            "<link href=\"mw-data:TemplateStyles:r1033289096\" rel=\"mw-deduplicated-inline-style\"/><div class=\"hatnote navigation-not-searchable\" role=\"note\">Further information: <a href=\"/wiki/Document_Object_Model\" title=\"Document Object Model\">Document Object Model</a></div>\n",
            "<p>By embedding a full-fledged web browser, such as the <a href=\"/wiki/Internet_Explorer\" title=\"Internet Explorer\">Internet Explorer</a> or the <a href=\"/wiki/Mozilla\" title=\"Mozilla\">Mozilla</a> browser control, programs can retrieve the dynamic content generated by client-side scripts. These browser controls also parse web pages into a DOM tree, based on which programs can retrieve parts of the pages. Languages such as <a href=\"/wiki/XPath\" title=\"XPath\">Xpath</a> can be used to parse the resulting DOM tree.\n",
            "</p>\n",
            "<h3><span class=\"mw-headline\" id=\"Vertical_aggregation\">Vertical aggregation</span><span class=\"mw-editsection\"><span class=\"mw-editsection-bracket\">[</span><a href=\"/w/index.php?title=Web_scraping&amp;action=edit&amp;section=8\" title=\"Edit section: Vertical aggregation\"><span>edit</span></a><span class=\"mw-editsection-bracket\">]</span></span></h3>\n",
            "<p>There are several companies that have developed vertical specific harvesting platforms. These platforms create and monitor a multitude of \"bots\" for specific verticals with no \"man in the loop\" (no direct human involvement), and no work related to a specific target site. The preparation involves establishing the knowledge base for the entire vertical and then the platform creates the bots automatically. The platform's robustness is measured by the quality of the information it retrieves (usually number of fields) and its scalability (how quick it can scale up to hundreds or thousands of sites). This scalability is mostly used to target the <a class=\"mw-redirect\" href=\"/wiki/Long_Tail\" title=\"Long Tail\">Long Tail</a> of sites that common aggregators find complicated or too labor-intensive to harvest content from.\n",
            "</p>\n",
            "<h3><span class=\"mw-headline\" id=\"Semantic_annotation_recognizing\">Semantic annotation recognizing</span><span class=\"mw-editsection\"><span class=\"mw-editsection-bracket\">[</span><a href=\"/w/index.php?title=Web_scraping&amp;action=edit&amp;section=9\" title=\"Edit section: Semantic annotation recognizing\"><span>edit</span></a><span class=\"mw-editsection-bracket\">]</span></span></h3>\n",
            "<p>The pages being scraped may embrace <a href=\"/wiki/Metadata\" title=\"Metadata\">metadata</a> or semantic markups and annotations, which can be used to locate specific data snippets. If the annotations are embedded in the pages, as <a href=\"/wiki/Microformat\" title=\"Microformat\">Microformat</a> does, this technique can be viewed as a special case of DOM parsing. In another case, the annotations, organized into a semantic layer,<sup class=\"reference\" id=\"cite_ref-4\"><a href=\"#cite_note-4\">[4]</a></sup> are stored and managed separately from the web pages, so the scrapers can retrieve data schema and instructions from this layer before scraping the pages.\n",
            "</p>\n",
            "<h3><span class=\"mw-headline\" id=\"Computer_vision_web-page_analysis\">Computer vision web-page analysis</span><span class=\"mw-editsection\"><span class=\"mw-editsection-bracket\">[</span><a href=\"/w/index.php?title=Web_scraping&amp;action=edit&amp;section=10\" title=\"Edit section: Computer vision web-page analysis\"><span>edit</span></a><span class=\"mw-editsection-bracket\">]</span></span></h3>\n",
            "<p>There are efforts using <a href=\"/wiki/Machine_learning\" title=\"Machine learning\">machine learning</a> and <a href=\"/wiki/Computer_vision\" title=\"Computer vision\">computer vision</a> that attempt to identify and extract information from web pages by interpreting pages visually as a human being might.<sup class=\"reference\" id=\"cite_ref-5\"><a href=\"#cite_note-5\">[5]</a></sup>\n",
            "</p>\n",
            "<h2><span class=\"mw-headline\" id=\"Software\">Software</span><span class=\"mw-editsection\"><span class=\"mw-editsection-bracket\">[</span><a href=\"/w/index.php?title=Web_scraping&amp;action=edit&amp;section=11\" title=\"Edit section: Software\"><span>edit</span></a><span class=\"mw-editsection-bracket\">]</span></span></h2>\n",
            "<p>There are many software tools available that can be used to customize web-scraping solutions. This software may attempt to automatically recognize the data structure of a page or provide a recording interface that removes the necessity to manually write web-scraping code, or some scripting functions that can be used to extract and transform content, and database interfaces that can store the scraped data in local databases. Some web scraping software can also be used to extract data from an API directly, others allow to acquire data from websites based on AJAX (with dynamic loading of content) or ones that require a login. Point-and-click software allow individuals who may not have advanced coding skills to benefit from web scraping.<sup class=\"reference\" id=\"cite_ref-6\"><a href=\"#cite_note-6\">[6]</a></sup>\n",
            "</p>\n",
            "<h2><span class=\"mw-headline\" id=\"Legal_issues\">Legal issues</span><span class=\"mw-editsection\"><span class=\"mw-editsection-bracket\">[</span><a href=\"/w/index.php?title=Web_scraping&amp;action=edit&amp;section=12\" title=\"Edit section: Legal issues\"><span>edit</span></a><span class=\"mw-editsection-bracket\">]</span></span></h2>\n",
            "<link href=\"mw-data:TemplateStyles:r1097763485\" rel=\"mw-deduplicated-inline-style\"/><table class=\"box-Globalize plainlinks metadata ambox ambox-content ambox-globalize\" role=\"presentation\"><tbody><tr><td class=\"mbox-image\"><div class=\"mbox-image-div\"><span typeof=\"mw:File\"><span><img alt=\"Globe icon.\" class=\"mw-file-element\" data-file-height=\"290\" data-file-width=\"350\" decoding=\"async\" height=\"40\" src=\"//upload.wikimedia.org/wikipedia/commons/thumb/b/bd/Ambox_globe_content.svg/48px-Ambox_globe_content.svg.png\" srcset=\"//upload.wikimedia.org/wikipedia/commons/thumb/b/bd/Ambox_globe_content.svg/73px-Ambox_globe_content.svg.png 1.5x, //upload.wikimedia.org/wikipedia/commons/thumb/b/bd/Ambox_globe_content.svg/97px-Ambox_globe_content.svg.png 2x\" width=\"48\"/></span></span></div></td><td class=\"mbox-text\"><div class=\"mbox-text-span\">The examples and perspective in this section <b>deal primarily with the United States and do not represent a <a href=\"/wiki/Wikipedia:WikiProject_Countering_systemic_bias\" title=\"Wikipedia:WikiProject Countering systemic bias\">worldwide view</a> of the subject</b>.<span class=\"hide-when-compact\"> You may <a class=\"external text\" href=\"https://en.wikipedia.org/w/index.php?title=Web_scraping&amp;action=edit\">improve this section</a>, discuss the issue on the <a href=\"/wiki/Talk:Web_scraping\" title=\"Talk:Web scraping\">talk page</a>, or create a new section, as appropriate.</span> <span class=\"date-container\"><i>(<span class=\"date\">October 2015</span>)</i></span><span class=\"hide-when-compact\"><i> (<small><a href=\"/wiki/Help:Maintenance_template_removal\" title=\"Help:Maintenance template removal\">Learn how and when to remove this template message</a></small>)</i></span></div></td></tr></tbody></table>\n",
            "<p>The legality of web scraping varies across the world. In general, web scraping may be against the <a href=\"/wiki/Terms_of_service\" title=\"Terms of service\">terms of service</a> of some websites, but the enforceability of these terms is unclear.<sup class=\"reference\" id=\"cite_ref-7\"><a href=\"#cite_note-7\">[7]</a></sup>\n",
            "</p>\n",
            "<h3><span class=\"mw-headline\" id=\"United_States\">United States</span><span class=\"mw-editsection\"><span class=\"mw-editsection-bracket\">[</span><a href=\"/w/index.php?title=Web_scraping&amp;action=edit&amp;section=13\" title=\"Edit section: United States\"><span>edit</span></a><span class=\"mw-editsection-bracket\">]</span></span></h3>\n",
            "<p>In the United States, website owners can use three major <a href=\"/wiki/Cause_of_action\" title=\"Cause of action\">legal claims</a> to prevent undesired web scraping: (1) copyright infringement (compilation), (2) violation of the <a href=\"/wiki/Computer_Fraud_and_Abuse_Act\" title=\"Computer Fraud and Abuse Act\">Computer Fraud and Abuse Act</a> (\"CFAA\"), and (3) <a href=\"/wiki/Trespass_to_chattels\" title=\"Trespass to chattels\">trespass to chattel</a>.<sup class=\"reference\" id=\"cite_ref-8\"><a href=\"#cite_note-8\">[8]</a></sup> However, the effectiveness of these claims relies upon meeting various criteria, and the case law is still evolving. For example, with regard to copyright, while outright duplication of original expression will in many cases be illegal, in the United States the courts ruled in <a href=\"/wiki/Feist_Publications,_Inc.,_v._Rural_Telephone_Service_Co.\" title=\"Feist Publications, Inc., v. Rural Telephone Service Co.\"><i>Feist Publications v. Rural Telephone Service</i></a> that duplication of facts is allowable.\n",
            "</p><p>U.S. courts have acknowledged that users of \"scrapers\" or \"robots\" may be held liable for committing <a href=\"/wiki/Trespass_to_chattels\" title=\"Trespass to chattels\">trespass to chattels</a>,<sup class=\"reference\" id=\"cite_ref-9\"><a href=\"#cite_note-9\">[9]</a></sup><sup class=\"reference\" id=\"cite_ref-10\"><a href=\"#cite_note-10\">[10]</a></sup> which involves a computer system itself being considered personal property upon which the user of a scraper is trespassing. The best known of these cases, <i><a href=\"/wiki/EBay_v._Bidder%27s_Edge\" title=\"EBay v. Bidder's Edge\">eBay v. Bidder's Edge</a></i>, resulted in an injunction ordering Bidder's Edge to stop accessing, collecting, and indexing auctions from the eBay web site. This case involved automatic placing of bids, known as <a href=\"/wiki/Auction_sniping\" title=\"Auction sniping\">auction sniping</a>. However, in order to succeed on a claim of trespass to <a href=\"/wiki/Personal_property\" title=\"Personal property\">chattels</a>, the <a href=\"/wiki/Plaintiff\" title=\"Plaintiff\">plaintiff</a> must demonstrate that the <a href=\"/wiki/Defendant\" title=\"Defendant\">defendant</a> intentionally and without authorization interfered with the plaintiff's possessory interest in the computer system and that the defendant's unauthorized use caused damage to the plaintiff. Not all cases of web spidering brought before the courts have been considered trespass to chattels.<sup class=\"reference\" id=\"cite_ref-11\"><a href=\"#cite_note-11\">[11]</a></sup>\n",
            "</p><p>One of the first major tests of <a class=\"mw-redirect\" href=\"/wiki/Screen_scraping\" title=\"Screen scraping\">screen scraping</a> involved <a href=\"/wiki/American_Airlines\" title=\"American Airlines\">American Airlines</a> (AA), and a firm called FareChase.<sup class=\"reference\" id=\"cite_ref-12\"><a href=\"#cite_note-12\">[12]</a></sup> AA successfully obtained an <a href=\"/wiki/Injunction\" title=\"Injunction\">injunction</a> from a Texas trial court, stopping FareChase from selling software that enables users to compare online fares if the software also searches AA's website. The airline argued that FareChase's websearch software trespassed on AA's servers when it collected the publicly available data. FareChase filed an appeal in March 2003. By June, FareChase and AA agreed to settle and the appeal was dropped.<sup class=\"reference\" id=\"cite_ref-13\"><a href=\"#cite_note-13\">[13]</a></sup>\n",
            "</p><p><a href=\"/wiki/Southwest_Airlines\" title=\"Southwest Airlines\">Southwest Airlines</a> has also challenged screen-scraping practices, and has involved both FareChase and another firm, Outtask, in a legal claim. Southwest Airlines charged that the screen-scraping is Illegal since it is an example of \"Computer Fraud and Abuse\" and has led to \"Damage and Loss\" and \"Unauthorized Access\" of Southwest's site. It also constitutes \"Interference with Business Relations\", \"Trespass\", and \"Harmful Access by Computer\". They also claimed that screen-scraping constitutes what is legally known as \"Misappropriation and Unjust Enrichment\", as well as being a breach of the web site's user agreement. Outtask denied all these claims, claiming that the prevailing law, in this case, should be <a class=\"mw-redirect\" href=\"/wiki/US_Copyright_law\" title=\"US Copyright law\">US Copyright law</a> and that under copyright, the pieces of information being scraped would not be subject to copyright protection. Although the cases were never resolved in the <a href=\"/wiki/Supreme_Court_of_the_United_States\" title=\"Supreme Court of the United States\">Supreme Court of the United States</a>, FareChase was eventually shuttered by parent company <a href=\"/wiki/Yahoo!\" title=\"Yahoo!\">Yahoo!</a>, and Outtask was purchased by travel expense company Concur.<sup class=\"reference\" id=\"cite_ref-impervawp2011_14-0\"><a href=\"#cite_note-impervawp2011-14\">[14]</a></sup>\n",
            "In 2012, a startup called 3Taps scraped classified housing ads from Craigslist. Craigslist sent 3Taps a cease-and-desist letter and blocked their IP addresses and later sued, in <i><a class=\"mw-redirect\" href=\"/wiki/Craigslist_v._3Taps\" title=\"Craigslist v. 3Taps\">Craigslist v. 3Taps</a></i>. The court held that the cease-and-desist letter and IP blocking was sufficient for Craigslist to properly claim that 3Taps had violated the <a href=\"/wiki/Computer_Fraud_and_Abuse_Act\" title=\"Computer Fraud and Abuse Act\">Computer Fraud and Abuse Act</a>.\n",
            "</p><p>Although these are early scraping decisions, and the theories of liability are not uniform, it is difficult to ignore a pattern emerging that the courts are prepared to protect proprietary content on commercial sites from uses which are undesirable to the owners of such sites. However, the degree of protection for such content is not settled and will depend on the type of access made by the scraper, the amount of information accessed and copied, the degree to which the access adversely affects the site owner's system and the types and manner of prohibitions on such conduct.<sup class=\"reference\" id=\"cite_ref-15\"><a href=\"#cite_note-15\">[15]</a></sup>\n",
            "</p><p>While the law in this area becomes more settled, entities contemplating using scraping programs to access a public web site should also consider whether such action is authorized by reviewing the terms of use and other terms or notices posted on or made available through the site. In a 2010 ruling in the <i><a class=\"mw-redirect\" href=\"/wiki/Cvent,_Inc.\" title=\"Cvent, Inc.\">Cvent, Inc.</a> v. <a href=\"/wiki/Eventbrite\" title=\"Eventbrite\">Eventbrite, Inc.</a></i> In the United States district court for the eastern district of Virginia, the court ruled that the terms of use should be brought to the users' attention In order for a <a class=\"mw-redirect\" href=\"/wiki/Browse_wrap\" title=\"Browse wrap\">browse wrap</a> contract or license to be enforced.<sup class=\"reference\" id=\"cite_ref-16\"><a href=\"#cite_note-16\">[16]</a></sup> In a 2014 case, filed in the <a href=\"/wiki/United_States_District_Court_for_the_Eastern_District_of_Pennsylvania\" title=\"United States District Court for the Eastern District of Pennsylvania\">United States District Court for the Eastern District of Pennsylvania</a>,<sup class=\"reference\" id=\"cite_ref-17\"><a href=\"#cite_note-17\">[17]</a></sup> e-commerce site <a href=\"/wiki/QVC\" title=\"QVC\">QVC</a> objected to the Pinterest-like shopping aggregator Resultly's 'scraping of QVC's site for real-time pricing data. QVC alleges that Resultly \"excessively crawled\" QVC's retail site (allegedly sending 200-300 search requests to QVC's website per minute, sometimes to up to 36,000 requests per minute) which caused QVC's site to crash for two days, resulting in lost sales for QVC.<sup class=\"reference\" id=\"cite_ref-18\"><a href=\"#cite_note-18\">[18]</a></sup> QVC's complaint alleges that the defendant disguised its web crawler to mask its source IP address and thus prevented QVC from quickly repairing the problem. This is a particularly interesting scraping case because QVC is seeking damages for the unavailability of their website, which QVC claims was caused by Resultly.\n",
            "</p><p>In the plaintiff's web site during the period of this trial, the terms of use link are displayed among all the links of the site, at the bottom of the page as most sites on the internet. This ruling contradicts the Irish ruling described below. The court also rejected the plaintiff's argument that the browse-wrap restrictions were enforceable in view of Virginia's adoption of the Uniform Computer Information Transactions Act (UCITA)—a uniform law that many believed was in favor on common browse-wrap contracting practices.<sup class=\"reference\" id=\"cite_ref-19\"><a href=\"#cite_note-19\">[19]</a></sup>\n",
            "</p><p>In <i><a href=\"/wiki/Facebook,_Inc._v._Power_Ventures,_Inc.\" title=\"Facebook, Inc. v. Power Ventures, Inc.\">Facebook, Inc. v. Power Ventures, Inc.</a></i>, a district court ruled in 2012 that Power Ventures could not scrape Facebook pages on behalf of a Facebook user. The case is on appeal, and the <a href=\"/wiki/Electronic_Frontier_Foundation\" title=\"Electronic Frontier Foundation\">Electronic Frontier Foundation</a> filed a brief in 2015 asking that it be overturned.<sup class=\"reference\" id=\"cite_ref-20\"><a href=\"#cite_note-20\">[20]</a></sup><sup class=\"reference\" id=\"cite_ref-21\"><a href=\"#cite_note-21\">[21]</a></sup> In <i><a href=\"/wiki/Associated_Press_v._Meltwater_U.S._Holdings,_Inc.\" title=\"Associated Press v. Meltwater U.S. Holdings, Inc.\">Associated Press v. Meltwater U.S. Holdings, Inc.</a></i>, a court in the US held Meltwater liable for scraping and republishing news information from the Associated Press, but a court in the United Kingdom held in favor of Meltwater.\n",
            "</p><p><a href=\"/wiki/Internet_Archive\" title=\"Internet Archive\">Internet Archive</a> collects and distributes a significant number of publicly available web pages without being considered to be in violation of copyright laws.<sup class=\"noprint Inline-Template Template-Fact\" style=\"white-space:nowrap;\">[<i><a href=\"/wiki/Wikipedia:Citation_needed\" title=\"Wikipedia:Citation needed\"><span title=\"This claim needs references to reliable sources. (April 2023)\">citation needed</span></a></i>]</sup>\n",
            "</p>\n",
            "<h3><span class=\"mw-headline\" id=\"European_Union\">European Union</span><span class=\"mw-editsection\"><span class=\"mw-editsection-bracket\">[</span><a href=\"/w/index.php?title=Web_scraping&amp;action=edit&amp;section=14\" title=\"Edit section: European Union\"><span>edit</span></a><span class=\"mw-editsection-bracket\">]</span></span></h3>\n",
            "<p>In February 2006, the <a href=\"/wiki/Maritime_and_Commercial_Court_(Denmark)\" title=\"Maritime and Commercial Court (Denmark)\">Danish Maritime and Commercial Court</a> (Copenhagen) ruled that systematic crawling, indexing, and deep linking by portal site ofir.dk of real estate site Home.dk does not conflict with Danish law or the database directive of the European Union.<sup class=\"reference\" id=\"cite_ref-22\"><a href=\"#cite_note-22\">[22]</a></sup>\n",
            "</p><p>In a February 2010 case complicated by matters of jurisdiction, Ireland's High Court delivered a verdict that illustrates the <a href=\"/wiki/Inchoate_offense\" title=\"Inchoate offense\">inchoate</a> state of developing case law. In the case of <i>Ryanair Ltd v Billigfluege.de GmbH</i>, Ireland's High Court ruled <a href=\"/wiki/Ryanair\" title=\"Ryanair\">Ryanair's</a> \"<a href=\"/wiki/Clickwrap\" title=\"Clickwrap\">click-wrap</a>\" agreement to be legally binding. In contrast to the findings of the United States District Court Eastern District of Virginia and those of the Danish Maritime and Commercial Court, Justice <a href=\"/wiki/Michael_Hanna_(judge)\" title=\"Michael Hanna (judge)\">Michael Hanna</a> ruled that the hyperlink to Ryanair's terms and conditions was plainly visible, and that placing the onus on the user to agree to terms and conditions in order to gain access to online services is sufficient to comprise a contractual relationship.<sup class=\"reference\" id=\"cite_ref-23\"><a href=\"#cite_note-23\">[23]</a></sup> The decision is under appeal in Ireland's Supreme Court.<sup class=\"reference\" id=\"cite_ref-24\"><a href=\"#cite_note-24\">[24]</a></sup>\n",
            "</p><p>On April 30, 2020, the French Data Protection Authority (CNIL) released new guidelines on web scraping.<sup class=\"reference\" id=\"cite_ref-25\"><a href=\"#cite_note-25\">[25]</a></sup> The CNIL guidelines made it clear that publicly available data is still personal data and cannot be repurposed without the knowledge of the person to whom that data belongs.<sup class=\"reference\" id=\"cite_ref-26\"><a href=\"#cite_note-26\">[26]</a></sup>\n",
            "</p>\n",
            "<h3><span class=\"mw-headline\" id=\"Australia\">Australia</span><span class=\"mw-editsection\"><span class=\"mw-editsection-bracket\">[</span><a href=\"/w/index.php?title=Web_scraping&amp;action=edit&amp;section=15\" title=\"Edit section: Australia\"><span>edit</span></a><span class=\"mw-editsection-bracket\">]</span></span></h3>\n",
            "<p>In Australia, the <a href=\"/wiki/Spam_Act_2003\" title=\"Spam Act 2003\">Spam Act 2003</a> outlaws some forms of web harvesting, although this only applies to email addresses.<sup class=\"reference\" id=\"cite_ref-27\"><a href=\"#cite_note-27\">[27]</a></sup><sup class=\"reference\" id=\"cite_ref-28\"><a href=\"#cite_note-28\">[28]</a></sup>\n",
            "</p>\n",
            "<h3><span class=\"mw-headline\" id=\"India\">India</span><span class=\"mw-editsection\"><span class=\"mw-editsection-bracket\">[</span><a href=\"/w/index.php?title=Web_scraping&amp;action=edit&amp;section=16\" title=\"Edit section: India\"><span>edit</span></a><span class=\"mw-editsection-bracket\">]</span></span></h3>\n",
            "<p>Leaving a few cases dealing with IPR infringement, Indian courts have not expressly ruled on the legality of web scraping. However, since all common forms of electronic contracts are enforceable in India, violating the terms of use prohibiting data scraping will be a violation of the contract law. It will also violate the <a href=\"/wiki/Information_Technology_Act,_2000#:~:text=From_Wikipedia,_the_free_encyclopedia_The_Information_Technology,in_India_dealing_with_cybercrime_and_electronic_commerce.\" title=\"Information Technology Act, 2000\">Information Technology Act, 2000</a>, which penalizes unauthorized access to a computer resource or extracting data from a computer resource.\n",
            "</p>\n",
            "<h2><span class=\"mw-headline\" id=\"Methods_to_prevent_web_scraping\">Methods to prevent web scraping</span><span class=\"mw-editsection\"><span class=\"mw-editsection-bracket\">[</span><a href=\"/w/index.php?title=Web_scraping&amp;action=edit&amp;section=17\" title=\"Edit section: Methods to prevent web scraping\"><span>edit</span></a><span class=\"mw-editsection-bracket\">]</span></span></h2>\n",
            "<p>The administrator of a website can use various measures to stop or slow a bot. Some techniques include:\n",
            "</p>\n",
            "<ul><li>Blocking an <a href=\"/wiki/IP_address\" title=\"IP address\">IP address</a> either manually or based on criteria such as <a class=\"mw-redirect\" href=\"/wiki/Geolocation\" title=\"Geolocation\">geolocation</a> and <a class=\"mw-redirect\" href=\"/wiki/DNSBL\" title=\"DNSBL\">DNSRBL</a>. This will also block all browsing from that address.</li>\n",
            "<li>Disabling any <a href=\"/wiki/Web_service\" title=\"Web service\">web service</a> <a class=\"mw-redirect\" href=\"/wiki/Application_programming_interface\" title=\"Application programming interface\">API</a> that the website's system might expose.</li>\n",
            "<li>Bots sometimes declare who they are (using <a href=\"/wiki/User_agent\" title=\"User agent\">user agent</a> <a href=\"/wiki/String_(computer_science)\" title=\"String (computer science)\">strings</a>) and can be blocked on that basis using <a class=\"mw-redirect\" href=\"/wiki/Robots_exclusion_standard\" title=\"Robots exclusion standard\">robots.txt</a>; '<a href=\"/wiki/Googlebot\" title=\"Googlebot\">googlebot</a>' is an example. Other bots make no distinction between themselves and a human using a browser.</li>\n",
            "<li>Bots can be blocked by monitoring excess traffic</li>\n",
            "<li>Bots can sometimes be blocked with tools to verify that it is a real person accessing the site, like a <a href=\"/wiki/CAPTCHA\" title=\"CAPTCHA\">CAPTCHA</a>. Bots are sometimes coded to explicitly break specific CAPTCHA patterns or may employ third-party services that utilize human labor to read and respond in real-time to CAPTCHA challenges.</li>\n",
            "<li>Commercial anti-bot services: Companies offer anti-bot and anti-scraping services for websites. A few web <a href=\"/wiki/Application_firewall\" title=\"Application firewall\">application firewalls</a> have limited bot detection capabilities as well. However, many such solutions are not very effective.<sup class=\"reference\" id=\"cite_ref-29\"><a href=\"#cite_note-29\">[29]</a></sup></li>\n",
            "<li>Locating bots with a <a href=\"/wiki/Honeypot_(computing)\" title=\"Honeypot (computing)\">honeypot</a> or other method to identify the IP addresses of automated crawlers.</li>\n",
            "<li><a href=\"/wiki/Obfuscation\" title=\"Obfuscation\">Obfuscation</a> using <a class=\"mw-redirect\" href=\"/wiki/CSS_sprite\" title=\"CSS sprite\">CSS sprites</a> to display such data as telephone numbers or email addresses, at the cost of <a href=\"/wiki/Web_accessibility\" title=\"Web accessibility\">accessibility</a> to <a href=\"/wiki/Screen_reader\" title=\"Screen reader\">screen reader</a> users.</li>\n",
            "<li>Because bots rely on consistency in the front-end code of a target website, adding small variations to the HTML/CSS surrounding important data and navigation elements would require more human involvement in the initial set up of a bot and if done effectively may render the target website too difficult to scrape due to the diminished ability to automate the scraping process.</li>\n",
            "<li>Websites can declare if crawling is allowed or not in the <a class=\"mw-redirect\" href=\"/wiki/Robots_exclusion_standard\" title=\"Robots exclusion standard\">robots.txt</a> file and allow partial access, limit the crawl rate, specify the optimal time to crawl and more.</li></ul>\n",
            "<h2><span class=\"mw-headline\" id=\"See_also\">See also</span><span class=\"mw-editsection\"><span class=\"mw-editsection-bracket\">[</span><a href=\"/w/index.php?title=Web_scraping&amp;action=edit&amp;section=18\" title=\"Edit section: See also\"><span>edit</span></a><span class=\"mw-editsection-bracket\">]</span></span></h2>\n",
            "<style data-mw-deduplicate=\"TemplateStyles:r1184024115\">.mw-parser-output .div-col{margin-top:0.3em;column-width:30em}.mw-parser-output .div-col-small{font-size:90%}.mw-parser-output .div-col-rules{column-rule:1px solid #aaa}.mw-parser-output .div-col dl,.mw-parser-output .div-col ol,.mw-parser-output .div-col ul{margin-top:0}.mw-parser-output .div-col li,.mw-parser-output .div-col dd{page-break-inside:avoid;break-inside:avoid-column}</style><div class=\"div-col\" style=\"column-width: 22em;\">\n",
            "<ul><li><a href=\"/wiki/Archive.today\" title=\"Archive.today\">Archive.today</a></li>\n",
            "<li><a href=\"/wiki/Comparison_of_feed_aggregators\" title=\"Comparison of feed aggregators\">Comparison of feed aggregators</a></li>\n",
            "<li><a href=\"/wiki/Data_scraping\" title=\"Data scraping\">Data scraping</a></li>\n",
            "<li><a href=\"/wiki/Data_wrangling\" title=\"Data wrangling\">Data wrangling</a></li>\n",
            "<li><a href=\"/wiki/Importer_(computing)\" title=\"Importer (computing)\">Importer</a></li>\n",
            "<li><a href=\"/wiki/Job_wrapping\" title=\"Job wrapping\">Job wrapping</a></li>\n",
            "<li><a href=\"/wiki/Knowledge_extraction\" title=\"Knowledge extraction\">Knowledge extraction</a></li>\n",
            "<li><a href=\"/wiki/OpenSocial\" title=\"OpenSocial\">OpenSocial</a></li>\n",
            "<li><a href=\"/wiki/Scraper_site\" title=\"Scraper site\">Scraper site</a></li>\n",
            "<li><a href=\"/wiki/Fake_news_website\" title=\"Fake news website\">Fake news website</a></li>\n",
            "<li><a class=\"mw-redirect\" href=\"/wiki/Blog_scraping\" title=\"Blog scraping\">Blog scraping</a></li>\n",
            "<li><a href=\"/wiki/Spamdexing\" title=\"Spamdexing\">Spamdexing</a></li>\n",
            "<li><a href=\"/wiki/Domain_name_drop_list\" title=\"Domain name drop list\">Domain name drop list</a></li>\n",
            "<li><a href=\"/wiki/Text_corpus\" title=\"Text corpus\">Text corpus</a></li>\n",
            "<li><a href=\"/wiki/Web_archiving\" title=\"Web archiving\">Web archiving</a></li>\n",
            "<li><a href=\"/wiki/Web_crawler\" title=\"Web crawler\">Web crawler</a></li>\n",
            "<li><a href=\"/wiki/Offline_reader\" title=\"Offline reader\">Offline reader</a></li>\n",
            "<li><a href=\"/wiki/Link_farm\" title=\"Link farm\">Link farm</a> (blog network)</li>\n",
            "<li><a href=\"/wiki/Search_engine_scraping\" title=\"Search engine scraping\">Search engine scraping</a></li>\n",
            "<li><a href=\"/wiki/Category:Web_crawlers\" title=\"Category:Web crawlers\">Web crawlers</a></li></ul>\n",
            "</div>\n",
            "<h2><span class=\"mw-headline\" id=\"References\">References</span><span class=\"mw-editsection\"><span class=\"mw-editsection-bracket\">[</span><a href=\"/w/index.php?title=Web_scraping&amp;action=edit&amp;section=19\" title=\"Edit section: References\"><span>edit</span></a><span class=\"mw-editsection-bracket\">]</span></span></h2>\n",
            "<style data-mw-deduplicate=\"TemplateStyles:r1011085734\">.mw-parser-output .reflist{font-size:90%;margin-bottom:0.5em;list-style-type:decimal}.mw-parser-output .reflist .references{font-size:100%;margin-bottom:0;list-style-type:inherit}.mw-parser-output .reflist-columns-2{column-width:30em}.mw-parser-output .reflist-columns-3{column-width:25em}.mw-parser-output .reflist-columns{margin-top:0.3em}.mw-parser-output .reflist-columns ol{margin-top:0}.mw-parser-output .reflist-columns li{page-break-inside:avoid;break-inside:avoid-column}.mw-parser-output .reflist-upper-alpha{list-style-type:upper-alpha}.mw-parser-output .reflist-upper-roman{list-style-type:upper-roman}.mw-parser-output .reflist-lower-alpha{list-style-type:lower-alpha}.mw-parser-output .reflist-lower-greek{list-style-type:lower-greek}.mw-parser-output .reflist-lower-roman{list-style-type:lower-roman}</style><div class=\"reflist\">\n",
            "<div class=\"mw-references-wrap mw-references-columns\"><ol class=\"references\">\n",
            "<li id=\"cite_note-1\"><span class=\"mw-cite-backlink\"><b><a href=\"#cite_ref-1\">^</a></b></span> <span class=\"reference-text\"><style data-mw-deduplicate=\"TemplateStyles:r1133582631\">.mw-parser-output cite.citation{font-style:inherit;word-wrap:break-word}.mw-parser-output .citation q{quotes:\"\\\"\"\"\\\"\"\"'\"\"'\"}.mw-parser-output .citation:target{background-color:rgba(0,127,255,0.133)}.mw-parser-output .id-lock-free a,.mw-parser-output .citation .cs1-lock-free a{background:url(\"//upload.wikimedia.org/wikipedia/commons/6/65/Lock-green.svg\")right 0.1em center/9px no-repeat}.mw-parser-output .id-lock-limited a,.mw-parser-output .id-lock-registration a,.mw-parser-output .citation .cs1-lock-limited a,.mw-parser-output .citation .cs1-lock-registration a{background:url(\"//upload.wikimedia.org/wikipedia/commons/d/d6/Lock-gray-alt-2.svg\")right 0.1em center/9px no-repeat}.mw-parser-output .id-lock-subscription a,.mw-parser-output .citation .cs1-lock-subscription a{background:url(\"//upload.wikimedia.org/wikipedia/commons/a/aa/Lock-red-alt-2.svg\")right 0.1em center/9px no-repeat}.mw-parser-output .cs1-ws-icon a{background:url(\"//upload.wikimedia.org/wikipedia/commons/4/4c/Wikisource-logo.svg\")right 0.1em center/12px no-repeat}.mw-parser-output .cs1-code{color:inherit;background:inherit;border:none;padding:inherit}.mw-parser-output .cs1-hidden-error{display:none;color:#d33}.mw-parser-output .cs1-visible-error{color:#d33}.mw-parser-output .cs1-maint{display:none;color:#3a3;margin-left:0.3em}.mw-parser-output .cs1-format{font-size:95%}.mw-parser-output .cs1-kern-left{padding-left:0.2em}.mw-parser-output .cs1-kern-right{padding-right:0.2em}.mw-parser-output .citation .mw-selflink{font-weight:inherit}</style><cite class=\"citation journal cs1\" id=\"CITEREFThapeloNamosheMatsebeMotshegwa2021\">Thapelo, Tsaone Swaabow; Namoshe, Molaletsa; Matsebe, Oduetse; Motshegwa, Tshiamo; Bopape, Mary-Jane Morongwa (2021-07-28). <a class=\"external text\" href=\"https://doi.org/10.5334%2Fdsj-2021-024\" rel=\"nofollow\">\"SASSCAL WebSAPI: A Web Scraping Application Programming Interface to Support Access to SASSCAL's Weather Data\"</a>. <i>Data Science Journal</i>. <b>20</b>: 24. <a class=\"mw-redirect\" href=\"/wiki/Doi_(identifier)\" title=\"Doi (identifier)\">doi</a>:<span class=\"cs1-lock-free\" title=\"Freely accessible\"><a class=\"external text\" href=\"https://doi.org/10.5334%2Fdsj-2021-024\" rel=\"nofollow\">10.5334/dsj-2021-024</a></span>. <a class=\"mw-redirect\" href=\"/wiki/ISSN_(identifier)\" title=\"ISSN (identifier)\">ISSN</a> <a class=\"external text\" href=\"https://www.worldcat.org/issn/1683-1470\" rel=\"nofollow\">1683-1470</a>. <a class=\"mw-redirect\" href=\"/wiki/S2CID_(identifier)\" title=\"S2CID (identifier)\">S2CID</a> <a class=\"external text\" href=\"https://api.semanticscholar.org/CorpusID:237719804\" rel=\"nofollow\">237719804</a>.</cite><span class=\"Z3988\" title=\"ctx_ver=Z39.88-2004&amp;rft_val_fmt=info%3Aofi%2Ffmt%3Akev%3Amtx%3Ajournal&amp;rft.genre=article&amp;rft.jtitle=Data+Science+Journal&amp;rft.atitle=SASSCAL+WebSAPI%3A+A+Web+Scraping+Application+Programming+Interface+to+Support+Access+to+SASSCAL%27s+Weather+Data&amp;rft.volume=20&amp;rft.pages=24&amp;rft.date=2021-07-28&amp;rft_id=https%3A%2F%2Fapi.semanticscholar.org%2FCorpusID%3A237719804%23id-name%3DS2CID&amp;rft.issn=1683-1470&amp;rft_id=info%3Adoi%2F10.5334%2Fdsj-2021-024&amp;rft.aulast=Thapelo&amp;rft.aufirst=Tsaone+Swaabow&amp;rft.au=Namoshe%2C+Molaletsa&amp;rft.au=Matsebe%2C+Oduetse&amp;rft.au=Motshegwa%2C+Tshiamo&amp;rft.au=Bopape%2C+Mary-Jane+Morongwa&amp;rft_id=https%3A%2F%2Fdoi.org%2F10.5334%252Fdsj-2021-024&amp;rfr_id=info%3Asid%2Fen.wikipedia.org%3AWeb+scraping\"></span></span>\n",
            "</li>\n",
            "<li id=\"cite_note-2\"><span class=\"mw-cite-backlink\"><b><a href=\"#cite_ref-2\">^</a></b></span> <span class=\"reference-text\"><link href=\"mw-data:TemplateStyles:r1133582631\" rel=\"mw-deduplicated-inline-style\"/><cite class=\"citation web cs1\"><a class=\"external text\" href=\"http://www.searchenginehistory.com/\" rel=\"nofollow\">\"Search Engine History.com\"</a>. <i>Search Engine History</i><span class=\"reference-accessdate\">. Retrieved <span class=\"nowrap\">November 26,</span> 2019</span>.</cite><span class=\"Z3988\" title=\"ctx_ver=Z39.88-2004&amp;rft_val_fmt=info%3Aofi%2Ffmt%3Akev%3Amtx%3Ajournal&amp;rft.genre=unknown&amp;rft.jtitle=Search+Engine+History&amp;rft.atitle=Search+Engine+History.com&amp;rft_id=http%3A%2F%2Fwww.searchenginehistory.com%2F&amp;rfr_id=info%3Asid%2Fen.wikipedia.org%3AWeb+scraping\"></span></span>\n",
            "</li>\n",
            "<li id=\"cite_note-3\"><span class=\"mw-cite-backlink\"><b><a href=\"#cite_ref-3\">^</a></b></span> <span class=\"reference-text\"><link href=\"mw-data:TemplateStyles:r1133582631\" rel=\"mw-deduplicated-inline-style\"/><cite class=\"citation book cs1\" id=\"CITEREFSongMicrosoft_Research2007\">Song, Ruihua; Microsoft Research (Sep 14, 2007). <a class=\"external text\" href=\"https://web.archive.org/web/20161011080619/https://pdfs.semanticscholar.org/4fb4/3c5a212df751e84c3b2f8d29fabfe56c3616.pdf\" rel=\"nofollow\">\"Joint optimization of wrapper generation and template detection\"</a> <span class=\"cs1-format\">(PDF)</span>. <i>Proceedings of the 13th ACM SIGKDD international conference on Knowledge discovery and data mining</i>. p. 894. <a class=\"mw-redirect\" href=\"/wiki/Doi_(identifier)\" title=\"Doi (identifier)\">doi</a>:<a class=\"external text\" href=\"https://doi.org/10.1145%2F1281192.1281287\" rel=\"nofollow\">10.1145/1281192.1281287</a>. <a class=\"mw-redirect\" href=\"/wiki/ISBN_(identifier)\" title=\"ISBN (identifier)\">ISBN</a> <a href=\"/wiki/Special:BookSources/9781595936097\" title=\"Special:BookSources/9781595936097\"><bdi>9781595936097</bdi></a>. <a class=\"mw-redirect\" href=\"/wiki/S2CID_(identifier)\" title=\"S2CID (identifier)\">S2CID</a> <a class=\"external text\" href=\"https://api.semanticscholar.org/CorpusID:833565\" rel=\"nofollow\">833565</a>. Archived from <a class=\"external text\" href=\"https://pdfs.semanticscholar.org/4fb4/3c5a212df751e84c3b2f8d29fabfe56c3616.pdf\" rel=\"nofollow\">the original</a> <span class=\"cs1-format\">(PDF)</span> on October 11, 2016.</cite><span class=\"Z3988\" title=\"ctx_ver=Z39.88-2004&amp;rft_val_fmt=info%3Aofi%2Ffmt%3Akev%3Amtx%3Abook&amp;rft.genre=bookitem&amp;rft.atitle=Joint+optimization+of+wrapper+generation+and+template+detection&amp;rft.btitle=Proceedings+of+the+13th+ACM+SIGKDD+international+conference+on+Knowledge+discovery+and+data+mining&amp;rft.pages=894&amp;rft.date=2007-09-14&amp;rft_id=https%3A%2F%2Fapi.semanticscholar.org%2FCorpusID%3A833565%23id-name%3DS2CID&amp;rft_id=info%3Adoi%2F10.1145%2F1281192.1281287&amp;rft.isbn=9781595936097&amp;rft.aulast=Song&amp;rft.aufirst=Ruihua&amp;rft.au=Microsoft+Research&amp;rft_id=https%3A%2F%2Fpdfs.semanticscholar.org%2F4fb4%2F3c5a212df751e84c3b2f8d29fabfe56c3616.pdf&amp;rfr_id=info%3Asid%2Fen.wikipedia.org%3AWeb+scraping\"></span></span>\n",
            "</li>\n",
            "<li id=\"cite_note-4\"><span class=\"mw-cite-backlink\"><b><a href=\"#cite_ref-4\">^</a></b></span> <span class=\"reference-text\"><a class=\"external text\" href=\"http://www.gooseeker.com/en/node/knowledgebase/freeformat\" rel=\"nofollow\">Semantic annotation based web scraping</a></span>\n",
            "</li>\n",
            "<li id=\"cite_note-5\"><span class=\"mw-cite-backlink\"><b><a href=\"#cite_ref-5\">^</a></b></span> <span class=\"reference-text\"><link href=\"mw-data:TemplateStyles:r1133582631\" rel=\"mw-deduplicated-inline-style\"/><cite class=\"citation web cs1\" id=\"CITEREFRoush2012\">Roush, Wade (2012-07-25). <a class=\"external text\" href=\"http://www.xconomy.com/san-francisco/2012/07/25/diffbot-is-using-computer-vision-to-reinvent-the-semantic-web/\" rel=\"nofollow\">\"Diffbot Is Using Computer Vision to Reinvent the Semantic Web\"</a>. www.xconomy.com<span class=\"reference-accessdate\">. Retrieved <span class=\"nowrap\">2013-03-15</span></span>.</cite><span class=\"Z3988\" title=\"ctx_ver=Z39.88-2004&amp;rft_val_fmt=info%3Aofi%2Ffmt%3Akev%3Amtx%3Abook&amp;rft.genre=unknown&amp;rft.btitle=Diffbot+Is+Using+Computer+Vision+to+Reinvent+the+Semantic+Web&amp;rft.pub=www.xconomy.com&amp;rft.date=2012-07-25&amp;rft.aulast=Roush&amp;rft.aufirst=Wade&amp;rft_id=http%3A%2F%2Fwww.xconomy.com%2Fsan-francisco%2F2012%2F07%2F25%2Fdiffbot-is-using-computer-vision-to-reinvent-the-semantic-web%2F&amp;rfr_id=info%3Asid%2Fen.wikipedia.org%3AWeb+scraping\"></span></span>\n",
            "</li>\n",
            "<li id=\"cite_note-6\"><span class=\"mw-cite-backlink\"><b><a href=\"#cite_ref-6\">^</a></b></span> <span class=\"reference-text\"><link href=\"mw-data:TemplateStyles:r1133582631\" rel=\"mw-deduplicated-inline-style\"/><cite class=\"citation journal cs1\" id=\"CITEREFCiechanowskiJemielniakGloor2020\">Ciechanowski, Leon; Jemielniak, Dariusz; Gloor, Peter A. (2020). <a class=\"external text\" href=\"https://doi.org/10.1016%2Fj.jbusres.2020.06.012\" rel=\"nofollow\">\"TUTORIAL: AI research without coding: The art of fighting without fighting: Data science for qualitative researchers\"</a>. <i>Journal of Business Research</i>. Elsevier BV. <b>117</b>: 322–330. <a class=\"mw-redirect\" href=\"/wiki/Doi_(identifier)\" title=\"Doi (identifier)\">doi</a>:<span class=\"cs1-lock-free\" title=\"Freely accessible\"><a class=\"external text\" href=\"https://doi.org/10.1016%2Fj.jbusres.2020.06.012\" rel=\"nofollow\">10.1016/j.jbusres.2020.06.012</a></span>. <a class=\"mw-redirect\" href=\"/wiki/ISSN_(identifier)\" title=\"ISSN (identifier)\">ISSN</a> <a class=\"external text\" href=\"https://www.worldcat.org/issn/0148-2963\" rel=\"nofollow\">0148-2963</a>.</cite><span class=\"Z3988\" title=\"ctx_ver=Z39.88-2004&amp;rft_val_fmt=info%3Aofi%2Ffmt%3Akev%3Amtx%3Ajournal&amp;rft.genre=article&amp;rft.jtitle=Journal+of+Business+Research&amp;rft.atitle=TUTORIAL%3A+AI+research+without+coding%3A+The+art+of+fighting+without+fighting%3A+Data+science+for+qualitative+researchers&amp;rft.volume=117&amp;rft.pages=322-330&amp;rft.date=2020&amp;rft_id=info%3Adoi%2F10.1016%2Fj.jbusres.2020.06.012&amp;rft.issn=0148-2963&amp;rft.aulast=Ciechanowski&amp;rft.aufirst=Leon&amp;rft.au=Jemielniak%2C+Dariusz&amp;rft.au=Gloor%2C+Peter+A.&amp;rft_id=https%3A%2F%2Fdoi.org%2F10.1016%252Fj.jbusres.2020.06.012&amp;rfr_id=info%3Asid%2Fen.wikipedia.org%3AWeb+scraping\"></span></span>\n",
            "</li>\n",
            "<li id=\"cite_note-7\"><span class=\"mw-cite-backlink\"><b><a href=\"#cite_ref-7\">^</a></b></span> <span class=\"reference-text\"><link href=\"mw-data:TemplateStyles:r1133582631\" rel=\"mw-deduplicated-inline-style\"/><cite class=\"citation web cs1\"><a class=\"external text\" href=\"https://web.archive.org/web/20020308222536/http://www.chillingeffects.org/linking/faq.cgi#QID596\" rel=\"nofollow\">\"FAQ about linking – Are website terms of use binding contracts?\"</a>. www.chillingeffects.org. 2007-08-20. Archived from <a class=\"external text\" href=\"http://www.chillingeffects.org/linking/faq.cgi#QID596\" rel=\"nofollow\">the original</a> on 2002-03-08<span class=\"reference-accessdate\">. Retrieved <span class=\"nowrap\">2007-08-20</span></span>.</cite><span class=\"Z3988\" title=\"ctx_ver=Z39.88-2004&amp;rft_val_fmt=info%3Aofi%2Ffmt%3Akev%3Amtx%3Abook&amp;rft.genre=unknown&amp;rft.btitle=FAQ+about+linking+%E2%80%93+Are+website+terms+of+use+binding+contracts%3F&amp;rft.pub=www.chillingeffects.org&amp;rft.date=2007-08-20&amp;rft_id=http%3A%2F%2Fwww.chillingeffects.org%2Flinking%2Ffaq.cgi%23QID596&amp;rfr_id=info%3Asid%2Fen.wikipedia.org%3AWeb+scraping\"></span></span>\n",
            "</li>\n",
            "<li id=\"cite_note-8\"><span class=\"mw-cite-backlink\"><b><a href=\"#cite_ref-8\">^</a></b></span> <span class=\"reference-text\"><link href=\"mw-data:TemplateStyles:r1133582631\" rel=\"mw-deduplicated-inline-style\"/><cite class=\"citation journal cs1\" id=\"CITEREFKenneth2014\">Kenneth, Hirschey, Jeffrey (2014-01-01). <a class=\"external text\" href=\"http://scholarship.law.berkeley.edu/btlj/vol29/iss4/16/\" rel=\"nofollow\">\"Symbiotic Relationships: Pragmatic Acceptance of Data Scraping\"</a>. <i>Berkeley Technology Law Journal</i>. <b>29</b> (4). <a class=\"mw-redirect\" href=\"/wiki/Doi_(identifier)\" title=\"Doi (identifier)\">doi</a>:<a class=\"external text\" href=\"https://doi.org/10.15779%2FZ38B39B\" rel=\"nofollow\">10.15779/Z38B39B</a>. <a class=\"mw-redirect\" href=\"/wiki/ISSN_(identifier)\" title=\"ISSN (identifier)\">ISSN</a> <a class=\"external text\" href=\"https://www.worldcat.org/issn/1086-3818\" rel=\"nofollow\">1086-3818</a>.</cite><span class=\"Z3988\" title=\"ctx_ver=Z39.88-2004&amp;rft_val_fmt=info%3Aofi%2Ffmt%3Akev%3Amtx%3Ajournal&amp;rft.genre=article&amp;rft.jtitle=Berkeley+Technology+Law+Journal&amp;rft.atitle=Symbiotic+Relationships%3A+Pragmatic+Acceptance+of+Data+Scraping&amp;rft.volume=29&amp;rft.issue=4&amp;rft.date=2014-01-01&amp;rft_id=info%3Adoi%2F10.15779%2FZ38B39B&amp;rft.issn=1086-3818&amp;rft.aulast=Kenneth&amp;rft.aufirst=Hirschey%2C+Jeffrey&amp;rft_id=http%3A%2F%2Fscholarship.law.berkeley.edu%2Fbtlj%2Fvol29%2Fiss4%2F16%2F&amp;rfr_id=info%3Asid%2Fen.wikipedia.org%3AWeb+scraping\"></span><span class=\"cs1-maint citation-comment\"><code class=\"cs1-code\">{{<a href=\"/wiki/Template:Cite_journal\" title=\"Template:Cite journal\">cite journal</a>}}</code>:  CS1 maint: multiple names: authors list (<a href=\"/wiki/Category:CS1_maint:_multiple_names:_authors_list\" title=\"Category:CS1 maint: multiple names: authors list\">link</a>)</span></span>\n",
            "</li>\n",
            "<li id=\"cite_note-9\"><span class=\"mw-cite-backlink\"><b><a href=\"#cite_ref-9\">^</a></b></span> <span class=\"reference-text\"><link href=\"mw-data:TemplateStyles:r1133582631\" rel=\"mw-deduplicated-inline-style\"/><cite class=\"citation web cs1\"><a class=\"external text\" href=\"http://www.tomwbell.com/NetLaw/Ch06.html\" rel=\"nofollow\">\"Internet Law, Ch. 06: Trespass to Chattels\"</a>. www.tomwbell.com. 2007-08-20<span class=\"reference-accessdate\">. Retrieved <span class=\"nowrap\">2007-08-20</span></span>.</cite><span class=\"Z3988\" title=\"ctx_ver=Z39.88-2004&amp;rft_val_fmt=info%3Aofi%2Ffmt%3Akev%3Amtx%3Abook&amp;rft.genre=unknown&amp;rft.btitle=Internet+Law%2C+Ch.+06%3A+Trespass+to+Chattels&amp;rft.pub=www.tomwbell.com&amp;rft.date=2007-08-20&amp;rft_id=http%3A%2F%2Fwww.tomwbell.com%2FNetLaw%2FCh06.html&amp;rfr_id=info%3Asid%2Fen.wikipedia.org%3AWeb+scraping\"></span></span>\n",
            "</li>\n",
            "<li id=\"cite_note-10\"><span class=\"mw-cite-backlink\"><b><a href=\"#cite_ref-10\">^</a></b></span> <span class=\"reference-text\"><link href=\"mw-data:TemplateStyles:r1133582631\" rel=\"mw-deduplicated-inline-style\"/><cite class=\"citation web cs1\"><a class=\"external text\" href=\"https://web.archive.org/web/20020308222536/http://www.chillingeffects.org/linking/faq.cgi#QID460\" rel=\"nofollow\">\"What are the \"trespass to chattels\" claims some companies or website owners have brought?\"</a>. www.chillingeffects.org. 2007-08-20. Archived from <a class=\"external text\" href=\"http://www.chillingeffects.org/linking/faq.cgi#QID460\" rel=\"nofollow\">the original</a> on 2002-03-08<span class=\"reference-accessdate\">. Retrieved <span class=\"nowrap\">2007-08-20</span></span>.</cite><span class=\"Z3988\" title=\"ctx_ver=Z39.88-2004&amp;rft_val_fmt=info%3Aofi%2Ffmt%3Akev%3Amtx%3Abook&amp;rft.genre=unknown&amp;rft.btitle=What+are+the+%22trespass+to+chattels%22+claims+some+companies+or+website+owners+have+brought%3F&amp;rft.pub=www.chillingeffects.org&amp;rft.date=2007-08-20&amp;rft_id=http%3A%2F%2Fwww.chillingeffects.org%2Flinking%2Ffaq.cgi%23QID460&amp;rfr_id=info%3Asid%2Fen.wikipedia.org%3AWeb+scraping\"></span></span>\n",
            "</li>\n",
            "<li id=\"cite_note-11\"><span class=\"mw-cite-backlink\"><b><a href=\"#cite_ref-11\">^</a></b></span> <span class=\"reference-text\"><link href=\"mw-data:TemplateStyles:r1133582631\" rel=\"mw-deduplicated-inline-style\"/><cite class=\"citation web cs1\"><a class=\"external text\" href=\"http://www.tomwbell.com/NetLaw/Ch07/Ticketmaster.html\" rel=\"nofollow\">\"Ticketmaster Corp. v. Tickets.com, Inc\"</a>. 2007-08-20<span class=\"reference-accessdate\">. Retrieved <span class=\"nowrap\">2007-08-20</span></span>.</cite><span class=\"Z3988\" title=\"ctx_ver=Z39.88-2004&amp;rft_val_fmt=info%3Aofi%2Ffmt%3Akev%3Amtx%3Abook&amp;rft.genre=unknown&amp;rft.btitle=Ticketmaster+Corp.+v.+Tickets.com%2C+Inc.&amp;rft.date=2007-08-20&amp;rft_id=http%3A%2F%2Fwww.tomwbell.com%2FNetLaw%2FCh07%2FTicketmaster.html&amp;rfr_id=info%3Asid%2Fen.wikipedia.org%3AWeb+scraping\"></span></span>\n",
            "</li>\n",
            "<li id=\"cite_note-12\"><span class=\"mw-cite-backlink\"><b><a href=\"#cite_ref-12\">^</a></b></span> <span class=\"reference-text\"><link href=\"mw-data:TemplateStyles:r1133582631\" rel=\"mw-deduplicated-inline-style\"/><cite class=\"citation web cs1\"><a class=\"external text\" href=\"https://web.archive.org/web/20110723131832/http://www.fornova.net/documents/AAFareChase.pdf\" rel=\"nofollow\">\"American Airlines v. FareChase\"</a> <span class=\"cs1-format\">(PDF)</span>. 2007-08-20. Archived from <a class=\"external text\" href=\"http://www.fornova.net/documents/AAFareChase.pdf\" rel=\"nofollow\">the original</a> <span class=\"cs1-format\">(PDF)</span> on 2011-07-23<span class=\"reference-accessdate\">. Retrieved <span class=\"nowrap\">2007-08-20</span></span>.</cite><span class=\"Z3988\" title=\"ctx_ver=Z39.88-2004&amp;rft_val_fmt=info%3Aofi%2Ffmt%3Akev%3Amtx%3Abook&amp;rft.genre=unknown&amp;rft.btitle=American+Airlines+v.+FareChase&amp;rft.date=2007-08-20&amp;rft_id=http%3A%2F%2Fwww.fornova.net%2Fdocuments%2FAAFareChase.pdf&amp;rfr_id=info%3Asid%2Fen.wikipedia.org%3AWeb+scraping\"></span></span>\n",
            "</li>\n",
            "<li id=\"cite_note-13\"><span class=\"mw-cite-backlink\"><b><a href=\"#cite_ref-13\">^</a></b></span> <span class=\"reference-text\"><link href=\"mw-data:TemplateStyles:r1133582631\" rel=\"mw-deduplicated-inline-style\"/><cite class=\"citation web cs1\"><a class=\"external text\" href=\"https://web.archive.org/web/20160305025808/http://www.thefreelibrary.com/American+Airlines,+FareChase+Settle+Suit.-a0103213546\" rel=\"nofollow\">\"American Airlines, FareChase Settle Suit\"</a>. The Free Library. 2003-06-13. Archived from <a class=\"external text\" href=\"http://www.thefreelibrary.com/American+Airlines,+FareChase+Settle+Suit.-a0103213546\" rel=\"nofollow\">the original</a> on 2016-03-05<span class=\"reference-accessdate\">. Retrieved <span class=\"nowrap\">2012-02-26</span></span>.</cite><span class=\"Z3988\" title=\"ctx_ver=Z39.88-2004&amp;rft_val_fmt=info%3Aofi%2Ffmt%3Akev%3Amtx%3Abook&amp;rft.genre=unknown&amp;rft.btitle=American+Airlines%2C+FareChase+Settle+Suit.&amp;rft.pub=The+Free+Library&amp;rft.date=2003-06-13&amp;rft_id=http%3A%2F%2Fwww.thefreelibrary.com%2FAmerican%2BAirlines%2C%2BFareChase%2BSettle%2BSuit.-a0103213546&amp;rfr_id=info%3Asid%2Fen.wikipedia.org%3AWeb+scraping\"></span></span>\n",
            "</li>\n",
            "<li id=\"cite_note-impervawp2011-14\"><span class=\"mw-cite-backlink\"><b><a href=\"#cite_ref-impervawp2011_14-0\">^</a></b></span> <span class=\"reference-text\">Imperva (2011). <a class=\"external text\" href=\"http://www.imperva.com/docs/WP_Detecting_and_Blocking_Site_Scraping_Attacks.pdf\" rel=\"nofollow\">Detecting and Blocking Site Scraping Attacks</a>. Imperva white paper.</span>\n",
            "</li>\n",
            "<li id=\"cite_note-15\"><span class=\"mw-cite-backlink\"><b><a href=\"#cite_ref-15\">^</a></b></span> <span class=\"reference-text\"><link href=\"mw-data:TemplateStyles:r1133582631\" rel=\"mw-deduplicated-inline-style\"/><cite class=\"citation web cs1\" id=\"CITEREFAdler2003\">Adler, Kenneth A. (2003-07-29). <a class=\"external text\" href=\"https://web.archive.org/web/20110211123854/http://library.findlaw.com/2003/Jul/29/132944.html\" rel=\"nofollow\">\"Controversy Surrounds 'Screen Scrapers': Software Helps Users Access Web Sites But Activity by Competitors Comes Under Scrutiny\"</a>. Archived from <a class=\"external text\" href=\"http://library.findlaw.com/2003/Jul/29/132944.html\" rel=\"nofollow\">the original</a> on 2011-02-11<span class=\"reference-accessdate\">. Retrieved <span class=\"nowrap\">2010-10-27</span></span>.</cite><span class=\"Z3988\" title=\"ctx_ver=Z39.88-2004&amp;rft_val_fmt=info%3Aofi%2Ffmt%3Akev%3Amtx%3Abook&amp;rft.genre=unknown&amp;rft.btitle=Controversy+Surrounds+%27Screen+Scrapers%27%3A+Software+Helps+Users+Access+Web+Sites+But+Activity+by+Competitors+Comes+Under+Scrutiny&amp;rft.date=2003-07-29&amp;rft.aulast=Adler&amp;rft.aufirst=Kenneth+A.&amp;rft_id=http%3A%2F%2Flibrary.findlaw.com%2F2003%2FJul%2F29%2F132944.html&amp;rfr_id=info%3Asid%2Fen.wikipedia.org%3AWeb+scraping\"></span></span>\n",
            "</li>\n",
            "<li id=\"cite_note-16\"><span class=\"mw-cite-backlink\"><b><a href=\"#cite_ref-16\">^</a></b></span> <span class=\"reference-text\"><link href=\"mw-data:TemplateStyles:r1133582631\" rel=\"mw-deduplicated-inline-style\"/><cite class=\"citation web cs1\"><a class=\"external text\" href=\"https://web.archive.org/web/20130921054619/http://www.fornova.net/documents/Cvent.pdf\" rel=\"nofollow\">\"QVC Inc. v. Resultly LLC, No. 14-06714 (E.D. Pa. filed Nov. 24, 2014)\"</a> <span class=\"cs1-format\">(PDF)</span>. 2014-11-24. Archived from <a class=\"external text\" href=\"http://www.fornova.net/documents/Cvent.pdf\" rel=\"nofollow\">the original</a> <span class=\"cs1-format\">(PDF)</span> on 2013-09-21<span class=\"reference-accessdate\">. Retrieved <span class=\"nowrap\">2015-11-05</span></span>.</cite><span class=\"Z3988\" title=\"ctx_ver=Z39.88-2004&amp;rft_val_fmt=info%3Aofi%2Ffmt%3Akev%3Amtx%3Abook&amp;rft.genre=unknown&amp;rft.btitle=QVC+Inc.+v.+Resultly+LLC%2C+No.+14-06714+%28E.D.+Pa.+filed+Nov.+24%2C+2014%29&amp;rft.date=2014-11-24&amp;rft_id=http%3A%2F%2Fwww.fornova.net%2Fdocuments%2FCvent.pdf&amp;rfr_id=info%3Asid%2Fen.wikipedia.org%3AWeb+scraping\"></span></span>\n",
            "</li>\n",
            "<li id=\"cite_note-17\"><span class=\"mw-cite-backlink\"><b><a href=\"#cite_ref-17\">^</a></b></span> <span class=\"reference-text\"><link href=\"mw-data:TemplateStyles:r1133582631\" rel=\"mw-deduplicated-inline-style\"/><cite class=\"citation web cs1\"><a class=\"external text\" href=\"https://www.scribd.com/doc/249068700/LinkedIn-v-Resultly-LLC-Complaint?secret_password=pEVKDbnvhQL52oKfdrmT\" rel=\"nofollow\">\"QVC Inc. v. Resultly LLC, No. 14-06714 (E.D. Pa. filed Nov. 24, 2014)\"</a>. <i>United States District Court for the Eastern District of Pennsylvania</i><span class=\"reference-accessdate\">. Retrieved <span class=\"nowrap\">5 November</span> 2015</span>.</cite><span class=\"Z3988\" title=\"ctx_ver=Z39.88-2004&amp;rft_val_fmt=info%3Aofi%2Ffmt%3Akev%3Amtx%3Ajournal&amp;rft.genre=unknown&amp;rft.jtitle=United+States+District+Court+for+the+Eastern+District+of+Pennsylvania&amp;rft.atitle=QVC+Inc.+v.+Resultly+LLC%2C+No.+14-06714+%28E.D.+Pa.+filed+Nov.+24%2C+2014%29&amp;rft_id=https%3A%2F%2Fwww.scribd.com%2Fdoc%2F249068700%2FLinkedIn-v-Resultly-LLC-Complaint%3Fsecret_password%3DpEVKDbnvhQL52oKfdrmT&amp;rfr_id=info%3Asid%2Fen.wikipedia.org%3AWeb+scraping\"></span></span>\n",
            "</li>\n",
            "<li id=\"cite_note-18\"><span class=\"mw-cite-backlink\"><b><a href=\"#cite_ref-18\">^</a></b></span> <span class=\"reference-text\"><link href=\"mw-data:TemplateStyles:r1133582631\" rel=\"mw-deduplicated-inline-style\"/><cite class=\"citation journal cs1\" id=\"CITEREFNeuburger2014\">Neuburger, Jeffrey D (5 December 2014). <a class=\"external text\" href=\"http://newmedialaw.proskauer.com/2014/12/05/qvc-sues-shopping-app-for-web-scraping-that-allegedly-triggered-site-outage/\" rel=\"nofollow\">\"QVC Sues Shopping App for Web Scraping That Allegedly Triggered Site Outage\"</a>. <i>The National Law Review</i>. Proskauer Rose LLP<span class=\"reference-accessdate\">. Retrieved <span class=\"nowrap\">5 November</span> 2015</span>.</cite><span class=\"Z3988\" title=\"ctx_ver=Z39.88-2004&amp;rft_val_fmt=info%3Aofi%2Ffmt%3Akev%3Amtx%3Ajournal&amp;rft.genre=article&amp;rft.jtitle=The+National+Law+Review&amp;rft.atitle=QVC+Sues+Shopping+App+for+Web+Scraping+That+Allegedly+Triggered+Site+Outage&amp;rft.date=2014-12-05&amp;rft.aulast=Neuburger&amp;rft.aufirst=Jeffrey+D&amp;rft_id=http%3A%2F%2Fnewmedialaw.proskauer.com%2F2014%2F12%2F05%2Fqvc-sues-shopping-app-for-web-scraping-that-allegedly-triggered-site-outage%2F&amp;rfr_id=info%3Asid%2Fen.wikipedia.org%3AWeb+scraping\"></span></span>\n",
            "</li>\n",
            "<li id=\"cite_note-19\"><span class=\"mw-cite-backlink\"><b><a href=\"#cite_ref-19\">^</a></b></span> <span class=\"reference-text\"><link href=\"mw-data:TemplateStyles:r1133582631\" rel=\"mw-deduplicated-inline-style\"/><cite class=\"citation web cs1\"><a class=\"external text\" href=\"https://web.archive.org/web/20110723132015/http://www.fornova.net/documents/pblog-bna-com.pdf\" rel=\"nofollow\">\"Did Iqbal/Twombly Raise the Bar for Browsewrap Claims?\"</a> <span class=\"cs1-format\">(PDF)</span>. 2010-09-17. Archived from <a class=\"external text\" href=\"http://www.fornova.net/documents/pblog-bna-com.pdf\" rel=\"nofollow\">the original</a> <span class=\"cs1-format\">(PDF)</span> on 2011-07-23<span class=\"reference-accessdate\">. Retrieved <span class=\"nowrap\">2010-10-27</span></span>.</cite><span class=\"Z3988\" title=\"ctx_ver=Z39.88-2004&amp;rft_val_fmt=info%3Aofi%2Ffmt%3Akev%3Amtx%3Abook&amp;rft.genre=unknown&amp;rft.btitle=Did+Iqbal%2FTwombly+Raise+the+Bar+for+Browsewrap+Claims%3F&amp;rft.date=2010-09-17&amp;rft_id=http%3A%2F%2Fwww.fornova.net%2Fdocuments%2Fpblog-bna-com.pdf&amp;rfr_id=info%3Asid%2Fen.wikipedia.org%3AWeb+scraping\"></span></span>\n",
            "</li>\n",
            "<li id=\"cite_note-20\"><span class=\"mw-cite-backlink\"><b><a href=\"#cite_ref-20\">^</a></b></span> <span class=\"reference-text\"><link href=\"mw-data:TemplateStyles:r1133582631\" rel=\"mw-deduplicated-inline-style\"/><cite class=\"citation web cs1\"><a class=\"external text\" href=\"https://www.techdirt.com/articles/20090605/2228205147.shtml\" rel=\"nofollow\">\"Can Scraping Non-Infringing Content Become Copyright Infringement... Because Of How Scrapers Work? | Techdirt\"</a>. <i>Techdirt</i>. 2009-06-10<span class=\"reference-accessdate\">. Retrieved <span class=\"nowrap\">2016-05-24</span></span>.</cite><span class=\"Z3988\" title=\"ctx_ver=Z39.88-2004&amp;rft_val_fmt=info%3Aofi%2Ffmt%3Akev%3Amtx%3Ajournal&amp;rft.genre=unknown&amp;rft.jtitle=Techdirt.&amp;rft.atitle=Can+Scraping+Non-Infringing+Content+Become+Copyright+Infringement...+Because+Of+How+Scrapers+Work%3F+%7C+Techdirt&amp;rft.date=2009-06-10&amp;rft_id=https%3A%2F%2Fwww.techdirt.com%2Farticles%2F20090605%2F2228205147.shtml&amp;rfr_id=info%3Asid%2Fen.wikipedia.org%3AWeb+scraping\"></span></span>\n",
            "</li>\n",
            "<li id=\"cite_note-21\"><span class=\"mw-cite-backlink\"><b><a href=\"#cite_ref-21\">^</a></b></span> <span class=\"reference-text\"><link href=\"mw-data:TemplateStyles:r1133582631\" rel=\"mw-deduplicated-inline-style\"/><cite class=\"citation web cs1\"><a class=\"external text\" href=\"https://www.eff.org/cases/facebook-v-power-ventures\" rel=\"nofollow\">\"Facebook v. Power Ventures\"</a>. <i>Electronic Frontier Foundation</i><span class=\"reference-accessdate\">. Retrieved <span class=\"nowrap\">2016-05-24</span></span>.</cite><span class=\"Z3988\" title=\"ctx_ver=Z39.88-2004&amp;rft_val_fmt=info%3Aofi%2Ffmt%3Akev%3Amtx%3Ajournal&amp;rft.genre=unknown&amp;rft.jtitle=Electronic+Frontier+Foundation&amp;rft.atitle=Facebook+v.+Power+Ventures&amp;rft_id=https%3A%2F%2Fwww.eff.org%2Fcases%2Ffacebook-v-power-ventures&amp;rfr_id=info%3Asid%2Fen.wikipedia.org%3AWeb+scraping\"></span></span>\n",
            "</li>\n",
            "<li id=\"cite_note-22\"><span class=\"mw-cite-backlink\"><b><a href=\"#cite_ref-22\">^</a></b></span> <span class=\"reference-text\"><link href=\"mw-data:TemplateStyles:r1133582631\" rel=\"mw-deduplicated-inline-style\"/><cite class=\"citation web cs1 cs1-prop-foreign-lang-source\"><a class=\"external text\" href=\"https://web.archive.org/web/20071012005033/http://www.bvhd.dk/uploads/tx_mocarticles/S_-_og_Handelsrettens_afg_relse_i_Ofir-sagen.pdf\" rel=\"nofollow\">\"UDSKRIFT AF SØ- &amp; HANDELSRETTENS DOMBOG\"</a> <span class=\"cs1-format\">(PDF)</span> (in Danish). bvhd.dk. 2006-02-24. Archived from <a class=\"external text\" href=\"http://www.bvhd.dk/uploads/tx_mocarticles/S_-_og_Handelsrettens_afg_relse_i_Ofir-sagen.pdf\" rel=\"nofollow\">the original</a> <span class=\"cs1-format\">(PDF)</span> on 2007-10-12<span class=\"reference-accessdate\">. Retrieved <span class=\"nowrap\">2007-05-30</span></span>.</cite><span class=\"Z3988\" title=\"ctx_ver=Z39.88-2004&amp;rft_val_fmt=info%3Aofi%2Ffmt%3Akev%3Amtx%3Abook&amp;rft.genre=unknown&amp;rft.btitle=UDSKRIFT+AF+S%C3%98-+%26+HANDELSRETTENS+DOMBOG&amp;rft.pub=bvhd.dk&amp;rft.date=2006-02-24&amp;rft_id=http%3A%2F%2Fwww.bvhd.dk%2Fuploads%2Ftx_mocarticles%2FS_-_og_Handelsrettens_afg_relse_i_Ofir-sagen.pdf&amp;rfr_id=info%3Asid%2Fen.wikipedia.org%3AWeb+scraping\"></span></span>\n",
            "</li>\n",
            "<li id=\"cite_note-23\"><span class=\"mw-cite-backlink\"><b><a href=\"#cite_ref-23\">^</a></b></span> <span class=\"reference-text\"><link href=\"mw-data:TemplateStyles:r1133582631\" rel=\"mw-deduplicated-inline-style\"/><cite class=\"citation web cs1\"><a class=\"external text\" href=\"http://www.bailii.org/ie/cases/IEHC/2010/H47.html\" rel=\"nofollow\">\"High Court of Ireland Decisions &gt;&gt; Ryanair Ltd -v- Billigfluege.de GMBH 2010 IEHC 47 (26 February 2010)\"</a>. British and Irish Legal Information Institute. 2010-02-26<span class=\"reference-accessdate\">. Retrieved <span class=\"nowrap\">2012-04-19</span></span>.</cite><span class=\"Z3988\" title=\"ctx_ver=Z39.88-2004&amp;rft_val_fmt=info%3Aofi%2Ffmt%3Akev%3Amtx%3Abook&amp;rft.genre=unknown&amp;rft.btitle=High+Court+of+Ireland+Decisions+%3E%3E+Ryanair+Ltd+-v-+Billigfluege.de+GMBH+2010+IEHC+47+%2826+February+2010%29&amp;rft.pub=British+and+Irish+Legal+Information+Institute&amp;rft.date=2010-02-26&amp;rft_id=http%3A%2F%2Fwww.bailii.org%2Fie%2Fcases%2FIEHC%2F2010%2FH47.html&amp;rfr_id=info%3Asid%2Fen.wikipedia.org%3AWeb+scraping\"></span></span>\n",
            "</li>\n",
            "<li id=\"cite_note-24\"><span class=\"mw-cite-backlink\"><b><a href=\"#cite_ref-24\">^</a></b></span> <span class=\"reference-text\"><link href=\"mw-data:TemplateStyles:r1133582631\" rel=\"mw-deduplicated-inline-style\"/><cite class=\"citation web cs1\" id=\"CITEREFMatthews2010\">Matthews, Áine (June 2010). <a class=\"external text\" href=\"https://web.archive.org/web/20120624103316/http://www.lkshields.ie/htmdocs/publications/newsletters/update26/update26_03.htm\" rel=\"nofollow\">\"Intellectual Property: Website Terms of Use\"</a>. <i>Issue 26: June 2010</i>. LK Shields Solicitors Update. p. 03. Archived from <a class=\"external text\" href=\"http://www.lkshields.ie/htmdocs/publications/newsletters/update26/update26_03.htm\" rel=\"nofollow\">the original</a> on 2012-06-24<span class=\"reference-accessdate\">. Retrieved <span class=\"nowrap\">2012-04-19</span></span>.</cite><span class=\"Z3988\" title=\"ctx_ver=Z39.88-2004&amp;rft_val_fmt=info%3Aofi%2Ffmt%3Akev%3Amtx%3Ajournal&amp;rft.genre=unknown&amp;rft.jtitle=Issue+26%3A+June+2010&amp;rft.atitle=Intellectual+Property%3A+Website+Terms+of+Use&amp;rft.pages=03&amp;rft.date=2010-06&amp;rft.aulast=Matthews&amp;rft.aufirst=%C3%81ine&amp;rft_id=http%3A%2F%2Fwww.lkshields.ie%2Fhtmdocs%2Fpublications%2Fnewsletters%2Fupdate26%2Fupdate26_03.htm&amp;rfr_id=info%3Asid%2Fen.wikipedia.org%3AWeb+scraping\"></span></span>\n",
            "</li>\n",
            "<li id=\"cite_note-25\"><span class=\"mw-cite-backlink\"><b><a href=\"#cite_ref-25\">^</a></b></span> <span class=\"reference-text\"><link href=\"mw-data:TemplateStyles:r1133582631\" rel=\"mw-deduplicated-inline-style\"/><cite class=\"citation web cs1 cs1-prop-foreign-lang-source\"><a class=\"external text\" href=\"https://www.cnil.fr/fr/la-reutilisation-des-donnees-publiquement-accessibles-en-ligne-des-fins-de-demarchage-commercial\" rel=\"nofollow\">\"La réutilisation des données publiquement accessibles en ligne à des fins de démarchage commercial | CNIL\"</a>. <i>www.cnil.fr</i> (in French)<span class=\"reference-accessdate\">. Retrieved <span class=\"nowrap\">2020-07-05</span></span>.</cite><span class=\"Z3988\" title=\"ctx_ver=Z39.88-2004&amp;rft_val_fmt=info%3Aofi%2Ffmt%3Akev%3Amtx%3Ajournal&amp;rft.genre=unknown&amp;rft.jtitle=www.cnil.fr&amp;rft.atitle=La+r%C3%A9utilisation+des+donn%C3%A9es+publiquement+accessibles+en+ligne+%C3%A0+des+fins+de+d%C3%A9marchage+commercial+%7C+CNIL&amp;rft_id=https%3A%2F%2Fwww.cnil.fr%2Ffr%2Fla-reutilisation-des-donnees-publiquement-accessibles-en-ligne-des-fins-de-demarchage-commercial&amp;rfr_id=info%3Asid%2Fen.wikipedia.org%3AWeb+scraping\"></span></span>\n",
            "</li>\n",
            "<li id=\"cite_note-26\"><span class=\"mw-cite-backlink\"><b><a href=\"#cite_ref-26\">^</a></b></span> <span class=\"reference-text\"><link href=\"mw-data:TemplateStyles:r1133582631\" rel=\"mw-deduplicated-inline-style\"/><cite class=\"citation web cs1\" id=\"CITEREFFindDataLab.com2020\">FindDataLab.com (2020-06-09). <a class=\"external text\" href=\"https://medium.com/@finddatalab/can-you-still-perform-web-scraping-with-the-new-cnil-guidelines-bf3e20d0edc2\" rel=\"nofollow\">\"Can You Still Perform Web Scraping With The New CNIL Guidelines?\"</a>. <i>Medium</i><span class=\"reference-accessdate\">. Retrieved <span class=\"nowrap\">2020-07-05</span></span>.</cite><span class=\"Z3988\" title=\"ctx_ver=Z39.88-2004&amp;rft_val_fmt=info%3Aofi%2Ffmt%3Akev%3Amtx%3Ajournal&amp;rft.genre=unknown&amp;rft.jtitle=Medium&amp;rft.atitle=Can+You+Still+Perform+Web+Scraping+With+The+New+CNIL+Guidelines%3F&amp;rft.date=2020-06-09&amp;rft.au=FindDataLab.com&amp;rft_id=https%3A%2F%2Fmedium.com%2F%40finddatalab%2Fcan-you-still-perform-web-scraping-with-the-new-cnil-guidelines-bf3e20d0edc2&amp;rfr_id=info%3Asid%2Fen.wikipedia.org%3AWeb+scraping\"></span></span>\n",
            "</li>\n",
            "<li id=\"cite_note-27\"><span class=\"mw-cite-backlink\"><b><a href=\"#cite_ref-27\">^</a></b></span> <span class=\"reference-text\"><link href=\"mw-data:TemplateStyles:r1133582631\" rel=\"mw-deduplicated-inline-style\"/><cite class=\"citation web cs1\" id=\"CITEREFNational_Office_for_the_Information_Economy2004\">National Office for the Information Economy (February 2004). <a class=\"external text\" href=\"https://web.archive.org/web/20191203113701/https://www.lloyds.com/~/media/5880dae185914b2487bed7bd63b96286.ashx\" rel=\"nofollow\">\"Spam Act 2003: An overview for business\"</a>. Australian Communications Authority. p. 6. Archived from <a class=\"external text\" href=\"https://www.lloyds.com/~/media/5880dae185914b2487bed7bd63b96286.ashx\" rel=\"nofollow\">the original</a> on 2019-12-03<span class=\"reference-accessdate\">. Retrieved <span class=\"nowrap\">2017-12-07</span></span>.</cite><span class=\"Z3988\" title=\"ctx_ver=Z39.88-2004&amp;rft_val_fmt=info%3Aofi%2Ffmt%3Akev%3Amtx%3Abook&amp;rft.genre=unknown&amp;rft.btitle=Spam+Act+2003%3A+An+overview+for+business&amp;rft.pages=6&amp;rft.pub=Australian+Communications+Authority&amp;rft.date=2004-02&amp;rft.au=National+Office+for+the+Information+Economy&amp;rft_id=https%3A%2F%2Fwww.lloyds.com%2F~%2Fmedia%2F5880dae185914b2487bed7bd63b96286.ashx&amp;rfr_id=info%3Asid%2Fen.wikipedia.org%3AWeb+scraping\"></span></span>\n",
            "</li>\n",
            "<li id=\"cite_note-28\"><span class=\"mw-cite-backlink\"><b><a href=\"#cite_ref-28\">^</a></b></span> <span class=\"reference-text\"><link href=\"mw-data:TemplateStyles:r1133582631\" rel=\"mw-deduplicated-inline-style\"/><cite class=\"citation web cs1\" id=\"CITEREFNational_Office_for_the_Information_Economy2004\">National Office for the Information Economy (February 2004). <a class=\"external text\" href=\"http://www.webstartdesign.com.au/spam_business_practical_guide.pdf\" rel=\"nofollow\">\"Spam Act 2003: A practical guide for business\"</a> <span class=\"cs1-format\">(PDF)</span>. Australian Communications Authority. p. 20<span class=\"reference-accessdate\">. Retrieved <span class=\"nowrap\">2017-12-07</span></span>.</cite><span class=\"Z3988\" title=\"ctx_ver=Z39.88-2004&amp;rft_val_fmt=info%3Aofi%2Ffmt%3Akev%3Amtx%3Abook&amp;rft.genre=unknown&amp;rft.btitle=Spam+Act+2003%3A+A+practical+guide+for+business&amp;rft.pages=20&amp;rft.pub=Australian+Communications+Authority&amp;rft.date=2004-02&amp;rft.au=National+Office+for+the+Information+Economy&amp;rft_id=http%3A%2F%2Fwww.webstartdesign.com.au%2Fspam_business_practical_guide.pdf&amp;rfr_id=info%3Asid%2Fen.wikipedia.org%3AWeb+scraping\"></span></span>\n",
            "</li>\n",
            "<li id=\"cite_note-29\"><span class=\"mw-cite-backlink\"><b><a href=\"#cite_ref-29\">^</a></b></span> <span class=\"reference-text\">Mayank Dhiman <a class=\"external text\" href=\"https://s3.us-west-2.amazonaws.com/research-papers-mynk/Breaking-Fraud-And-Bot-Detection-Solutions.pdf\" rel=\"nofollow\">Breaking Fraud &amp; Bot Detection Solutions</a> <i>OWASP AppSec Cali' 2018</i> Retrieved February 10, 2018.</span>\n",
            "</li>\n",
            "</ol></div></div>\n",
            "<!-- \n",
            "NewPP limit report\n",
            "Parsed by mw‐web.eqiad.main‐5c64554744‐slgkr\n",
            "Cached time: 20240301003525\n",
            "Cache expiry: 2592000\n",
            "Reduced expiry: false\n",
            "Complications: [vary‐revision‐sha1, show‐toc]\n",
            "CPU time usage: 0.349 seconds\n",
            "Real time usage: 0.458 seconds\n",
            "Preprocessor visited node count: 2033/1000000\n",
            "Post‐expand include size: 68027/2097152 bytes\n",
            "Template argument size: 1415/2097152 bytes\n",
            "Highest expansion depth: 13/100\n",
            "Expensive parser function count: 8/500\n",
            "Unstrip recursion depth: 1/20\n",
            "Unstrip post‐expand size: 82899/5000000 bytes\n",
            "Lua time usage: 0.208/10.000 seconds\n",
            "Lua memory usage: 8462278/52428800 bytes\n",
            "Number of Wikibase entities loaded: 0/400\n",
            "-->\n",
            "<!--\n",
            "Transclusion expansion time report (%,ms,calls,template)\n",
            "100.00%  392.973      1 -total\n",
            " 45.58%  179.105      1 Template:Reflist\n",
            " 19.98%   78.514      4 Template:Cite_journal\n",
            " 17.79%   69.899     21 Template:Cite_web\n",
            " 14.99%   58.889      1 Template:Short_description\n",
            " 14.87%   58.444      2 Template:Ambox\n",
            " 14.71%   57.809      1 Template:More_citations_needed\n",
            "  8.73%   34.297      1 Template:Broader\n",
            "  8.32%   32.701      2 Template:Pagetype\n",
            "  4.08%   16.044      1 Template:Citation_needed\n",
            "-->\n",
            "<!-- Saved in parser cache with key enwiki:pcache:idhash:2696619-0!canonical and timestamp 20240301003525 and revision id 1207633199. Rendering was triggered because: page-view\n",
            " -->\n",
            "</meta></div><!--esi <esi:include src=\"/esitest-fa8a495983347898/content\" /> --><noscript><img alt=\"\" height=\"1\" src=\"https://login.wikimedia.org/wiki/Special:CentralAutoLogin/start?type=1x1\" style=\"border: none; position: absolute;\" width=\"1\"/></noscript>\n",
            "<div class=\"printfooter\" data-nosnippet=\"\">Retrieved from \"<a dir=\"ltr\" href=\"https://en.wikipedia.org/w/index.php?title=Web_scraping&amp;oldid=1207633199\">https://en.wikipedia.org/w/index.php?title=Web_scraping&amp;oldid=1207633199</a>\"</div></div>\n",
            "<div class=\"catlinks\" data-mw=\"interface\" id=\"catlinks\"><div class=\"mw-normal-catlinks\" id=\"mw-normal-catlinks\"><a href=\"/wiki/Help:Category\" title=\"Help:Category\">Category</a>: <ul><li><a href=\"/wiki/Category:Web_scraping\" title=\"Category:Web scraping\">Web scraping</a></li></ul></div><div class=\"mw-hidden-catlinks mw-hidden-cats-hidden\" id=\"mw-hidden-catlinks\">Hidden categories: <ul><li><a href=\"/wiki/Category:CS1_maint:_multiple_names:_authors_list\" title=\"Category:CS1 maint: multiple names: authors list\">CS1 maint: multiple names: authors list</a></li><li><a href=\"/wiki/Category:CS1_Danish-language_sources_(da)\" title=\"Category:CS1 Danish-language sources (da)\">CS1 Danish-language sources (da)</a></li><li><a href=\"/wiki/Category:CS1_French-language_sources_(fr)\" title=\"Category:CS1 French-language sources (fr)\">CS1 French-language sources (fr)</a></li><li><a href=\"/wiki/Category:Articles_with_short_description\" title=\"Category:Articles with short description\">Articles with short description</a></li><li><a href=\"/wiki/Category:Short_description_matches_Wikidata\" title=\"Category:Short description matches Wikidata\">Short description matches Wikidata</a></li><li><a href=\"/wiki/Category:Articles_needing_additional_references_from_April_2023\" title=\"Category:Articles needing additional references from April 2023\">Articles needing additional references from April 2023</a></li><li><a href=\"/wiki/Category:All_articles_needing_additional_references\" title=\"Category:All articles needing additional references\">All articles needing additional references</a></li><li><a href=\"/wiki/Category:Articles_with_limited_geographic_scope_from_October_2015\" title=\"Category:Articles with limited geographic scope from October 2015\">Articles with limited geographic scope from October 2015</a></li><li><a href=\"/wiki/Category:United_States-centric\" title=\"Category:United States-centric\">United States-centric</a></li><li><a href=\"/wiki/Category:All_articles_with_unsourced_statements\" title=\"Category:All articles with unsourced statements\">All articles with unsourced statements</a></li><li><a href=\"/wiki/Category:Articles_with_unsourced_statements_from_April_2023\" title=\"Category:Articles with unsourced statements from April 2023\">Articles with unsourced statements from April 2023</a></li></ul></div></div>\n",
            "</div>\n",
            "</main>\n",
            "</div>\n",
            "<div class=\"mw-footer-container\">\n",
            "<footer class=\"mw-footer\" id=\"footer\" role=\"contentinfo\">\n",
            "<ul id=\"footer-info\">\n",
            "<li id=\"footer-info-lastmod\"> This page was last edited on 15 February 2024, at 08:31<span class=\"anonymous-show\"> (UTC)</span>.</li>\n",
            "<li id=\"footer-info-copyright\">Text is available under the <a href=\"//en.wikipedia.org/wiki/Wikipedia:Text_of_the_Creative_Commons_Attribution-ShareAlike_4.0_International_License\" rel=\"license\">Creative Commons Attribution-ShareAlike License 4.0</a><a href=\"//en.wikipedia.org/wiki/Wikipedia:Text_of_the_Creative_Commons_Attribution-ShareAlike_4.0_International_License\" rel=\"license\" style=\"display:none;\"></a>;\n",
            "additional terms may apply.  By using this site, you agree to the <a href=\"//foundation.wikimedia.org/wiki/Terms_of_Use\">Terms of Use</a> and <a href=\"//foundation.wikimedia.org/wiki/Privacy_policy\">Privacy Policy</a>. Wikipedia® is a registered trademark of the <a href=\"//www.wikimediafoundation.org/\">Wikimedia Foundation, Inc.</a>, a non-profit organization.</li>\n",
            "</ul>\n",
            "<ul id=\"footer-places\">\n",
            "<li id=\"footer-places-privacy\"><a href=\"https://foundation.wikimedia.org/wiki/Special:MyLanguage/Policy:Privacy_policy\">Privacy policy</a></li>\n",
            "<li id=\"footer-places-about\"><a href=\"/wiki/Wikipedia:About\">About Wikipedia</a></li>\n",
            "<li id=\"footer-places-disclaimers\"><a href=\"/wiki/Wikipedia:General_disclaimer\">Disclaimers</a></li>\n",
            "<li id=\"footer-places-contact\"><a href=\"//en.wikipedia.org/wiki/Wikipedia:Contact_us\">Contact Wikipedia</a></li>\n",
            "<li id=\"footer-places-wm-codeofconduct\"><a href=\"https://foundation.wikimedia.org/wiki/Special:MyLanguage/Policy:Universal_Code_of_Conduct\">Code of Conduct</a></li>\n",
            "<li id=\"footer-places-developers\"><a href=\"https://developer.wikimedia.org\">Developers</a></li>\n",
            "<li id=\"footer-places-statslink\"><a href=\"https://stats.wikimedia.org/#/en.wikipedia.org\">Statistics</a></li>\n",
            "<li id=\"footer-places-cookiestatement\"><a href=\"https://foundation.wikimedia.org/wiki/Special:MyLanguage/Policy:Cookie_statement\">Cookie statement</a></li>\n",
            "<li id=\"footer-places-mobileview\"><a class=\"noprint stopMobileRedirectToggle\" href=\"//en.m.wikipedia.org/w/index.php?title=Web_scraping&amp;mobileaction=toggle_view_mobile\">Mobile view</a></li>\n",
            "</ul>\n",
            "<ul class=\"noprint\" id=\"footer-icons\">\n",
            "<li id=\"footer-copyrightico\"><a href=\"https://wikimediafoundation.org/\"><img alt=\"Wikimedia Foundation\" height=\"31\" loading=\"lazy\" src=\"/static/images/footer/wikimedia-button.png\" srcset=\"/static/images/footer/wikimedia-button-1.5x.png 1.5x, /static/images/footer/wikimedia-button-2x.png 2x\" width=\"88\"/></a></li>\n",
            "<li id=\"footer-poweredbyico\"><a href=\"https://www.mediawiki.org/\"><img alt=\"Powered by MediaWiki\" height=\"31\" loading=\"lazy\" src=\"/static/images/footer/poweredby_mediawiki_88x31.png\" srcset=\"/static/images/footer/poweredby_mediawiki_132x47.png 1.5x, /static/images/footer/poweredby_mediawiki_176x62.png 2x\" width=\"88\"/></a></li>\n",
            "</ul>\n",
            "</footer>\n",
            "</div>\n",
            "</div>\n",
            "</div>\n",
            "<div class=\"vector-settings\" id=\"p-dock-bottom\">\n",
            "<ul>\n",
            "<li>\n",
            "<button class=\"cdx-button cdx-button--icon-only vector-limited-width-toggle\" id=\"\"><span class=\"vector-icon mw-ui-icon-fullScreen mw-ui-icon-wikimedia-fullScreen\"></span>\n",
            "<span>Toggle limited content width</span>\n",
            "</button>\n",
            "</li>\n",
            "</ul>\n",
            "</div>\n",
            "<script>(RLQ=window.RLQ||[]).push(function(){mw.config.set({\"wgHostname\":\"mw-web.eqiad.main-5c64554744-q6nf5\",\"wgBackendResponseTime\":189,\"wgPageParseReport\":{\"limitreport\":{\"cputime\":\"0.349\",\"walltime\":\"0.458\",\"ppvisitednodes\":{\"value\":2033,\"limit\":1000000},\"postexpandincludesize\":{\"value\":68027,\"limit\":2097152},\"templateargumentsize\":{\"value\":1415,\"limit\":2097152},\"expansiondepth\":{\"value\":13,\"limit\":100},\"expensivefunctioncount\":{\"value\":8,\"limit\":500},\"unstrip-depth\":{\"value\":1,\"limit\":20},\"unstrip-size\":{\"value\":82899,\"limit\":5000000},\"entityaccesscount\":{\"value\":0,\"limit\":400},\"timingprofile\":[\"100.00%  392.973      1 -total\",\" 45.58%  179.105      1 Template:Reflist\",\" 19.98%   78.514      4 Template:Cite_journal\",\" 17.79%   69.899     21 Template:Cite_web\",\" 14.99%   58.889      1 Template:Short_description\",\" 14.87%   58.444      2 Template:Ambox\",\" 14.71%   57.809      1 Template:More_citations_needed\",\"  8.73%   34.297      1 Template:Broader\",\"  8.32%   32.701      2 Template:Pagetype\",\"  4.08%   16.044      1 Template:Citation_needed\"]},\"scribunto\":{\"limitreport-timeusage\":{\"value\":\"0.208\",\"limit\":\"10.000\"},\"limitreport-memusage\":{\"value\":8462278,\"limit\":52428800}},\"cachereport\":{\"origin\":\"mw-web.eqiad.main-5c64554744-slgkr\",\"timestamp\":\"20240301003525\",\"ttl\":2592000,\"transientcontent\":false}}});});</script>\n",
            "<script type=\"application/ld+json\">{\"@context\":\"https:\\/\\/schema.org\",\"@type\":\"Article\",\"name\":\"Web scraping\",\"url\":\"https:\\/\\/en.wikipedia.org\\/wiki\\/Web_scraping\",\"sameAs\":\"http:\\/\\/www.wikidata.org\\/entity\\/Q665452\",\"mainEntity\":\"http:\\/\\/www.wikidata.org\\/entity\\/Q665452\",\"author\":{\"@type\":\"Organization\",\"name\":\"Contributors to Wikimedia projects\"},\"publisher\":{\"@type\":\"Organization\",\"name\":\"Wikimedia Foundation, Inc.\",\"logo\":{\"@type\":\"ImageObject\",\"url\":\"https:\\/\\/www.wikimedia.org\\/static\\/images\\/wmf-hor-googpub.png\"}},\"datePublished\":\"2005-09-17T18:57:30Z\",\"dateModified\":\"2024-02-15T08:31:00Z\",\"headline\":\"data scraping used for extracting data from websites\"}</script>\n",
            "</body>\n",
            "</html>>\n"
          ]
        }
      ],
      "source": [
        "print(soup_3.prettify)"
      ]
    },
    {
      "cell_type": "markdown",
      "metadata": {
        "id": "6wBsdqjum_o_"
      },
      "source": [
        "### Getting the title"
      ]
    },
    {
      "cell_type": "code",
      "execution_count": 20,
      "metadata": {
        "colab": {
          "base_uri": "https://localhost:8080/",
          "height": 35
        },
        "id": "2V9-cuYsWVLP",
        "outputId": "fe9e5f95-59b7-4202-ec3d-6097ccc3e511"
      },
      "outputs": [
        {
          "data": {
            "text/plain": [
              "'Web scraping - Wikipedia'"
            ]
          },
          "execution_count": 20,
          "metadata": {},
          "output_type": "execute_result"
        }
      ],
      "source": [
        "soup_3.find(\"title\").get_text()"
      ]
    },
    {
      "cell_type": "markdown",
      "metadata": {
        "id": "KGZWvJFmnLZp"
      },
      "source": [
        "### Getting the first h1 tag"
      ]
    },
    {
      "cell_type": "code",
      "execution_count": 21,
      "metadata": {
        "colab": {
          "base_uri": "https://localhost:8080/",
          "height": 35
        },
        "id": "QejF-CVDWdVE",
        "outputId": "b363230c-9fbe-4c10-ce1b-37e2fda6ed98"
      },
      "outputs": [
        {
          "data": {
            "text/plain": [
              "'Web scraping'"
            ]
          },
          "execution_count": 21,
          "metadata": {},
          "output_type": "execute_result"
        }
      ],
      "source": [
        "soup_3.find(\"h1\").get_text()"
      ]
    },
    {
      "cell_type": "markdown",
      "metadata": {
        "id": "P0bLXLH-nNyY"
      },
      "source": [
        "### Getting all the h2 tags"
      ]
    },
    {
      "cell_type": "code",
      "execution_count": 22,
      "metadata": {
        "colab": {
          "base_uri": "https://localhost:8080/"
        },
        "id": "Jcx15L3XWk98",
        "outputId": "f6a63549-9293-4b0e-c1e3-d8dd4ecf0cab"
      },
      "outputs": [
        {
          "data": {
            "text/plain": [
              "[<h2 class=\"vector-pinnable-header-label\">Contents</h2>,\n",
              " <h2><span class=\"mw-headline\" id=\"History\">History</span><span class=\"mw-editsection\"><span class=\"mw-editsection-bracket\">[</span><a href=\"/w/index.php?title=Web_scraping&amp;action=edit&amp;section=1\" title=\"Edit section: History\"><span>edit</span></a><span class=\"mw-editsection-bracket\">]</span></span></h2>,\n",
              " <h2><span class=\"mw-headline\" id=\"Techniques\">Techniques</span><span class=\"mw-editsection\"><span class=\"mw-editsection-bracket\">[</span><a href=\"/w/index.php?title=Web_scraping&amp;action=edit&amp;section=2\" title=\"Edit section: Techniques\"><span>edit</span></a><span class=\"mw-editsection-bracket\">]</span></span></h2>,\n",
              " <h2><span class=\"mw-headline\" id=\"Software\">Software</span><span class=\"mw-editsection\"><span class=\"mw-editsection-bracket\">[</span><a href=\"/w/index.php?title=Web_scraping&amp;action=edit&amp;section=11\" title=\"Edit section: Software\"><span>edit</span></a><span class=\"mw-editsection-bracket\">]</span></span></h2>,\n",
              " <h2><span class=\"mw-headline\" id=\"Legal_issues\">Legal issues</span><span class=\"mw-editsection\"><span class=\"mw-editsection-bracket\">[</span><a href=\"/w/index.php?title=Web_scraping&amp;action=edit&amp;section=12\" title=\"Edit section: Legal issues\"><span>edit</span></a><span class=\"mw-editsection-bracket\">]</span></span></h2>,\n",
              " <h2><span class=\"mw-headline\" id=\"Methods_to_prevent_web_scraping\">Methods to prevent web scraping</span><span class=\"mw-editsection\"><span class=\"mw-editsection-bracket\">[</span><a href=\"/w/index.php?title=Web_scraping&amp;action=edit&amp;section=17\" title=\"Edit section: Methods to prevent web scraping\"><span>edit</span></a><span class=\"mw-editsection-bracket\">]</span></span></h2>,\n",
              " <h2><span class=\"mw-headline\" id=\"See_also\">See also</span><span class=\"mw-editsection\"><span class=\"mw-editsection-bracket\">[</span><a href=\"/w/index.php?title=Web_scraping&amp;action=edit&amp;section=18\" title=\"Edit section: See also\"><span>edit</span></a><span class=\"mw-editsection-bracket\">]</span></span></h2>,\n",
              " <h2><span class=\"mw-headline\" id=\"References\">References</span><span class=\"mw-editsection\"><span class=\"mw-editsection-bracket\">[</span><a href=\"/w/index.php?title=Web_scraping&amp;action=edit&amp;section=19\" title=\"Edit section: References\"><span>edit</span></a><span class=\"mw-editsection-bracket\">]</span></span></h2>]"
            ]
          },
          "execution_count": 22,
          "metadata": {},
          "output_type": "execute_result"
        }
      ],
      "source": [
        "h2_tags = soup_3.find_all(\"h2\")\n",
        "h2_tags"
      ]
    },
    {
      "cell_type": "markdown",
      "metadata": {
        "id": "EPWXrxtAnSR-"
      },
      "source": [
        "As we have multiple tags in the list here, we need to use a loop to print them out."
      ]
    },
    {
      "cell_type": "code",
      "execution_count": 23,
      "metadata": {
        "colab": {
          "base_uri": "https://localhost:8080/"
        },
        "id": "j-Lw4pCEW7Uy",
        "outputId": "14978215-cb3d-4928-b3a8-c963288028f8"
      },
      "outputs": [
        {
          "name": "stdout",
          "output_type": "stream",
          "text": [
            "Contents\n",
            "History[edit]\n",
            "Techniques[edit]\n",
            "Software[edit]\n",
            "Legal issues[edit]\n",
            "Methods to prevent web scraping[edit]\n",
            "See also[edit]\n",
            "References[edit]\n"
          ]
        }
      ],
      "source": [
        "for h2 in h2_tags:\n",
        "  print(h2.get_text())"
      ]
    },
    {
      "cell_type": "markdown",
      "metadata": {
        "id": "kIyT3sijoGuK"
      },
      "source": [
        "### Selecting the `Legal Issues` text for only `India`\n",
        "> **Pro tip:** If you're using Google Chrome, you can navigate to `View > Developer > Inspect elements` to access the built-in web development tools. Here, you can explore the HTML structure of the webpage directly within the browser using your mouse. This interactive approach is often more intuitive than examining the raw HTML code.\n",
        "\n",
        "By investigating the html we can see that the closest, easy to access, tag is the heading with the CSS `id` of `\"India\"`."
      ]
    },
    {
      "cell_type": "code",
      "execution_count": 24,
      "metadata": {
        "colab": {
          "base_uri": "https://localhost:8080/"
        },
        "id": "VQkUGkeoh0G_",
        "outputId": "8a3cb5a1-ea0e-47d3-fd2c-dd893e188aa5"
      },
      "outputs": [
        {
          "data": {
            "text/plain": [
              "<span class=\"mw-headline\" id=\"India\">India</span>"
            ]
          },
          "execution_count": 24,
          "metadata": {},
          "output_type": "execute_result"
        }
      ],
      "source": [
        "soup_3.find(id=\"India\")"
      ]
    },
    {
      "cell_type": "markdown",
      "metadata": {
        "id": "PYx5YrJKoh4a"
      },
      "source": [
        "We can then use `.find_next()` to select the text."
      ]
    },
    {
      "cell_type": "code",
      "execution_count": 25,
      "metadata": {
        "colab": {
          "base_uri": "https://localhost:8080/"
        },
        "id": "lLxrYkO3hbZn",
        "outputId": "e5c2f075-abab-4264-b402-8078ab816946"
      },
      "outputs": [
        {
          "data": {
            "text/plain": [
              "<span class=\"mw-editsection\"><span class=\"mw-editsection-bracket\">[</span><a href=\"/w/index.php?title=Web_scraping&amp;action=edit&amp;section=16\" title=\"Edit section: India\"><span>edit</span></a><span class=\"mw-editsection-bracket\">]</span></span>"
            ]
          },
          "execution_count": 25,
          "metadata": {},
          "output_type": "execute_result"
        }
      ],
      "source": [
        "soup_3.find(id=\"India\").find_next()"
      ]
    },
    {
      "cell_type": "markdown",
      "metadata": {
        "id": "q67eh_Oxo7B2"
      },
      "source": [
        "Looks like the next tag was a `span` tag, so let's specify that we want the next `p` tag."
      ]
    },
    {
      "cell_type": "code",
      "execution_count": 26,
      "metadata": {
        "colab": {
          "base_uri": "https://localhost:8080/"
        },
        "id": "oU-Ai8-Vgdsw",
        "outputId": "9d0fdf09-da1c-4068-8e9d-9551df3c2517"
      },
      "outputs": [
        {
          "data": {
            "text/plain": [
              "<p>Leaving a few cases dealing with IPR infringement, Indian courts have not expressly ruled on the legality of web scraping. However, since all common forms of electronic contracts are enforceable in India, violating the terms of use prohibiting data scraping will be a violation of the contract law. It will also violate the <a href=\"/wiki/Information_Technology_Act,_2000#:~:text=From_Wikipedia,_the_free_encyclopedia_The_Information_Technology,in_India_dealing_with_cybercrime_and_electronic_commerce.\" title=\"Information Technology Act, 2000\">Information Technology Act, 2000</a>, which penalizes unauthorized access to a computer resource or extracting data from a computer resource.\n",
              "</p>"
            ]
          },
          "execution_count": 26,
          "metadata": {},
          "output_type": "execute_result"
        }
      ],
      "source": [
        "soup_3.find(id=\"India\").find_next(\"p\")"
      ]
    },
    {
      "cell_type": "markdown",
      "metadata": {
        "id": "-b53SGH5pFwb"
      },
      "source": [
        "Now we can simply extract the text, and we have what we need"
      ]
    },
    {
      "cell_type": "code",
      "execution_count": null,
      "metadata": {
        "colab": {
          "base_uri": "https://localhost:8080/",
          "height": 87
        },
        "id": "UP5YwO3ii3NR",
        "outputId": "5e188868-f214-4bd3-cc42-3724b7229b76"
      },
      "outputs": [
        {
          "data": {
            "application/vnd.google.colaboratory.intrinsic+json": {
              "type": "string"
            },
            "text/plain": [
              "'Leaving a few cases dealing with IPR infringement, Indian courts have not expressly ruled on the legality of web scraping. However, since all common forms of electronic contracts are enforceable in India, violating the terms of use prohibiting data scraping will be a violation of the contract law. It will also violate the Information Technology Act, 2000, which penalizes unauthorized access to a computer resource or extracting data from a computer resource.\\n'"
            ]
          },
          "execution_count": 141,
          "metadata": {},
          "output_type": "execute_result"
        }
      ],
      "source": [
        "soup_3.find(id=\"India\").find_next(\"p\").get_text()"
      ]
    },
    {
      "cell_type": "markdown",
      "metadata": {
        "id": "U4QQbALMuZ99"
      },
      "source": [
        "## Challenge 2 😀\n",
        "\n",
        "Utilise your web scraping skills to gather information about three German cities – Berlin, Hamburg, and Munich – from Wikipedia. You will start by extracting the population of each city and then expand the scope of your data gathering to include latitude and longitude, country, and possibly other relevant details.\n",
        "\n",
        "1. Population Scraping\n",
        "\n",
        "  1.1. Begin by scraping the population of each city from their respective Wikipedia pages:\n",
        "\n",
        " - Berlin: https://en.wikipedia.org/wiki/Berlin\n",
        " - Hamburg: https://en.wikipedia.org/wiki/Hamburg\n",
        " - Munich: https://en.wikipedia.org/wiki/Munich\n",
        "\n",
        "  1.2. Once you have scrapped the population of each city, reflect on the similarities and patterns in accessing the population data across the three pages. Also, analyse the URLs to identify any commonalities. Make a loop that executes once but simultaneously retrieves the population for all three cities.\n",
        "\n",
        "2. Data Organisation\n",
        "\n",
        "  Utilise pandas DataFrame to effectively store the extracted population data. Ensure the data is clean and properly formatted. Remove any unnecessary characters or symbols and ensure the column data types are accurate.\n",
        "\n",
        "3. Further Enhancement\n",
        "\n",
        "  3.1. Expand the scope of your data gathering by extracting other relevant information for each city:\n",
        "\n",
        " - Latitude and longitude\n",
        " - Country of location\n",
        "\n",
        "  3.2. Create a function from the loop and DataFrame to encapsulate the scraping process. This function can be used repeatedly to fetch updated data whenever necessary. It should return a clean, properly formatted DataFrame.\n",
        "\n",
        "4. Global Data Scraping\n",
        "\n",
        "  With your robust scraping skills now honed, venture beyond the confines of Germany and explore other cities around the world. While the extraction methodology for German cities may follow a consistent pattern, this may not be the case for cities from different countries. Can you make a function that returns a clean DataFrame of information for cities worldwide?"
      ]
    },
    {
      "cell_type": "code",
      "execution_count": 69,
      "metadata": {
        "id": "jXI3PQxjwNC1"
      },
      "outputs": [],
      "source": [
        "import requests\n",
        "from bs4 import BeautifulSoup\n",
        "import pandas as pd"
      ]
    },
    {
      "cell_type": "code",
      "execution_count": 59,
      "metadata": {},
      "outputs": [],
      "source": [
        "url = \"https://en.wikipedia.org/wiki/Berlin\"\n",
        "\n",
        "# Send a GET request to the Wikipedia page\n",
        "response = requests.get(url)\n",
        "\n",
        "# Parse the HTML content of the page\n",
        "soup = BeautifulSoup(response.content, 'html.parser')\n",
        "\n",
        "# Find the infobox table containing city information\n",
        "infobox = soup.find(\"table\", {\"class\": \"infobox ib-settlement vcard\"})\n",
        "\n",
        "# Search for the header containing population information\n",
        "population_data = infobox.find(string=\"Population\")\n",
        "\n",
        "# Extract the population value\n",
        "population = population_data.find_next(\"td\").get_text() \n"
      ]
    },
    {
      "cell_type": "code",
      "execution_count": 92,
      "metadata": {},
      "outputs": [
        {
          "ename": "SyntaxError",
          "evalue": "'return' outside function (4042425752.py, line 69)",
          "output_type": "error",
          "traceback": [
            "\u001b[1;36m  Cell \u001b[1;32mIn[92], line 69\u001b[1;36m\u001b[0m\n\u001b[1;33m    return df\u001b[0m\n\u001b[1;37m    ^\u001b[0m\n\u001b[1;31mSyntaxError\u001b[0m\u001b[1;31m:\u001b[0m 'return' outside function\n"
          ]
        }
      ],
      "source": [
        "import requests\n",
        "from bs4 import BeautifulSoup\n",
        "import pandas as pd\n",
        "import re\n",
        "\n",
        "def scrape_city_data():\n",
        "    cities = []\n",
        "\n",
        "    # Loop to input cities\n",
        "    while True:\n",
        "        city = input(\"Enter a city (or 'done' to finish): \").strip()\n",
        "        if city.lower() == \"done\":\n",
        "            break\n",
        "        cities.append(city)\n",
        "\n",
        "    # Lists to store city and population data\n",
        "    city_list = []\n",
        "    population_list = []\n",
        "    latitude_list = []\n",
        "    longitude_list = []\n",
        "    country_list = []\n",
        "    elevation_list = []\n",
        "\n",
        "    # Iterate through the list of cities\n",
        "    for city in cities:\n",
        "        # Construct Wikipedia URL for the city\n",
        "        url = f\"https://en.wikipedia.org/wiki/{city}\"\n",
        "\n",
        "        # Send a GET request to the Wikipedia page of the city\n",
        "        response = requests.get(url)\n",
        "\n",
        "        # Parse the HTML content of the page\n",
        "        soup = BeautifulSoup(response.content, 'html.parser')\n",
        "\n",
        "        # Find the infobox table containing city information\n",
        "        infobox = soup.find(\"table\", {\"class\": \"infobox ib-settlement vcard\"})\n",
        "\n",
        "        # Search for the header containing population information\n",
        "        population_data = infobox.find(string=\"Population\")\n",
        "\n",
        "        # Extract the population value if found, format number and add to list\n",
        "        if population_data:\n",
        "            population = int(population_data.find_next(\"td\").get_text().strip().replace(\",\", \"\"))\n",
        "            city_list.append(city)\n",
        "            population_list.append(population)\n",
        "        else:\n",
        "            print(f\"Population data not found for {city}.\")\n",
        "\n",
        "        # Search for coordinates, extract them and add to list\n",
        "        latitude = infobox.find(\"span\", {\"class\": \"latitude\"}).get_text()\n",
        "        latitude_list.append(latitude)\n",
        "        longitude = infobox.find(\"span\", {\"class\": \"longitude\"}).get_text()\n",
        "        longitude_list.append(longitude)\n",
        "    \n",
        "        # Search for country of location, extract and add to list\n",
        "        country = infobox.find(\"tr\", {\"class\": \"mergedtoprow\"}).find_next(\"td\", {\"class\": \"infobox-data\"}).get_text()\n",
        "        country_list.append(country)\n",
        "   \n",
        "        # Search for elevation, extract, format and add to list\n",
        "        elevation = infobox.find(string=\"Elevation\").find_next(\"td\").get_text().strip()\n",
        "        elevation = int(re.sub(r'\\d.*', '', elevation))\n",
        "        elevation_list.append(elevation)\n",
        "\n",
        "\n",
        "    # Create DataFrame from lists\n",
        "    df = pd.DataFrame({\"Country\": country_list, \"City\": city_list, \"Population\": population_list, \"Lat\": latitude_list, \"Long\": longitude_list, \"Elevation\": elevation_list})\n",
        "\n",
        "\n",
        "return df\n",
        "\n",
        "\n"
      ]
    },
    {
      "cell_type": "code",
      "execution_count": 98,
      "metadata": {},
      "outputs": [
        {
          "data": {
            "text/html": [
              "<div>\n",
              "<style scoped>\n",
              "    .dataframe tbody tr th:only-of-type {\n",
              "        vertical-align: middle;\n",
              "    }\n",
              "\n",
              "    .dataframe tbody tr th {\n",
              "        vertical-align: top;\n",
              "    }\n",
              "\n",
              "    .dataframe thead th {\n",
              "        text-align: right;\n",
              "    }\n",
              "</style>\n",
              "<table border=\"1\" class=\"dataframe\">\n",
              "  <thead>\n",
              "    <tr style=\"text-align: right;\">\n",
              "      <th></th>\n",
              "      <th>Country</th>\n",
              "      <th>City</th>\n",
              "      <th>Population</th>\n",
              "      <th>Lat</th>\n",
              "      <th>Long</th>\n",
              "      <th>Elevation in m</th>\n",
              "    </tr>\n",
              "  </thead>\n",
              "  <tbody>\n",
              "    <tr>\n",
              "      <th>0</th>\n",
              "      <td>Germany</td>\n",
              "      <td>Berlin</td>\n",
              "      <td>3576873</td>\n",
              "      <td>52°31′12″N</td>\n",
              "      <td>13°24′18″E</td>\n",
              "      <td>34</td>\n",
              "    </tr>\n",
              "  </tbody>\n",
              "</table>\n",
              "</div>"
            ],
            "text/plain": [
              "   Country    City Population         Lat        Long  Elevation in m\n",
              "0  Germany  Berlin    3576873  52°31′12″N  13°24′18″E              34"
            ]
          },
          "execution_count": 98,
          "metadata": {},
          "output_type": "execute_result"
        }
      ],
      "source": [
        "import requests\n",
        "from bs4 import BeautifulSoup\n",
        "import pandas as pd\n",
        "import re\n",
        "\n",
        "\n",
        "\n",
        "def scrape_city_data():\n",
        "    cities = []\n",
        "\n",
        "    # Loop to input cities\n",
        "    while True:\n",
        "        city = input(\"Enter a city (or 'done' to finish): \").strip()\n",
        "        if city.lower() == \"done\":\n",
        "            break\n",
        "        cities.append(city)\n",
        "\n",
        "    # Lists to store city and population data\n",
        "    city_list = []\n",
        "    population_list = []\n",
        "    latitude_list = []\n",
        "    longitude_list = []\n",
        "    country_list = []\n",
        "    elevation_list = []\n",
        "\n",
        "    # Iterate through the list of cities\n",
        "    for city in cities:\n",
        "        # Construct Wikipedia URL for the city\n",
        "        url = f\"https://en.wikipedia.org/wiki/{city}\"\n",
        "\n",
        "        # Send a GET request to the Wikipedia page of the city\n",
        "        response = requests.get(url)\n",
        "\n",
        "        # Parse the HTML content of the page\n",
        "        soup = BeautifulSoup(response.content, 'html.parser')\n",
        "\n",
        "        # Find the infobox table containing city information\n",
        "        infobox = soup.find(\"table\", {\"class\": \"infobox ib-settlement vcard\"})\n",
        "\n",
        "        if infobox:\n",
        "            # Search for the header containing population information\n",
        "            population_data = infobox.find(string=\"Population\")\n",
        "\n",
        "            # Extract the population value if found, format number and add to list\n",
        "            if population_data:\n",
        "                population = population_data.find_next(\"td\").get_text().strip().replace(\",\", \"\")\n",
        "                city_list.append(city)\n",
        "                population_list.append(population)\n",
        "            else:\n",
        "                print(f\"Population data not found for {city}.\")\n",
        "\n",
        "            # Search for coordinates, extract them and add to list\n",
        "            latitude = infobox.find(\"span\", {\"class\": \"latitude\"})\n",
        "            longitude = infobox.find(\"span\", {\"class\": \"longitude\"})\n",
        "\n",
        "            if latitude and longitude:\n",
        "                latitude_list.append(latitude.get_text())\n",
        "                longitude_list.append(longitude.get_text())\n",
        "            else:\n",
        "                latitude_list.append(None)\n",
        "                longitude_list.append(None)\n",
        "\n",
        "            # Search for country of location, extract and add to list\n",
        "            country = infobox.find(\"tr\", {\"class\": \"mergedtoprow\"}).find_next(\"td\", {\"class\": \"infobox-data\"})\n",
        "            if country:\n",
        "                country_list.append(country.get_text())\n",
        "            else:\n",
        "                country_list.append(None)\n",
        "\n",
        "            # Search for elevation, extract and add to list\n",
        "            elevation = infobox.find(string=\"Elevation\")\n",
        "            if elevation:\n",
        "                elevation = elevation.find_next(\"td\").get_text().strip()\n",
        "                elevation = int(re.sub(r'\\D', '', elevation[:5]))\n",
        "                elevation_list.append(elevation)\n",
        "            else:\n",
        "                elevation_list.append(None)\n",
        "        else:\n",
        "            print(f\"Infobox not found for {city}.\")\n",
        "\n",
        "    # Create DataFrame from lists\n",
        "    df = pd.DataFrame({\"Country\": country_list, \"City\": city_list, \"Population\": population_list, \"Lat\": latitude_list, \"Long\": longitude_list, \"Elevation in m\": elevation_list})\n",
        "    \n",
        "    return df\n",
        "\n",
        "city_data = scrape_city_data()\n",
        "city_data"
      ]
    },
    {
      "cell_type": "code",
      "execution_count": 99,
      "metadata": {},
      "outputs": [
        {
          "data": {
            "text/html": [
              "<div>\n",
              "<style scoped>\n",
              "    .dataframe tbody tr th:only-of-type {\n",
              "        vertical-align: middle;\n",
              "    }\n",
              "\n",
              "    .dataframe tbody tr th {\n",
              "        vertical-align: top;\n",
              "    }\n",
              "\n",
              "    .dataframe thead th {\n",
              "        text-align: right;\n",
              "    }\n",
              "</style>\n",
              "<table border=\"1\" class=\"dataframe\">\n",
              "  <thead>\n",
              "    <tr style=\"text-align: right;\">\n",
              "      <th></th>\n",
              "      <th>Country</th>\n",
              "      <th>City</th>\n",
              "      <th>Population</th>\n",
              "      <th>Lat</th>\n",
              "      <th>Long</th>\n",
              "      <th>Elevation in m</th>\n",
              "    </tr>\n",
              "  </thead>\n",
              "  <tbody>\n",
              "    <tr>\n",
              "      <th>0</th>\n",
              "      <td>Germany</td>\n",
              "      <td>Berlin</td>\n",
              "      <td>3576873</td>\n",
              "      <td>52°31′12″N</td>\n",
              "      <td>13°24′18″E</td>\n",
              "      <td>34</td>\n",
              "    </tr>\n",
              "    <tr>\n",
              "      <th>1</th>\n",
              "      <td>Germany</td>\n",
              "      <td>München</td>\n",
              "      <td>1512491</td>\n",
              "      <td>48°08′15″N</td>\n",
              "      <td>11°34′30″E</td>\n",
              "      <td>520</td>\n",
              "    </tr>\n",
              "  </tbody>\n",
              "</table>\n",
              "</div>"
            ],
            "text/plain": [
              "   Country     City Population         Lat        Long  Elevation in m\n",
              "0  Germany   Berlin    3576873  52°31′12″N  13°24′18″E              34\n",
              "1  Germany  München    1512491  48°08′15″N  11°34′30″E             520"
            ]
          },
          "execution_count": 99,
          "metadata": {},
          "output_type": "execute_result"
        }
      ],
      "source": [
        "scrape_city_data()"
      ]
    },
    {
      "cell_type": "code",
      "execution_count": null,
      "metadata": {},
      "outputs": [],
      "source": []
    }
  ],
  "metadata": {
    "colab": {
      "provenance": []
    },
    "kernelspec": {
      "display_name": "Python 3",
      "name": "python3"
    },
    "language_info": {
      "codemirror_mode": {
        "name": "ipython",
        "version": 3
      },
      "file_extension": ".py",
      "mimetype": "text/x-python",
      "name": "python",
      "nbconvert_exporter": "python",
      "pygments_lexer": "ipython3",
      "version": "3.10.13"
    }
  },
  "nbformat": 4,
  "nbformat_minor": 0
}
