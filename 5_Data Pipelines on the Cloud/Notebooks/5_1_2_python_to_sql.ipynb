{
  "cells": [
    {
      "cell_type": "markdown",
      "metadata": {
        "id": "WIrP73cmuojf"
      },
      "source": [
        "# Python to SQL, and back again\n",
        "In this codealong we will show you how to create a relational database from your pandas DataFrames.\n",
        "> **To run this notebook you will need to work locally and not on colab.**"
      ]
    },
    {
      "cell_type": "markdown",
      "metadata": {
        "id": "Hq1bTTMCuojj"
      },
      "source": [
        "---\n",
        "## 1.&nbsp; Import libraries 💾\n",
        "If you haven't already installed sqlalchemy, you will need to. Uncomment the code below, install, and then recomment the code - you only need to install it once."
      ]
    },
    {
      "cell_type": "code",
      "execution_count": 1,
      "metadata": {
        "id": "Uw40bYYYn7_U"
      },
      "outputs": [
        {
          "name": "stdout",
          "output_type": "stream",
          "text": [
            "Collecting sqlalchemy\n",
            "  Downloading SQLAlchemy-2.0.28-cp310-cp310-win_amd64.whl.metadata (9.8 kB)\n",
            "Requirement already satisfied: typing-extensions>=4.6.0 in c:\\users\\marvin\\miniconda3\\envs\\myenv\\lib\\site-packages (from sqlalchemy) (4.9.0)\n",
            "Collecting greenlet!=0.4.17 (from sqlalchemy)\n",
            "  Downloading greenlet-3.0.3-cp310-cp310-win_amd64.whl.metadata (3.9 kB)\n",
            "Downloading SQLAlchemy-2.0.28-cp310-cp310-win_amd64.whl (2.1 MB)\n",
            "   ---------------------------------------- 0.0/2.1 MB ? eta -:--:--\n",
            "   -- ------------------------------------- 0.1/2.1 MB 4.3 MB/s eta 0:00:01\n",
            "   -------- ------------------------------- 0.4/2.1 MB 5.4 MB/s eta 0:00:01\n",
            "   ------------ --------------------------- 0.7/2.1 MB 6.0 MB/s eta 0:00:01\n",
            "   ---------------- ----------------------- 0.8/2.1 MB 4.9 MB/s eta 0:00:01\n",
            "   ------------------------ --------------- 1.3/2.1 MB 6.3 MB/s eta 0:00:01\n",
            "   ------------------------ --------------- 1.3/2.1 MB 5.5 MB/s eta 0:00:01\n",
            "   ---------------------------------------  2.1/2.1 MB 6.6 MB/s eta 0:00:01\n",
            "   ---------------------------------------- 2.1/2.1 MB 6.6 MB/s eta 0:00:00\n",
            "Downloading greenlet-3.0.3-cp310-cp310-win_amd64.whl (292 kB)\n",
            "   ---------------------------------------- 0.0/292.3 kB ? eta -:--:--\n",
            "   ---------------------------------------  286.7/292.3 kB 8.9 MB/s eta 0:00:01\n",
            "   ---------------------------------------- 292.3/292.3 kB 6.0 MB/s eta 0:00:00\n",
            "Installing collected packages: greenlet, sqlalchemy\n",
            "Successfully installed greenlet-3.0.3 sqlalchemy-2.0.28\n"
          ]
        }
      ],
      "source": [
        "# install if needed\n",
        "# !pip install sqlalchemy"
      ]
    },
    {
      "cell_type": "code",
      "execution_count": 2,
      "metadata": {
        "id": "ano7l8Hmnw1-"
      },
      "outputs": [],
      "source": [
        "import pandas as pd"
      ]
    },
    {
      "cell_type": "markdown",
      "metadata": {
        "id": "eKLGWvQuuojl"
      },
      "source": [
        "---\n",
        "## 2.&nbsp; Relational Databases 📂"
      ]
    },
    {
      "cell_type": "markdown",
      "metadata": {
        "id": "AbiloG-ikksw"
      },
      "source": [
        "Creating DataFrames in python and pandas often results in tables with repeated information, as shown in the example below.\n",
        "<br>\n",
        "\n",
        "| author_name | book_title | year_published |\n",
        "| --- | --- | --- |\n",
        "| Arthur Conan Doyle | The Adventures of Sherlock Holmes | 1887 |\n",
        "| J.R.R. Tolkien | The Hobbit | 1937 |\n",
        "| J.R.R. Tolkien | The Lord of the Rings | 1954 |\n",
        "| Harper Lee | To Kill a Mockingbird | 1960 |\n",
        "| Harper Lee | Go Set a Watchman | 2015 |\n",
        "<br>\n",
        "\n",
        "This can be problematic for relational databases, which are designed to store data efficiently and avoid redundancy. To address this issue, we will separate the author and book information into two tables: authors and books. This approach eliminates duplicate data, ensuring data integrity and optimising storage.\n",
        "<br>\n",
        "\n",
        "| author_id | author_name |\n",
        "| --- | --- |\n",
        "| 1 | Arthur Conan Doyle |\n",
        "| 2 | J.R.R. Tolkien |\n",
        "| 3 | Harper Lee |\n",
        "<br>\n",
        "\n",
        "| book_id | book_title | year_published | author_id |\n",
        "|---|---|---|---|\n",
        "| 1 | The Adventures of Sherlock Holmes | 1887 | 1 |\n",
        "| 2 | The Hobbit | 1937 | 2 |\n",
        "| 3 | The Lord of the Rings | 1954 | 2 |\n",
        "| 4 | To Kill a Mockingbird | 1960 | 3 |\n",
        "| 5 | Go Set a Watchman | 2015 | 3 |"
      ]
    },
    {
      "cell_type": "markdown",
      "metadata": {
        "id": "MJTc1LPJuojm"
      },
      "source": [
        "---\n",
        "## 3.&nbsp; Creating the authors table with python 🐍\n",
        "Let's start by creating the original DataFrame, including the repeated data."
      ]
    },
    {
      "cell_type": "code",
      "execution_count": 6,
      "metadata": {
        "colab": {
          "base_uri": "https://localhost:8080/",
          "height": 206
        },
        "id": "49fThkoLk-iL",
        "outputId": "b24d51d2-9d07-4b22-bf0c-4b840743a068"
      },
      "outputs": [
        {
          "data": {
            "text/html": [
              "<div>\n",
              "<style scoped>\n",
              "    .dataframe tbody tr th:only-of-type {\n",
              "        vertical-align: middle;\n",
              "    }\n",
              "\n",
              "    .dataframe tbody tr th {\n",
              "        vertical-align: top;\n",
              "    }\n",
              "\n",
              "    .dataframe thead th {\n",
              "        text-align: right;\n",
              "    }\n",
              "</style>\n",
              "<table border=\"1\" class=\"dataframe\">\n",
              "  <thead>\n",
              "    <tr style=\"text-align: right;\">\n",
              "      <th></th>\n",
              "      <th>author_name</th>\n",
              "      <th>book_title</th>\n",
              "      <th>year_published</th>\n",
              "    </tr>\n",
              "  </thead>\n",
              "  <tbody>\n",
              "    <tr>\n",
              "      <th>0</th>\n",
              "      <td>Arthur Conan Doyle</td>\n",
              "      <td>The Adventures of Sherlock Holmes</td>\n",
              "      <td>1887</td>\n",
              "    </tr>\n",
              "    <tr>\n",
              "      <th>1</th>\n",
              "      <td>J.R.R. Tolkien</td>\n",
              "      <td>The Hobbit</td>\n",
              "      <td>1937</td>\n",
              "    </tr>\n",
              "    <tr>\n",
              "      <th>2</th>\n",
              "      <td>J.R.R. Tolkien</td>\n",
              "      <td>The Lord of the Rings</td>\n",
              "      <td>1954</td>\n",
              "    </tr>\n",
              "    <tr>\n",
              "      <th>3</th>\n",
              "      <td>Harper Lee</td>\n",
              "      <td>To Kill a Mockingbird</td>\n",
              "      <td>1960</td>\n",
              "    </tr>\n",
              "    <tr>\n",
              "      <th>4</th>\n",
              "      <td>Harper Lee</td>\n",
              "      <td>Go Set a Watchman</td>\n",
              "      <td>2015</td>\n",
              "    </tr>\n",
              "  </tbody>\n",
              "</table>\n",
              "</div>"
            ],
            "text/plain": [
              "          author_name                         book_title  year_published\n",
              "0  Arthur Conan Doyle  The Adventures of Sherlock Holmes            1887\n",
              "1      J.R.R. Tolkien                         The Hobbit            1937\n",
              "2      J.R.R. Tolkien              The Lord of the Rings            1954\n",
              "3          Harper Lee              To Kill a Mockingbird            1960\n",
              "4          Harper Lee                  Go Set a Watchman            2015"
            ]
          },
          "execution_count": 6,
          "metadata": {},
          "output_type": "execute_result"
        }
      ],
      "source": [
        "names = [\"Arthur Conan Doyle\", \"J.R.R. Tolkien\", \"J.R.R. Tolkien\", \"Harper Lee\", \"Harper Lee\"]\n",
        "titles = [\"The Adventures of Sherlock Holmes\", \"The Hobbit\", \"The Lord of the Rings\", \"To Kill a Mockingbird\", \"Go Set a Watchman\"]\n",
        "years = [1887, 1937, 1954, 1960, 2015]\n",
        "\n",
        "non_relational_df = pd.DataFrame({\"author_name\": names,\n",
        "                                  \"book_title\": titles,\n",
        "                                  \"year_published\": years})\n",
        "\n",
        "non_relational_df"
      ]
    },
    {
      "cell_type": "markdown",
      "metadata": {
        "id": "EoKR0aXtuojn"
      },
      "source": [
        "Now, let's select only the authors without any duplicates."
      ]
    },
    {
      "cell_type": "code",
      "execution_count": 7,
      "metadata": {
        "colab": {
          "base_uri": "https://localhost:8080/",
          "height": 143
        },
        "id": "KetW0vMqjw_o",
        "outputId": "4aec9905-4813-4280-8b10-d0bbca263c4a"
      },
      "outputs": [
        {
          "data": {
            "text/html": [
              "<div>\n",
              "<style scoped>\n",
              "    .dataframe tbody tr th:only-of-type {\n",
              "        vertical-align: middle;\n",
              "    }\n",
              "\n",
              "    .dataframe tbody tr th {\n",
              "        vertical-align: top;\n",
              "    }\n",
              "\n",
              "    .dataframe thead th {\n",
              "        text-align: right;\n",
              "    }\n",
              "</style>\n",
              "<table border=\"1\" class=\"dataframe\">\n",
              "  <thead>\n",
              "    <tr style=\"text-align: right;\">\n",
              "      <th></th>\n",
              "      <th>author_name</th>\n",
              "    </tr>\n",
              "  </thead>\n",
              "  <tbody>\n",
              "    <tr>\n",
              "      <th>0</th>\n",
              "      <td>Arthur Conan Doyle</td>\n",
              "    </tr>\n",
              "    <tr>\n",
              "      <th>1</th>\n",
              "      <td>J.R.R. Tolkien</td>\n",
              "    </tr>\n",
              "    <tr>\n",
              "      <th>2</th>\n",
              "      <td>Harper Lee</td>\n",
              "    </tr>\n",
              "  </tbody>\n",
              "</table>\n",
              "</div>"
            ],
            "text/plain": [
              "          author_name\n",
              "0  Arthur Conan Doyle\n",
              "1      J.R.R. Tolkien\n",
              "2          Harper Lee"
            ]
          },
          "execution_count": 7,
          "metadata": {},
          "output_type": "execute_result"
        }
      ],
      "source": [
        "authors_unique = non_relational_df[\"author_name\"].unique()\n",
        "\n",
        "authors_df = pd.DataFrame({\"author_name\": authors_unique})\n",
        "\n",
        "authors_df"
      ]
    },
    {
      "cell_type": "markdown",
      "metadata": {
        "id": "aOe3oSZ7uojo"
      },
      "source": [
        "Fantastic! This DataFrame will be the foundation of our authors table."
      ]
    },
    {
      "cell_type": "markdown",
      "metadata": {
        "id": "R9Hi33LFuojo"
      },
      "source": [
        "---\n",
        "## 4.&nbsp; Creating the matching authors table with SQL 💻\n",
        "\n",
        "Ok, now we're ready to store this DataFrame in SQL. Before we can send the information in SQL, we need to make a table that has the same columns and data types to recieve the data. While we are creating a table for authors, we can also create the books table too.\n",
        "\n",
        "Open MySQL Workbench, open a local connection, and open a new file. Then copy and paste the code from below.\n",
        "\n",
        "```sql\n",
        "-- Drop the database if it already exists\n",
        "DROP DATABASE IF EXISTS sql_workshop ;\n",
        "\n",
        "-- Create the database\n",
        "CREATE DATABASE sql_workshop;\n",
        "\n",
        "-- Use the database\n",
        "USE sql_workshop;\n",
        "\n",
        "-- Create the 'authors' table\n",
        "CREATE TABLE authors (\n",
        "    author_id INT AUTO_INCREMENT, -- Automatically generated ID for each author\n",
        "    author_name VARCHAR(255) NOT NULL, -- Name of the author\n",
        "    PRIMARY KEY (author_id) -- Primary key to uniquely identify each author\n",
        ");\n",
        "\n",
        "-- Create the 'books' table\n",
        "CREATE TABLE books (\n",
        "    book_id INT AUTO_INCREMENT, -- Automatically generated ID for each book\n",
        "    book_title VARCHAR(255) NOT NULL, -- Title of the book\n",
        "    year_published INT, -- Year the book was published\n",
        "    author_id INT, -- ID of the author who wrote the book\n",
        "    PRIMARY KEY (book_id), -- Primary key to uniquely identify each book\n",
        "    FOREIGN KEY (author_id) REFERENCES authors(author_id) -- Foreign key to connect each book to its author\n",
        ");\n",
        "```"
      ]
    },
    {
      "cell_type": "markdown",
      "metadata": {
        "id": "x1gOYWuzrIwC"
      },
      "source": [
        "To download the sql file that we will follow for this section, [click here](https://drive.google.com/uc?export=download&id=1tln_33FM7D9wLckzxacBJNcMYqtyxybE)"
      ]
    },
    {
      "cell_type": "markdown",
      "metadata": {
        "id": "RgX1QXKfuojo"
      },
      "source": [
        "If you'd like more information about MySQL data types [click here](https://www.w3schools.com/mysql/mysql_datatypes.asp)."
      ]
    },
    {
      "cell_type": "markdown",
      "metadata": {
        "id": "nZXUwrbwn3JD"
      },
      "source": [
        "---\n",
        "## 5.&nbsp; Sending the information from this notebook to sql 📠\n",
        "To establish a connection with the SQL database, we need to provide the notebook with the necessary information, which we do using the connection string below. You will need to modify only the password variable, which should match the password you set during MySQL Workbench installation."
      ]
    },
    {
      "cell_type": "code",
      "execution_count": 3,
      "metadata": {
        "id": "pcWNrc9cn770"
      },
      "outputs": [],
      "source": [
        "schema = \"sql_workshop\"\n",
        "host = \"127.0.0.1\"\n",
        "user = \"root\"\n",
        "password = \"MySQLjau\"\n",
        "port = 3306\n",
        "\n",
        "connection_string = f'mysql+pymysql://{user}:{password}@{host}:{port}/{schema}'"
      ]
    },
    {
      "cell_type": "markdown",
      "metadata": {
        "id": "YOFOsZVOoGih"
      },
      "source": [
        "To send information to our sql databse we use the pandas method `.to_sql()`. The argument `if_exists=\"append\"` says that we don't want to overwrite any existing data, but add on to what is already there."
      ]
    },
    {
      "cell_type": "code",
      "execution_count": null,
      "metadata": {},
      "outputs": [],
      "source": []
    },
    {
      "cell_type": "code",
      "execution_count": 11,
      "metadata": {
        "id": "qaC9kekIn74a",
        "outputId": "da3c8b78-201b-4053-ac04-0d2a6c78b554"
      },
      "outputs": [
        {
          "data": {
            "text/plain": [
              "3"
            ]
          },
          "execution_count": 11,
          "metadata": {},
          "output_type": "execute_result"
        }
      ],
      "source": [
        "authors_df.to_sql('authors',\n",
        "                  if_exists='append',\n",
        "                  con=connection_string,\n",
        "                  index=False)"
      ]
    },
    {
      "cell_type": "markdown",
      "metadata": {
        "id": "zgtHTjICuojo"
      },
      "source": [
        "Now, have a look at the table `authors` in MySQL Workbench, you should see that the names of the authors have appeared."
      ]
    },
    {
      "cell_type": "markdown",
      "metadata": {
        "id": "BSRYH2c5uojo"
      },
      "source": [
        "---\n",
        "## 6.&nbsp; Retrieving information from sql to this notebook 📥\n",
        "It's not only possible to send information to a SQL database, but also retrieve it too. Using `.read_sql()` in combination with the `connection_string` we can access the required data."
      ]
    },
    {
      "cell_type": "code",
      "execution_count": 13,
      "metadata": {
        "id": "k0XfGjSAoK8T",
        "outputId": "b96b6354-e80c-4364-b946-5c234ff1bd41"
      },
      "outputs": [
        {
          "data": {
            "text/html": [
              "<div>\n",
              "<style scoped>\n",
              "    .dataframe tbody tr th:only-of-type {\n",
              "        vertical-align: middle;\n",
              "    }\n",
              "\n",
              "    .dataframe tbody tr th {\n",
              "        vertical-align: top;\n",
              "    }\n",
              "\n",
              "    .dataframe thead th {\n",
              "        text-align: right;\n",
              "    }\n",
              "</style>\n",
              "<table border=\"1\" class=\"dataframe\">\n",
              "  <thead>\n",
              "    <tr style=\"text-align: right;\">\n",
              "      <th></th>\n",
              "      <th>author_id</th>\n",
              "      <th>author_name</th>\n",
              "    </tr>\n",
              "  </thead>\n",
              "  <tbody>\n",
              "    <tr>\n",
              "      <th>0</th>\n",
              "      <td>1</td>\n",
              "      <td>Haruki Murakami</td>\n",
              "    </tr>\n",
              "    <tr>\n",
              "      <th>1</th>\n",
              "      <td>2</td>\n",
              "      <td>Margaret Atwood</td>\n",
              "    </tr>\n",
              "    <tr>\n",
              "      <th>2</th>\n",
              "      <td>3</td>\n",
              "      <td>Henrik Ibsen</td>\n",
              "    </tr>\n",
              "    <tr>\n",
              "      <th>3</th>\n",
              "      <td>4</td>\n",
              "      <td>Arthur Conan Doyle</td>\n",
              "    </tr>\n",
              "    <tr>\n",
              "      <th>4</th>\n",
              "      <td>5</td>\n",
              "      <td>J.R.R. Tolkien</td>\n",
              "    </tr>\n",
              "    <tr>\n",
              "      <th>5</th>\n",
              "      <td>6</td>\n",
              "      <td>Harper Lee</td>\n",
              "    </tr>\n",
              "  </tbody>\n",
              "</table>\n",
              "</div>"
            ],
            "text/plain": [
              "   author_id         author_name\n",
              "0          1     Haruki Murakami\n",
              "1          2     Margaret Atwood\n",
              "2          3        Henrik Ibsen\n",
              "3          4  Arthur Conan Doyle\n",
              "4          5      J.R.R. Tolkien\n",
              "5          6          Harper Lee"
            ]
          },
          "execution_count": 13,
          "metadata": {},
          "output_type": "execute_result"
        }
      ],
      "source": [
        "authors_from_sql = pd.read_sql(\"authors\", con=connection_string)\n",
        "authors_from_sql"
      ]
    },
    {
      "cell_type": "markdown",
      "metadata": {
        "id": "BTjYZGV3DQ72"
      },
      "source": [
        "Using this same method, we can also perform SQL queries to only bring back certain sections of information instead of the whole DataFrame."
      ]
    },
    {
      "cell_type": "code",
      "execution_count": 14,
      "metadata": {
        "id": "ecJLox6_DQvo"
      },
      "outputs": [
        {
          "data": {
            "text/html": [
              "<div>\n",
              "<style scoped>\n",
              "    .dataframe tbody tr th:only-of-type {\n",
              "        vertical-align: middle;\n",
              "    }\n",
              "\n",
              "    .dataframe tbody tr th {\n",
              "        vertical-align: top;\n",
              "    }\n",
              "\n",
              "    .dataframe thead th {\n",
              "        text-align: right;\n",
              "    }\n",
              "</style>\n",
              "<table border=\"1\" class=\"dataframe\">\n",
              "  <thead>\n",
              "    <tr style=\"text-align: right;\">\n",
              "      <th></th>\n",
              "      <th>author_name</th>\n",
              "    </tr>\n",
              "  </thead>\n",
              "  <tbody>\n",
              "    <tr>\n",
              "      <th>0</th>\n",
              "      <td>Haruki Murakami</td>\n",
              "    </tr>\n",
              "    <tr>\n",
              "      <th>1</th>\n",
              "      <td>Margaret Atwood</td>\n",
              "    </tr>\n",
              "    <tr>\n",
              "      <th>2</th>\n",
              "      <td>Henrik Ibsen</td>\n",
              "    </tr>\n",
              "    <tr>\n",
              "      <th>3</th>\n",
              "      <td>Arthur Conan Doyle</td>\n",
              "    </tr>\n",
              "    <tr>\n",
              "      <th>4</th>\n",
              "      <td>J.R.R. Tolkien</td>\n",
              "    </tr>\n",
              "    <tr>\n",
              "      <th>5</th>\n",
              "      <td>Harper Lee</td>\n",
              "    </tr>\n",
              "  </tbody>\n",
              "</table>\n",
              "</div>"
            ],
            "text/plain": [
              "          author_name\n",
              "0     Haruki Murakami\n",
              "1     Margaret Atwood\n",
              "2        Henrik Ibsen\n",
              "3  Arthur Conan Doyle\n",
              "4      J.R.R. Tolkien\n",
              "5          Harper Lee"
            ]
          },
          "execution_count": 14,
          "metadata": {},
          "output_type": "execute_result"
        }
      ],
      "source": [
        "pd.read_sql(\"\"\"\n",
        "            SELECT DISTINCT author_name\n",
        "            FROM authors\n",
        "            \"\"\",\n",
        "            con=connection_string)"
      ]
    },
    {
      "cell_type": "markdown",
      "metadata": {
        "id": "lxTiRk6Cuojp"
      },
      "source": [
        "---\n",
        "## 7.&nbsp; Preparing and sending the books table 📚\n",
        "By extracting the authors table from our SQL database, we gain access to the unique identifier `author_id` assigned to each author. These `author_id`'s serve as pointers to their corresponding author records, allowing us to seamlessly link the `author_id`'s in the books table to their respective authors in the authors table, thereby completing the books table."
      ]
    },
    {
      "cell_type": "code",
      "execution_count": 20,
      "metadata": {
        "id": "wjxTq9nQn72O",
        "outputId": "c532e024-5f47-4cd6-dd6e-e663fb066b22"
      },
      "outputs": [
        {
          "data": {
            "text/html": [
              "<div>\n",
              "<style scoped>\n",
              "    .dataframe tbody tr th:only-of-type {\n",
              "        vertical-align: middle;\n",
              "    }\n",
              "\n",
              "    .dataframe tbody tr th {\n",
              "        vertical-align: top;\n",
              "    }\n",
              "\n",
              "    .dataframe thead th {\n",
              "        text-align: right;\n",
              "    }\n",
              "</style>\n",
              "<table border=\"1\" class=\"dataframe\">\n",
              "  <thead>\n",
              "    <tr style=\"text-align: right;\">\n",
              "      <th></th>\n",
              "      <th>author_name</th>\n",
              "      <th>book_title</th>\n",
              "      <th>year_published</th>\n",
              "      <th>author_id</th>\n",
              "    </tr>\n",
              "  </thead>\n",
              "  <tbody>\n",
              "    <tr>\n",
              "      <th>0</th>\n",
              "      <td>Arthur Conan Doyle</td>\n",
              "      <td>The Adventures of Sherlock Holmes</td>\n",
              "      <td>1887</td>\n",
              "      <td>4</td>\n",
              "    </tr>\n",
              "    <tr>\n",
              "      <th>1</th>\n",
              "      <td>J.R.R. Tolkien</td>\n",
              "      <td>The Hobbit</td>\n",
              "      <td>1937</td>\n",
              "      <td>5</td>\n",
              "    </tr>\n",
              "    <tr>\n",
              "      <th>2</th>\n",
              "      <td>J.R.R. Tolkien</td>\n",
              "      <td>The Lord of the Rings</td>\n",
              "      <td>1954</td>\n",
              "      <td>5</td>\n",
              "    </tr>\n",
              "    <tr>\n",
              "      <th>3</th>\n",
              "      <td>Harper Lee</td>\n",
              "      <td>To Kill a Mockingbird</td>\n",
              "      <td>1960</td>\n",
              "      <td>6</td>\n",
              "    </tr>\n",
              "    <tr>\n",
              "      <th>4</th>\n",
              "      <td>Harper Lee</td>\n",
              "      <td>Go Set a Watchman</td>\n",
              "      <td>2015</td>\n",
              "      <td>6</td>\n",
              "    </tr>\n",
              "  </tbody>\n",
              "</table>\n",
              "</div>"
            ],
            "text/plain": [
              "          author_name                         book_title  year_published  \\\n",
              "0  Arthur Conan Doyle  The Adventures of Sherlock Holmes            1887   \n",
              "1      J.R.R. Tolkien                         The Hobbit            1937   \n",
              "2      J.R.R. Tolkien              The Lord of the Rings            1954   \n",
              "3          Harper Lee              To Kill a Mockingbird            1960   \n",
              "4          Harper Lee                  Go Set a Watchman            2015   \n",
              "\n",
              "   author_id  \n",
              "0          4  \n",
              "1          5  \n",
              "2          5  \n",
              "3          6  \n",
              "4          6  "
            ]
          },
          "execution_count": 20,
          "metadata": {},
          "output_type": "execute_result"
        }
      ],
      "source": [
        "books_df = non_relational_df.merge(authors_from_sql,\n",
        "                                   on = \"author_name\",\n",
        "                                   how=\"left\")\n",
        "\n",
        "books_df"
      ]
    },
    {
      "cell_type": "code",
      "execution_count": 21,
      "metadata": {
        "id": "wcn_eFeDuojp",
        "outputId": "66fd256c-ce3e-4817-cd99-536e951a9f84"
      },
      "outputs": [
        {
          "data": {
            "text/html": [
              "<div>\n",
              "<style scoped>\n",
              "    .dataframe tbody tr th:only-of-type {\n",
              "        vertical-align: middle;\n",
              "    }\n",
              "\n",
              "    .dataframe tbody tr th {\n",
              "        vertical-align: top;\n",
              "    }\n",
              "\n",
              "    .dataframe thead th {\n",
              "        text-align: right;\n",
              "    }\n",
              "</style>\n",
              "<table border=\"1\" class=\"dataframe\">\n",
              "  <thead>\n",
              "    <tr style=\"text-align: right;\">\n",
              "      <th></th>\n",
              "      <th>book_title</th>\n",
              "      <th>year_published</th>\n",
              "      <th>author_id</th>\n",
              "    </tr>\n",
              "  </thead>\n",
              "  <tbody>\n",
              "    <tr>\n",
              "      <th>0</th>\n",
              "      <td>The Adventures of Sherlock Holmes</td>\n",
              "      <td>1887</td>\n",
              "      <td>4</td>\n",
              "    </tr>\n",
              "    <tr>\n",
              "      <th>1</th>\n",
              "      <td>The Hobbit</td>\n",
              "      <td>1937</td>\n",
              "      <td>5</td>\n",
              "    </tr>\n",
              "    <tr>\n",
              "      <th>2</th>\n",
              "      <td>The Lord of the Rings</td>\n",
              "      <td>1954</td>\n",
              "      <td>5</td>\n",
              "    </tr>\n",
              "    <tr>\n",
              "      <th>3</th>\n",
              "      <td>To Kill a Mockingbird</td>\n",
              "      <td>1960</td>\n",
              "      <td>6</td>\n",
              "    </tr>\n",
              "    <tr>\n",
              "      <th>4</th>\n",
              "      <td>Go Set a Watchman</td>\n",
              "      <td>2015</td>\n",
              "      <td>6</td>\n",
              "    </tr>\n",
              "  </tbody>\n",
              "</table>\n",
              "</div>"
            ],
            "text/plain": [
              "                          book_title  year_published  author_id\n",
              "0  The Adventures of Sherlock Holmes            1887          4\n",
              "1                         The Hobbit            1937          5\n",
              "2              The Lord of the Rings            1954          5\n",
              "3              To Kill a Mockingbird            1960          6\n",
              "4                  Go Set a Watchman            2015          6"
            ]
          },
          "execution_count": 21,
          "metadata": {},
          "output_type": "execute_result"
        }
      ],
      "source": [
        "books_df = books_df.drop(columns=[\"author_name\"])\n",
        "\n",
        "books_df"
      ]
    },
    {
      "cell_type": "code",
      "execution_count": 22,
      "metadata": {
        "id": "m-xAgmhwuojp",
        "outputId": "87f14f22-8d0a-4ec0-e498-c7da5283e136"
      },
      "outputs": [
        {
          "data": {
            "text/plain": [
              "5"
            ]
          },
          "execution_count": 22,
          "metadata": {},
          "output_type": "execute_result"
        }
      ],
      "source": [
        "books_df.to_sql('books',\n",
        "                if_exists='append',\n",
        "                con=connection_string,\n",
        "                index=False)"
      ]
    },
    {
      "cell_type": "code",
      "execution_count": 23,
      "metadata": {
        "id": "V-RDLDjPuojp",
        "outputId": "17949004-1e4a-4e3f-ff8b-f10913e1e954"
      },
      "outputs": [
        {
          "data": {
            "text/html": [
              "<div>\n",
              "<style scoped>\n",
              "    .dataframe tbody tr th:only-of-type {\n",
              "        vertical-align: middle;\n",
              "    }\n",
              "\n",
              "    .dataframe tbody tr th {\n",
              "        vertical-align: top;\n",
              "    }\n",
              "\n",
              "    .dataframe thead th {\n",
              "        text-align: right;\n",
              "    }\n",
              "</style>\n",
              "<table border=\"1\" class=\"dataframe\">\n",
              "  <thead>\n",
              "    <tr style=\"text-align: right;\">\n",
              "      <th></th>\n",
              "      <th>book_title</th>\n",
              "      <th>year_published</th>\n",
              "      <th>author_id</th>\n",
              "    </tr>\n",
              "  </thead>\n",
              "  <tbody>\n",
              "    <tr>\n",
              "      <th>0</th>\n",
              "      <td>The Adventures of Sherlock Holmes</td>\n",
              "      <td>1887</td>\n",
              "      <td>4</td>\n",
              "    </tr>\n",
              "    <tr>\n",
              "      <th>1</th>\n",
              "      <td>The Hobbit</td>\n",
              "      <td>1937</td>\n",
              "      <td>5</td>\n",
              "    </tr>\n",
              "    <tr>\n",
              "      <th>2</th>\n",
              "      <td>The Lord of the Rings</td>\n",
              "      <td>1954</td>\n",
              "      <td>5</td>\n",
              "    </tr>\n",
              "    <tr>\n",
              "      <th>3</th>\n",
              "      <td>To Kill a Mockingbird</td>\n",
              "      <td>1960</td>\n",
              "      <td>6</td>\n",
              "    </tr>\n",
              "    <tr>\n",
              "      <th>4</th>\n",
              "      <td>Go Set a Watchman</td>\n",
              "      <td>2015</td>\n",
              "      <td>6</td>\n",
              "    </tr>\n",
              "    <tr>\n",
              "      <th>5</th>\n",
              "      <td>The Adventures of Sherlock Holmes</td>\n",
              "      <td>1887</td>\n",
              "      <td>4</td>\n",
              "    </tr>\n",
              "    <tr>\n",
              "      <th>6</th>\n",
              "      <td>The Hobbit</td>\n",
              "      <td>1937</td>\n",
              "      <td>5</td>\n",
              "    </tr>\n",
              "    <tr>\n",
              "      <th>7</th>\n",
              "      <td>The Lord of the Rings</td>\n",
              "      <td>1954</td>\n",
              "      <td>5</td>\n",
              "    </tr>\n",
              "    <tr>\n",
              "      <th>8</th>\n",
              "      <td>To Kill a Mockingbird</td>\n",
              "      <td>1960</td>\n",
              "      <td>6</td>\n",
              "    </tr>\n",
              "    <tr>\n",
              "      <th>9</th>\n",
              "      <td>Go Set a Watchman</td>\n",
              "      <td>2015</td>\n",
              "      <td>6</td>\n",
              "    </tr>\n",
              "  </tbody>\n",
              "</table>\n",
              "</div>"
            ],
            "text/plain": [
              "                          book_title  year_published  author_id\n",
              "0  The Adventures of Sherlock Holmes            1887          4\n",
              "1                         The Hobbit            1937          5\n",
              "2              The Lord of the Rings            1954          5\n",
              "3              To Kill a Mockingbird            1960          6\n",
              "4                  Go Set a Watchman            2015          6\n",
              "5  The Adventures of Sherlock Holmes            1887          4\n",
              "6                         The Hobbit            1937          5\n",
              "7              The Lord of the Rings            1954          5\n",
              "8              To Kill a Mockingbird            1960          6\n",
              "9                  Go Set a Watchman            2015          6"
            ]
          },
          "execution_count": 23,
          "metadata": {},
          "output_type": "execute_result"
        }
      ],
      "source": [
        "books_from_sql = pd.read_sql(\"books\", con=connection_string)\n",
        "books_from_sql"
      ]
    },
    {
      "cell_type": "markdown",
      "metadata": {
        "id": "Gz-ICLACvo7Q"
      },
      "source": [
        "---\n",
        "## 8.&nbsp; Challenge 😃\n",
        "Now that you've learnt how to send and retrieve information, it's your turn to show off your skills. Create multiple tables in SQL for the data you scrapped about cities from Wikipedia. One should just be a table about the cities, the others should be facts about the cities.\n",
        "\n",
        "| city_id | city |\n",
        "| --- | --- |\n",
        "| 1 | Berlin |\n",
        "| 2 | Hamburg |\n",
        "| 3 | Munich |\n",
        "\n",
        "<br>\n",
        "\n",
        "| City ID | Population | Year Data Retrieved |\n",
        "|---|---|---|\n",
        "| 1 | 3,850,809 | 2024 |\n",
        "| 2 | 1,945,532 | 2024 |\n",
        "| 3 | 1,512,491 | 2024 |\n",
        "\n",
        "> **Pro Tip:** Visualise your relational database with pen and paper before you start coding. This can help you to identify any potential problems or inconsistencies in your design, and it can also make the coding process more efficient."
      ]
    },
    {
      "cell_type": "code",
      "execution_count": 68,
      "metadata": {
        "id": "Bf93TRUIyecp"
      },
      "outputs": [],
      "source": [
        "from city_scrap import scrape_city_data"
      ]
    },
    {
      "cell_type": "code",
      "execution_count": 69,
      "metadata": {},
      "outputs": [],
      "source": [
        "scrape_city_data = scrape_city_data()"
      ]
    },
    {
      "cell_type": "code",
      "execution_count": 72,
      "metadata": {},
      "outputs": [
        {
          "data": {
            "text/html": [
              "<div>\n",
              "<style scoped>\n",
              "    .dataframe tbody tr th:only-of-type {\n",
              "        vertical-align: middle;\n",
              "    }\n",
              "\n",
              "    .dataframe tbody tr th {\n",
              "        vertical-align: top;\n",
              "    }\n",
              "\n",
              "    .dataframe thead th {\n",
              "        text-align: right;\n",
              "    }\n",
              "</style>\n",
              "<table border=\"1\" class=\"dataframe\">\n",
              "  <thead>\n",
              "    <tr style=\"text-align: right;\">\n",
              "      <th></th>\n",
              "      <th>Country</th>\n",
              "      <th>City</th>\n",
              "      <th>Population</th>\n",
              "      <th>Lat</th>\n",
              "      <th>Lon</th>\n",
              "      <th>Elevation_in_m</th>\n",
              "    </tr>\n",
              "  </thead>\n",
              "  <tbody>\n",
              "    <tr>\n",
              "      <th>0</th>\n",
              "      <td>Germany</td>\n",
              "      <td>Berlin</td>\n",
              "      <td>3576873</td>\n",
              "      <td>52°31′12″N</td>\n",
              "      <td>13°24′18″E</td>\n",
              "      <td>34.0</td>\n",
              "    </tr>\n",
              "    <tr>\n",
              "      <th>1</th>\n",
              "      <td>Germany</td>\n",
              "      <td>München</td>\n",
              "      <td>1512491</td>\n",
              "      <td>48°08′15″N</td>\n",
              "      <td>11°34′30″E</td>\n",
              "      <td>520.0</td>\n",
              "    </tr>\n",
              "    <tr>\n",
              "      <th>2</th>\n",
              "      <td>Germany</td>\n",
              "      <td>Hamburg</td>\n",
              "      <td>1945532</td>\n",
              "      <td>53°33′N</td>\n",
              "      <td>10°00′E</td>\n",
              "      <td>NaN</td>\n",
              "    </tr>\n",
              "    <tr>\n",
              "      <th>3</th>\n",
              "      <td>Germany</td>\n",
              "      <td>Bremen</td>\n",
              "      <td>563290</td>\n",
              "      <td>53°04′33″N</td>\n",
              "      <td>08°48′26″E</td>\n",
              "      <td>12.0</td>\n",
              "    </tr>\n",
              "  </tbody>\n",
              "</table>\n",
              "</div>"
            ],
            "text/plain": [
              "   Country     City Population         Lat         Lon  Elevation_in_m\n",
              "0  Germany   Berlin    3576873  52°31′12″N  13°24′18″E            34.0\n",
              "1  Germany  München    1512491  48°08′15″N  11°34′30″E           520.0\n",
              "2  Germany  Hamburg    1945532     53°33′N     10°00′E             NaN\n",
              "3  Germany   Bremen     563290  53°04′33″N  08°48′26″E            12.0"
            ]
          },
          "execution_count": 72,
          "metadata": {},
          "output_type": "execute_result"
        }
      ],
      "source": [
        "scrape_city_data\n"
      ]
    },
    {
      "cell_type": "code",
      "execution_count": 56,
      "metadata": {},
      "outputs": [
        {
          "data": {
            "text/html": [
              "<div>\n",
              "<style scoped>\n",
              "    .dataframe tbody tr th:only-of-type {\n",
              "        vertical-align: middle;\n",
              "    }\n",
              "\n",
              "    .dataframe tbody tr th {\n",
              "        vertical-align: top;\n",
              "    }\n",
              "\n",
              "    .dataframe thead th {\n",
              "        text-align: right;\n",
              "    }\n",
              "</style>\n",
              "<table border=\"1\" class=\"dataframe\">\n",
              "  <thead>\n",
              "    <tr style=\"text-align: right;\">\n",
              "      <th></th>\n",
              "      <th>City</th>\n",
              "    </tr>\n",
              "  </thead>\n",
              "  <tbody>\n",
              "    <tr>\n",
              "      <th>0</th>\n",
              "      <td>Berlin</td>\n",
              "    </tr>\n",
              "    <tr>\n",
              "      <th>1</th>\n",
              "      <td>München</td>\n",
              "    </tr>\n",
              "    <tr>\n",
              "      <th>2</th>\n",
              "      <td>Hamburg</td>\n",
              "    </tr>\n",
              "    <tr>\n",
              "      <th>3</th>\n",
              "      <td>Bremen</td>\n",
              "    </tr>\n",
              "  </tbody>\n",
              "</table>\n",
              "</div>"
            ],
            "text/plain": [
              "      City\n",
              "0   Berlin\n",
              "1  München\n",
              "2  Hamburg\n",
              "3   Bremen"
            ]
          },
          "execution_count": 56,
          "metadata": {},
          "output_type": "execute_result"
        }
      ],
      "source": [
        "cities = scrape_city_data[\"City\"].unique()\n",
        "cities_df = pd.DataFrame({\"City\": cities})\n",
        "cities_df"
      ]
    },
    {
      "cell_type": "code",
      "execution_count": 74,
      "metadata": {},
      "outputs": [],
      "source": [
        "schema = \"gans\"\n",
        "host = \"127.0.0.1\"\n",
        "user = \"root\"\n",
        "password = \"MySQLjau\"\n",
        "port = 3306\n",
        "\n",
        "connection_string = f'mysql+pymysql://{user}:{password}@{host}:{port}/{schema}'"
      ]
    },
    {
      "cell_type": "code",
      "execution_count": 80,
      "metadata": {},
      "outputs": [],
      "source": [
        "import sqlalchemy\n",
        "import numpy\n",
        "import sqlite3"
      ]
    },
    {
      "cell_type": "code",
      "execution_count": 86,
      "metadata": {},
      "outputs": [
        {
          "data": {
            "text/plain": [
              "4"
            ]
          },
          "execution_count": 86,
          "metadata": {},
          "output_type": "execute_result"
        }
      ],
      "source": [
        "cities_df.to_sql('cities',\n",
        "                  if_exists='append',\n",
        "                  con=connection_string,\n",
        "                  index=False)"
      ]
    },
    {
      "cell_type": "code",
      "execution_count": 87,
      "metadata": {},
      "outputs": [
        {
          "data": {
            "text/html": [
              "<div>\n",
              "<style scoped>\n",
              "    .dataframe tbody tr th:only-of-type {\n",
              "        vertical-align: middle;\n",
              "    }\n",
              "\n",
              "    .dataframe tbody tr th {\n",
              "        vertical-align: top;\n",
              "    }\n",
              "\n",
              "    .dataframe thead th {\n",
              "        text-align: right;\n",
              "    }\n",
              "</style>\n",
              "<table border=\"1\" class=\"dataframe\">\n",
              "  <thead>\n",
              "    <tr style=\"text-align: right;\">\n",
              "      <th></th>\n",
              "      <th>City_id</th>\n",
              "      <th>City</th>\n",
              "    </tr>\n",
              "  </thead>\n",
              "  <tbody>\n",
              "    <tr>\n",
              "      <th>0</th>\n",
              "      <td>1</td>\n",
              "      <td>Berlin</td>\n",
              "    </tr>\n",
              "    <tr>\n",
              "      <th>1</th>\n",
              "      <td>2</td>\n",
              "      <td>München</td>\n",
              "    </tr>\n",
              "    <tr>\n",
              "      <th>2</th>\n",
              "      <td>3</td>\n",
              "      <td>Hamburg</td>\n",
              "    </tr>\n",
              "    <tr>\n",
              "      <th>3</th>\n",
              "      <td>4</td>\n",
              "      <td>Bremen</td>\n",
              "    </tr>\n",
              "  </tbody>\n",
              "</table>\n",
              "</div>"
            ],
            "text/plain": [
              "   City_id     City\n",
              "0        1   Berlin\n",
              "1        2  München\n",
              "2        3  Hamburg\n",
              "3        4   Bremen"
            ]
          },
          "execution_count": 87,
          "metadata": {},
          "output_type": "execute_result"
        }
      ],
      "source": [
        "cities = pd.read_sql(\"cities\", con=connection_string)\n",
        "cities"
      ]
    },
    {
      "cell_type": "code",
      "execution_count": null,
      "metadata": {},
      "outputs": [],
      "source": [
        "cities_d.to_sql('cities',\n",
        "                  if_exists='append',\n",
        "                  con=connection_string,\n",
        "                  index=False)"
      ]
    },
    {
      "cell_type": "code",
      "execution_count": 91,
      "metadata": {},
      "outputs": [
        {
          "data": {
            "text/html": [
              "<div>\n",
              "<style scoped>\n",
              "    .dataframe tbody tr th:only-of-type {\n",
              "        vertical-align: middle;\n",
              "    }\n",
              "\n",
              "    .dataframe tbody tr th {\n",
              "        vertical-align: top;\n",
              "    }\n",
              "\n",
              "    .dataframe thead th {\n",
              "        text-align: right;\n",
              "    }\n",
              "</style>\n",
              "<table border=\"1\" class=\"dataframe\">\n",
              "  <thead>\n",
              "    <tr style=\"text-align: right;\">\n",
              "      <th></th>\n",
              "      <th>Country</th>\n",
              "      <th>City</th>\n",
              "      <th>Population</th>\n",
              "      <th>Lat</th>\n",
              "      <th>Lon</th>\n",
              "      <th>Elevation_in_m</th>\n",
              "      <th>City_id</th>\n",
              "    </tr>\n",
              "  </thead>\n",
              "  <tbody>\n",
              "    <tr>\n",
              "      <th>0</th>\n",
              "      <td>Germany</td>\n",
              "      <td>Berlin</td>\n",
              "      <td>3576873</td>\n",
              "      <td>52°31′12″N</td>\n",
              "      <td>13°24′18″E</td>\n",
              "      <td>34.0</td>\n",
              "      <td>1</td>\n",
              "    </tr>\n",
              "    <tr>\n",
              "      <th>1</th>\n",
              "      <td>Germany</td>\n",
              "      <td>München</td>\n",
              "      <td>1512491</td>\n",
              "      <td>48°08′15″N</td>\n",
              "      <td>11°34′30″E</td>\n",
              "      <td>520.0</td>\n",
              "      <td>2</td>\n",
              "    </tr>\n",
              "    <tr>\n",
              "      <th>2</th>\n",
              "      <td>Germany</td>\n",
              "      <td>Hamburg</td>\n",
              "      <td>1945532</td>\n",
              "      <td>53°33′N</td>\n",
              "      <td>10°00′E</td>\n",
              "      <td>NaN</td>\n",
              "      <td>3</td>\n",
              "    </tr>\n",
              "    <tr>\n",
              "      <th>3</th>\n",
              "      <td>Germany</td>\n",
              "      <td>Bremen</td>\n",
              "      <td>563290</td>\n",
              "      <td>53°04′33″N</td>\n",
              "      <td>08°48′26″E</td>\n",
              "      <td>12.0</td>\n",
              "      <td>4</td>\n",
              "    </tr>\n",
              "  </tbody>\n",
              "</table>\n",
              "</div>"
            ],
            "text/plain": [
              "   Country     City Population         Lat         Lon  Elevation_in_m  \\\n",
              "0  Germany   Berlin    3576873  52°31′12″N  13°24′18″E            34.0   \n",
              "1  Germany  München    1512491  48°08′15″N  11°34′30″E           520.0   \n",
              "2  Germany  Hamburg    1945532     53°33′N     10°00′E             NaN   \n",
              "3  Germany   Bremen     563290  53°04′33″N  08°48′26″E            12.0   \n",
              "\n",
              "   City_id  \n",
              "0        1  \n",
              "1        2  \n",
              "2        3  \n",
              "3        4  "
            ]
          },
          "execution_count": 91,
          "metadata": {},
          "output_type": "execute_result"
        }
      ],
      "source": [
        "city_data = city_data.merge(cities,\n",
        "                                   on = \"City\",\n",
        "                                   how=\"inner\")\n",
        "\n",
        "city_data"
      ]
    },
    {
      "cell_type": "code",
      "execution_count": 92,
      "metadata": {},
      "outputs": [],
      "source": [
        "city_data = city_data.drop(columns=[\"City\"])"
      ]
    },
    {
      "cell_type": "code",
      "execution_count": 94,
      "metadata": {},
      "outputs": [
        {
          "data": {
            "text/html": [
              "<div>\n",
              "<style scoped>\n",
              "    .dataframe tbody tr th:only-of-type {\n",
              "        vertical-align: middle;\n",
              "    }\n",
              "\n",
              "    .dataframe tbody tr th {\n",
              "        vertical-align: top;\n",
              "    }\n",
              "\n",
              "    .dataframe thead th {\n",
              "        text-align: right;\n",
              "    }\n",
              "</style>\n",
              "<table border=\"1\" class=\"dataframe\">\n",
              "  <thead>\n",
              "    <tr style=\"text-align: right;\">\n",
              "      <th></th>\n",
              "      <th>Country</th>\n",
              "      <th>Population</th>\n",
              "      <th>Lat</th>\n",
              "      <th>Lon</th>\n",
              "      <th>Elevation_in_m</th>\n",
              "      <th>City_id</th>\n",
              "      <th>Time_data_retrieved</th>\n",
              "    </tr>\n",
              "  </thead>\n",
              "  <tbody>\n",
              "    <tr>\n",
              "      <th>0</th>\n",
              "      <td>Germany</td>\n",
              "      <td>3576873</td>\n",
              "      <td>52°31′12″N</td>\n",
              "      <td>13°24′18″E</td>\n",
              "      <td>34.0</td>\n",
              "      <td>1</td>\n",
              "      <td>05-03-2024</td>\n",
              "    </tr>\n",
              "    <tr>\n",
              "      <th>1</th>\n",
              "      <td>Germany</td>\n",
              "      <td>1512491</td>\n",
              "      <td>48°08′15″N</td>\n",
              "      <td>11°34′30″E</td>\n",
              "      <td>520.0</td>\n",
              "      <td>2</td>\n",
              "      <td>05-03-2024</td>\n",
              "    </tr>\n",
              "    <tr>\n",
              "      <th>2</th>\n",
              "      <td>Germany</td>\n",
              "      <td>1945532</td>\n",
              "      <td>53°33′N</td>\n",
              "      <td>10°00′E</td>\n",
              "      <td>NaN</td>\n",
              "      <td>3</td>\n",
              "      <td>05-03-2024</td>\n",
              "    </tr>\n",
              "    <tr>\n",
              "      <th>3</th>\n",
              "      <td>Germany</td>\n",
              "      <td>563290</td>\n",
              "      <td>53°04′33″N</td>\n",
              "      <td>08°48′26″E</td>\n",
              "      <td>12.0</td>\n",
              "      <td>4</td>\n",
              "      <td>05-03-2024</td>\n",
              "    </tr>\n",
              "  </tbody>\n",
              "</table>\n",
              "</div>"
            ],
            "text/plain": [
              "   Country Population         Lat         Lon  Elevation_in_m  City_id  \\\n",
              "0  Germany    3576873  52°31′12″N  13°24′18″E            34.0        1   \n",
              "1  Germany    1512491  48°08′15″N  11°34′30″E           520.0        2   \n",
              "2  Germany    1945532     53°33′N     10°00′E             NaN        3   \n",
              "3  Germany     563290  53°04′33″N  08°48′26″E            12.0        4   \n",
              "\n",
              "  Time_data_retrieved  \n",
              "0          05-03-2024  \n",
              "1          05-03-2024  \n",
              "2          05-03-2024  \n",
              "3          05-03-2024  "
            ]
          },
          "execution_count": 94,
          "metadata": {},
          "output_type": "execute_result"
        }
      ],
      "source": [
        "city_data[\"Time_data_retrieved\"] = [\"05-03-2024\", \"05-03-2024\", \"05-03-2024\", \"05-03-2024\"]\n",
        "city_data"
      ]
    },
    {
      "cell_type": "code",
      "execution_count": 95,
      "metadata": {},
      "outputs": [],
      "source": [
        "city_data[\"Time_data_retrieved\"] = pd.to_datetime(city_data['Time_data_retrieved'])"
      ]
    },
    {
      "cell_type": "code",
      "execution_count": 96,
      "metadata": {},
      "outputs": [
        {
          "data": {
            "text/plain": [
              "4"
            ]
          },
          "execution_count": 96,
          "metadata": {},
          "output_type": "execute_result"
        }
      ],
      "source": [
        "city_data.to_sql('city_data',\n",
        "                  if_exists='append',\n",
        "                  con=connection_string,\n",
        "                  index=False)"
      ]
    },
    {
      "cell_type": "code",
      "execution_count": null,
      "metadata": {},
      "outputs": [],
      "source": []
    }
  ],
  "metadata": {
    "colab": {
      "provenance": []
    },
    "kernelspec": {
      "display_name": "Python 3",
      "name": "python3"
    },
    "language_info": {
      "codemirror_mode": {
        "name": "ipython",
        "version": 3
      },
      "file_extension": ".py",
      "mimetype": "text/x-python",
      "name": "python",
      "nbconvert_exporter": "python",
      "pygments_lexer": "ipython3",
      "version": "3.10.13"
    }
  },
  "nbformat": 4,
  "nbformat_minor": 0
}
